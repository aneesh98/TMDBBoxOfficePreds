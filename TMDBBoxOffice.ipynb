{
  "nbformat": 4,
  "nbformat_minor": 0,
  "metadata": {
    "colab": {
      "name": "TMDBBoxOffice.ipynb",
      "provenance": [],
      "collapsed_sections": [],
      "authorship_tag": "ABX9TyNSj3h95XEXpZG6AKAl78h/",
      "include_colab_link": true
    },
    "kernelspec": {
      "name": "python3",
      "display_name": "Python 3"
    }
  },
  "cells": [
    {
      "cell_type": "markdown",
      "metadata": {
        "id": "view-in-github",
        "colab_type": "text"
      },
      "source": [
        "<a href=\"https://colab.research.google.com/github/aneesh98/TMDBBoxOfficePreds/blob/master/TMDBBoxOffice.ipynb\" target=\"_parent\"><img src=\"https://colab.research.google.com/assets/colab-badge.svg\" alt=\"Open In Colab\"/></a>"
      ]
    },
    {
      "cell_type": "code",
      "metadata": {
        "id": "pA1nmCDue4c_",
        "colab_type": "code",
        "outputId": "ec0c28b9-77fa-44d6-e1aa-e22b2ca28e08",
        "colab": {
          "base_uri": "https://localhost:8080/",
          "height": 224
        }
      },
      "source": [
        "!chmod +x kagglesetup.sh\n",
        "!./kagglesetup.sh c tmdb-box-office-prediction"
      ],
      "execution_count": 0,
      "outputs": [
        {
          "output_type": "stream",
          "text": [
            "Warning: Your Kaggle API key is readable by other users on this system! To fix this, you can run 'chmod 600 /root/.kaggle/kaggle.json'\n",
            "Warning: Looks like you're using an outdated API Version, please consider updating (server 1.5.6 / client 1.5.4)\n",
            "Downloading train.csv.zip to /content\n",
            " 71% 5.00M/7.05M [00:00<00:00, 33.4MB/s]\n",
            "100% 7.05M/7.05M [00:00<00:00, 34.3MB/s]\n",
            "Downloading sample_submission.csv to /content\n",
            "  0% 0.00/60.1k [00:00<?, ?B/s]\n",
            "100% 60.1k/60.1k [00:00<00:00, 62.5MB/s]\n",
            "Downloading test.csv.zip to /content\n",
            " 48% 5.00M/10.4M [00:00<00:00, 31.8MB/s]\n",
            "100% 10.4M/10.4M [00:00<00:00, 50.8MB/s]\n"
          ],
          "name": "stdout"
        }
      ]
    },
    {
      "cell_type": "code",
      "metadata": {
        "id": "i7rCys0BfXXj",
        "colab_type": "code",
        "outputId": "74629db6-ce24-47f6-b74d-93c2b4650f91",
        "colab": {
          "base_uri": "https://localhost:8080/",
          "height": 85
        }
      },
      "source": [
        "import os\n",
        "!unzip train.csv.zip\n",
        "!unzip test.csv.zip"
      ],
      "execution_count": 0,
      "outputs": [
        {
          "output_type": "stream",
          "text": [
            "Archive:  train.csv.zip\n",
            "  inflating: train.csv               \n",
            "Archive:  test.csv.zip\n",
            "  inflating: test.csv                \n"
          ],
          "name": "stdout"
        }
      ]
    },
    {
      "cell_type": "code",
      "metadata": {
        "id": "VBbVsfUwfR7h",
        "colab_type": "code",
        "outputId": "ad5d2c8f-3991-42aa-c8ee-8aefc9415695",
        "colab": {
          "base_uri": "https://localhost:8080/",
          "height": 102
        }
      },
      "source": [
        "import pandas as pd\n",
        "import numpy as np\n",
        "import ast\n",
        "df_train = pd.read_csv('train.csv')\n",
        "for i, e in enumerate(df_train['cast'][:5]):\n",
        "  print(ast.literal_eval(e)[0]['character'])"
      ],
      "execution_count": 0,
      "outputs": [
        {
          "output_type": "stream",
          "text": [
            "Lou\n",
            "Mia Thermopolis\n",
            "Andrew Neimann\n",
            "Vidya Bagchi\n",
            "Chun-soo\n"
          ],
          "name": "stdout"
        }
      ]
    },
    {
      "cell_type": "code",
      "metadata": {
        "id": "TiaH4CL1mNgq",
        "colab_type": "code",
        "outputId": "af9220f2-03ae-41d9-cd83-5e1e0e70e228",
        "colab": {
          "base_uri": "https://localhost:8080/",
          "height": 632
        }
      },
      "source": [
        "df_train.head()"
      ],
      "execution_count": 0,
      "outputs": [
        {
          "output_type": "execute_result",
          "data": {
            "text/html": [
              "<div>\n",
              "<style scoped>\n",
              "    .dataframe tbody tr th:only-of-type {\n",
              "        vertical-align: middle;\n",
              "    }\n",
              "\n",
              "    .dataframe tbody tr th {\n",
              "        vertical-align: top;\n",
              "    }\n",
              "\n",
              "    .dataframe thead th {\n",
              "        text-align: right;\n",
              "    }\n",
              "</style>\n",
              "<table border=\"1\" class=\"dataframe\">\n",
              "  <thead>\n",
              "    <tr style=\"text-align: right;\">\n",
              "      <th></th>\n",
              "      <th>id</th>\n",
              "      <th>belongs_to_collection</th>\n",
              "      <th>budget</th>\n",
              "      <th>genres</th>\n",
              "      <th>homepage</th>\n",
              "      <th>imdb_id</th>\n",
              "      <th>original_language</th>\n",
              "      <th>original_title</th>\n",
              "      <th>overview</th>\n",
              "      <th>popularity</th>\n",
              "      <th>poster_path</th>\n",
              "      <th>production_companies</th>\n",
              "      <th>production_countries</th>\n",
              "      <th>release_date</th>\n",
              "      <th>runtime</th>\n",
              "      <th>spoken_languages</th>\n",
              "      <th>status</th>\n",
              "      <th>tagline</th>\n",
              "      <th>title</th>\n",
              "      <th>Keywords</th>\n",
              "      <th>cast</th>\n",
              "      <th>crew</th>\n",
              "      <th>revenue</th>\n",
              "    </tr>\n",
              "  </thead>\n",
              "  <tbody>\n",
              "    <tr>\n",
              "      <th>0</th>\n",
              "      <td>1</td>\n",
              "      <td>[{'id': 313576, 'name': 'Hot Tub Time Machine ...</td>\n",
              "      <td>14000000</td>\n",
              "      <td>[{'id': 35, 'name': 'Comedy'}]</td>\n",
              "      <td>NaN</td>\n",
              "      <td>tt2637294</td>\n",
              "      <td>en</td>\n",
              "      <td>Hot Tub Time Machine 2</td>\n",
              "      <td>When Lou, who has become the \"father of the In...</td>\n",
              "      <td>6.575393</td>\n",
              "      <td>/tQtWuwvMf0hCc2QR2tkolwl7c3c.jpg</td>\n",
              "      <td>[{'name': 'Paramount Pictures', 'id': 4}, {'na...</td>\n",
              "      <td>[{'iso_3166_1': 'US', 'name': 'United States o...</td>\n",
              "      <td>2/20/15</td>\n",
              "      <td>93.0</td>\n",
              "      <td>[{'iso_639_1': 'en', 'name': 'English'}]</td>\n",
              "      <td>Released</td>\n",
              "      <td>The Laws of Space and Time are About to be Vio...</td>\n",
              "      <td>Hot Tub Time Machine 2</td>\n",
              "      <td>[{'id': 4379, 'name': 'time travel'}, {'id': 9...</td>\n",
              "      <td>[{'cast_id': 4, 'character': 'Lou', 'credit_id...</td>\n",
              "      <td>[{'credit_id': '59ac067c92514107af02c8c8', 'de...</td>\n",
              "      <td>12314651</td>\n",
              "    </tr>\n",
              "    <tr>\n",
              "      <th>1</th>\n",
              "      <td>2</td>\n",
              "      <td>[{'id': 107674, 'name': 'The Princess Diaries ...</td>\n",
              "      <td>40000000</td>\n",
              "      <td>[{'id': 35, 'name': 'Comedy'}, {'id': 18, 'nam...</td>\n",
              "      <td>NaN</td>\n",
              "      <td>tt0368933</td>\n",
              "      <td>en</td>\n",
              "      <td>The Princess Diaries 2: Royal Engagement</td>\n",
              "      <td>Mia Thermopolis is now a college graduate and ...</td>\n",
              "      <td>8.248895</td>\n",
              "      <td>/w9Z7A0GHEhIp7etpj0vyKOeU1Wx.jpg</td>\n",
              "      <td>[{'name': 'Walt Disney Pictures', 'id': 2}]</td>\n",
              "      <td>[{'iso_3166_1': 'US', 'name': 'United States o...</td>\n",
              "      <td>8/6/04</td>\n",
              "      <td>113.0</td>\n",
              "      <td>[{'iso_639_1': 'en', 'name': 'English'}]</td>\n",
              "      <td>Released</td>\n",
              "      <td>It can take a lifetime to find true love; she'...</td>\n",
              "      <td>The Princess Diaries 2: Royal Engagement</td>\n",
              "      <td>[{'id': 2505, 'name': 'coronation'}, {'id': 42...</td>\n",
              "      <td>[{'cast_id': 1, 'character': 'Mia Thermopolis'...</td>\n",
              "      <td>[{'credit_id': '52fe43fe9251416c7502563d', 'de...</td>\n",
              "      <td>95149435</td>\n",
              "    </tr>\n",
              "    <tr>\n",
              "      <th>2</th>\n",
              "      <td>3</td>\n",
              "      <td>NaN</td>\n",
              "      <td>3300000</td>\n",
              "      <td>[{'id': 18, 'name': 'Drama'}]</td>\n",
              "      <td>http://sonyclassics.com/whiplash/</td>\n",
              "      <td>tt2582802</td>\n",
              "      <td>en</td>\n",
              "      <td>Whiplash</td>\n",
              "      <td>Under the direction of a ruthless instructor, ...</td>\n",
              "      <td>64.299990</td>\n",
              "      <td>/lIv1QinFqz4dlp5U4lQ6HaiskOZ.jpg</td>\n",
              "      <td>[{'name': 'Bold Films', 'id': 2266}, {'name': ...</td>\n",
              "      <td>[{'iso_3166_1': 'US', 'name': 'United States o...</td>\n",
              "      <td>10/10/14</td>\n",
              "      <td>105.0</td>\n",
              "      <td>[{'iso_639_1': 'en', 'name': 'English'}]</td>\n",
              "      <td>Released</td>\n",
              "      <td>The road to greatness can take you to the edge.</td>\n",
              "      <td>Whiplash</td>\n",
              "      <td>[{'id': 1416, 'name': 'jazz'}, {'id': 1523, 'n...</td>\n",
              "      <td>[{'cast_id': 5, 'character': 'Andrew Neimann',...</td>\n",
              "      <td>[{'credit_id': '54d5356ec3a3683ba0000039', 'de...</td>\n",
              "      <td>13092000</td>\n",
              "    </tr>\n",
              "    <tr>\n",
              "      <th>3</th>\n",
              "      <td>4</td>\n",
              "      <td>NaN</td>\n",
              "      <td>1200000</td>\n",
              "      <td>[{'id': 53, 'name': 'Thriller'}, {'id': 18, 'n...</td>\n",
              "      <td>http://kahaanithefilm.com/</td>\n",
              "      <td>tt1821480</td>\n",
              "      <td>hi</td>\n",
              "      <td>Kahaani</td>\n",
              "      <td>Vidya Bagchi (Vidya Balan) arrives in Kolkata ...</td>\n",
              "      <td>3.174936</td>\n",
              "      <td>/aTXRaPrWSinhcmCrcfJK17urp3F.jpg</td>\n",
              "      <td>NaN</td>\n",
              "      <td>[{'iso_3166_1': 'IN', 'name': 'India'}]</td>\n",
              "      <td>3/9/12</td>\n",
              "      <td>122.0</td>\n",
              "      <td>[{'iso_639_1': 'en', 'name': 'English'}, {'iso...</td>\n",
              "      <td>Released</td>\n",
              "      <td>NaN</td>\n",
              "      <td>Kahaani</td>\n",
              "      <td>[{'id': 10092, 'name': 'mystery'}, {'id': 1054...</td>\n",
              "      <td>[{'cast_id': 1, 'character': 'Vidya Bagchi', '...</td>\n",
              "      <td>[{'credit_id': '52fe48779251416c9108d6eb', 'de...</td>\n",
              "      <td>16000000</td>\n",
              "    </tr>\n",
              "    <tr>\n",
              "      <th>4</th>\n",
              "      <td>5</td>\n",
              "      <td>NaN</td>\n",
              "      <td>0</td>\n",
              "      <td>[{'id': 28, 'name': 'Action'}, {'id': 53, 'nam...</td>\n",
              "      <td>NaN</td>\n",
              "      <td>tt1380152</td>\n",
              "      <td>ko</td>\n",
              "      <td>마린보이</td>\n",
              "      <td>Marine Boy is the story of a former national s...</td>\n",
              "      <td>1.148070</td>\n",
              "      <td>/m22s7zvkVFDU9ir56PiiqIEWFdT.jpg</td>\n",
              "      <td>NaN</td>\n",
              "      <td>[{'iso_3166_1': 'KR', 'name': 'South Korea'}]</td>\n",
              "      <td>2/5/09</td>\n",
              "      <td>118.0</td>\n",
              "      <td>[{'iso_639_1': 'ko', 'name': '한국어/조선말'}]</td>\n",
              "      <td>Released</td>\n",
              "      <td>NaN</td>\n",
              "      <td>Marine Boy</td>\n",
              "      <td>NaN</td>\n",
              "      <td>[{'cast_id': 3, 'character': 'Chun-soo', 'cred...</td>\n",
              "      <td>[{'credit_id': '52fe464b9251416c75073b43', 'de...</td>\n",
              "      <td>3923970</td>\n",
              "    </tr>\n",
              "  </tbody>\n",
              "</table>\n",
              "</div>"
            ],
            "text/plain": [
              "   id  ...   revenue\n",
              "0   1  ...  12314651\n",
              "1   2  ...  95149435\n",
              "2   3  ...  13092000\n",
              "3   4  ...  16000000\n",
              "4   5  ...   3923970\n",
              "\n",
              "[5 rows x 23 columns]"
            ]
          },
          "metadata": {
            "tags": []
          },
          "execution_count": 4
        }
      ]
    },
    {
      "cell_type": "code",
      "metadata": {
        "id": "CH53dl1vlsOB",
        "colab_type": "code",
        "outputId": "09d3ff25-bbf0-46b3-fa3f-6e1322fb403d",
        "colab": {
          "base_uri": "https://localhost:8080/",
          "height": 306
        }
      },
      "source": [
        "import matplotlib.pyplot as plt\n",
        "plt.scatter(df_train['budget'], df_train['revenue'])"
      ],
      "execution_count": 0,
      "outputs": [
        {
          "output_type": "execute_result",
          "data": {
            "text/plain": [
              "<matplotlib.collections.PathCollection at 0x7f425e9f0748>"
            ]
          },
          "metadata": {
            "tags": []
          },
          "execution_count": 5
        },
        {
          "output_type": "display_data",
          "data": {
            "image/png": "[encoded data removed]",
            "text/plain": [
              "<Figure size 432x288 with 1 Axes>"
            ]
          },
          "metadata": {
            "tags": [],
            "needs_background": "light"
          }
        }
      ]
    },
    {
      "cell_type": "code",
      "metadata": {
        "id": "Pnr-ipWumX8U",
        "colab_type": "code",
        "outputId": "743ebebc-4a67-4e6b-a3c4-9697e46cc2eb",
        "colab": {
          "base_uri": "https://localhost:8080/",
          "height": 293
        }
      },
      "source": [
        "plt.scatter(df_train['popularity'], df_train['revenue'], color = 'red', alpha = 0.2)"
      ],
      "execution_count": 0,
      "outputs": [
        {
          "output_type": "execute_result",
          "data": {
            "text/plain": [
              "<matplotlib.collections.PathCollection at 0x7f425ab5c400>"
            ]
          },
          "metadata": {
            "tags": []
          },
          "execution_count": 6
        },
        {
          "output_type": "display_data",
          "data": {
            "image/png": "[encoded data removed]",
            "text/plain": [
              "<Figure size 432x288 with 1 Axes>"
            ]
          },
          "metadata": {
            "tags": [],
            "needs_background": "light"
          }
        }
      ]
    },
    {
      "cell_type": "markdown",
      "metadata": {
        "id": "4oTy2lXpnGG2",
        "colab_type": "text"
      },
      "source": [
        "What is the relation between the original language of the movie and its revenue ? We can visualize this using a boxplot"
      ]
    },
    {
      "cell_type": "code",
      "metadata": {
        "id": "je4huP9knN84",
        "colab_type": "code",
        "outputId": "2344efb4-0b0d-4e15-fe4e-45decc0ec1fe",
        "colab": {
          "base_uri": "https://localhost:8080/",
          "height": 688
        }
      },
      "source": [
        "import seaborn as sns\n",
        "plt.figure(figsize=(10, 10))\n",
        "sns.boxplot(x = 'original_language', y = 'revenue', data = df_train, whis = 0.0, showfliers = False)"
      ],
      "execution_count": 0,
      "outputs": [
        {
          "output_type": "stream",
          "text": [
            "/usr/local/lib/python3.6/dist-packages/statsmodels/tools/_testing.py:19: FutureWarning: pandas.util.testing is deprecated. Use the functions in the public API at pandas.testing instead.\n",
            "  import pandas.util.testing as tm\n"
          ],
          "name": "stderr"
        },
        {
          "output_type": "execute_result",
          "data": {
            "text/plain": [
              "<matplotlib.axes._subplots.AxesSubplot at 0x7f42501675c0>"
            ]
          },
          "metadata": {
            "tags": []
          },
          "execution_count": 7
        },
        {
          "output_type": "display_data",
          "data": {
            "image/png": "[encoded data removed]",
            "text/plain": [
              "<Figure size 720x720 with 1 Axes>"
            ]
          },
          "metadata": {
            "tags": [],
            "needs_background": "light"
          }
        }
      ]
    },
    {
      "cell_type": "code",
      "metadata": {
        "id": "hRzkpNwBqaaC",
        "colab_type": "code",
        "colab": {}
      },
      "source": [
        "form = \"%m/%d/%y\"\n",
        "temp = pd.to_datetime(df_train['release_date'], format = form)"
      ],
      "execution_count": 0,
      "outputs": []
    },
    {
      "cell_type": "code",
      "metadata": {
        "id": "34EW-TG8sw1b",
        "colab_type": "code",
        "colab": {}
      },
      "source": [
        "df_train[['release_month', 'release_day', 'release_year']] = df_train['release_date'].str.split('/', expand = True)\\\n",
        "                                                                                                .replace(np.nan, -1)"
      ],
      "execution_count": 0,
      "outputs": []
    },
    {
      "cell_type": "code",
      "metadata": {
        "id": "Bes6C4we0Y9F",
        "colab_type": "code",
        "colab": {}
      },
      "source": [
        "df_train['release_month'] = df_train['release_month'].astype(int)\n",
        "df_train['release_day'] = df_train['release_day'].astype(int)\n",
        "df_train['release_year'] = df_train['release_year'].astype(int)\n",
        "df_train.loc[(df_train['release_year'] <= 19) & (df_train['release_year'] < 100), \"release_year\"] += 2000\n",
        "df_train.loc[(df_train['release_year'] > 19)  & (df_train['release_year'] < 100), \"release_year\"] += 1900                                                                     "
      ],
      "execution_count": 0,
      "outputs": []
    },
    {
      "cell_type": "code",
      "metadata": {
        "id": "half1nZ_7gB3",
        "colab_type": "code",
        "outputId": "c132eac3-6e59-4134-a2c5-1cc7519a5525",
        "colab": {
          "base_uri": "https://localhost:8080/",
          "height": 34
        }
      },
      "source": [
        "indices = list([x - 1 for x in df_train.release_month.value_counts().index])\n",
        "indices"
      ],
      "execution_count": 0,
      "outputs": [
        {
          "output_type": "execute_result",
          "data": {
            "text/plain": [
              "[8, 9, 11, 7, 3, 2, 5, 1, 4, 10, 0, 6]"
            ]
          },
          "metadata": {
            "tags": []
          },
          "execution_count": 11
        }
      ]
    },
    {
      "cell_type": "code",
      "metadata": {
        "id": "CqwmKoJN8aqw",
        "colab_type": "code",
        "outputId": "06455c9f-e19e-4c9e-a70d-190c9361bb1f",
        "colab": {
          "base_uri": "https://localhost:8080/",
          "height": 238
        }
      },
      "source": [
        "df_train.release_month.value_counts().sort_index()"
      ],
      "execution_count": 0,
      "outputs": [
        {
          "output_type": "execute_result",
          "data": {
            "text/plain": [
              "1     212\n",
              "2     226\n",
              "3     238\n",
              "4     245\n",
              "5     224\n",
              "6     237\n",
              "7     209\n",
              "8     256\n",
              "9     362\n",
              "10    307\n",
              "11    221\n",
              "12    263\n",
              "Name: release_month, dtype: int64"
            ]
          },
          "metadata": {
            "tags": []
          },
          "execution_count": 12
        }
      ]
    },
    {
      "cell_type": "code",
      "metadata": {
        "id": "f1ohlkoHuaFh",
        "colab_type": "code",
        "outputId": "dd176724-b5fc-46a4-9f7f-20de7ac89c37",
        "colab": {
          "base_uri": "https://localhost:8080/",
          "height": 542
        }
      },
      "source": [
        "import plotly.graph_objs as go\n",
        "months = np.array([\"Jan\", \"Feb\", \"Mar\", \"Apr\", \"May\", \"Jun\", \"Jul\", \"Aug\", \"Sep\", \"Oct\", \"Nov\", \"Dec\"])\n",
        "# plt.bar(df_train['release_month'].value_counts().index, df_train['release_month'].value_counts().values,\n",
        "#         color = 'red')\n",
        "monthly_data = df_train.release_month.value_counts().sort_index()\n",
        "idx = [x - 1 for x in monthly_data.index]\n",
        "data = go.Bar(x = months[idx],\n",
        "                y = monthly_data.values,\n",
        "                marker = dict(color = monthly_data.values,\n",
        "                             line=dict(color='rgb(0,0,0)',width=1.5))\n",
        "                )\n",
        "fig = go.Figure(data = data)\n",
        "fig.show()"
      ],
      "execution_count": 0,
      "outputs": [
        {
          "output_type": "display_data",
          "data": {
            "text/html": [
              "<html>\n",
              "<head><meta charset=\"utf-8\" /></head>\n",
              "<body>\n",
              "    <div>\n",
              "            <script src=\"https://cdnjs.cloudflare.com/ajax/libs/mathjax/2.7.5/MathJax.js?config=TeX-AMS-MML_SVG\"></script><script type=\"text/javascript\">if (window.MathJax) {MathJax.Hub.Config({SVG: {font: \"STIX-Web\"}});}</script>\n",
              "                <script type=\"text/javascript\">window.PlotlyConfig = {MathJaxConfig: 'local'};</script>\n",
              "        <script src=\"https://cdn.plot.ly/plotly-latest.min.js\"></script>    \n",
              "            <div id=\"4df87141-9e55-43d1-b01a-496f2d6690a8\" class=\"plotly-graph-div\" style=\"height:525px; width:100%;\"></div>\n",
              "            <script type=\"text/javascript\">\n",
              "                \n",
              "                    window.PLOTLYENV=window.PLOTLYENV || {};\n",
              "                    \n",
              "                if (document.getElementById(\"4df87141-9e55-43d1-b01a-496f2d6690a8\")) {\n",
              "                    Plotly.newPlot(\n",
              "                        '4df87141-9e55-43d1-b01a-496f2d6690a8',\n",
              "                        [{\"marker\": {\"color\": [212, 226, 238, 245, 224, 237, 209, 256, 362, 307, 221, 263], \"line\": {\"color\": \"rgb(0,0,0)\", \"width\": 1.5}}, \"type\": \"bar\", \"x\": [\"Jan\", \"Feb\", \"Mar\", \"Apr\", \"May\", \"Jun\", \"Jul\", \"Aug\", \"Sep\", \"Oct\", \"Nov\", \"Dec\"], \"y\": [212, 226, 238, 245, 224, 237, 209, 256, 362, 307, 221, 263]}],\n",
              "                        {\"template\": {\"data\": {\"bar\": [{\"error_x\": {\"color\": \"#2a3f5f\"}, \"error_y\": {\"color\": \"#2a3f5f\"}, \"marker\": {\"line\": {\"color\": \"#E5ECF6\", \"width\": 0.5}}, \"type\": \"bar\"}], \"barpolar\": [{\"marker\": {\"line\": {\"color\": \"#E5ECF6\", \"width\": 0.5}}, \"type\": \"barpolar\"}], \"carpet\": [{\"aaxis\": {\"endlinecolor\": \"#2a3f5f\", \"gridcolor\": \"white\", \"linecolor\": \"white\", \"minorgridcolor\": \"white\", \"startlinecolor\": \"#2a3f5f\"}, \"baxis\": {\"endlinecolor\": \"#2a3f5f\", \"gridcolor\": \"white\", \"linecolor\": \"white\", \"minorgridcolor\": \"white\", \"startlinecolor\": \"#2a3f5f\"}, \"type\": \"carpet\"}], \"choropleth\": [{\"colorbar\": {\"outlinewidth\": 0, \"ticks\": \"\"}, \"type\": \"choropleth\"}], \"contour\": [{\"colorbar\": {\"outlinewidth\": 0, \"ticks\": \"\"}, \"colorscale\": [[0.0, \"#0d0887\"], [0.1111111111111111, \"#46039f\"], [0.2222222222222222, \"#7201a8\"], [0.3333333333333333, \"#9c179e\"], [0.4444444444444444, \"#bd3786\"], [0.5555555555555556, \"#d8576b\"], [0.6666666666666666, \"#ed7953\"], [0.7777777777777778, \"#fb9f3a\"], [0.8888888888888888, \"#fdca26\"], [1.0, \"#f0f921\"]], \"type\": \"contour\"}], \"contourcarpet\": [{\"colorbar\": {\"outlinewidth\": 0, \"ticks\": \"\"}, \"type\": \"contourcarpet\"}], \"heatmap\": [{\"colorbar\": {\"outlinewidth\": 0, \"ticks\": \"\"}, \"colorscale\": [[0.0, \"#0d0887\"], [0.1111111111111111, \"#46039f\"], [0.2222222222222222, \"#7201a8\"], [0.3333333333333333, \"#9c179e\"], [0.4444444444444444, \"#bd3786\"], [0.5555555555555556, \"#d8576b\"], [0.6666666666666666, \"#ed7953\"], [0.7777777777777778, \"#fb9f3a\"], [0.8888888888888888, \"#fdca26\"], [1.0, \"#f0f921\"]], \"type\": \"heatmap\"}], \"heatmapgl\": [{\"colorbar\": {\"outlinewidth\": 0, \"ticks\": \"\"}, \"colorscale\": [[0.0, \"#0d0887\"], [0.1111111111111111, \"#46039f\"], [0.2222222222222222, \"#7201a8\"], [0.3333333333333333, \"#9c179e\"], [0.4444444444444444, \"#bd3786\"], [0.5555555555555556, \"#d8576b\"], [0.6666666666666666, \"#ed7953\"], [0.7777777777777778, \"#fb9f3a\"], [0.8888888888888888, \"#fdca26\"], [1.0, \"#f0f921\"]], \"type\": \"heatmapgl\"}], \"histogram\": [{\"marker\": {\"colorbar\": {\"outlinewidth\": 0, \"ticks\": \"\"}}, \"type\": \"histogram\"}], \"histogram2d\": [{\"colorbar\": {\"outlinewidth\": 0, \"ticks\": \"\"}, \"colorscale\": [[0.0, \"#0d0887\"], [0.1111111111111111, \"#46039f\"], [0.2222222222222222, \"#7201a8\"], [0.3333333333333333, \"#9c179e\"], [0.4444444444444444, \"#bd3786\"], [0.5555555555555556, \"#d8576b\"], [0.6666666666666666, \"#ed7953\"], [0.7777777777777778, \"#fb9f3a\"], [0.8888888888888888, \"#fdca26\"], [1.0, \"#f0f921\"]], \"type\": \"histogram2d\"}], \"histogram2dcontour\": [{\"colorbar\": {\"outlinewidth\": 0, \"ticks\": \"\"}, \"colorscale\": [[0.0, \"#0d0887\"], [0.1111111111111111, \"#46039f\"], [0.2222222222222222, \"#7201a8\"], [0.3333333333333333, \"#9c179e\"], [0.4444444444444444, \"#bd3786\"], [0.5555555555555556, \"#d8576b\"], [0.6666666666666666, \"#ed7953\"], [0.7777777777777778, \"#fb9f3a\"], [0.8888888888888888, \"#fdca26\"], [1.0, \"#f0f921\"]], \"type\": \"histogram2dcontour\"}], \"mesh3d\": [{\"colorbar\": {\"outlinewidth\": 0, \"ticks\": \"\"}, \"type\": \"mesh3d\"}], \"parcoords\": [{\"line\": {\"colorbar\": {\"outlinewidth\": 0, \"ticks\": \"\"}}, \"type\": \"parcoords\"}], \"pie\": [{\"automargin\": true, \"type\": \"pie\"}], \"scatter\": [{\"marker\": {\"colorbar\": {\"outlinewidth\": 0, \"ticks\": \"\"}}, \"type\": \"scatter\"}], \"scatter3d\": [{\"line\": {\"colorbar\": {\"outlinewidth\": 0, \"ticks\": \"\"}}, \"marker\": {\"colorbar\": {\"outlinewidth\": 0, \"ticks\": \"\"}}, \"type\": \"scatter3d\"}], \"scattercarpet\": [{\"marker\": {\"colorbar\": {\"outlinewidth\": 0, \"ticks\": \"\"}}, \"type\": \"scattercarpet\"}], \"scattergeo\": [{\"marker\": {\"colorbar\": {\"outlinewidth\": 0, \"ticks\": \"\"}}, \"type\": \"scattergeo\"}], \"scattergl\": [{\"marker\": {\"colorbar\": {\"outlinewidth\": 0, \"ticks\": \"\"}}, \"type\": \"scattergl\"}], \"scattermapbox\": [{\"marker\": {\"colorbar\": {\"outlinewidth\": 0, \"ticks\": \"\"}}, \"type\": \"scattermapbox\"}], \"scatterpolar\": [{\"marker\": {\"colorbar\": {\"outlinewidth\": 0, \"ticks\": \"\"}}, \"type\": \"scatterpolar\"}], \"scatterpolargl\": [{\"marker\": {\"colorbar\": {\"outlinewidth\": 0, \"ticks\": \"\"}}, \"type\": \"scatterpolargl\"}], \"scatterternary\": [{\"marker\": {\"colorbar\": {\"outlinewidth\": 0, \"ticks\": \"\"}}, \"type\": \"scatterternary\"}], \"surface\": [{\"colorbar\": {\"outlinewidth\": 0, \"ticks\": \"\"}, \"colorscale\": [[0.0, \"#0d0887\"], [0.1111111111111111, \"#46039f\"], [0.2222222222222222, \"#7201a8\"], [0.3333333333333333, \"#9c179e\"], [0.4444444444444444, \"#bd3786\"], [0.5555555555555556, \"#d8576b\"], [0.6666666666666666, \"#ed7953\"], [0.7777777777777778, \"#fb9f3a\"], [0.8888888888888888, \"#fdca26\"], [1.0, \"#f0f921\"]], \"type\": \"surface\"}], \"table\": [{\"cells\": {\"fill\": {\"color\": \"#EBF0F8\"}, \"line\": {\"color\": \"white\"}}, \"header\": {\"fill\": {\"color\": \"#C8D4E3\"}, \"line\": {\"color\": \"white\"}}, \"type\": \"table\"}]}, \"layout\": {\"annotationdefaults\": {\"arrowcolor\": \"#2a3f5f\", \"arrowhead\": 0, \"arrowwidth\": 1}, \"coloraxis\": {\"colorbar\": {\"outlinewidth\": 0, \"ticks\": \"\"}}, \"colorscale\": {\"diverging\": [[0, \"#8e0152\"], [0.1, \"#c51b7d\"], [0.2, \"#de77ae\"], [0.3, \"#f1b6da\"], [0.4, \"#fde0ef\"], [0.5, \"#f7f7f7\"], [0.6, \"#e6f5d0\"], [0.7, \"#b8e186\"], [0.8, \"#7fbc41\"], [0.9, \"#4d9221\"], [1, \"#276419\"]], \"sequential\": [[0.0, \"#0d0887\"], [0.1111111111111111, \"#46039f\"], [0.2222222222222222, \"#7201a8\"], [0.3333333333333333, \"#9c179e\"], [0.4444444444444444, \"#bd3786\"], [0.5555555555555556, \"#d8576b\"], [0.6666666666666666, \"#ed7953\"], [0.7777777777777778, \"#fb9f3a\"], [0.8888888888888888, \"#fdca26\"], [1.0, \"#f0f921\"]], \"sequentialminus\": [[0.0, \"#0d0887\"], [0.1111111111111111, \"#46039f\"], [0.2222222222222222, \"#7201a8\"], [0.3333333333333333, \"#9c179e\"], [0.4444444444444444, \"#bd3786\"], [0.5555555555555556, \"#d8576b\"], [0.6666666666666666, \"#ed7953\"], [0.7777777777777778, \"#fb9f3a\"], [0.8888888888888888, \"#fdca26\"], [1.0, \"#f0f921\"]]}, \"colorway\": [\"#636efa\", \"#EF553B\", \"#00cc96\", \"#ab63fa\", \"#FFA15A\", \"#19d3f3\", \"#FF6692\", \"#B6E880\", \"#FF97FF\", \"#FECB52\"], \"font\": {\"color\": \"#2a3f5f\"}, \"geo\": {\"bgcolor\": \"white\", \"lakecolor\": \"white\", \"landcolor\": \"#E5ECF6\", \"showlakes\": true, \"showland\": true, \"subunitcolor\": \"white\"}, \"hoverlabel\": {\"align\": \"left\"}, \"hovermode\": \"closest\", \"mapbox\": {\"style\": \"light\"}, \"paper_bgcolor\": \"white\", \"plot_bgcolor\": \"#E5ECF6\", \"polar\": {\"angularaxis\": {\"gridcolor\": \"white\", \"linecolor\": \"white\", \"ticks\": \"\"}, \"bgcolor\": \"#E5ECF6\", \"radialaxis\": {\"gridcolor\": \"white\", \"linecolor\": \"white\", \"ticks\": \"\"}}, \"scene\": {\"xaxis\": {\"backgroundcolor\": \"#E5ECF6\", \"gridcolor\": \"white\", \"gridwidth\": 2, \"linecolor\": \"white\", \"showbackground\": true, \"ticks\": \"\", \"zerolinecolor\": \"white\"}, \"yaxis\": {\"backgroundcolor\": \"#E5ECF6\", \"gridcolor\": \"white\", \"gridwidth\": 2, \"linecolor\": \"white\", \"showbackground\": true, \"ticks\": \"\", \"zerolinecolor\": \"white\"}, \"zaxis\": {\"backgroundcolor\": \"#E5ECF6\", \"gridcolor\": \"white\", \"gridwidth\": 2, \"linecolor\": \"white\", \"showbackground\": true, \"ticks\": \"\", \"zerolinecolor\": \"white\"}}, \"shapedefaults\": {\"line\": {\"color\": \"#2a3f5f\"}}, \"ternary\": {\"aaxis\": {\"gridcolor\": \"white\", \"linecolor\": \"white\", \"ticks\": \"\"}, \"baxis\": {\"gridcolor\": \"white\", \"linecolor\": \"white\", \"ticks\": \"\"}, \"bgcolor\": \"#E5ECF6\", \"caxis\": {\"gridcolor\": \"white\", \"linecolor\": \"white\", \"ticks\": \"\"}}, \"title\": {\"x\": 0.05}, \"xaxis\": {\"automargin\": true, \"gridcolor\": \"white\", \"linecolor\": \"white\", \"ticks\": \"\", \"title\": {\"standoff\": 15}, \"zerolinecolor\": \"white\", \"zerolinewidth\": 2}, \"yaxis\": {\"automargin\": true, \"gridcolor\": \"white\", \"linecolor\": \"white\", \"ticks\": \"\", \"title\": {\"standoff\": 15}, \"zerolinecolor\": \"white\", \"zerolinewidth\": 2}}}},\n",
              "                        {\"responsive\": true}\n",
              "                    ).then(function(){\n",
              "                            \n",
              "var gd = document.getElementById('4df87141-9e55-43d1-b01a-496f2d6690a8');\n",
              "var x = new MutationObserver(function (mutations, observer) {{\n",
              "        var display = window.getComputedStyle(gd).display;\n",
              "        if (!display || display === 'none') {{\n",
              "            console.log([gd, 'removed!']);\n",
              "            Plotly.purge(gd);\n",
              "            observer.disconnect();\n",
              "        }}\n",
              "}});\n",
              "\n",
              "// Listen for the removal of the full notebook cells\n",
              "var notebookContainer = gd.closest('#notebook-container');\n",
              "if (notebookContainer) {{\n",
              "    x.observe(notebookContainer, {childList: true});\n",
              "}}\n",
              "\n",
              "// Listen for the clearing of the current output cell\n",
              "var outputEl = gd.closest('.output');\n",
              "if (outputEl) {{\n",
              "    x.observe(outputEl, {childList: true});\n",
              "}}\n",
              "\n",
              "                        })\n",
              "                };\n",
              "                \n",
              "            </script>\n",
              "        </div>\n",
              "</body>\n",
              "</html>"
            ]
          },
          "metadata": {
            "tags": []
          }
        }
      ]
    },
    {
      "cell_type": "code",
      "metadata": {
        "id": "agIspYpmyabt",
        "colab_type": "code",
        "outputId": "0538da26-1a90-4013-fb64-da419c0f7f93",
        "colab": {
          "base_uri": "https://localhost:8080/",
          "height": 542
        }
      },
      "source": [
        "yearly_data = df_train.release_year.value_counts().sort_index()\n",
        "\n",
        "data = go.Bar(x = yearly_data.index,\n",
        "                y = yearly_data.values,\n",
        "                marker = dict(color = yearly_data.values,\n",
        "                             line=dict(color='rgb(0,0,0)',width=1.5))\n",
        "                )\n",
        "fig = go.Figure(data = data)\n",
        "fig.update_layout(xaxis_tickangle = -90)\n",
        "fig.show()"
      ],
      "execution_count": 0,
      "outputs": [
        {
          "output_type": "display_data",
          "data": {
            "text/html": [
              "<html>\n",
              "<head><meta charset=\"utf-8\" /></head>\n",
              "<body>\n",
              "    <div>\n",
              "            <script src=\"https://cdnjs.cloudflare.com/ajax/libs/mathjax/2.7.5/MathJax.js?config=TeX-AMS-MML_SVG\"></script><script type=\"text/javascript\">if (window.MathJax) {MathJax.Hub.Config({SVG: {font: \"STIX-Web\"}});}</script>\n",
              "                <script type=\"text/javascript\">window.PlotlyConfig = {MathJaxConfig: 'local'};</script>\n",
              "        <script src=\"https://cdn.plot.ly/plotly-latest.min.js\"></script>    \n",
              "            <div id=\"06e3741d-764c-4f04-88f6-7c6ef9a4fb33\" class=\"plotly-graph-div\" style=\"height:525px; width:100%;\"></div>\n",
              "            <script type=\"text/javascript\">\n",
              "                \n",
              "                    window.PLOTLYENV=window.PLOTLYENV || {};\n",
              "                    \n",
              "                if (document.getElementById(\"06e3741d-764c-4f04-88f6-7c6ef9a4fb33\")) {\n",
              "                    Plotly.newPlot(\n",
              "                        '06e3741d-764c-4f04-88f6-7c6ef9a4fb33',\n",
              "                        [{\"marker\": {\"color\": [1, 1, 2, 1, 2, 3, 1, 2, 3, 2, 1, 4, 1, 4, 2, 3, 2, 2, 4, 2, 6, 2, 2, 4, 1, 6, 6, 7, 4, 3, 3, 5, 8, 4, 5, 5, 6, 4, 7, 8, 7, 6, 8, 8, 8, 9, 5, 8, 7, 11, 14, 16, 21, 26, 25, 27, 30, 42, 44, 45, 56, 47, 46, 42, 45, 56, 51, 62, 55, 63, 66, 65, 65, 77, 84, 74, 83, 99, 114, 105, 101, 106, 126, 124, 125, 141, 123, 128, 125, 40], \"line\": {\"color\": \"rgb(0,0,0)\", \"width\": 1.5}}, \"type\": \"bar\", \"x\": [1921, 1924, 1925, 1926, 1927, 1928, 1930, 1931, 1932, 1933, 1935, 1936, 1938, 1939, 1940, 1942, 1943, 1944, 1945, 1947, 1948, 1949, 1950, 1951, 1952, 1953, 1954, 1955, 1956, 1957, 1958, 1959, 1960, 1961, 1962, 1963, 1964, 1965, 1966, 1967, 1968, 1969, 1970, 1971, 1972, 1973, 1974, 1975, 1976, 1977, 1978, 1979, 1980, 1981, 1982, 1983, 1984, 1985, 1986, 1987, 1988, 1989, 1990, 1991, 1992, 1993, 1994, 1995, 1996, 1997, 1998, 1999, 2000, 2001, 2002, 2003, 2004, 2005, 2006, 2007, 2008, 2009, 2010, 2011, 2012, 2013, 2014, 2015, 2016, 2017], \"y\": [1, 1, 2, 1, 2, 3, 1, 2, 3, 2, 1, 4, 1, 4, 2, 3, 2, 2, 4, 2, 6, 2, 2, 4, 1, 6, 6, 7, 4, 3, 3, 5, 8, 4, 5, 5, 6, 4, 7, 8, 7, 6, 8, 8, 8, 9, 5, 8, 7, 11, 14, 16, 21, 26, 25, 27, 30, 42, 44, 45, 56, 47, 46, 42, 45, 56, 51, 62, 55, 63, 66, 65, 65, 77, 84, 74, 83, 99, 114, 105, 101, 106, 126, 124, 125, 141, 123, 128, 125, 40]}],\n",
              "                        {\"template\": {\"data\": {\"bar\": [{\"error_x\": {\"color\": \"#2a3f5f\"}, \"error_y\": {\"color\": \"#2a3f5f\"}, \"marker\": {\"line\": {\"color\": \"#E5ECF6\", \"width\": 0.5}}, \"type\": \"bar\"}], \"barpolar\": [{\"marker\": {\"line\": {\"color\": \"#E5ECF6\", \"width\": 0.5}}, \"type\": \"barpolar\"}], \"carpet\": [{\"aaxis\": {\"endlinecolor\": \"#2a3f5f\", \"gridcolor\": \"white\", \"linecolor\": \"white\", \"minorgridcolor\": \"white\", \"startlinecolor\": \"#2a3f5f\"}, \"baxis\": {\"endlinecolor\": \"#2a3f5f\", \"gridcolor\": \"white\", \"linecolor\": \"white\", \"minorgridcolor\": \"white\", \"startlinecolor\": \"#2a3f5f\"}, \"type\": \"carpet\"}], \"choropleth\": [{\"colorbar\": {\"outlinewidth\": 0, \"ticks\": \"\"}, \"type\": \"choropleth\"}], \"contour\": [{\"colorbar\": {\"outlinewidth\": 0, \"ticks\": \"\"}, \"colorscale\": [[0.0, \"#0d0887\"], [0.1111111111111111, \"#46039f\"], [0.2222222222222222, \"#7201a8\"], [0.3333333333333333, \"#9c179e\"], [0.4444444444444444, \"#bd3786\"], [0.5555555555555556, \"#d8576b\"], [0.6666666666666666, \"#ed7953\"], [0.7777777777777778, \"#fb9f3a\"], [0.8888888888888888, \"#fdca26\"], [1.0, \"#f0f921\"]], \"type\": \"contour\"}], \"contourcarpet\": [{\"colorbar\": {\"outlinewidth\": 0, \"ticks\": \"\"}, \"type\": \"contourcarpet\"}], \"heatmap\": [{\"colorbar\": {\"outlinewidth\": 0, \"ticks\": \"\"}, \"colorscale\": [[0.0, \"#0d0887\"], [0.1111111111111111, \"#46039f\"], [0.2222222222222222, \"#7201a8\"], [0.3333333333333333, \"#9c179e\"], [0.4444444444444444, \"#bd3786\"], [0.5555555555555556, \"#d8576b\"], [0.6666666666666666, \"#ed7953\"], [0.7777777777777778, \"#fb9f3a\"], [0.8888888888888888, \"#fdca26\"], [1.0, \"#f0f921\"]], \"type\": \"heatmap\"}], \"heatmapgl\": [{\"colorbar\": {\"outlinewidth\": 0, \"ticks\": \"\"}, \"colorscale\": [[0.0, \"#0d0887\"], [0.1111111111111111, \"#46039f\"], [0.2222222222222222, \"#7201a8\"], [0.3333333333333333, \"#9c179e\"], [0.4444444444444444, \"#bd3786\"], [0.5555555555555556, \"#d8576b\"], [0.6666666666666666, \"#ed7953\"], [0.7777777777777778, \"#fb9f3a\"], [0.8888888888888888, \"#fdca26\"], [1.0, \"#f0f921\"]], \"type\": \"heatmapgl\"}], \"histogram\": [{\"marker\": {\"colorbar\": {\"outlinewidth\": 0, \"ticks\": \"\"}}, \"type\": \"histogram\"}], \"histogram2d\": [{\"colorbar\": {\"outlinewidth\": 0, \"ticks\": \"\"}, \"colorscale\": [[0.0, \"#0d0887\"], [0.1111111111111111, \"#46039f\"], [0.2222222222222222, \"#7201a8\"], [0.3333333333333333, \"#9c179e\"], [0.4444444444444444, \"#bd3786\"], [0.5555555555555556, \"#d8576b\"], [0.6666666666666666, \"#ed7953\"], [0.7777777777777778, \"#fb9f3a\"], [0.8888888888888888, \"#fdca26\"], [1.0, \"#f0f921\"]], \"type\": \"histogram2d\"}], \"histogram2dcontour\": [{\"colorbar\": {\"outlinewidth\": 0, \"ticks\": \"\"}, \"colorscale\": [[0.0, \"#0d0887\"], [0.1111111111111111, \"#46039f\"], [0.2222222222222222, \"#7201a8\"], [0.3333333333333333, \"#9c179e\"], [0.4444444444444444, \"#bd3786\"], [0.5555555555555556, \"#d8576b\"], [0.6666666666666666, \"#ed7953\"], [0.7777777777777778, \"#fb9f3a\"], [0.8888888888888888, \"#fdca26\"], [1.0, \"#f0f921\"]], \"type\": \"histogram2dcontour\"}], \"mesh3d\": [{\"colorbar\": {\"outlinewidth\": 0, \"ticks\": \"\"}, \"type\": \"mesh3d\"}], \"parcoords\": [{\"line\": {\"colorbar\": {\"outlinewidth\": 0, \"ticks\": \"\"}}, \"type\": \"parcoords\"}], \"pie\": [{\"automargin\": true, \"type\": \"pie\"}], \"scatter\": [{\"marker\": {\"colorbar\": {\"outlinewidth\": 0, \"ticks\": \"\"}}, \"type\": \"scatter\"}], \"scatter3d\": [{\"line\": {\"colorbar\": {\"outlinewidth\": 0, \"ticks\": \"\"}}, \"marker\": {\"colorbar\": {\"outlinewidth\": 0, \"ticks\": \"\"}}, \"type\": \"scatter3d\"}], \"scattercarpet\": [{\"marker\": {\"colorbar\": {\"outlinewidth\": 0, \"ticks\": \"\"}}, \"type\": \"scattercarpet\"}], \"scattergeo\": [{\"marker\": {\"colorbar\": {\"outlinewidth\": 0, \"ticks\": \"\"}}, \"type\": \"scattergeo\"}], \"scattergl\": [{\"marker\": {\"colorbar\": {\"outlinewidth\": 0, \"ticks\": \"\"}}, \"type\": \"scattergl\"}], \"scattermapbox\": [{\"marker\": {\"colorbar\": {\"outlinewidth\": 0, \"ticks\": \"\"}}, \"type\": \"scattermapbox\"}], \"scatterpolar\": [{\"marker\": {\"colorbar\": {\"outlinewidth\": 0, \"ticks\": \"\"}}, \"type\": \"scatterpolar\"}], \"scatterpolargl\": [{\"marker\": {\"colorbar\": {\"outlinewidth\": 0, \"ticks\": \"\"}}, \"type\": \"scatterpolargl\"}], \"scatterternary\": [{\"marker\": {\"colorbar\": {\"outlinewidth\": 0, \"ticks\": \"\"}}, \"type\": \"scatterternary\"}], \"surface\": [{\"colorbar\": {\"outlinewidth\": 0, \"ticks\": \"\"}, \"colorscale\": [[0.0, \"#0d0887\"], [0.1111111111111111, \"#46039f\"], [0.2222222222222222, \"#7201a8\"], [0.3333333333333333, \"#9c179e\"], [0.4444444444444444, \"#bd3786\"], [0.5555555555555556, \"#d8576b\"], [0.6666666666666666, \"#ed7953\"], [0.7777777777777778, \"#fb9f3a\"], [0.8888888888888888, \"#fdca26\"], [1.0, \"#f0f921\"]], \"type\": \"surface\"}], \"table\": [{\"cells\": {\"fill\": {\"color\": \"#EBF0F8\"}, \"line\": {\"color\": \"white\"}}, \"header\": {\"fill\": {\"color\": \"#C8D4E3\"}, \"line\": {\"color\": \"white\"}}, \"type\": \"table\"}]}, \"layout\": {\"annotationdefaults\": {\"arrowcolor\": \"#2a3f5f\", \"arrowhead\": 0, \"arrowwidth\": 1}, \"coloraxis\": {\"colorbar\": {\"outlinewidth\": 0, \"ticks\": \"\"}}, \"colorscale\": {\"diverging\": [[0, \"#8e0152\"], [0.1, \"#c51b7d\"], [0.2, \"#de77ae\"], [0.3, \"#f1b6da\"], [0.4, \"#fde0ef\"], [0.5, \"#f7f7f7\"], [0.6, \"#e6f5d0\"], [0.7, \"#b8e186\"], [0.8, \"#7fbc41\"], [0.9, \"#4d9221\"], [1, \"#276419\"]], \"sequential\": [[0.0, \"#0d0887\"], [0.1111111111111111, \"#46039f\"], [0.2222222222222222, \"#7201a8\"], [0.3333333333333333, \"#9c179e\"], [0.4444444444444444, \"#bd3786\"], [0.5555555555555556, \"#d8576b\"], [0.6666666666666666, \"#ed7953\"], [0.7777777777777778, \"#fb9f3a\"], [0.8888888888888888, \"#fdca26\"], [1.0, \"#f0f921\"]], \"sequentialminus\": [[0.0, \"#0d0887\"], [0.1111111111111111, \"#46039f\"], [0.2222222222222222, \"#7201a8\"], [0.3333333333333333, \"#9c179e\"], [0.4444444444444444, \"#bd3786\"], [0.5555555555555556, \"#d8576b\"], [0.6666666666666666, \"#ed7953\"], [0.7777777777777778, \"#fb9f3a\"], [0.8888888888888888, \"#fdca26\"], [1.0, \"#f0f921\"]]}, \"colorway\": [\"#636efa\", \"#EF553B\", \"#00cc96\", \"#ab63fa\", \"#FFA15A\", \"#19d3f3\", \"#FF6692\", \"#B6E880\", \"#FF97FF\", \"#FECB52\"], \"font\": {\"color\": \"#2a3f5f\"}, \"geo\": {\"bgcolor\": \"white\", \"lakecolor\": \"white\", \"landcolor\": \"#E5ECF6\", \"showlakes\": true, \"showland\": true, \"subunitcolor\": \"white\"}, \"hoverlabel\": {\"align\": \"left\"}, \"hovermode\": \"closest\", \"mapbox\": {\"style\": \"light\"}, \"paper_bgcolor\": \"white\", \"plot_bgcolor\": \"#E5ECF6\", \"polar\": {\"angularaxis\": {\"gridcolor\": \"white\", \"linecolor\": \"white\", \"ticks\": \"\"}, \"bgcolor\": \"#E5ECF6\", \"radialaxis\": {\"gridcolor\": \"white\", \"linecolor\": \"white\", \"ticks\": \"\"}}, \"scene\": {\"xaxis\": {\"backgroundcolor\": \"#E5ECF6\", \"gridcolor\": \"white\", \"gridwidth\": 2, \"linecolor\": \"white\", \"showbackground\": true, \"ticks\": \"\", \"zerolinecolor\": \"white\"}, \"yaxis\": {\"backgroundcolor\": \"#E5ECF6\", \"gridcolor\": \"white\", \"gridwidth\": 2, \"linecolor\": \"white\", \"showbackground\": true, \"ticks\": \"\", \"zerolinecolor\": \"white\"}, \"zaxis\": {\"backgroundcolor\": \"#E5ECF6\", \"gridcolor\": \"white\", \"gridwidth\": 2, \"linecolor\": \"white\", \"showbackground\": true, \"ticks\": \"\", \"zerolinecolor\": \"white\"}}, \"shapedefaults\": {\"line\": {\"color\": \"#2a3f5f\"}}, \"ternary\": {\"aaxis\": {\"gridcolor\": \"white\", \"linecolor\": \"white\", \"ticks\": \"\"}, \"baxis\": {\"gridcolor\": \"white\", \"linecolor\": \"white\", \"ticks\": \"\"}, \"bgcolor\": \"#E5ECF6\", \"caxis\": {\"gridcolor\": \"white\", \"linecolor\": \"white\", \"ticks\": \"\"}}, \"title\": {\"x\": 0.05}, \"xaxis\": {\"automargin\": true, \"gridcolor\": \"white\", \"linecolor\": \"white\", \"ticks\": \"\", \"title\": {\"standoff\": 15}, \"zerolinecolor\": \"white\", \"zerolinewidth\": 2}, \"yaxis\": {\"automargin\": true, \"gridcolor\": \"white\", \"linecolor\": \"white\", \"ticks\": \"\", \"title\": {\"standoff\": 15}, \"zerolinecolor\": \"white\", \"zerolinewidth\": 2}}}, \"xaxis\": {\"tickangle\": -90}},\n",
              "                        {\"responsive\": true}\n",
              "                    ).then(function(){\n",
              "                            \n",
              "var gd = document.getElementById('06e3741d-764c-4f04-88f6-7c6ef9a4fb33');\n",
              "var x = new MutationObserver(function (mutations, observer) {{\n",
              "        var display = window.getComputedStyle(gd).display;\n",
              "        if (!display || display === 'none') {{\n",
              "            console.log([gd, 'removed!']);\n",
              "            Plotly.purge(gd);\n",
              "            observer.disconnect();\n",
              "        }}\n",
              "}});\n",
              "\n",
              "// Listen for the removal of the full notebook cells\n",
              "var notebookContainer = gd.closest('#notebook-container');\n",
              "if (notebookContainer) {{\n",
              "    x.observe(notebookContainer, {childList: true});\n",
              "}}\n",
              "\n",
              "// Listen for the clearing of the current output cell\n",
              "var outputEl = gd.closest('.output');\n",
              "if (outputEl) {{\n",
              "    x.observe(outputEl, {childList: true});\n",
              "}}\n",
              "\n",
              "                        })\n",
              "                };\n",
              "                \n",
              "            </script>\n",
              "        </div>\n",
              "</body>\n",
              "</html>"
            ]
          },
          "metadata": {
            "tags": []
          }
        }
      ]
    },
    {
      "cell_type": "code",
      "metadata": {
        "id": "WTGfFiEyjtVz",
        "colab_type": "code",
        "outputId": "f5a9da8e-76da-4c19-a772-719f930941e1",
        "colab": {
          "base_uri": "https://localhost:8080/",
          "height": 516
        }
      },
      "source": [
        "df_train[df_train['status'] == 'Rumored']"
      ],
      "execution_count": 0,
      "outputs": [
        {
          "output_type": "execute_result",
          "data": {
            "text/html": [
              "<div>\n",
              "<style scoped>\n",
              "    .dataframe tbody tr th:only-of-type {\n",
              "        vertical-align: middle;\n",
              "    }\n",
              "\n",
              "    .dataframe tbody tr th {\n",
              "        vertical-align: top;\n",
              "    }\n",
              "\n",
              "    .dataframe thead th {\n",
              "        text-align: right;\n",
              "    }\n",
              "</style>\n",
              "<table border=\"1\" class=\"dataframe\">\n",
              "  <thead>\n",
              "    <tr style=\"text-align: right;\">\n",
              "      <th></th>\n",
              "      <th>id</th>\n",
              "      <th>belongs_to_collection</th>\n",
              "      <th>budget</th>\n",
              "      <th>genres</th>\n",
              "      <th>homepage</th>\n",
              "      <th>imdb_id</th>\n",
              "      <th>original_language</th>\n",
              "      <th>original_title</th>\n",
              "      <th>overview</th>\n",
              "      <th>popularity</th>\n",
              "      <th>poster_path</th>\n",
              "      <th>production_companies</th>\n",
              "      <th>production_countries</th>\n",
              "      <th>release_date</th>\n",
              "      <th>runtime</th>\n",
              "      <th>spoken_languages</th>\n",
              "      <th>status</th>\n",
              "      <th>tagline</th>\n",
              "      <th>title</th>\n",
              "      <th>Keywords</th>\n",
              "      <th>cast</th>\n",
              "      <th>crew</th>\n",
              "      <th>revenue</th>\n",
              "      <th>release_month</th>\n",
              "      <th>release_day</th>\n",
              "      <th>release_year</th>\n",
              "    </tr>\n",
              "  </thead>\n",
              "  <tbody>\n",
              "    <tr>\n",
              "      <th>609</th>\n",
              "      <td>610</td>\n",
              "      <td>[{'id': 144200, 'name': 'Swan Princess Series'...</td>\n",
              "      <td>0</td>\n",
              "      <td>[{'id': 14, 'name': 'Fantasy'}, {'id': 16, 'na...</td>\n",
              "      <td>NaN</td>\n",
              "      <td>tt0120254</td>\n",
              "      <td>en</td>\n",
              "      <td>The Swan Princess: Escape from Castle Mountain</td>\n",
              "      <td>The first wedding anniversary of Princess Odet...</td>\n",
              "      <td>5.121309</td>\n",
              "      <td>/oTEgvTpAIugS7OH6oIoVZkmV3C3.jpg</td>\n",
              "      <td>NaN</td>\n",
              "      <td>NaN</td>\n",
              "      <td>1/1/97</td>\n",
              "      <td>71.0</td>\n",
              "      <td>[{'iso_639_1': 'da', 'name': 'Dansk'}, {'iso_6...</td>\n",
              "      <td>Rumored</td>\n",
              "      <td>It Will Take All Her Magic to Rescue Her Friends!</td>\n",
              "      <td>The Swan Princess: Escape from Castle Mountain</td>\n",
              "      <td>[{'id': 3071, 'name': 'prince'}, {'id': 4456, ...</td>\n",
              "      <td>[{'cast_id': 2, 'character': 'Odette (voice)',...</td>\n",
              "      <td>[{'credit_id': '52fe488bc3a36847f816cfd3', 'de...</td>\n",
              "      <td>273644</td>\n",
              "      <td>1</td>\n",
              "      <td>1</td>\n",
              "      <td>1997</td>\n",
              "    </tr>\n",
              "    <tr>\n",
              "      <th>1007</th>\n",
              "      <td>1008</td>\n",
              "      <td>NaN</td>\n",
              "      <td>0</td>\n",
              "      <td>[{'id': 35, 'name': 'Comedy'}]</td>\n",
              "      <td>NaN</td>\n",
              "      <td>tt1860180</td>\n",
              "      <td>en</td>\n",
              "      <td>Billy Gardell: Halftime</td>\n",
              "      <td>Billy Gardell, the star of CBS' hit comedy \"Mi...</td>\n",
              "      <td>0.007877</td>\n",
              "      <td>/3ypM4bwZTvUfXiKJTs0BaEZuBhe.jpg</td>\n",
              "      <td>NaN</td>\n",
              "      <td>[{'iso_3166_1': 'US', 'name': 'United States o...</td>\n",
              "      <td>2/5/11</td>\n",
              "      <td>60.0</td>\n",
              "      <td>[{'iso_639_1': 'en', 'name': 'English'}]</td>\n",
              "      <td>Rumored</td>\n",
              "      <td>NaN</td>\n",
              "      <td>Billy Gardell: Halftime</td>\n",
              "      <td>NaN</td>\n",
              "      <td>[{'cast_id': 9, 'character': 'Himself', 'credi...</td>\n",
              "      <td>[{'credit_id': '52fe4be1c3a368484e19d265', 'de...</td>\n",
              "      <td>60</td>\n",
              "      <td>2</td>\n",
              "      <td>5</td>\n",
              "      <td>2011</td>\n",
              "    </tr>\n",
              "    <tr>\n",
              "      <th>1216</th>\n",
              "      <td>1217</td>\n",
              "      <td>NaN</td>\n",
              "      <td>0</td>\n",
              "      <td>[{'id': 18, 'name': 'Drama'}, {'id': 53, 'name...</td>\n",
              "      <td>NaN</td>\n",
              "      <td>tt0091024</td>\n",
              "      <td>en</td>\n",
              "      <td>Extremities</td>\n",
              "      <td>A woman escapes from the man who is about to r...</td>\n",
              "      <td>10.273979</td>\n",
              "      <td>/pMN14kaump5CrzbSl1C0a2E0M4f.jpg</td>\n",
              "      <td>[{'name': 'Atlantic Entertainment Group', 'id'...</td>\n",
              "      <td>[{'iso_3166_1': 'US', 'name': 'United States o...</td>\n",
              "      <td>8/22/86</td>\n",
              "      <td>89.0</td>\n",
              "      <td>[{'iso_639_1': 'en', 'name': 'English'}]</td>\n",
              "      <td>Rumored</td>\n",
              "      <td>When fear made her a victim, she turned fear i...</td>\n",
              "      <td>Extremities</td>\n",
              "      <td>[{'id': 2483, 'name': 'nudity'}, {'id': 2539, ...</td>\n",
              "      <td>[{'cast_id': 1, 'character': 'Marjorie', 'cred...</td>\n",
              "      <td>[{'credit_id': '582cca1c925141780b00259f', 'de...</td>\n",
              "      <td>13418091</td>\n",
              "      <td>8</td>\n",
              "      <td>22</td>\n",
              "      <td>1986</td>\n",
              "    </tr>\n",
              "    <tr>\n",
              "      <th>1618</th>\n",
              "      <td>1619</td>\n",
              "      <td>NaN</td>\n",
              "      <td>891000</td>\n",
              "      <td>[{'id': 99, 'name': 'Documentary'}]</td>\n",
              "      <td>NaN</td>\n",
              "      <td>tt0145394</td>\n",
              "      <td>en</td>\n",
              "      <td>A Place Called Chiapas</td>\n",
              "      <td>On January 1, 1994, the Zapatista National Lib...</td>\n",
              "      <td>0.179246</td>\n",
              "      <td>/4j9U7QMT5D5HhUoIsoAI1niVqz8.jpg</td>\n",
              "      <td>NaN</td>\n",
              "      <td>[{'iso_3166_1': 'CA', 'name': 'Canada'}]</td>\n",
              "      <td>2/20/98</td>\n",
              "      <td>89.0</td>\n",
              "      <td>[{'iso_639_1': 'en', 'name': 'English'}, {'iso...</td>\n",
              "      <td>Rumored</td>\n",
              "      <td>Inside the world's first postmodern revolution</td>\n",
              "      <td>A Place Called Chiapas</td>\n",
              "      <td>[{'id': 187056, 'name': 'woman director'}]</td>\n",
              "      <td>[{'cast_id': 1, 'character': 'Himself', 'credi...</td>\n",
              "      <td>[{'credit_id': '57b4f7619251417287000dfc', 'de...</td>\n",
              "      <td>229000</td>\n",
              "      <td>2</td>\n",
              "      <td>20</td>\n",
              "      <td>1998</td>\n",
              "    </tr>\n",
              "  </tbody>\n",
              "</table>\n",
              "</div>"
            ],
            "text/plain": [
              "        id  ... release_year\n",
              "609    610  ...         1997\n",
              "1007  1008  ...         2011\n",
              "1216  1217  ...         1986\n",
              "1618  1619  ...         1998\n",
              "\n",
              "[4 rows x 26 columns]"
            ]
          },
          "metadata": {
            "tags": []
          },
          "execution_count": 16
        }
      ]
    },
    {
      "cell_type": "code",
      "metadata": {
        "id": "6PQVfYS9khAd",
        "colab_type": "code",
        "colab": {}
      },
      "source": [
        "from collections import Counter\n",
        "def extract_values(text):\n",
        "  values = []\n",
        "  for list_of_values in text:\n",
        "    if list_of_values != '':\n",
        "      list_ = ast.literal_eval(list_of_values)\n",
        "      for element in list_:\n",
        "        value = element['name']\n",
        "        values.append(value)\n",
        "  count_values = Counter(values)\n",
        "  return count_values\n",
        "\n",
        "count_genres = extract_values(df_train['genres'].replace(np.nan, \"\"))"
      ],
      "execution_count": 0,
      "outputs": []
    },
    {
      "cell_type": "code",
      "metadata": {
        "id": "JvMbQ83jmYK8",
        "colab_type": "code",
        "outputId": "763aac3e-0ff9-4127-b072-2ba912bbc675",
        "colab": {
          "base_uri": "https://localhost:8080/",
          "height": 54
        }
      },
      "source": [
        "count_genres.keys()"
      ],
      "execution_count": 0,
      "outputs": [
        {
          "output_type": "execute_result",
          "data": {
            "text/plain": [
              "dict_keys(['Comedy', 'Drama', 'Family', 'Romance', 'Thriller', 'Action', 'Animation', 'Adventure', 'Horror', 'Documentary', 'Music', 'Crime', 'Science Fiction', 'Mystery', 'Foreign', 'Fantasy', 'War', 'Western', 'History', 'TV Movie'])"
            ]
          },
          "metadata": {
            "tags": []
          },
          "execution_count": 23
        }
      ]
    },
    {
      "cell_type": "code",
      "metadata": {
        "id": "kZBzNKPUnPnM",
        "colab_type": "code",
        "colab": {}
      },
      "source": [
        "x, y = zip(*count_genres.items())"
      ],
      "execution_count": 0,
      "outputs": []
    },
    {
      "cell_type": "code",
      "metadata": {
        "id": "bg3RTozQlCQB",
        "colab_type": "code",
        "outputId": "3587a7eb-ba73-44a7-e1d8-8a84366de985",
        "colab": {
          "base_uri": "https://localhost:8080/",
          "height": 542
        }
      },
      "source": [
        "data = go.Bar(x = x,\n",
        "              y = y,\n",
        "              marker = dict(color = 'rgb(255, 255, 0, 0.5)',\n",
        "                             line=dict(color='rgb(0,0,0)',width=1.5))\n",
        "              )\n",
        "fig = go.Figure(data = data)\n",
        "fig.show()"
      ],
      "execution_count": 0,
      "outputs": [
        {
          "output_type": "display_data",
          "data": {
            "text/html": [
              "<html>\n",
              "<head><meta charset=\"utf-8\" /></head>\n",
              "<body>\n",
              "    <div>\n",
              "            <script src=\"https://cdnjs.cloudflare.com/ajax/libs/mathjax/2.7.5/MathJax.js?config=TeX-AMS-MML_SVG\"></script><script type=\"text/javascript\">if (window.MathJax) {MathJax.Hub.Config({SVG: {font: \"STIX-Web\"}});}</script>\n",
              "                <script type=\"text/javascript\">window.PlotlyConfig = {MathJaxConfig: 'local'};</script>\n",
              "        <script src=\"https://cdn.plot.ly/plotly-latest.min.js\"></script>    \n",
              "            <div id=\"75bdfdf8-7342-4681-860d-124c7edea55d\" class=\"plotly-graph-div\" style=\"height:525px; width:100%;\"></div>\n",
              "            <script type=\"text/javascript\">\n",
              "                \n",
              "                    window.PLOTLYENV=window.PLOTLYENV || {};\n",
              "                    \n",
              "                if (document.getElementById(\"75bdfdf8-7342-4681-860d-124c7edea55d\")) {\n",
              "                    Plotly.newPlot(\n",
              "                        '75bdfdf8-7342-4681-860d-124c7edea55d',\n",
              "                        [{\"marker\": {\"color\": \"rgb(255, 255, 0, 0.5)\", \"line\": {\"color\": \"rgb(0,0,0)\", \"width\": 1.5}}, \"type\": \"bar\", \"x\": [\"Comedy\", \"Drama\", \"Family\", \"Romance\", \"Thriller\", \"Action\", \"Animation\", \"Adventure\", \"Horror\", \"Documentary\", \"Music\", \"Crime\", \"Science Fiction\", \"Mystery\", \"Foreign\", \"Fantasy\", \"War\", \"Western\", \"History\", \"TV Movie\"], \"y\": [1028, 1531, 260, 571, 789, 741, 141, 439, 301, 87, 100, 469, 290, 225, 31, 232, 100, 43, 132, 1]}],\n",
              "                        {\"template\": {\"data\": {\"bar\": [{\"error_x\": {\"color\": \"#2a3f5f\"}, \"error_y\": {\"color\": \"#2a3f5f\"}, \"marker\": {\"line\": {\"color\": \"#E5ECF6\", \"width\": 0.5}}, \"type\": \"bar\"}], \"barpolar\": [{\"marker\": {\"line\": {\"color\": \"#E5ECF6\", \"width\": 0.5}}, \"type\": \"barpolar\"}], \"carpet\": [{\"aaxis\": {\"endlinecolor\": \"#2a3f5f\", \"gridcolor\": \"white\", \"linecolor\": \"white\", \"minorgridcolor\": \"white\", \"startlinecolor\": \"#2a3f5f\"}, \"baxis\": {\"endlinecolor\": \"#2a3f5f\", \"gridcolor\": \"white\", \"linecolor\": \"white\", \"minorgridcolor\": \"white\", \"startlinecolor\": \"#2a3f5f\"}, \"type\": \"carpet\"}], \"choropleth\": [{\"colorbar\": {\"outlinewidth\": 0, \"ticks\": \"\"}, \"type\": \"choropleth\"}], \"contour\": [{\"colorbar\": {\"outlinewidth\": 0, \"ticks\": \"\"}, \"colorscale\": [[0.0, \"#0d0887\"], [0.1111111111111111, \"#46039f\"], [0.2222222222222222, \"#7201a8\"], [0.3333333333333333, \"#9c179e\"], [0.4444444444444444, \"#bd3786\"], [0.5555555555555556, \"#d8576b\"], [0.6666666666666666, \"#ed7953\"], [0.7777777777777778, \"#fb9f3a\"], [0.8888888888888888, \"#fdca26\"], [1.0, \"#f0f921\"]], \"type\": \"contour\"}], \"contourcarpet\": [{\"colorbar\": {\"outlinewidth\": 0, \"ticks\": \"\"}, \"type\": \"contourcarpet\"}], \"heatmap\": [{\"colorbar\": {\"outlinewidth\": 0, \"ticks\": \"\"}, \"colorscale\": [[0.0, \"#0d0887\"], [0.1111111111111111, \"#46039f\"], [0.2222222222222222, \"#7201a8\"], [0.3333333333333333, \"#9c179e\"], [0.4444444444444444, \"#bd3786\"], [0.5555555555555556, \"#d8576b\"], [0.6666666666666666, \"#ed7953\"], [0.7777777777777778, \"#fb9f3a\"], [0.8888888888888888, \"#fdca26\"], [1.0, \"#f0f921\"]], \"type\": \"heatmap\"}], \"heatmapgl\": [{\"colorbar\": {\"outlinewidth\": 0, \"ticks\": \"\"}, \"colorscale\": [[0.0, \"#0d0887\"], [0.1111111111111111, \"#46039f\"], [0.2222222222222222, \"#7201a8\"], [0.3333333333333333, \"#9c179e\"], [0.4444444444444444, \"#bd3786\"], [0.5555555555555556, \"#d8576b\"], [0.6666666666666666, \"#ed7953\"], [0.7777777777777778, \"#fb9f3a\"], [0.8888888888888888, \"#fdca26\"], [1.0, \"#f0f921\"]], \"type\": \"heatmapgl\"}], \"histogram\": [{\"marker\": {\"colorbar\": {\"outlinewidth\": 0, \"ticks\": \"\"}}, \"type\": \"histogram\"}], \"histogram2d\": [{\"colorbar\": {\"outlinewidth\": 0, \"ticks\": \"\"}, \"colorscale\": [[0.0, \"#0d0887\"], [0.1111111111111111, \"#46039f\"], [0.2222222222222222, \"#7201a8\"], [0.3333333333333333, \"#9c179e\"], [0.4444444444444444, \"#bd3786\"], [0.5555555555555556, \"#d8576b\"], [0.6666666666666666, \"#ed7953\"], [0.7777777777777778, \"#fb9f3a\"], [0.8888888888888888, \"#fdca26\"], [1.0, \"#f0f921\"]], \"type\": \"histogram2d\"}], \"histogram2dcontour\": [{\"colorbar\": {\"outlinewidth\": 0, \"ticks\": \"\"}, \"colorscale\": [[0.0, \"#0d0887\"], [0.1111111111111111, \"#46039f\"], [0.2222222222222222, \"#7201a8\"], [0.3333333333333333, \"#9c179e\"], [0.4444444444444444, \"#bd3786\"], [0.5555555555555556, \"#d8576b\"], [0.6666666666666666, \"#ed7953\"], [0.7777777777777778, \"#fb9f3a\"], [0.8888888888888888, \"#fdca26\"], [1.0, \"#f0f921\"]], \"type\": \"histogram2dcontour\"}], \"mesh3d\": [{\"colorbar\": {\"outlinewidth\": 0, \"ticks\": \"\"}, \"type\": \"mesh3d\"}], \"parcoords\": [{\"line\": {\"colorbar\": {\"outlinewidth\": 0, \"ticks\": \"\"}}, \"type\": \"parcoords\"}], \"pie\": [{\"automargin\": true, \"type\": \"pie\"}], \"scatter\": [{\"marker\": {\"colorbar\": {\"outlinewidth\": 0, \"ticks\": \"\"}}, \"type\": \"scatter\"}], \"scatter3d\": [{\"line\": {\"colorbar\": {\"outlinewidth\": 0, \"ticks\": \"\"}}, \"marker\": {\"colorbar\": {\"outlinewidth\": 0, \"ticks\": \"\"}}, \"type\": \"scatter3d\"}], \"scattercarpet\": [{\"marker\": {\"colorbar\": {\"outlinewidth\": 0, \"ticks\": \"\"}}, \"type\": \"scattercarpet\"}], \"scattergeo\": [{\"marker\": {\"colorbar\": {\"outlinewidth\": 0, \"ticks\": \"\"}}, \"type\": \"scattergeo\"}], \"scattergl\": [{\"marker\": {\"colorbar\": {\"outlinewidth\": 0, \"ticks\": \"\"}}, \"type\": \"scattergl\"}], \"scattermapbox\": [{\"marker\": {\"colorbar\": {\"outlinewidth\": 0, \"ticks\": \"\"}}, \"type\": \"scattermapbox\"}], \"scatterpolar\": [{\"marker\": {\"colorbar\": {\"outlinewidth\": 0, \"ticks\": \"\"}}, \"type\": \"scatterpolar\"}], \"scatterpolargl\": [{\"marker\": {\"colorbar\": {\"outlinewidth\": 0, \"ticks\": \"\"}}, \"type\": \"scatterpolargl\"}], \"scatterternary\": [{\"marker\": {\"colorbar\": {\"outlinewidth\": 0, \"ticks\": \"\"}}, \"type\": \"scatterternary\"}], \"surface\": [{\"colorbar\": {\"outlinewidth\": 0, \"ticks\": \"\"}, \"colorscale\": [[0.0, \"#0d0887\"], [0.1111111111111111, \"#46039f\"], [0.2222222222222222, \"#7201a8\"], [0.3333333333333333, \"#9c179e\"], [0.4444444444444444, \"#bd3786\"], [0.5555555555555556, \"#d8576b\"], [0.6666666666666666, \"#ed7953\"], [0.7777777777777778, \"#fb9f3a\"], [0.8888888888888888, \"#fdca26\"], [1.0, \"#f0f921\"]], \"type\": \"surface\"}], \"table\": [{\"cells\": {\"fill\": {\"color\": \"#EBF0F8\"}, \"line\": {\"color\": \"white\"}}, \"header\": {\"fill\": {\"color\": \"#C8D4E3\"}, \"line\": {\"color\": \"white\"}}, \"type\": \"table\"}]}, \"layout\": {\"annotationdefaults\": {\"arrowcolor\": \"#2a3f5f\", \"arrowhead\": 0, \"arrowwidth\": 1}, \"coloraxis\": {\"colorbar\": {\"outlinewidth\": 0, \"ticks\": \"\"}}, \"colorscale\": {\"diverging\": [[0, \"#8e0152\"], [0.1, \"#c51b7d\"], [0.2, \"#de77ae\"], [0.3, \"#f1b6da\"], [0.4, \"#fde0ef\"], [0.5, \"#f7f7f7\"], [0.6, \"#e6f5d0\"], [0.7, \"#b8e186\"], [0.8, \"#7fbc41\"], [0.9, \"#4d9221\"], [1, \"#276419\"]], \"sequential\": [[0.0, \"#0d0887\"], [0.1111111111111111, \"#46039f\"], [0.2222222222222222, \"#7201a8\"], [0.3333333333333333, \"#9c179e\"], [0.4444444444444444, \"#bd3786\"], [0.5555555555555556, \"#d8576b\"], [0.6666666666666666, \"#ed7953\"], [0.7777777777777778, \"#fb9f3a\"], [0.8888888888888888, \"#fdca26\"], [1.0, \"#f0f921\"]], \"sequentialminus\": [[0.0, \"#0d0887\"], [0.1111111111111111, \"#46039f\"], [0.2222222222222222, \"#7201a8\"], [0.3333333333333333, \"#9c179e\"], [0.4444444444444444, \"#bd3786\"], [0.5555555555555556, \"#d8576b\"], [0.6666666666666666, \"#ed7953\"], [0.7777777777777778, \"#fb9f3a\"], [0.8888888888888888, \"#fdca26\"], [1.0, \"#f0f921\"]]}, \"colorway\": [\"#636efa\", \"#EF553B\", \"#00cc96\", \"#ab63fa\", \"#FFA15A\", \"#19d3f3\", \"#FF6692\", \"#B6E880\", \"#FF97FF\", \"#FECB52\"], \"font\": {\"color\": \"#2a3f5f\"}, \"geo\": {\"bgcolor\": \"white\", \"lakecolor\": \"white\", \"landcolor\": \"#E5ECF6\", \"showlakes\": true, \"showland\": true, \"subunitcolor\": \"white\"}, \"hoverlabel\": {\"align\": \"left\"}, \"hovermode\": \"closest\", \"mapbox\": {\"style\": \"light\"}, \"paper_bgcolor\": \"white\", \"plot_bgcolor\": \"#E5ECF6\", \"polar\": {\"angularaxis\": {\"gridcolor\": \"white\", \"linecolor\": \"white\", \"ticks\": \"\"}, \"bgcolor\": \"#E5ECF6\", \"radialaxis\": {\"gridcolor\": \"white\", \"linecolor\": \"white\", \"ticks\": \"\"}}, \"scene\": {\"xaxis\": {\"backgroundcolor\": \"#E5ECF6\", \"gridcolor\": \"white\", \"gridwidth\": 2, \"linecolor\": \"white\", \"showbackground\": true, \"ticks\": \"\", \"zerolinecolor\": \"white\"}, \"yaxis\": {\"backgroundcolor\": \"#E5ECF6\", \"gridcolor\": \"white\", \"gridwidth\": 2, \"linecolor\": \"white\", \"showbackground\": true, \"ticks\": \"\", \"zerolinecolor\": \"white\"}, \"zaxis\": {\"backgroundcolor\": \"#E5ECF6\", \"gridcolor\": \"white\", \"gridwidth\": 2, \"linecolor\": \"white\", \"showbackground\": true, \"ticks\": \"\", \"zerolinecolor\": \"white\"}}, \"shapedefaults\": {\"line\": {\"color\": \"#2a3f5f\"}}, \"ternary\": {\"aaxis\": {\"gridcolor\": \"white\", \"linecolor\": \"white\", \"ticks\": \"\"}, \"baxis\": {\"gridcolor\": \"white\", \"linecolor\": \"white\", \"ticks\": \"\"}, \"bgcolor\": \"#E5ECF6\", \"caxis\": {\"gridcolor\": \"white\", \"linecolor\": \"white\", \"ticks\": \"\"}}, \"title\": {\"x\": 0.05}, \"xaxis\": {\"automargin\": true, \"gridcolor\": \"white\", \"linecolor\": \"white\", \"ticks\": \"\", \"title\": {\"standoff\": 15}, \"zerolinecolor\": \"white\", \"zerolinewidth\": 2}, \"yaxis\": {\"automargin\": true, \"gridcolor\": \"white\", \"linecolor\": \"white\", \"ticks\": \"\", \"title\": {\"standoff\": 15}, \"zerolinecolor\": \"white\", \"zerolinewidth\": 2}}}},\n",
              "                        {\"responsive\": true}\n",
              "                    ).then(function(){\n",
              "                            \n",
              "var gd = document.getElementById('75bdfdf8-7342-4681-860d-124c7edea55d');\n",
              "var x = new MutationObserver(function (mutations, observer) {{\n",
              "        var display = window.getComputedStyle(gd).display;\n",
              "        if (!display || display === 'none') {{\n",
              "            console.log([gd, 'removed!']);\n",
              "            Plotly.purge(gd);\n",
              "            observer.disconnect();\n",
              "        }}\n",
              "}});\n",
              "\n",
              "// Listen for the removal of the full notebook cells\n",
              "var notebookContainer = gd.closest('#notebook-container');\n",
              "if (notebookContainer) {{\n",
              "    x.observe(notebookContainer, {childList: true});\n",
              "}}\n",
              "\n",
              "// Listen for the clearing of the current output cell\n",
              "var outputEl = gd.closest('.output');\n",
              "if (outputEl) {{\n",
              "    x.observe(outputEl, {childList: true});\n",
              "}}\n",
              "\n",
              "                        })\n",
              "                };\n",
              "                \n",
              "            </script>\n",
              "        </div>\n",
              "</body>\n",
              "</html>"
            ]
          },
          "metadata": {
            "tags": []
          }
        }
      ]
    },
    {
      "cell_type": "code",
      "metadata": {
        "id": "1VVjzbSOoY0Q",
        "colab_type": "code",
        "colab": {}
      },
      "source": [
        "# CHECKING FOR NULL VALUES\n",
        "nrows = df_train.shape[0]\n",
        "null_check = df_train.isnull().sum()"
      ],
      "execution_count": 0,
      "outputs": []
    },
    {
      "cell_type": "code",
      "metadata": {
        "id": "Lec0TQehog_T",
        "colab_type": "code",
        "colab": {}
      },
      "source": [
        "pct_null = pd.DataFrame(null_check.sort_values(ascending = False) * 100 / nrows)"
      ],
      "execution_count": 0,
      "outputs": []
    },
    {
      "cell_type": "code",
      "metadata": {
        "id": "jCg6Pxpvoqbq",
        "colab_type": "code",
        "outputId": "22f0334a-ba30-4077-a47e-e2c61a7d6685",
        "colab": {
          "base_uri": "https://localhost:8080/",
          "height": 855
        }
      },
      "source": [
        "pct_null"
      ],
      "execution_count": 0,
      "outputs": [
        {
          "output_type": "execute_result",
          "data": {
            "text/html": [
              "<div>\n",
              "<style scoped>\n",
              "    .dataframe tbody tr th:only-of-type {\n",
              "        vertical-align: middle;\n",
              "    }\n",
              "\n",
              "    .dataframe tbody tr th {\n",
              "        vertical-align: top;\n",
              "    }\n",
              "\n",
              "    .dataframe thead th {\n",
              "        text-align: right;\n",
              "    }\n",
              "</style>\n",
              "<table border=\"1\" class=\"dataframe\">\n",
              "  <thead>\n",
              "    <tr style=\"text-align: right;\">\n",
              "      <th></th>\n",
              "      <th>0</th>\n",
              "    </tr>\n",
              "  </thead>\n",
              "  <tbody>\n",
              "    <tr>\n",
              "      <th>belongs_to_collection</th>\n",
              "      <td>79.866667</td>\n",
              "    </tr>\n",
              "    <tr>\n",
              "      <th>homepage</th>\n",
              "      <td>68.466667</td>\n",
              "    </tr>\n",
              "    <tr>\n",
              "      <th>tagline</th>\n",
              "      <td>19.900000</td>\n",
              "    </tr>\n",
              "    <tr>\n",
              "      <th>Keywords</th>\n",
              "      <td>9.200000</td>\n",
              "    </tr>\n",
              "    <tr>\n",
              "      <th>production_companies</th>\n",
              "      <td>5.200000</td>\n",
              "    </tr>\n",
              "    <tr>\n",
              "      <th>production_countries</th>\n",
              "      <td>1.833333</td>\n",
              "    </tr>\n",
              "    <tr>\n",
              "      <th>spoken_languages</th>\n",
              "      <td>0.666667</td>\n",
              "    </tr>\n",
              "    <tr>\n",
              "      <th>crew</th>\n",
              "      <td>0.533333</td>\n",
              "    </tr>\n",
              "    <tr>\n",
              "      <th>cast</th>\n",
              "      <td>0.433333</td>\n",
              "    </tr>\n",
              "    <tr>\n",
              "      <th>overview</th>\n",
              "      <td>0.266667</td>\n",
              "    </tr>\n",
              "    <tr>\n",
              "      <th>genres</th>\n",
              "      <td>0.233333</td>\n",
              "    </tr>\n",
              "    <tr>\n",
              "      <th>runtime</th>\n",
              "      <td>0.066667</td>\n",
              "    </tr>\n",
              "    <tr>\n",
              "      <th>poster_path</th>\n",
              "      <td>0.033333</td>\n",
              "    </tr>\n",
              "    <tr>\n",
              "      <th>imdb_id</th>\n",
              "      <td>0.000000</td>\n",
              "    </tr>\n",
              "    <tr>\n",
              "      <th>original_language</th>\n",
              "      <td>0.000000</td>\n",
              "    </tr>\n",
              "    <tr>\n",
              "      <th>budget</th>\n",
              "      <td>0.000000</td>\n",
              "    </tr>\n",
              "    <tr>\n",
              "      <th>original_title</th>\n",
              "      <td>0.000000</td>\n",
              "    </tr>\n",
              "    <tr>\n",
              "      <th>release_year</th>\n",
              "      <td>0.000000</td>\n",
              "    </tr>\n",
              "    <tr>\n",
              "      <th>popularity</th>\n",
              "      <td>0.000000</td>\n",
              "    </tr>\n",
              "    <tr>\n",
              "      <th>release_day</th>\n",
              "      <td>0.000000</td>\n",
              "    </tr>\n",
              "    <tr>\n",
              "      <th>release_date</th>\n",
              "      <td>0.000000</td>\n",
              "    </tr>\n",
              "    <tr>\n",
              "      <th>status</th>\n",
              "      <td>0.000000</td>\n",
              "    </tr>\n",
              "    <tr>\n",
              "      <th>title</th>\n",
              "      <td>0.000000</td>\n",
              "    </tr>\n",
              "    <tr>\n",
              "      <th>revenue</th>\n",
              "      <td>0.000000</td>\n",
              "    </tr>\n",
              "    <tr>\n",
              "      <th>release_month</th>\n",
              "      <td>0.000000</td>\n",
              "    </tr>\n",
              "    <tr>\n",
              "      <th>id</th>\n",
              "      <td>0.000000</td>\n",
              "    </tr>\n",
              "  </tbody>\n",
              "</table>\n",
              "</div>"
            ],
            "text/plain": [
              "                               0\n",
              "belongs_to_collection  79.866667\n",
              "homepage               68.466667\n",
              "tagline                19.900000\n",
              "Keywords                9.200000\n",
              "production_companies    5.200000\n",
              "production_countries    1.833333\n",
              "spoken_languages        0.666667\n",
              "crew                    0.533333\n",
              "cast                    0.433333\n",
              "overview                0.266667\n",
              "genres                  0.233333\n",
              "runtime                 0.066667\n",
              "poster_path             0.033333\n",
              "imdb_id                 0.000000\n",
              "original_language       0.000000\n",
              "budget                  0.000000\n",
              "original_title          0.000000\n",
              "release_year            0.000000\n",
              "popularity              0.000000\n",
              "release_day             0.000000\n",
              "release_date            0.000000\n",
              "status                  0.000000\n",
              "title                   0.000000\n",
              "revenue                 0.000000\n",
              "release_month           0.000000\n",
              "id                      0.000000"
            ]
          },
          "metadata": {
            "tags": []
          },
          "execution_count": 42
        }
      ]
    },
    {
      "cell_type": "markdown",
      "metadata": {
        "id": "HCV_ua9VrAWp",
        "colab_type": "text"
      },
      "source": [
        "A VISUALIZATION OF COUNTRIES AND THEIR NUMBER OF FILMS"
      ]
    },
    {
      "cell_type": "code",
      "metadata": {
        "id": "2sMNEv5so-eQ",
        "colab_type": "code",
        "outputId": "61b5f5fc-8ba8-402e-fb60-1ff69971aac1",
        "colab": {
          "base_uri": "https://localhost:8080/",
          "height": 1000
        }
      },
      "source": [
        "count_prod_comp = extract_values(df_train['production_countries'].replace(np.nan, \"\"))\n",
        "x, y = zip(*count_prod_comp.items())\n",
        "data = go.Bar(x = x,\n",
        "              y = y,\n",
        "              marker = dict(color = 'rgb(255, 255, 0, 0.5)',\n",
        "                             line=dict(color='rgb(0,0,0)',width=1.5))\n",
        "              )\n",
        "fig = go.Figure(data = data)\n",
        "fig.update_layout(width = 1000, height = 1000, xaxis = dict(tickmode = 'array',\n",
        "                           tickvals = list(range(0, len(x))), \n",
        "                           ticktext = x))\n",
        "fig.show()"
      ],
      "execution_count": 70,
      "outputs": [
        {
          "output_type": "display_data",
          "data": {
            "text/html": [
              "<html>\n",
              "<head><meta charset=\"utf-8\" /></head>\n",
              "<body>\n",
              "    <div>\n",
              "            <script src=\"https://cdnjs.cloudflare.com/ajax/libs/mathjax/2.7.5/MathJax.js?config=TeX-AMS-MML_SVG\"></script><script type=\"text/javascript\">if (window.MathJax) {MathJax.Hub.Config({SVG: {font: \"STIX-Web\"}});}</script>\n",
              "                <script type=\"text/javascript\">window.PlotlyConfig = {MathJaxConfig: 'local'};</script>\n",
              "        <script src=\"https://cdn.plot.ly/plotly-latest.min.js\"></script>    \n",
              "            <div id=\"f6534ecf-cba2-4c7e-9574-39d370324b72\" class=\"plotly-graph-div\" style=\"height:1000px; width:1000px;\"></div>\n",
              "            <script type=\"text/javascript\">\n",
              "                \n",
              "                    window.PLOTLYENV=window.PLOTLYENV || {};\n",
              "                    \n",
              "                if (document.getElementById(\"f6534ecf-cba2-4c7e-9574-39d370324b72\")) {\n",
              "                    Plotly.newPlot(\n",
              "                        'f6534ecf-cba2-4c7e-9574-39d370324b72',\n",
              "                        [{\"marker\": {\"color\": \"rgb(255, 255, 0, 0.5)\", \"line\": {\"color\": \"rgb(0,0,0)\", \"width\": 1.5}}, \"type\": \"bar\", \"x\": [\"United States of America\", \"India\", \"South Korea\", \"Canada\", \"Serbia\", \"United Kingdom\", \"Austria\", \"Germany\", \"France\", \"New Zealand\", \"Japan\", \"Ireland\", \"Italy\", \"Israel\", \"Belgium\", \"Czech Republic\", \"China\", \"Brazil\", \"Argentina\", \"Chile\", \"Peru\", \"Hong Kong\", \"Russia\", \"Spain\", \"Turkey\", \"Australia\", \"Sweden\", \"Luxembourg\", \"South Africa\", \"Switzerland\", \"Iran\", \"Morocco\", \"Netherlands\", \"Philippines\", \"Iceland\", \"Denmark\", \"Taiwan\", \"Mongolia\", \"Hungary\", \"Mexico\", \"Romania\", \"Greece\", \"United Arab Emirates\", \"Puerto Rico\", \"Finland\", \"Cambodia\", \"Norway\", \"Poland\", \"Malta\", \"Namibia\", \"Bosnia and Herzegovina\", \"Serbia and Montenegro\", \"Pakistan\", \"Algeria\", \"Ethiopia\", \"Qatar\", \"Tunisia\", \"Portugal\", \"Bulgaria\", \"Slovenia\", \"Ukraine\", \"Saudi Arabia\", \"Jordan\", \"Croatia\", \"Singapore\", \"Cyprus\", \"Uruguay\", \"Paraguay\", \"Mauritania\", \"Costa Rica\", \"Bahamas\", \"Burkina Faso\", \"Ghana\", \"Indonesia\"], \"y\": [2282, 81, 22, 120, 2, 380, 8, 167, 222, 17, 61, 23, 64, 5, 23, 14, 42, 12, 6, 6, 1, 42, 58, 54, 5, 61, 18, 10, 10, 8, 5, 3, 15, 3, 2, 13, 3, 1, 9, 19, 8, 7, 9, 1, 6, 2, 7, 5, 2, 1, 1, 1, 2, 1, 1, 2, 2, 1, 3, 1, 2, 1, 1, 1, 2, 1, 1, 1, 1, 1, 3, 1, 1, 2]}],\n",
              "                        {\"height\": 1000, \"template\": {\"data\": {\"bar\": [{\"error_x\": {\"color\": \"#2a3f5f\"}, \"error_y\": {\"color\": \"#2a3f5f\"}, \"marker\": {\"line\": {\"color\": \"#E5ECF6\", \"width\": 0.5}}, \"type\": \"bar\"}], \"barpolar\": [{\"marker\": {\"line\": {\"color\": \"#E5ECF6\", \"width\": 0.5}}, \"type\": \"barpolar\"}], \"carpet\": [{\"aaxis\": {\"endlinecolor\": \"#2a3f5f\", \"gridcolor\": \"white\", \"linecolor\": \"white\", \"minorgridcolor\": \"white\", \"startlinecolor\": \"#2a3f5f\"}, \"baxis\": {\"endlinecolor\": \"#2a3f5f\", \"gridcolor\": \"white\", \"linecolor\": \"white\", \"minorgridcolor\": \"white\", \"startlinecolor\": \"#2a3f5f\"}, \"type\": \"carpet\"}], \"choropleth\": [{\"colorbar\": {\"outlinewidth\": 0, \"ticks\": \"\"}, \"type\": \"choropleth\"}], \"contour\": [{\"colorbar\": {\"outlinewidth\": 0, \"ticks\": \"\"}, \"colorscale\": [[0.0, \"#0d0887\"], [0.1111111111111111, \"#46039f\"], [0.2222222222222222, \"#7201a8\"], [0.3333333333333333, \"#9c179e\"], [0.4444444444444444, \"#bd3786\"], [0.5555555555555556, \"#d8576b\"], [0.6666666666666666, \"#ed7953\"], [0.7777777777777778, \"#fb9f3a\"], [0.8888888888888888, \"#fdca26\"], [1.0, \"#f0f921\"]], \"type\": \"contour\"}], \"contourcarpet\": [{\"colorbar\": {\"outlinewidth\": 0, \"ticks\": \"\"}, \"type\": \"contourcarpet\"}], \"heatmap\": [{\"colorbar\": {\"outlinewidth\": 0, \"ticks\": \"\"}, \"colorscale\": [[0.0, \"#0d0887\"], [0.1111111111111111, \"#46039f\"], [0.2222222222222222, \"#7201a8\"], [0.3333333333333333, \"#9c179e\"], [0.4444444444444444, \"#bd3786\"], [0.5555555555555556, \"#d8576b\"], [0.6666666666666666, \"#ed7953\"], [0.7777777777777778, \"#fb9f3a\"], [0.8888888888888888, \"#fdca26\"], [1.0, \"#f0f921\"]], \"type\": \"heatmap\"}], \"heatmapgl\": [{\"colorbar\": {\"outlinewidth\": 0, \"ticks\": \"\"}, \"colorscale\": [[0.0, \"#0d0887\"], [0.1111111111111111, \"#46039f\"], [0.2222222222222222, \"#7201a8\"], [0.3333333333333333, \"#9c179e\"], [0.4444444444444444, \"#bd3786\"], [0.5555555555555556, \"#d8576b\"], [0.6666666666666666, \"#ed7953\"], [0.7777777777777778, \"#fb9f3a\"], [0.8888888888888888, \"#fdca26\"], [1.0, \"#f0f921\"]], \"type\": \"heatmapgl\"}], \"histogram\": [{\"marker\": {\"colorbar\": {\"outlinewidth\": 0, \"ticks\": \"\"}}, \"type\": \"histogram\"}], \"histogram2d\": [{\"colorbar\": {\"outlinewidth\": 0, \"ticks\": \"\"}, \"colorscale\": [[0.0, \"#0d0887\"], [0.1111111111111111, \"#46039f\"], [0.2222222222222222, \"#7201a8\"], [0.3333333333333333, \"#9c179e\"], [0.4444444444444444, \"#bd3786\"], [0.5555555555555556, \"#d8576b\"], [0.6666666666666666, \"#ed7953\"], [0.7777777777777778, \"#fb9f3a\"], [0.8888888888888888, \"#fdca26\"], [1.0, \"#f0f921\"]], \"type\": \"histogram2d\"}], \"histogram2dcontour\": [{\"colorbar\": {\"outlinewidth\": 0, \"ticks\": \"\"}, \"colorscale\": [[0.0, \"#0d0887\"], [0.1111111111111111, \"#46039f\"], [0.2222222222222222, \"#7201a8\"], [0.3333333333333333, \"#9c179e\"], [0.4444444444444444, \"#bd3786\"], [0.5555555555555556, \"#d8576b\"], [0.6666666666666666, \"#ed7953\"], [0.7777777777777778, \"#fb9f3a\"], [0.8888888888888888, \"#fdca26\"], [1.0, \"#f0f921\"]], \"type\": \"histogram2dcontour\"}], \"mesh3d\": [{\"colorbar\": {\"outlinewidth\": 0, \"ticks\": \"\"}, \"type\": \"mesh3d\"}], \"parcoords\": [{\"line\": {\"colorbar\": {\"outlinewidth\": 0, \"ticks\": \"\"}}, \"type\": \"parcoords\"}], \"pie\": [{\"automargin\": true, \"type\": \"pie\"}], \"scatter\": [{\"marker\": {\"colorbar\": {\"outlinewidth\": 0, \"ticks\": \"\"}}, \"type\": \"scatter\"}], \"scatter3d\": [{\"line\": {\"colorbar\": {\"outlinewidth\": 0, \"ticks\": \"\"}}, \"marker\": {\"colorbar\": {\"outlinewidth\": 0, \"ticks\": \"\"}}, \"type\": \"scatter3d\"}], \"scattercarpet\": [{\"marker\": {\"colorbar\": {\"outlinewidth\": 0, \"ticks\": \"\"}}, \"type\": \"scattercarpet\"}], \"scattergeo\": [{\"marker\": {\"colorbar\": {\"outlinewidth\": 0, \"ticks\": \"\"}}, \"type\": \"scattergeo\"}], \"scattergl\": [{\"marker\": {\"colorbar\": {\"outlinewidth\": 0, \"ticks\": \"\"}}, \"type\": \"scattergl\"}], \"scattermapbox\": [{\"marker\": {\"colorbar\": {\"outlinewidth\": 0, \"ticks\": \"\"}}, \"type\": \"scattermapbox\"}], \"scatterpolar\": [{\"marker\": {\"colorbar\": {\"outlinewidth\": 0, \"ticks\": \"\"}}, \"type\": \"scatterpolar\"}], \"scatterpolargl\": [{\"marker\": {\"colorbar\": {\"outlinewidth\": 0, \"ticks\": \"\"}}, \"type\": \"scatterpolargl\"}], \"scatterternary\": [{\"marker\": {\"colorbar\": {\"outlinewidth\": 0, \"ticks\": \"\"}}, \"type\": \"scatterternary\"}], \"surface\": [{\"colorbar\": {\"outlinewidth\": 0, \"ticks\": \"\"}, \"colorscale\": [[0.0, \"#0d0887\"], [0.1111111111111111, \"#46039f\"], [0.2222222222222222, \"#7201a8\"], [0.3333333333333333, \"#9c179e\"], [0.4444444444444444, \"#bd3786\"], [0.5555555555555556, \"#d8576b\"], [0.6666666666666666, \"#ed7953\"], [0.7777777777777778, \"#fb9f3a\"], [0.8888888888888888, \"#fdca26\"], [1.0, \"#f0f921\"]], \"type\": \"surface\"}], \"table\": [{\"cells\": {\"fill\": {\"color\": \"#EBF0F8\"}, \"line\": {\"color\": \"white\"}}, \"header\": {\"fill\": {\"color\": \"#C8D4E3\"}, \"line\": {\"color\": \"white\"}}, \"type\": \"table\"}]}, \"layout\": {\"annotationdefaults\": {\"arrowcolor\": \"#2a3f5f\", \"arrowhead\": 0, \"arrowwidth\": 1}, \"coloraxis\": {\"colorbar\": {\"outlinewidth\": 0, \"ticks\": \"\"}}, \"colorscale\": {\"diverging\": [[0, \"#8e0152\"], [0.1, \"#c51b7d\"], [0.2, \"#de77ae\"], [0.3, \"#f1b6da\"], [0.4, \"#fde0ef\"], [0.5, \"#f7f7f7\"], [0.6, \"#e6f5d0\"], [0.7, \"#b8e186\"], [0.8, \"#7fbc41\"], [0.9, \"#4d9221\"], [1, \"#276419\"]], \"sequential\": [[0.0, \"#0d0887\"], [0.1111111111111111, \"#46039f\"], [0.2222222222222222, \"#7201a8\"], [0.3333333333333333, \"#9c179e\"], [0.4444444444444444, \"#bd3786\"], [0.5555555555555556, \"#d8576b\"], [0.6666666666666666, \"#ed7953\"], [0.7777777777777778, \"#fb9f3a\"], [0.8888888888888888, \"#fdca26\"], [1.0, \"#f0f921\"]], \"sequentialminus\": [[0.0, \"#0d0887\"], [0.1111111111111111, \"#46039f\"], [0.2222222222222222, \"#7201a8\"], [0.3333333333333333, \"#9c179e\"], [0.4444444444444444, \"#bd3786\"], [0.5555555555555556, \"#d8576b\"], [0.6666666666666666, \"#ed7953\"], [0.7777777777777778, \"#fb9f3a\"], [0.8888888888888888, \"#fdca26\"], [1.0, \"#f0f921\"]]}, \"colorway\": [\"#636efa\", \"#EF553B\", \"#00cc96\", \"#ab63fa\", \"#FFA15A\", \"#19d3f3\", \"#FF6692\", \"#B6E880\", \"#FF97FF\", \"#FECB52\"], \"font\": {\"color\": \"#2a3f5f\"}, \"geo\": {\"bgcolor\": \"white\", \"lakecolor\": \"white\", \"landcolor\": \"#E5ECF6\", \"showlakes\": true, \"showland\": true, \"subunitcolor\": \"white\"}, \"hoverlabel\": {\"align\": \"left\"}, \"hovermode\": \"closest\", \"mapbox\": {\"style\": \"light\"}, \"paper_bgcolor\": \"white\", \"plot_bgcolor\": \"#E5ECF6\", \"polar\": {\"angularaxis\": {\"gridcolor\": \"white\", \"linecolor\": \"white\", \"ticks\": \"\"}, \"bgcolor\": \"#E5ECF6\", \"radialaxis\": {\"gridcolor\": \"white\", \"linecolor\": \"white\", \"ticks\": \"\"}}, \"scene\": {\"xaxis\": {\"backgroundcolor\": \"#E5ECF6\", \"gridcolor\": \"white\", \"gridwidth\": 2, \"linecolor\": \"white\", \"showbackground\": true, \"ticks\": \"\", \"zerolinecolor\": \"white\"}, \"yaxis\": {\"backgroundcolor\": \"#E5ECF6\", \"gridcolor\": \"white\", \"gridwidth\": 2, \"linecolor\": \"white\", \"showbackground\": true, \"ticks\": \"\", \"zerolinecolor\": \"white\"}, \"zaxis\": {\"backgroundcolor\": \"#E5ECF6\", \"gridcolor\": \"white\", \"gridwidth\": 2, \"linecolor\": \"white\", \"showbackground\": true, \"ticks\": \"\", \"zerolinecolor\": \"white\"}}, \"shapedefaults\": {\"line\": {\"color\": \"#2a3f5f\"}}, \"ternary\": {\"aaxis\": {\"gridcolor\": \"white\", \"linecolor\": \"white\", \"ticks\": \"\"}, \"baxis\": {\"gridcolor\": \"white\", \"linecolor\": \"white\", \"ticks\": \"\"}, \"bgcolor\": \"#E5ECF6\", \"caxis\": {\"gridcolor\": \"white\", \"linecolor\": \"white\", \"ticks\": \"\"}}, \"title\": {\"x\": 0.05}, \"xaxis\": {\"automargin\": true, \"gridcolor\": \"white\", \"linecolor\": \"white\", \"ticks\": \"\", \"title\": {\"standoff\": 15}, \"zerolinecolor\": \"white\", \"zerolinewidth\": 2}, \"yaxis\": {\"automargin\": true, \"gridcolor\": \"white\", \"linecolor\": \"white\", \"ticks\": \"\", \"title\": {\"standoff\": 15}, \"zerolinecolor\": \"white\", \"zerolinewidth\": 2}}}, \"width\": 1000, \"xaxis\": {\"tickmode\": \"array\", \"ticktext\": [\"United States of America\", \"India\", \"South Korea\", \"Canada\", \"Serbia\", \"United Kingdom\", \"Austria\", \"Germany\", \"France\", \"New Zealand\", \"Japan\", \"Ireland\", \"Italy\", \"Israel\", \"Belgium\", \"Czech Republic\", \"China\", \"Brazil\", \"Argentina\", \"Chile\", \"Peru\", \"Hong Kong\", \"Russia\", \"Spain\", \"Turkey\", \"Australia\", \"Sweden\", \"Luxembourg\", \"South Africa\", \"Switzerland\", \"Iran\", \"Morocco\", \"Netherlands\", \"Philippines\", \"Iceland\", \"Denmark\", \"Taiwan\", \"Mongolia\", \"Hungary\", \"Mexico\", \"Romania\", \"Greece\", \"United Arab Emirates\", \"Puerto Rico\", \"Finland\", \"Cambodia\", \"Norway\", \"Poland\", \"Malta\", \"Namibia\", \"Bosnia and Herzegovina\", \"Serbia and Montenegro\", \"Pakistan\", \"Algeria\", \"Ethiopia\", \"Qatar\", \"Tunisia\", \"Portugal\", \"Bulgaria\", \"Slovenia\", \"Ukraine\", \"Saudi Arabia\", \"Jordan\", \"Croatia\", \"Singapore\", \"Cyprus\", \"Uruguay\", \"Paraguay\", \"Mauritania\", \"Costa Rica\", \"Bahamas\", \"Burkina Faso\", \"Ghana\", \"Indonesia\"], \"tickvals\": [0, 1, 2, 3, 4, 5, 6, 7, 8, 9, 10, 11, 12, 13, 14, 15, 16, 17, 18, 19, 20, 21, 22, 23, 24, 25, 26, 27, 28, 29, 30, 31, 32, 33, 34, 35, 36, 37, 38, 39, 40, 41, 42, 43, 44, 45, 46, 47, 48, 49, 50, 51, 52, 53, 54, 55, 56, 57, 58, 59, 60, 61, 62, 63, 64, 65, 66, 67, 68, 69, 70, 71, 72, 73]}},\n",
              "                        {\"responsive\": true}\n",
              "                    ).then(function(){\n",
              "                            \n",
              "var gd = document.getElementById('f6534ecf-cba2-4c7e-9574-39d370324b72');\n",
              "var x = new MutationObserver(function (mutations, observer) {{\n",
              "        var display = window.getComputedStyle(gd).display;\n",
              "        if (!display || display === 'none') {{\n",
              "            console.log([gd, 'removed!']);\n",
              "            Plotly.purge(gd);\n",
              "            observer.disconnect();\n",
              "        }}\n",
              "}});\n",
              "\n",
              "// Listen for the removal of the full notebook cells\n",
              "var notebookContainer = gd.closest('#notebook-container');\n",
              "if (notebookContainer) {{\n",
              "    x.observe(notebookContainer, {childList: true});\n",
              "}}\n",
              "\n",
              "// Listen for the clearing of the current output cell\n",
              "var outputEl = gd.closest('.output');\n",
              "if (outputEl) {{\n",
              "    x.observe(outputEl, {childList: true});\n",
              "}}\n",
              "\n",
              "                        })\n",
              "                };\n",
              "                \n",
              "            </script>\n",
              "        </div>\n",
              "</body>\n",
              "</html>"
            ]
          },
          "metadata": {
            "tags": []
          }
        }
      ]
    },
    {
      "cell_type": "code",
      "metadata": {
        "id": "dtNbT66nsJxG",
        "colab_type": "code",
        "outputId": "13aa66d0-33f4-46b2-e4f6-7b9320b63cd0",
        "colab": {
          "base_uri": "https://localhost:8080/",
          "height": 542
        }
      },
      "source": [
        "year = df_train['release_year']\n",
        "revenue = df_train.groupby('release_year')[\"revenue\"].aggregate('mean')\n",
        "data = go.Scatter(x=revenue.index, y=revenue.values,\n",
        "                    mode='lines',\n",
        "                    name='lines')\n",
        "fig = go.Figure(data)\n",
        "fig.update_layout(title = 'Year Vs Average Revenue',\n",
        "                  xaxis_title = 'Year',\n",
        "                  yaxis_title = 'Average Revenue')"
      ],
      "execution_count": 64,
      "outputs": [
        {
          "output_type": "display_data",
          "data": {
            "text/html": [
              "<html>\n",
              "<head><meta charset=\"utf-8\" /></head>\n",
              "<body>\n",
              "    <div>\n",
              "            <script src=\"https://cdnjs.cloudflare.com/ajax/libs/mathjax/2.7.5/MathJax.js?config=TeX-AMS-MML_SVG\"></script><script type=\"text/javascript\">if (window.MathJax) {MathJax.Hub.Config({SVG: {font: \"STIX-Web\"}});}</script>\n",
              "                <script type=\"text/javascript\">window.PlotlyConfig = {MathJaxConfig: 'local'};</script>\n",
              "        <script src=\"https://cdn.plot.ly/plotly-latest.min.js\"></script>    \n",
              "            <div id=\"e2ff584d-61c2-4f78-a793-dad957f488f0\" class=\"plotly-graph-div\" style=\"height:525px; width:100%;\"></div>\n",
              "            <script type=\"text/javascript\">\n",
              "                \n",
              "                    window.PLOTLYENV=window.PLOTLYENV || {};\n",
              "                    \n",
              "                if (document.getElementById(\"e2ff584d-61c2-4f78-a793-dad957f488f0\")) {\n",
              "                    Plotly.newPlot(\n",
              "                        'e2ff584d-61c2-4f78-a793-dad957f488f0',\n",
              "                        [{\"mode\": \"lines\", \"name\": \"lines\", \"type\": \"scatter\", \"x\": [1921, 1924, 1925, 1926, 1927, 1928, 1930, 1931, 1932, 1933, 1935, 1936, 1938, 1939, 1940, 1942, 1943, 1944, 1945, 1947, 1948, 1949, 1950, 1951, 1952, 1953, 1954, 1955, 1956, 1957, 1958, 1959, 1960, 1961, 1962, 1963, 1964, 1965, 1966, 1967, 1968, 1969, 1970, 1971, 1972, 1973, 1974, 1975, 1976, 1977, 1978, 1979, 1980, 1981, 1982, 1983, 1984, 1985, 1986, 1987, 1988, 1989, 1990, 1991, 1992, 1993, 1994, 1995, 1996, 1997, 1998, 1999, 2000, 2001, 2002, 2003, 2004, 2005, 2006, 2007, 2008, 2009, 2010, 2011, 2012, 2013, 2014, 2015, 2016, 2017], \"y\": [2500000.0, 1213880.0, 22550.5, 966878.0, 513939.0, 505699.0, 7940.0, 1619594.5, 1064675.0, 2730000.0, 3202000.0, 3963750.0, 4000000.0, 3813189.25, 8500000.0, 6277833.333333333, 1403312.0, 10831500.0, 11095096.5, 3976480.5, 3199070.0, 1910674.5, 2531731.5, 13262500.0, 55240.0, 27601608.5, 12319052.166666666, 16304942.142857144, 39125000.0, 13716666.666666666, 2754468.0, 39555000.0, 15477625.0, 12175000.0, 15365969.2, 28176327.2, 33074091.5, 43333966.0, 13745140.57142857, 34926743.125, 19426920.57142857, 27149565.833333332, 33205109.0, 34590300.5, 40858459.25, 64478276.777777776, 59100273.8, 90480379.5, 73975522.28571428, 53852695.54545455, 28297054.214285713, 55890483.0, 33488285.333333332, 35290624.115384616, 37567311.84, 17989490.666666668, 38923502.96666667, 31919346.35714286, 37631510.63636363, 37036388.35555556, 32652847.94642857, 64853240.4680851, 56953814.32608695, 26877768.42857143, 58171863.222222224, 54739480.01785714, 49907761.74509804, 74985827.09677419, 56528037.90909091, 65063157.634920634, 53807773.31818182, 77762278.52307692, 63458221.81538462, 75487105.76623377, 87773835.64285715, 78921195.14864865, 80308074.68674698, 81908092.21212122, 62558651.46491228, 76678425.56190476, 80945077.79207921, 77398362.5471698, 62342207.03174603, 72719445.67741935, 86166013.776, 72400505.964539, 76690081.33333333, 103854185.984375, 74784999.56, 181403935.1]}],\n",
              "                        {\"template\": {\"data\": {\"bar\": [{\"error_x\": {\"color\": \"#2a3f5f\"}, \"error_y\": {\"color\": \"#2a3f5f\"}, \"marker\": {\"line\": {\"color\": \"#E5ECF6\", \"width\": 0.5}}, \"type\": \"bar\"}], \"barpolar\": [{\"marker\": {\"line\": {\"color\": \"#E5ECF6\", \"width\": 0.5}}, \"type\": \"barpolar\"}], \"carpet\": [{\"aaxis\": {\"endlinecolor\": \"#2a3f5f\", \"gridcolor\": \"white\", \"linecolor\": \"white\", \"minorgridcolor\": \"white\", \"startlinecolor\": \"#2a3f5f\"}, \"baxis\": {\"endlinecolor\": \"#2a3f5f\", \"gridcolor\": \"white\", \"linecolor\": \"white\", \"minorgridcolor\": \"white\", \"startlinecolor\": \"#2a3f5f\"}, \"type\": \"carpet\"}], \"choropleth\": [{\"colorbar\": {\"outlinewidth\": 0, \"ticks\": \"\"}, \"type\": \"choropleth\"}], \"contour\": [{\"colorbar\": {\"outlinewidth\": 0, \"ticks\": \"\"}, \"colorscale\": [[0.0, \"#0d0887\"], [0.1111111111111111, \"#46039f\"], [0.2222222222222222, \"#7201a8\"], [0.3333333333333333, \"#9c179e\"], [0.4444444444444444, \"#bd3786\"], [0.5555555555555556, \"#d8576b\"], [0.6666666666666666, \"#ed7953\"], [0.7777777777777778, \"#fb9f3a\"], [0.8888888888888888, \"#fdca26\"], [1.0, \"#f0f921\"]], \"type\": \"contour\"}], \"contourcarpet\": [{\"colorbar\": {\"outlinewidth\": 0, \"ticks\": \"\"}, \"type\": \"contourcarpet\"}], \"heatmap\": [{\"colorbar\": {\"outlinewidth\": 0, \"ticks\": \"\"}, \"colorscale\": [[0.0, \"#0d0887\"], [0.1111111111111111, \"#46039f\"], [0.2222222222222222, \"#7201a8\"], [0.3333333333333333, \"#9c179e\"], [0.4444444444444444, \"#bd3786\"], [0.5555555555555556, \"#d8576b\"], [0.6666666666666666, \"#ed7953\"], [0.7777777777777778, \"#fb9f3a\"], [0.8888888888888888, \"#fdca26\"], [1.0, \"#f0f921\"]], \"type\": \"heatmap\"}], \"heatmapgl\": [{\"colorbar\": {\"outlinewidth\": 0, \"ticks\": \"\"}, \"colorscale\": [[0.0, \"#0d0887\"], [0.1111111111111111, \"#46039f\"], [0.2222222222222222, \"#7201a8\"], [0.3333333333333333, \"#9c179e\"], [0.4444444444444444, \"#bd3786\"], [0.5555555555555556, \"#d8576b\"], [0.6666666666666666, \"#ed7953\"], [0.7777777777777778, \"#fb9f3a\"], [0.8888888888888888, \"#fdca26\"], [1.0, \"#f0f921\"]], \"type\": \"heatmapgl\"}], \"histogram\": [{\"marker\": {\"colorbar\": {\"outlinewidth\": 0, \"ticks\": \"\"}}, \"type\": \"histogram\"}], \"histogram2d\": [{\"colorbar\": {\"outlinewidth\": 0, \"ticks\": \"\"}, \"colorscale\": [[0.0, \"#0d0887\"], [0.1111111111111111, \"#46039f\"], [0.2222222222222222, \"#7201a8\"], [0.3333333333333333, \"#9c179e\"], [0.4444444444444444, \"#bd3786\"], [0.5555555555555556, \"#d8576b\"], [0.6666666666666666, \"#ed7953\"], [0.7777777777777778, \"#fb9f3a\"], [0.8888888888888888, \"#fdca26\"], [1.0, \"#f0f921\"]], \"type\": \"histogram2d\"}], \"histogram2dcontour\": [{\"colorbar\": {\"outlinewidth\": 0, \"ticks\": \"\"}, \"colorscale\": [[0.0, \"#0d0887\"], [0.1111111111111111, \"#46039f\"], [0.2222222222222222, \"#7201a8\"], [0.3333333333333333, \"#9c179e\"], [0.4444444444444444, \"#bd3786\"], [0.5555555555555556, \"#d8576b\"], [0.6666666666666666, \"#ed7953\"], [0.7777777777777778, \"#fb9f3a\"], [0.8888888888888888, \"#fdca26\"], [1.0, \"#f0f921\"]], \"type\": \"histogram2dcontour\"}], \"mesh3d\": [{\"colorbar\": {\"outlinewidth\": 0, \"ticks\": \"\"}, \"type\": \"mesh3d\"}], \"parcoords\": [{\"line\": {\"colorbar\": {\"outlinewidth\": 0, \"ticks\": \"\"}}, \"type\": \"parcoords\"}], \"pie\": [{\"automargin\": true, \"type\": \"pie\"}], \"scatter\": [{\"marker\": {\"colorbar\": {\"outlinewidth\": 0, \"ticks\": \"\"}}, \"type\": \"scatter\"}], \"scatter3d\": [{\"line\": {\"colorbar\": {\"outlinewidth\": 0, \"ticks\": \"\"}}, \"marker\": {\"colorbar\": {\"outlinewidth\": 0, \"ticks\": \"\"}}, \"type\": \"scatter3d\"}], \"scattercarpet\": [{\"marker\": {\"colorbar\": {\"outlinewidth\": 0, \"ticks\": \"\"}}, \"type\": \"scattercarpet\"}], \"scattergeo\": [{\"marker\": {\"colorbar\": {\"outlinewidth\": 0, \"ticks\": \"\"}}, \"type\": \"scattergeo\"}], \"scattergl\": [{\"marker\": {\"colorbar\": {\"outlinewidth\": 0, \"ticks\": \"\"}}, \"type\": \"scattergl\"}], \"scattermapbox\": [{\"marker\": {\"colorbar\": {\"outlinewidth\": 0, \"ticks\": \"\"}}, \"type\": \"scattermapbox\"}], \"scatterpolar\": [{\"marker\": {\"colorbar\": {\"outlinewidth\": 0, \"ticks\": \"\"}}, \"type\": \"scatterpolar\"}], \"scatterpolargl\": [{\"marker\": {\"colorbar\": {\"outlinewidth\": 0, \"ticks\": \"\"}}, \"type\": \"scatterpolargl\"}], \"scatterternary\": [{\"marker\": {\"colorbar\": {\"outlinewidth\": 0, \"ticks\": \"\"}}, \"type\": \"scatterternary\"}], \"surface\": [{\"colorbar\": {\"outlinewidth\": 0, \"ticks\": \"\"}, \"colorscale\": [[0.0, \"#0d0887\"], [0.1111111111111111, \"#46039f\"], [0.2222222222222222, \"#7201a8\"], [0.3333333333333333, \"#9c179e\"], [0.4444444444444444, \"#bd3786\"], [0.5555555555555556, \"#d8576b\"], [0.6666666666666666, \"#ed7953\"], [0.7777777777777778, \"#fb9f3a\"], [0.8888888888888888, \"#fdca26\"], [1.0, \"#f0f921\"]], \"type\": \"surface\"}], \"table\": [{\"cells\": {\"fill\": {\"color\": \"#EBF0F8\"}, \"line\": {\"color\": \"white\"}}, \"header\": {\"fill\": {\"color\": \"#C8D4E3\"}, \"line\": {\"color\": \"white\"}}, \"type\": \"table\"}]}, \"layout\": {\"annotationdefaults\": {\"arrowcolor\": \"#2a3f5f\", \"arrowhead\": 0, \"arrowwidth\": 1}, \"coloraxis\": {\"colorbar\": {\"outlinewidth\": 0, \"ticks\": \"\"}}, \"colorscale\": {\"diverging\": [[0, \"#8e0152\"], [0.1, \"#c51b7d\"], [0.2, \"#de77ae\"], [0.3, \"#f1b6da\"], [0.4, \"#fde0ef\"], [0.5, \"#f7f7f7\"], [0.6, \"#e6f5d0\"], [0.7, \"#b8e186\"], [0.8, \"#7fbc41\"], [0.9, \"#4d9221\"], [1, \"#276419\"]], \"sequential\": [[0.0, \"#0d0887\"], [0.1111111111111111, \"#46039f\"], [0.2222222222222222, \"#7201a8\"], [0.3333333333333333, \"#9c179e\"], [0.4444444444444444, \"#bd3786\"], [0.5555555555555556, \"#d8576b\"], [0.6666666666666666, \"#ed7953\"], [0.7777777777777778, \"#fb9f3a\"], [0.8888888888888888, \"#fdca26\"], [1.0, \"#f0f921\"]], \"sequentialminus\": [[0.0, \"#0d0887\"], [0.1111111111111111, \"#46039f\"], [0.2222222222222222, \"#7201a8\"], [0.3333333333333333, \"#9c179e\"], [0.4444444444444444, \"#bd3786\"], [0.5555555555555556, \"#d8576b\"], [0.6666666666666666, \"#ed7953\"], [0.7777777777777778, \"#fb9f3a\"], [0.8888888888888888, \"#fdca26\"], [1.0, \"#f0f921\"]]}, \"colorway\": [\"#636efa\", \"#EF553B\", \"#00cc96\", \"#ab63fa\", \"#FFA15A\", \"#19d3f3\", \"#FF6692\", \"#B6E880\", \"#FF97FF\", \"#FECB52\"], \"font\": {\"color\": \"#2a3f5f\"}, \"geo\": {\"bgcolor\": \"white\", \"lakecolor\": \"white\", \"landcolor\": \"#E5ECF6\", \"showlakes\": true, \"showland\": true, \"subunitcolor\": \"white\"}, \"hoverlabel\": {\"align\": \"left\"}, \"hovermode\": \"closest\", \"mapbox\": {\"style\": \"light\"}, \"paper_bgcolor\": \"white\", \"plot_bgcolor\": \"#E5ECF6\", \"polar\": {\"angularaxis\": {\"gridcolor\": \"white\", \"linecolor\": \"white\", \"ticks\": \"\"}, \"bgcolor\": \"#E5ECF6\", \"radialaxis\": {\"gridcolor\": \"white\", \"linecolor\": \"white\", \"ticks\": \"\"}}, \"scene\": {\"xaxis\": {\"backgroundcolor\": \"#E5ECF6\", \"gridcolor\": \"white\", \"gridwidth\": 2, \"linecolor\": \"white\", \"showbackground\": true, \"ticks\": \"\", \"zerolinecolor\": \"white\"}, \"yaxis\": {\"backgroundcolor\": \"#E5ECF6\", \"gridcolor\": \"white\", \"gridwidth\": 2, \"linecolor\": \"white\", \"showbackground\": true, \"ticks\": \"\", \"zerolinecolor\": \"white\"}, \"zaxis\": {\"backgroundcolor\": \"#E5ECF6\", \"gridcolor\": \"white\", \"gridwidth\": 2, \"linecolor\": \"white\", \"showbackground\": true, \"ticks\": \"\", \"zerolinecolor\": \"white\"}}, \"shapedefaults\": {\"line\": {\"color\": \"#2a3f5f\"}}, \"ternary\": {\"aaxis\": {\"gridcolor\": \"white\", \"linecolor\": \"white\", \"ticks\": \"\"}, \"baxis\": {\"gridcolor\": \"white\", \"linecolor\": \"white\", \"ticks\": \"\"}, \"bgcolor\": \"#E5ECF6\", \"caxis\": {\"gridcolor\": \"white\", \"linecolor\": \"white\", \"ticks\": \"\"}}, \"title\": {\"x\": 0.05}, \"xaxis\": {\"automargin\": true, \"gridcolor\": \"white\", \"linecolor\": \"white\", \"ticks\": \"\", \"title\": {\"standoff\": 15}, \"zerolinecolor\": \"white\", \"zerolinewidth\": 2}, \"yaxis\": {\"automargin\": true, \"gridcolor\": \"white\", \"linecolor\": \"white\", \"ticks\": \"\", \"title\": {\"standoff\": 15}, \"zerolinecolor\": \"white\", \"zerolinewidth\": 2}}}, \"title\": {\"text\": \"Year Vs Average Revenue\"}, \"xaxis\": {\"title\": {\"text\": \"Year\"}}, \"yaxis\": {\"title\": {\"text\": \"Average Revenue\"}}},\n",
              "                        {\"responsive\": true}\n",
              "                    ).then(function(){\n",
              "                            \n",
              "var gd = document.getElementById('e2ff584d-61c2-4f78-a793-dad957f488f0');\n",
              "var x = new MutationObserver(function (mutations, observer) {{\n",
              "        var display = window.getComputedStyle(gd).display;\n",
              "        if (!display || display === 'none') {{\n",
              "            console.log([gd, 'removed!']);\n",
              "            Plotly.purge(gd);\n",
              "            observer.disconnect();\n",
              "        }}\n",
              "}});\n",
              "\n",
              "// Listen for the removal of the full notebook cells\n",
              "var notebookContainer = gd.closest('#notebook-container');\n",
              "if (notebookContainer) {{\n",
              "    x.observe(notebookContainer, {childList: true});\n",
              "}}\n",
              "\n",
              "// Listen for the clearing of the current output cell\n",
              "var outputEl = gd.closest('.output');\n",
              "if (outputEl) {{\n",
              "    x.observe(outputEl, {childList: true});\n",
              "}}\n",
              "\n",
              "                        })\n",
              "                };\n",
              "                \n",
              "            </script>\n",
              "        </div>\n",
              "</body>\n",
              "</html>"
            ]
          },
          "metadata": {
            "tags": []
          }
        }
      ]
    },
    {
      "cell_type": "code",
      "metadata": {
        "id": "rBB1nuqG12yd",
        "colab_type": "code",
        "colab": {
          "base_uri": "https://localhost:8080/",
          "height": 542
        },
        "outputId": "27b7e93c-6eec-4b33-934b-c1e6850cec71"
      },
      "source": [
        "revenue = df_train.groupby('release_month')[\"revenue\"].aggregate('mean')\n",
        "data = go.Bar(x = months[np.array(revenue.index) - 1],\n",
        "              y = revenue.values,\n",
        "              marker = dict(color = 'rgba(255, 255, 0, 0.5)',\n",
        "                             line=dict(color='rgb(0,0,0)',width=1.5))\n",
        "              )\n",
        "fig.update_layout(title = 'Month Vs Average Revenue',\n",
        "                  xaxis_title = 'Month',\n",
        "                  yaxis_title = 'Average Revenue')\n",
        "fig = go.Figure(data = data)\n",
        "fig.show()"
      ],
      "execution_count": 79,
      "outputs": [
        {
          "output_type": "display_data",
          "data": {
            "text/html": [
              "<html>\n",
              "<head><meta charset=\"utf-8\" /></head>\n",
              "<body>\n",
              "    <div>\n",
              "            <script src=\"https://cdnjs.cloudflare.com/ajax/libs/mathjax/2.7.5/MathJax.js?config=TeX-AMS-MML_SVG\"></script><script type=\"text/javascript\">if (window.MathJax) {MathJax.Hub.Config({SVG: {font: \"STIX-Web\"}});}</script>\n",
              "                <script type=\"text/javascript\">window.PlotlyConfig = {MathJaxConfig: 'local'};</script>\n",
              "        <script src=\"https://cdn.plot.ly/plotly-latest.min.js\"></script>    \n",
              "            <div id=\"c34b11bb-edc7-438e-9bd6-933491fb3c81\" class=\"plotly-graph-div\" style=\"height:525px; width:100%;\"></div>\n",
              "            <script type=\"text/javascript\">\n",
              "                \n",
              "                    window.PLOTLYENV=window.PLOTLYENV || {};\n",
              "                    \n",
              "                if (document.getElementById(\"c34b11bb-edc7-438e-9bd6-933491fb3c81\")) {\n",
              "                    Plotly.newPlot(\n",
              "                        'c34b11bb-edc7-438e-9bd6-933491fb3c81',\n",
              "                        [{\"marker\": {\"color\": \"rgba(255, 255, 0, 0.5)\", \"line\": {\"color\": \"rgb(0,0,0)\", \"width\": 1.5}}, \"type\": \"bar\", \"x\": [\"Jan\", \"Feb\", \"Mar\", \"Apr\", \"May\", \"Jun\", \"Jul\", \"Aug\", \"Sep\", \"Oct\", \"Nov\", \"Dec\"], \"y\": [30706784.396226414, 57788894.473451324, 72241452.53361344, 58314160.81632653, 90487720.09821428, 127886388.24894515, 94040208.18181819, 41510704.6015625, 35824279.21823204, 42042643.07491857, 77024607.19004525, 96462381.08365019]}],\n",
              "                        {\"template\": {\"data\": {\"bar\": [{\"error_x\": {\"color\": \"#2a3f5f\"}, \"error_y\": {\"color\": \"#2a3f5f\"}, \"marker\": {\"line\": {\"color\": \"#E5ECF6\", \"width\": 0.5}}, \"type\": \"bar\"}], \"barpolar\": [{\"marker\": {\"line\": {\"color\": \"#E5ECF6\", \"width\": 0.5}}, \"type\": \"barpolar\"}], \"carpet\": [{\"aaxis\": {\"endlinecolor\": \"#2a3f5f\", \"gridcolor\": \"white\", \"linecolor\": \"white\", \"minorgridcolor\": \"white\", \"startlinecolor\": \"#2a3f5f\"}, \"baxis\": {\"endlinecolor\": \"#2a3f5f\", \"gridcolor\": \"white\", \"linecolor\": \"white\", \"minorgridcolor\": \"white\", \"startlinecolor\": \"#2a3f5f\"}, \"type\": \"carpet\"}], \"choropleth\": [{\"colorbar\": {\"outlinewidth\": 0, \"ticks\": \"\"}, \"type\": \"choropleth\"}], \"contour\": [{\"colorbar\": {\"outlinewidth\": 0, \"ticks\": \"\"}, \"colorscale\": [[0.0, \"#0d0887\"], [0.1111111111111111, \"#46039f\"], [0.2222222222222222, \"#7201a8\"], [0.3333333333333333, \"#9c179e\"], [0.4444444444444444, \"#bd3786\"], [0.5555555555555556, \"#d8576b\"], [0.6666666666666666, \"#ed7953\"], [0.7777777777777778, \"#fb9f3a\"], [0.8888888888888888, \"#fdca26\"], [1.0, \"#f0f921\"]], \"type\": \"contour\"}], \"contourcarpet\": [{\"colorbar\": {\"outlinewidth\": 0, \"ticks\": \"\"}, \"type\": \"contourcarpet\"}], \"heatmap\": [{\"colorbar\": {\"outlinewidth\": 0, \"ticks\": \"\"}, \"colorscale\": [[0.0, \"#0d0887\"], [0.1111111111111111, \"#46039f\"], [0.2222222222222222, \"#7201a8\"], [0.3333333333333333, \"#9c179e\"], [0.4444444444444444, \"#bd3786\"], [0.5555555555555556, \"#d8576b\"], [0.6666666666666666, \"#ed7953\"], [0.7777777777777778, \"#fb9f3a\"], [0.8888888888888888, \"#fdca26\"], [1.0, \"#f0f921\"]], \"type\": \"heatmap\"}], \"heatmapgl\": [{\"colorbar\": {\"outlinewidth\": 0, \"ticks\": \"\"}, \"colorscale\": [[0.0, \"#0d0887\"], [0.1111111111111111, \"#46039f\"], [0.2222222222222222, \"#7201a8\"], [0.3333333333333333, \"#9c179e\"], [0.4444444444444444, \"#bd3786\"], [0.5555555555555556, \"#d8576b\"], [0.6666666666666666, \"#ed7953\"], [0.7777777777777778, \"#fb9f3a\"], [0.8888888888888888, \"#fdca26\"], [1.0, \"#f0f921\"]], \"type\": \"heatmapgl\"}], \"histogram\": [{\"marker\": {\"colorbar\": {\"outlinewidth\": 0, \"ticks\": \"\"}}, \"type\": \"histogram\"}], \"histogram2d\": [{\"colorbar\": {\"outlinewidth\": 0, \"ticks\": \"\"}, \"colorscale\": [[0.0, \"#0d0887\"], [0.1111111111111111, \"#46039f\"], [0.2222222222222222, \"#7201a8\"], [0.3333333333333333, \"#9c179e\"], [0.4444444444444444, \"#bd3786\"], [0.5555555555555556, \"#d8576b\"], [0.6666666666666666, \"#ed7953\"], [0.7777777777777778, \"#fb9f3a\"], [0.8888888888888888, \"#fdca26\"], [1.0, \"#f0f921\"]], \"type\": \"histogram2d\"}], \"histogram2dcontour\": [{\"colorbar\": {\"outlinewidth\": 0, \"ticks\": \"\"}, \"colorscale\": [[0.0, \"#0d0887\"], [0.1111111111111111, \"#46039f\"], [0.2222222222222222, \"#7201a8\"], [0.3333333333333333, \"#9c179e\"], [0.4444444444444444, \"#bd3786\"], [0.5555555555555556, \"#d8576b\"], [0.6666666666666666, \"#ed7953\"], [0.7777777777777778, \"#fb9f3a\"], [0.8888888888888888, \"#fdca26\"], [1.0, \"#f0f921\"]], \"type\": \"histogram2dcontour\"}], \"mesh3d\": [{\"colorbar\": {\"outlinewidth\": 0, \"ticks\": \"\"}, \"type\": \"mesh3d\"}], \"parcoords\": [{\"line\": {\"colorbar\": {\"outlinewidth\": 0, \"ticks\": \"\"}}, \"type\": \"parcoords\"}], \"pie\": [{\"automargin\": true, \"type\": \"pie\"}], \"scatter\": [{\"marker\": {\"colorbar\": {\"outlinewidth\": 0, \"ticks\": \"\"}}, \"type\": \"scatter\"}], \"scatter3d\": [{\"line\": {\"colorbar\": {\"outlinewidth\": 0, \"ticks\": \"\"}}, \"marker\": {\"colorbar\": {\"outlinewidth\": 0, \"ticks\": \"\"}}, \"type\": \"scatter3d\"}], \"scattercarpet\": [{\"marker\": {\"colorbar\": {\"outlinewidth\": 0, \"ticks\": \"\"}}, \"type\": \"scattercarpet\"}], \"scattergeo\": [{\"marker\": {\"colorbar\": {\"outlinewidth\": 0, \"ticks\": \"\"}}, \"type\": \"scattergeo\"}], \"scattergl\": [{\"marker\": {\"colorbar\": {\"outlinewidth\": 0, \"ticks\": \"\"}}, \"type\": \"scattergl\"}], \"scattermapbox\": [{\"marker\": {\"colorbar\": {\"outlinewidth\": 0, \"ticks\": \"\"}}, \"type\": \"scattermapbox\"}], \"scatterpolar\": [{\"marker\": {\"colorbar\": {\"outlinewidth\": 0, \"ticks\": \"\"}}, \"type\": \"scatterpolar\"}], \"scatterpolargl\": [{\"marker\": {\"colorbar\": {\"outlinewidth\": 0, \"ticks\": \"\"}}, \"type\": \"scatterpolargl\"}], \"scatterternary\": [{\"marker\": {\"colorbar\": {\"outlinewidth\": 0, \"ticks\": \"\"}}, \"type\": \"scatterternary\"}], \"surface\": [{\"colorbar\": {\"outlinewidth\": 0, \"ticks\": \"\"}, \"colorscale\": [[0.0, \"#0d0887\"], [0.1111111111111111, \"#46039f\"], [0.2222222222222222, \"#7201a8\"], [0.3333333333333333, \"#9c179e\"], [0.4444444444444444, \"#bd3786\"], [0.5555555555555556, \"#d8576b\"], [0.6666666666666666, \"#ed7953\"], [0.7777777777777778, \"#fb9f3a\"], [0.8888888888888888, \"#fdca26\"], [1.0, \"#f0f921\"]], \"type\": \"surface\"}], \"table\": [{\"cells\": {\"fill\": {\"color\": \"#EBF0F8\"}, \"line\": {\"color\": \"white\"}}, \"header\": {\"fill\": {\"color\": \"#C8D4E3\"}, \"line\": {\"color\": \"white\"}}, \"type\": \"table\"}]}, \"layout\": {\"annotationdefaults\": {\"arrowcolor\": \"#2a3f5f\", \"arrowhead\": 0, \"arrowwidth\": 1}, \"coloraxis\": {\"colorbar\": {\"outlinewidth\": 0, \"ticks\": \"\"}}, \"colorscale\": {\"diverging\": [[0, \"#8e0152\"], [0.1, \"#c51b7d\"], [0.2, \"#de77ae\"], [0.3, \"#f1b6da\"], [0.4, \"#fde0ef\"], [0.5, \"#f7f7f7\"], [0.6, \"#e6f5d0\"], [0.7, \"#b8e186\"], [0.8, \"#7fbc41\"], [0.9, \"#4d9221\"], [1, \"#276419\"]], \"sequential\": [[0.0, \"#0d0887\"], [0.1111111111111111, \"#46039f\"], [0.2222222222222222, \"#7201a8\"], [0.3333333333333333, \"#9c179e\"], [0.4444444444444444, \"#bd3786\"], [0.5555555555555556, \"#d8576b\"], [0.6666666666666666, \"#ed7953\"], [0.7777777777777778, \"#fb9f3a\"], [0.8888888888888888, \"#fdca26\"], [1.0, \"#f0f921\"]], \"sequentialminus\": [[0.0, \"#0d0887\"], [0.1111111111111111, \"#46039f\"], [0.2222222222222222, \"#7201a8\"], [0.3333333333333333, \"#9c179e\"], [0.4444444444444444, \"#bd3786\"], [0.5555555555555556, \"#d8576b\"], [0.6666666666666666, \"#ed7953\"], [0.7777777777777778, \"#fb9f3a\"], [0.8888888888888888, \"#fdca26\"], [1.0, \"#f0f921\"]]}, \"colorway\": [\"#636efa\", \"#EF553B\", \"#00cc96\", \"#ab63fa\", \"#FFA15A\", \"#19d3f3\", \"#FF6692\", \"#B6E880\", \"#FF97FF\", \"#FECB52\"], \"font\": {\"color\": \"#2a3f5f\"}, \"geo\": {\"bgcolor\": \"white\", \"lakecolor\": \"white\", \"landcolor\": \"#E5ECF6\", \"showlakes\": true, \"showland\": true, \"subunitcolor\": \"white\"}, \"hoverlabel\": {\"align\": \"left\"}, \"hovermode\": \"closest\", \"mapbox\": {\"style\": \"light\"}, \"paper_bgcolor\": \"white\", \"plot_bgcolor\": \"#E5ECF6\", \"polar\": {\"angularaxis\": {\"gridcolor\": \"white\", \"linecolor\": \"white\", \"ticks\": \"\"}, \"bgcolor\": \"#E5ECF6\", \"radialaxis\": {\"gridcolor\": \"white\", \"linecolor\": \"white\", \"ticks\": \"\"}}, \"scene\": {\"xaxis\": {\"backgroundcolor\": \"#E5ECF6\", \"gridcolor\": \"white\", \"gridwidth\": 2, \"linecolor\": \"white\", \"showbackground\": true, \"ticks\": \"\", \"zerolinecolor\": \"white\"}, \"yaxis\": {\"backgroundcolor\": \"#E5ECF6\", \"gridcolor\": \"white\", \"gridwidth\": 2, \"linecolor\": \"white\", \"showbackground\": true, \"ticks\": \"\", \"zerolinecolor\": \"white\"}, \"zaxis\": {\"backgroundcolor\": \"#E5ECF6\", \"gridcolor\": \"white\", \"gridwidth\": 2, \"linecolor\": \"white\", \"showbackground\": true, \"ticks\": \"\", \"zerolinecolor\": \"white\"}}, \"shapedefaults\": {\"line\": {\"color\": \"#2a3f5f\"}}, \"ternary\": {\"aaxis\": {\"gridcolor\": \"white\", \"linecolor\": \"white\", \"ticks\": \"\"}, \"baxis\": {\"gridcolor\": \"white\", \"linecolor\": \"white\", \"ticks\": \"\"}, \"bgcolor\": \"#E5ECF6\", \"caxis\": {\"gridcolor\": \"white\", \"linecolor\": \"white\", \"ticks\": \"\"}}, \"title\": {\"x\": 0.05}, \"xaxis\": {\"automargin\": true, \"gridcolor\": \"white\", \"linecolor\": \"white\", \"ticks\": \"\", \"title\": {\"standoff\": 15}, \"zerolinecolor\": \"white\", \"zerolinewidth\": 2}, \"yaxis\": {\"automargin\": true, \"gridcolor\": \"white\", \"linecolor\": \"white\", \"ticks\": \"\", \"title\": {\"standoff\": 15}, \"zerolinecolor\": \"white\", \"zerolinewidth\": 2}}}},\n",
              "                        {\"responsive\": true}\n",
              "                    ).then(function(){\n",
              "                            \n",
              "var gd = document.getElementById('c34b11bb-edc7-438e-9bd6-933491fb3c81');\n",
              "var x = new MutationObserver(function (mutations, observer) {{\n",
              "        var display = window.getComputedStyle(gd).display;\n",
              "        if (!display || display === 'none') {{\n",
              "            console.log([gd, 'removed!']);\n",
              "            Plotly.purge(gd);\n",
              "            observer.disconnect();\n",
              "        }}\n",
              "}});\n",
              "\n",
              "// Listen for the removal of the full notebook cells\n",
              "var notebookContainer = gd.closest('#notebook-container');\n",
              "if (notebookContainer) {{\n",
              "    x.observe(notebookContainer, {childList: true});\n",
              "}}\n",
              "\n",
              "// Listen for the clearing of the current output cell\n",
              "var outputEl = gd.closest('.output');\n",
              "if (outputEl) {{\n",
              "    x.observe(outputEl, {childList: true});\n",
              "}}\n",
              "\n",
              "                        })\n",
              "                };\n",
              "                \n",
              "            </script>\n",
              "        </div>\n",
              "</body>\n",
              "</html>"
            ]
          },
          "metadata": {
            "tags": []
          }
        }
      ]
    },
    {
      "cell_type": "markdown",
      "metadata": {
        "id": "QC0lIo2M2vuW",
        "colab_type": "text"
      },
      "source": [
        "The relative higher revenue in May & June may be due to vacations & Holidays"
      ]
    },
    {
      "cell_type": "code",
      "metadata": {
        "id": "MWOg24Ez3R1J",
        "colab_type": "code",
        "colab": {
          "base_uri": "https://localhost:8080/",
          "height": 119
        },
        "outputId": "7df2dd64-4767-46eb-babc-b60ff3c88d10"
      },
      "source": [
        "count_prod_companies = extract_values(df_train['production_companies'].replace(np.nan, \"\"))\n",
        "print(pd.DataFrame({'Name':list(count_prod_companies.keys()), 'No. of Movies Produced':list(count_prod_companies.values())}).head())"
      ],
      "execution_count": 77,
      "outputs": [
        {
          "output_type": "stream",
          "text": [
            "                        Name  No. of Movies Produced\n",
            "0         Paramount Pictures                     161\n",
            "1             United Artists                      44\n",
            "2  Metro-Goldwyn-Mayer (MGM)                      84\n",
            "3       Walt Disney Pictures                      62\n",
            "4                 Bold Films                       4\n"
          ],
          "name": "stdout"
        }
      ]
    },
    {
      "cell_type": "markdown",
      "metadata": {
        "id": "YCyf9D8tKVI_",
        "colab_type": "text"
      },
      "source": [
        "Do the Movies that have homepage have some impact on the Revenue? Let's Find Out\n"
      ]
    },
    {
      "cell_type": "code",
      "metadata": {
        "id": "3LAZdUPaMEqI",
        "colab_type": "code",
        "colab": {
          "base_uri": "https://localhost:8080/",
          "height": 68
        },
        "outputId": "49312510-42fa-4a01-e365-4c750b5e1085"
      },
      "source": [
        "df_train['homepage'].isnull().value_counts()"
      ],
      "execution_count": 86,
      "outputs": [
        {
          "output_type": "execute_result",
          "data": {
            "text/plain": [
              "True     2054\n",
              "False     946\n",
              "Name: homepage, dtype: int64"
            ]
          },
          "metadata": {
            "tags": []
          },
          "execution_count": 86
        }
      ]
    },
    {
      "cell_type": "code",
      "metadata": {
        "id": "nSNFeOLfKel9",
        "colab_type": "code",
        "colab": {
          "base_uri": "https://localhost:8080/",
          "height": 698
        },
        "outputId": "25f6bcb3-ebe4-4dcf-b0dc-c8367995cf11"
      },
      "source": [
        "import plotly.express as px\n",
        "import seaborn as sns\n",
        "slice_data = df_train[['homepage', 'revenue']]\n",
        "slice_data.loc[~slice_data['homepage'].isnull(), 'homepage'] = \"With Homepage\"\n",
        "slice_data.loc[slice_data['homepage'].isnull(), 'homepage'] = \"No Homepage\"\n",
        "fig = px.box(slice_data, x = \"revenue\", y = \"homepage\", orientation = 'h', points = 'suspectedoutliers')\n",
        "fig.show()"
      ],
      "execution_count": 94,
      "outputs": [
        {
          "output_type": "stream",
          "text": [
            "/usr/local/lib/python3.6/dist-packages/pandas/core/indexing.py:966: SettingWithCopyWarning:\n",
            "\n",
            "\n",
            "A value is trying to be set on a copy of a slice from a DataFrame.\n",
            "Try using .loc[row_indexer,col_indexer] = value instead\n",
            "\n",
            "See the caveats in the documentation: https://pandas.pydata.org/pandas-docs/stable/user_guide/indexing.html#returning-a-view-versus-a-copy\n",
            "\n"
          ],
          "name": "stderr"
        },
        {
          "output_type": "display_data",
          "data": {
            "text/html": [
              "<html>\n",
              "<head><meta charset=\"utf-8\" /></head>\n",
              "<body>\n",
              "    <div>\n",
              "            <script src=\"https://cdnjs.cloudflare.com/ajax/libs/mathjax/2.7.5/MathJax.js?config=TeX-AMS-MML_SVG\"></script><script type=\"text/javascript\">if (window.MathJax) {MathJax.Hub.Config({SVG: {font: \"STIX-Web\"}});}</script>\n",
              "                <script type=\"text/javascript\">window.PlotlyConfig = {MathJaxConfig: 'local'};</script>\n",
              "        <script src=\"https://cdn.plot.ly/plotly-latest.min.js\"></script>    \n",
              "            <div id=\"e7c5a61f-b48b-4b5c-8eaf-6ad122d3c831\" class=\"plotly-graph-div\" style=\"height:525px; width:100%;\"></div>\n",
              "            <script type=\"text/javascript\">\n",
              "                \n",
              "                    window.PLOTLYENV=window.PLOTLYENV || {};\n",
              "                    \n",
              "                if (document.getElementById(\"e7c5a61f-b48b-4b5c-8eaf-6ad122d3c831\")) {\n",
              "                    Plotly.newPlot(\n",
              "                        'e7c5a61f-b48b-4b5c-8eaf-6ad122d3c831',\n",
              "                        [{\"alignmentgroup\": \"True\", \"boxpoints\": \"suspectedoutliers\", \"hoverlabel\": {\"namelength\": 0}, \"hovertemplate\": \"revenue=%{x}<br>homepage=%{y}\", \"legendgroup\": \"\", \"marker\": {\"color\": \"#636efa\"}, \"name\": \"\", \"notched\": false, \"offsetgroup\": \"\", \"orientation\": \"h\", \"showlegend\": false, \"type\": \"box\", \"x\": [12314651, 95149435, 13092000, 16000000, 3923970, 3261638, 85446075, 2586511, 34327391, 18750246, 117235147, 22642033, 356296601, 95226116, 358372926, 198, 57891803, 1234254, 1749457, 85167639, 136159423, 36690067, 100345, 17011, 4947717, 8403433, 13835130, 7847000, 5849647, 94935764, 426480871, 36000000, 146936910, 7171, 258022233, 40346186, 151559, 189859560, 92100, 14873, 163000, 16217773, 24362772, 1020921, 47175038, 4300000, 660940780, 155760117, 653951, 120000000, 1500000, 25333333, 11000000, 17514553, 46069568, 36448200, 1056938, 238207122, 119563, 25482931, 599045960, 14400000, 25232289, 14000000, 17654912, 11806119, 204940, 154120, 13129846, 158468292, 21126225, 16756372, 8266343, 17393, 2300000, 24922237, 500000, 39846344, 35610100, 779820, 9237470, 11588205, 91974818, 40400657, 13101672, 152022101, 106260000, 32392047, 13162475, 140081992, 180949000, 215339, 15000000, 2724474, 20117339, 14353, 3358, 73000, 23000000, 46616067, 9229401, 313542341, 14961069, 5310554, 149521495, 16505460, 15134293, 210000000, 18535191, 34562222, 67631903, 22034832, 93820758, 51684798, 871368364, 41604473, 311, 253625427, 1796389, 18814720, 347325802, 448000000, 5585154, 91036760, 60722734, 7400000, 15500000, 12008642, 46201432, 5731103, 9800000, 5206, 2452566, 211780824, 33000000, 300000, 120680, 4350774, 3065860, 407711549, 14000000, 31466789, 615816, 382174, 11000000, 9188, 19510371, 86758912, 147214049, 432274, 18, 16905, 241, 52425855, 5091888, 109862682, 8262833, 447784, 19412993, 18552460, 113783, 12277096, 3200000, 17096053, 62771059, 25000, 1723872, 144216468, 41833347, 24600832, 55600000, 2585639, 12000000, 2807854, 29007412, 207283925, 14828081, 532654, 125212904, 156167015, 31148328, 20957001, 21830957, 17555141, 237681299, 161001698, 3833507, 921000, 521311860, 16337881, 16675000, 79700000, 37915971, 13168027, 744816, 115605, 136203, 77920346, 12372410, 19054534, 144000000, 3916303, 110000000, 527068851, 10000000, 2801508, 1543112, 66000000, 4352094, 108103450, 26570463, 470654000, 3418141, 31000000, 1969193, 173965010, 83061158, 85300000, 5010362, 3166000, 10652498, 754935, 31649, 352927224, 500, 6585516, 28931401, 26096852, 638641, 2474000, 72178895, 1001437, 2225098, 206728, 8574339, 27297451, 5600000, 1622164, 505000000, 57588485, 5790448, 18662027, 80768, 17519169, 43885000, 18755936, 351583407, 92180910, 147080413, 14560084, 42700000, 10017322, 5001655, 30292, 34659, 7800000, 203427584, 9000000, 2287714, 140021, 187349, 87528173, 17636261, 14000, 143597, 13060843, 56255142, 3151130, 23937870, 20, 72417394, 162966177, 46044400, 83761844, 250821495, 602042, 14000000, 164000000, 23020, 217764291, 10, 66486080, 12902790, 23550000, 48126384, 1614266, 276921998, 6841570, 23510601, 11373501, 254700832, 5367030, 163442937, 310724, 653428261, 5873871, 52322400, 56489558, 9563393, 26055, 48572000, 2850000, 2945242, 22886222, 6193901, 193772504, 100086793, 22678555, 21800302, 110230332, 8459458, 12250, 12, 6297, 350170057, 113020255, 118338361, 286140700, 27793200, 68706993, 750000, 183018522, 532950503, 161626121, 5669831, 294456605, 116400000, 60965854, 20529194, 384335608, 5588800, 5837674, 346592, 3225000, 3, 38307627, 117698894, 9833553, 27610873, 2200000, 1289998, 60527873, 152810, 88000, 50549107, 14681192, 87416021, 1, 3301446, 3515061, 121790373, 116019547, 9500000, 10229331, 10089373, 393970, 119269486, 788241776, 14567883, 93525586, 3162153, 9700000, 5249225, 25762027, 60289912, 424760, 101332962, 1644060, 3351735, 64110728, 1192322, 4100000, 91753202, 10609321, 17000000, 17374595, 100491683, 5080409, 19478106, 830129, 170877916, 62172050, 2000000, 68929150, 100230832, 229736344, 12000, 1345903, 2128186, 195745823, 10703234, 9868942, 126463, 129832389, 72179579, 900689, 32230907, 1919653, 75505856, 7820688, 58405313, 6000000, 8251, 1469, 8143225, 125586134, 14110589, 6682098, 40485039, 4104962, 183316455, 148336445, 97594140, 966214, 179379533, 149705852, 69932387, 373530, 4601043, 5000000, 151119219, 40996665, 296557, 29657751, 706000, 641100, 18197398, 2012927, 1258000, 109676311, 3400278, 96060858, 109130, 147845033, 11130889, 300859, 70918, 160583018, 50888000, 285930, 337580051, 1986615, 832735, 4300000, 47748, 343786, 875386, 254134910, 315156409, 5989640, 12, 1787926, 1009620, 12534961, 3790493, 4910682, 6000000, 340147, 88923251, 25405445, 203781, 147880543, 171120329, 126297830, 15369573, 18782400, 270000000, 13620075, 318982, 115103979, 1672730, 459270619, 174999005, 23000, 6500000, 1612100, 6375979, 4267218, 22165608, 16589540, 1300000, 9400000, 35743308, 187674, 3335984, 15478800, 186883563, 3468423, 108782847, 609524, 1725381, 63215872, 66351, 37803872, 7306, 11838218, 3600000, 44065653, 25, 473226958, 741766, 52034889, 316472, 13071518, 11750000, 10759, 6673422, 102367405, 3221152, 13865435, 9600000, 194647323, 2500000, 101646581, 53447, 21133087, 6000000, 123726688, 820580447, 28258060, 18195610, 365522, 28883511, 122700000, 8500000, 25345000, 17425000, 41819064, 60000000, 38159905, 36000000, 226286, 9697739, 126248813, 46474, 9323833, 19184015, 335062621, 474171806, 621951, 128388320, 7993039, 40002112, 926287400, 20000000, 7000000, 105834556, 16324573, 81705746, 238073, 97837138, 104399548, 141591324, 11081586, 95789342, 600000, 4878242, 22456509, 46152411, 37799643, 16136, 1600000, 196482882, 36606743, 930349, 81010, 7900000, 36893721, 17768012, 3900000, 82719885, 16829545, 74901339, 10013424, 211952420, 20710451, 48878502, 7800000, 12434778, 88, 8033397, 461162, 4001121, 25836616, 1083282, 310000000, 4400000, 312242626, 5000000, 5684789, 9016377, 234748, 44703995, 11176469, 32648673, 214000, 21028755, 100523181, 1151330, 42930462, 356830601, 60273173, 117487473, 53478166, 26414658, 11000000, 228984, 429766, 31576, 273644, 3769990, 1983204, 8203235, 16980098, 28900000, 1107542, 170000, 117270765, 27092880, 4971340, 177841558, 837000, 4073489, 137298489, 84772742, 146900000, 5632086, 29251596, 6174491, 12413650, 109502303, 1500000, 30102717, 330579719, 44527234, 20158808, 36565280, 150816700, 1400000, 8, 73956241, 97437106, 288752301, 8026971, 55240, 1000000, 94000000, 2500000, 16300000, 192452832, 135000000, 12232628, 49501, 99000, 553198, 22200000, 20079850, 13000000, 754249, 8135031, 132511035, 10016934, 16633035, 18112929, 70, 10, 958400000, 340911, 419953, 76578911, 3100000, 5900000, 3485127, 38376497, 76932943, 11411644, 60700000, 777423, 1296937, 8750000, 544272402, 11000000, 46405336, 183293131, 1262886337, 3788000, 86234523, 1382462, 11294, 850000000, 6000000, 11560806, 180622424, 2450846, 5979292, 2, 20000000, 265452, 9077700, 124827316, 38748395, 98450062, 235483004, 500000, 59908565, 36764313, 14363400, 13769, 206172544, 10400000, 9504139, 4385312, 120455994, 10166502, 29174648, 24188922, 17953778, 14683921, 32710894, 190000, 4469460, 62852, 7399763, 1044824, 709827462, 71561644, 4129250, 219076518, 16656125, 500188435, 1999955, 56666667, 11220670, 1954937, 1023784195, 58662452, 30000000, 1893139, 37279439, 158733820, 2692037, 402539, 4270000, 39340177, 78868508, 19777647, 249905, 11122090, 34153101, 84565230, 50451307, 113244290, 21350, 58853106, 10409377, 6000000, 194720, 163733697, 24134, 29541790, 24793509, 59209, 70000000, 531865000, 8800000, 133718711, 24719215, 121463226, 2262223, 4192440, 25035950, 18130000, 5926128, 48752, 3317662, 7732325, 49554002, 331957105, 29252978, 55447968, 3305592, 1646788, 332000000, 22697691, 12416686, 764083, 70067909, 253527, 2334228, 95311434, 72266306, 222300000, 73180723, 10959475, 93617009, 20560255, 33579813, 4631, 66456, 177238796, 58978653, 14016568, 453079, 32056467, 135680000, 13551174, 18492362, 138730, 32846, 220021259, 363889678, 1400000, 244386864, 21000000, 42277365, 60740827, 41205099, 22000000, 233755553, 2402459, 9221, 2600000, 170128460, 1250000, 103951461, 15992615, 64076736, 150000000, 7266209, 11276, 161000000, 3148182, 374218673, 65497208, 36160375, 1305887, 21520719, 378858340, 16803753, 9797098, 2978994, 11449638, 369975, 27187375, 1012189, 136766062, 7227038, 2642983, 18000000, 8500000, 48027970, 2042530, 152761, 36611610, 2411594, 887029, 10000000, 383257136, 558000, 8038508, 14782676, 97542952, 26488, 2642899, 634074, 9448082, 8000000, 135893, 108539911, 28000000, 6101046, 48720000, 3106835, 10382407, 146497771, 50159144, 42160849, 38502340, 3572443, 48065672, 1072602, 1025491110, 149217355, 77278331, 18315000, 49579269, 306, 54586584, 368744044, 13102295, 8125592, 37962774, 386749, 13000000, 100020092, 5438927, 114194847, 18432000, 16627188, 19000000, 16863583, 52164, 786636033, 14134877, 202026112, 92823546, 1084939099, 128499205, 2541554, 30668, 2340, 1492523, 2054941, 50068310, 4600000, 61700000, 28451622, 3662459, 5100000, 3832228, 2683519, 11642254, 35348597, 191125, 850259, 75143, 96618699, 197687603, 641, 42365581, 58795814, 645135, 159055768, 174822325, 171539887, 4215859, 14000000, 37884, 1938, 2227000, 18948425, 758539785, 4635300, 28023563, 11301649, 43650785, 278731369, 124693, 300400432, 8475466, 8251071, 20080020, 1000000, 73244881, 1982505, 1832541, 1301696, 1479042, 142851197, 65088797, 83027924, 933959197, 141407024, 807535, 921548, 36400360, 30229977, 15119639, 163403799, 274470394, 10000000, 318000141, 70600000, 78874843, 33000000, 39300000, 39459427, 12935800, 66976317, 2189047, 91188905, 1744858, 12118661, 61489265, 46216641, 58840, 19738015, 23570541, 134095253, 1675706, 13885802, 49667, 3202000, 28744356, 65595485, 1530216, 77000000, 103911669, 164433867, 17808, 13878334, 42070000, 21284514, 1841260, 4235151, 151493655, 30, 60, 19472057, 56505065, 140795793, 41410568, 115350426, 22750363, 957240, 21000000, 114830111, 29000000, 47042000, 6272403, 87600000, 108000000, 44057737, 19910002, 20045115, 4187, 27635305, 6472990, 1778391, 157387195, 21107746, 11125849, 40266982, 29235353, 38901218, 30127963, 364937, 35078241, 245623848, 45250, 5446000, 113006880, 347451894, 331000, 38135878, 320145693, 1519796, 76286096, 26888376, 218340595, 29762011, 17487531, 10541523, 928391, 14899417, 525, 107559, 187361754, 1108462, 191185897, 43984230, 8692426, 1404, 748806957, 199436, 311312624, 9584131, 51079064, 9518342, 5596708, 6819587, 42776760, 7390108, 123820, 10000000, 1984662, 15000, 22471595, 14347000, 6860853, 80936232, 120207127, 985007, 52970014, 254190, 606694, 1221366, 72778712, 4367497, 28641776, 36869414, 1189612, 3082901, 245066411, 194168700, 352194034, 26330482, 80000000, 112343513, 40590000, 3370574, 119919, 14859394, 33013805, 3342697, 15530077, 2300000, 8352885, 114178613, 44196684, 3021629, 129795554, 60845711, 18469680, 12355798, 185438673, 38172500, 141069860, 107879496, 35287788, 32222567, 31584901, 59612888, 63327201, 408579038, 105178561, 1519557910, 14010690, 29400000, 2850263, 126737428, 1390172, 230884728, 11540607, 40000, 36800000, 50673078, 15400000, 30, 444098, 229400000, 11, 8247943, 10462500, 14947, 84500122, 161410, 1751330, 129042871, 2750275, 9250000, 709709780, 50750000, 60641, 16519460, 5332926, 1750211, 7339398, 174578751, 147332697, 2636637, 121, 31063038, 2119994, 53898845, 34786960, 8500000, 30658387, 32788, 87404651, 11129057, 54819301, 2681345, 28281, 4706919, 6149791, 25005257, 96105964, 11000000, 24689703, 100659, 222231186, 263920180, 8303261, 307166834, 810455, 680224, 44566, 34664, 2019000, 7, 46089287, 64256513, 598645, 1675484, 94882889, 82150642, 846704, 85, 416498, 51723285, 71009334, 17000000, 127666415, 35114428, 50244700, 5151936, 51881013, 213954274, 83557872, 75450437, 871279, 13269963, 2744253, 215576, 9930095, 13418091, 330444045, 3218666, 1296184, 20566327, 7185518, 559852396, 80547866, 142337240, 223003, 10126458, 2200000, 16974459, 215283742, 193355800, 109449237, 473993, 21032267, 186438883, 7644937, 80154140, 4491986, 30553394, 9138338, 126, 52293982, 38793283, 716392705, 43928932, 2736000, 40272135, 30448000, 96889998, 419651413, 5476060, 296000000, 17381942, 57252, 404, 39598448, 44350926, 337812, 6132924, 418961, 3099314, 11879046, 2970, 4627375, 31720158, 28208, 68411275, 46488, 25605015, 4371000, 284139100, 14904, 102272727, 16929123, 8613462, 25000000, 40239, 41232, 16554699, 2228115, 19204593, 46, 6000000, 350006, 21665468, 41482207, 67642693, 2594000, 8844595, 1300000, 12308521, 27187653, 11203026, 151161491, 21049053, 87987055, 33000337, 1238080, 5624282, 37285, 116980662, 204660, 3484331, 9600000, 921974, 25739015, 64437847, 144633, 3646994, 369330363, 18000, 28350000, 90259536, 49100000, 6341855, 26010864, 21930418, 499168, 11715321, 495303, 470490832, 128905366, 486021, 3337685, 235432, 3983997, 1117920, 27122040, 1373728, 1942423, 8100000, 1347747, 836297228, 15504, 227817248, 31000, 8022000, 2600000, 7070330, 4588176, 68349884, 196114570, 1113277, 20256975, 10082, 149295601, 5, 169852759, 14717854, 15395087, 5200000, 29907685, 11466088, 102820008, 422, 162242962, 25000, 544476, 101300000, 3639345, 1000000, 45100, 155545279, 10000000, 19300483, 56825, 593683, 7000000, 9000000, 49000000, 50007546, 1919197, 17277, 2106557, 12803305, 41627431, 923, 165335153, 6754898, 17804565, 1600000, 25000000, 867714, 178127760, 132675402, 970816, 9450897, 205703818, 31894, 165615285, 68106245, 5475058, 471222889, 151165787, 209154322, 23803308, 149044513, 1060056, 18626419, 62788218, 346864462, 212000000, 11472454, 44352417, 6804016, 36894225, 4314688, 218613188, 23978402, 108083, 3500605, 68572378, 108286421, 524668, 65754228, 20374201, 17530973, 176997168, 26279000, 1179676, 1449945, 43471, 57284237, 30551495, 7840873, 391081192, 107196498, 119772232, 78309131, 102000000, 23727301, 9760104, 205298907, 14743391, 23859, 15520023, 1100000, 62985, 2459895, 90426405, 14481606, 3775000, 443684, 10755447, 34710627, 25312387, 8674093, 3000000, 5129058, 30524763, 87784194, 413454, 65884703, 80551, 31670620, 3752426, 6792000, 7205, 3031801, 4159678, 102000000, 442965, 6491240, 7022209, 55635037, 32000000, 224803475, 57120318, 5000000, 1317657, 1730000, 102308889, 153698625, 255273813, 62548947, 37170057, 11293663, 226497209, 4634062, 125, 5000000, 43493123, 62022014, 79799880, 76586316, 2807390, 10736401, 6321392, 10198357, 401421, 5000000, 22159216, 147780440, 13818181, 11947954, 2154540, 202466756, 38610009, 240159255, 33245, 408247917, 26828365, 81272766, 989000, 286201, 16374328, 320092, 16017403, 13130349, 3214116, 118063304, 373554033, 61548707, 1631839, 52882018, 84785914, 163670000, 14000000, 269823, 82703, 21134374, 243843127, 243000, 1831348, 243637091, 2437000, 63781810, 2260622, 21026290, 1079726, 47410000, 189712432, 59389433, 5979011, 140987, 819939, 16002420, 7000000, 209696, 1759252, 4719695, 3, 29456000, 36489888, 1055287, 51416464, 519535, 182290266, 500000, 230069, 609123048, 1553826, 135130999, 22321, 10676194, 19179969, 560069, 142400065, 5496951, 9479718, 760883, 19595031, 19978961, 30471, 35485608, 133346506, 11000, 22179430, 11263966, 239606210, 93600000, 84601681, 76000000, 973525, 6700, 11582891, 119723856, 16000000, 96188903, 121059225, 10750000, 25800, 12000000, 28607524, 20455276, 12382362, 232324128, 15556340, 23083334, 3384747, 1031243, 53208180, 11000000, 92374674, 40855419, 102617, 26488734, 66468332, 373062864, 696681, 6808550, 215529201, 3206713, 17280326, 7175592, 5809330, 161789, 240978, 159773545, 1929168, 9902115, 103891409, 154864401, 38955598, 40846082, 210819611, 11500000, 3537961, 229000, 80049764, 127600435, 1606624, 43719, 460226, 252712101, 73762516, 540152, 28400000, 41158757, 170832, 604942143, 34533783, 19010585, 133949270, 200182160, 13273595, 1697294, 4152230, 30231200, 78247647, 25000000, 1261000, 333011068, 311256926, 34522221, 3692836, 35739755, 78054825, 10300, 2697930, 63463, 21890845, 4710749, 11341016, 1261947, 12000000, 62000000, 49002684, 83398, 8178569, 13275000, 35856053, 36000000, 15502112, 90383208, 235860116, 5887457, 596349, 7830611, 58510, 24145613, 24769466, 66821036, 1004558444, 77516304, 7237794, 2070806, 24902723, 770706, 248000000, 900000, 81452156, 13276953, 1878561, 4864560, 159330280, 9012000, 1718328, 91636986, 457163, 5240, 60611975, 2297493, 42000000, 1013926, 224511319, 5000000, 21621000, 120081841, 117760134, 7286388, 7424, 64227, 3867000, 89162162, 7218340, 5800000, 17432163, 48668907, 56070433, 42724017, 9318, 8342132, 101191884, 2091037, 369907963, 5101756, 242688965, 1248748, 2804874, 85313124, 54744738, 51070807, 167977596, 27634716, 124914842, 39673161, 10848783, 3665069, 13000000, 1440000, 4900000, 47000000, 34100000, 244527583, 920100000, 23507567, 120620, 46434570, 122417389, 26079312, 163169, 25480490, 20915465, 83719388, 78371200, 4000000, 18663238, 666045, 26144, 6933459, 14054361, 16671505, 20666, 1, 9216, 88658655, 639000, 718490, 276572938, 596000, 1506249360, 119500000, 2500000, 27200000, 14631377, 1486992, 8533973, 76514050, 7900000, 7025496, 16700000, 262797249, 1133031, 74558115, 9114264, 570000, 13308, 17508518, 70906973, 110000000, 5602431, 1305195, 616801808, 10032765, 268431, 94633, 382267, 104931801, 11403529, 19905359, 15298355, 8349430, 25461, 10654385, 2000000, 95000000, 208588, 34725000, 66995253, 135, 9247881, 42886719, 15425, 4307000, 33461269, 46495, 10785801, 217201, 163794509, 2293798, 435000000, 14393902, 47301471, 4635143, 207515725, 288312, 33700, 649398328, 314195, 220151, 62153, 2826523, 173066, 4750000, 5765562, 24078196, 33053559, 56714147, 19776159, 309457509, 9816332, 36144000, 1200627, 102780, 7282851, 73174566, 35294470, 586090727, 138913, 117831631, 6405245, 27900000, 5405313, 1046166, 14697005, 530048, 209935, 72070731, 18000000, 6538177, 38574362, 3090862, 50504655, 18803648, 24377151, 400062763, 1805884, 7096000, 32726956, 566736, 714766572, 66002004, 3338228, 181466833, 85241496, 407778013, 17037887, 630161890, 100489151, 10400000, 215394738, 10006806, 72287783, 1, 68514844, 742898, 41296320, 53086, 251171807, 459359555, 20240128, 20642922, 17137302, 23, 1535558, 133432856, 573335, 11000000, 13204291, 320395, 125400, 40105542, 6000000, 849915, 3000000, 69823199, 54600000, 6488144, 355962, 266000000, 251058, 230685453, 4800080, 49998613, 15429177, 200406, 112462508, 152427960, 1179002, 372234864, 67821, 25147786, 1548955, 12923936, 3462, 39673162, 1, 15240456, 2043704, 32248241, 86362372, 71000000, 6000000, 415252786, 311245, 195312802, 62000000, 117719158, 1749201, 162091208, 50892160, 51854875, 173000000, 59468275, 123494610, 14051384, 25196249, 20211394, 22812411, 24048000, 1100000, 10018, 26155781, 20471382, 712294, 4069826, 20719451, 204, 6700000, 85416905, 2628241, 14836, 31899000, 50021959, 243240178, 1200000, 119946358, 389503, 500000, 88545092, 35456, 42647449, 103173635, 7406, 7936012, 11650, 25928721, 208076205, 343341, 7500000, 10364904, 415440673, 2120439, 20000000, 393816, 52099090, 9069, 30199105, 21888598, 4417580, 23042200, 190458706, 4176932, 225990978, 105097, 357852395, 13200241, 21486757, 5900000, 17768757, 6482195, 6000000, 4571025, 47267001, 235666219, 69411370, 44332015, 119940815, 27200316, 16928137, 1250712, 59217789, 19165560, 15071514, 18591272, 11348324, 2610000, 121129, 340312, 8153677, 70200000, 141220678, 100544, 392000694, 136000000, 28341469, 8138788, 773328629, 69307224, 5741608, 260354, 46221189, 7897645, 34560577, 25513752, 10499694, 2640850, 23000000, 35763605, 112892319, 4000000, 25, 15309302, 152036382, 550000000, 355237933, 130000, 43848069, 10113733, 9234510, 262921, 300228084, 29010817, 371940071, 114660784, 5363000, 10130000, 6455530, 139804348, 22490039, 1494399, 385284817, 258464, 4000000, 57096190, 285176741, 239894, 347434178, 8555008, 32483410, 161834276, 288500217, 6861102, 129115, 12342632, 20908467, 46471023, 4100000, 143000, 10878107, 15704614, 1822250, 49111202, 404785, 74918, 4542, 1501785, 17185632, 263000, 98185582, 49797148, 2506446, 3848034, 5844868, 11000000, 12036149, 44030246, 2841000, 79958599, 18, 22044277, 168180, 25303038, 2802459, 10068, 127251, 655011224, 182857, 59754601, 19255873, 1332231, 157100845, 107217396, 45703, 426224, 1103757, 908847, 161451538, 502758, 12000000, 361832400, 24760338, 25000000, 37930465, 242295562, 185260553, 4, 10011050, 2346150, 60000000, 161025640, 166775, 45742101, 77068246, 164508066, 863416141, 93375151, 8373585, 13983, 78378744, 129000000, 99965753, 11087569, 300257475, 1045713802, 11567217, 1037335, 9700000, 105200903, 4291965, 84025816, 4905000, 15179302, 551281, 22433275, 181107, 33395426, 22707064, 138259062, 3919731, 13670688, 20342161, 519204, 9713500, 19800000, 75715436, 52287414, 34808403, 76578641, 17671101, 153083102, 38290723, 185898, 101134059, 10076790, 60209334, 362000072, 2500431, 23800000, 15656193, 71904, 133000000, 9500000, 37598, 17336370, 3897799, 61141030, 60427839, 27642707, 156822020, 43579163, 32287044, 918239, 18000000, 7191399, 176153, 3193102, 1980338, 3200000, 2270000, 48190704, 156844753, 1461989, 93282604, 346297, 773228, 6800000, 179000, 33889159, 280000000, 6147, 182379278, 1896244, 28169671, 98410061, 18253415, 261317921, 6698361, 961000000, 29326868, 136400000, 32204030, 67872296, 10903846, 105610124, 5659286, 196781193, 7659918, 2357852, 8220215, 4040588, 50000000, 103166989, 536364, 7800000, 8000000, 363164265, 56298474, 5099316, 9132000, 3533227, 23450000, 55583804, 771499, 1400000, 8212430, 2691899, 5820015, 91000000, 572809, 41744718, 132820716, 110879513, 85306374, 30411183, 4417667, 31327899, 102984862, 30226144, 228136, 8, 108047131, 307076, 53191886, 100, 138000, 49084830, 113493481, 1829917, 111731, 4557214, 19701164, 7965, 216614388, 500000, 374111707, 90508336, 73276047, 287553595, 3000000, 3764219, 1007962, 21706101, 205754447, 21786738, 37473, 292279, 7103973, 31609243, 3696232, 7985929, 40940662, 3903479, 68000000, 1200398, 152930623, 1500000, 6101904, 71368, 87055349, 1686429, 50656, 20497844, 147542, 5255, 188133322, 297138014, 179943, 264118201, 8176544, 1110566, 65335, 53267000, 390493908, 51680201, 41162041, 1246141, 1277401, 26589000, 7900000, 63833449, 3117985, 114956699, 455815, 5483299, 43455230, 41895491, 33208099, 3566225, 21170563, 4905000, 1123746996, 7940, 132274484, 173013509, 783112979, 73326666, 30353232, 4820000, 81381, 35057696, 111996, 111584787, 22896728, 263404, 66132626, 8362969, 100853753, 7100000, 29359216, 72527595, 5330000, 2400000, 17800000, 13022756, 50100000, 230698791, 5262047, 441306145, 38505009, 333000000, 79666653, 13000000, 31179516, 23875127, 17218080, 662845518, 370668, 6029824, 939101, 12000000, 35022, 58620973, 160602194, 794452, 59700000, 27734391, 7865, 154937680, 301000000, 28460702, 129540499, 87100449, 52604, 95673607, 11100000, 92991835, 9789900, 6086508, 9304609, 494506, 18124262, 3, 671, 25893810, 21700000, 886686817, 95714875, 20000000, 10000000, 141195658, 7338987, 694438, 147934180, 248392, 204594016, 309492681, 20275812, 15, 688510, 37000000, 170268750, 15691192, 154026136, 3003, 65046687, 1884814, 4409328, 48814909, 18599102, 223664608, 44806783, 660537, 61801971, 23202734, 6341684, 4000000, 113374103, 141047179, 4100000, 11576431, 6347072, 500000, 73648228, 28061343, 1334173, 1347988, 34585416, 19158074, 10000000, 320170008, 580527, 32, 104507, 3956913, 3376375, 325756637, 40084041, 26199517, 56308881, 14418922, 106303988, 698491347, 694497, 32155047, 10400000, 231411584, 56359980, 36779296, 1300000, 523511, 95404397, 1914166, 44000000, 549368315, 6856989, 587615, 3295624, 268426634, 82466670, 240093, 6212282, 106498, 424208848, 6928068, 26250020, 41382841, 14048372, 78382433, 15014674, 14010832, 331926147, 150277, 79, 373552094, 212385533, 19131000, 68729358, 56702901, 18800000, 51148651, 56681566, 48911, 30399676, 362637473, 93945766, 2948386, 102391382, 40120144, 6, 10474, 2861020, 8679814, 99303, 3200000, 605562, 41954997, 2294357, 160638883, 19829957, 8887603, 28215918, 49364621, 3960327, 8910819, 75993061, 5967038, 14624826, 3453043, 532269, 25966555, 50671850, 12000000, 192330738, 1851517, 12173470, 132900000, 201596308, 1500000, 90614445, 74134790, 5923044, 3661757, 396003, 30002758, 33697647, 44349000, 7500000, 3052000, 86658558, 11300653, 1021103568, 2019009, 54249294, 214104620, 14200000, 4811525, 15000000, 188126, 3623330, 88058786, 34705850, 12706478, 42792561, 50548152, 87000000, 585349010, 39768000, 1524966, 31911598, 23619609, 250200000, 3721911, 152961, 3020784, 148426, 7011317, 48428063, 38862717, 12065892, 17000000, 1028570889, 17000000, 18317151, 21567853, 2899975, 41000000, 14056528, 7242035, 305875730, 126150, 278300000, 8690429, 3251794, 1000000, 187716, 97, 2200000, 67192859, 45431, 32556119, 8, 9109322, 47000000, 1406224, 12368234, 41480851, 3897569, 68915888, 44695, 40263020, 157768, 2438031, 66559, 75781642, 840000, 16757163, 7241180, 250649836, 23598, 106269971, 538000, 162000000, 14166853, 221295, 176885658, 25900, 7060876, 3919254, 11083449, 84431625, 130786397, 8888143, 72700000, 11798616, 57915972, 611899420, 327803731, 19985196, 100000000, 28733290, 37641, 90024292, 252434250, 52761, 55987321, 62882090, 1185783, 32709423, 17986781, 130482868, 33463969, 37664855, 3554460, 22424195, 67918658, 2303, 188441614, 67112664, 25434291, 6166819, 98159963, 100076342, 121214377, 76000000, 7778177, 694713380, 156974557, 2620000, 8900000, 6800000, 11000000, 54215416, 60726164, 378667, 180274123, 27500000, 25147055, 25754284, 30471420, 100525432, 500000, 107597242, 55707411, 71624879, 54674226, 106371651, 148868835, 346079773, 22270, 14202899, 30536013, 300653, 2295423, 1862805, 5300000, 19516000, 1081957, 23057115, 966878, 1702394, 4000000, 57469467, 4300000, 17092453, 123182, 390659, 2627209, 71485043, 69055695, 13555988, 40903593, 33456317, 76657000, 10000000, 27400000, 11000000, 2387127, 192816, 27409889, 6892098, 34742066, 10571408, 16093651, 5410749, 97838349, 17292381, 6834525, 165333180, 3100000, 51000000, 18564088, 57059003, 216166, 68696770, 49601, 110996879, 1473809, 94061311, 35150960, 123509, 603943, 3566637, 32721635, 102471, 38058335, 171760, 646714, 498814908, 116700000, 278019771, 485772, 48093211, 97552050, 11657385, 16775, 880674609, 186053725, 631442092, 162360636, 2725258, 100914445, 55495563, 35424826, 637769, 49627779, 2003822, 189015611, 1803009, 14980005, 29355203, 3221568, 22921898, 20381995, 24332324, 41597830, 319285, 834332, 13, 13380561, 48298, 22540359, 27053815, 1268395, 11990401, 152500343, 136150434, 111300, 42333295, 1405403694, 18564613, 3324330, 116672912, 6700000, 539896, 7563728, 17300889, 190320568, 56422687, 64350171, 13674, 77745568, 102244770, 34967437, 10000000, 101236, 157107755, 1337274, 56574, 145896422, 4630045, 77628265, 217022588, 43528634, 4069090, 6775121, 8200000, 719968, 134748021, 91354215, 31815, 876688482, 33082548, 2040920, 2275557, 86369815, 22175908, 70136369, 9771658, 8034, 186702, 282358, 18340000, 1547397, 86175291, 2891288, 6575282, 9317021, 3091922, 500000, 21722776, 41637263, 852336, 46264384, 100000000, 7412216, 10224116, 56000000, 2033165, 665450, 19265302, 123384128, 60328000, 266728738, 21409028, 3878993, 51029361, 25442939, 250288523, 1124445, 153518974, 17297244, 90565421, 6614280, 28200, 260696994, 1625847, 67347013, 16810383, 20300000, 12303411, 6483963, 9190819, 5777916, 48482, 24186232, 6500000, 461983149, 25034000, 77737889, 102825796, 1268793, 8434146, 100, 8927600, 457363168, 1000000, 143451, 54837234, 176070171, 23367586, 14723313, 115860, 25, 32000, 17380126, 51973029, 18999718, 21300000, 205366737, 165478348, 6659377, 68369434, 331816, 147315, 202000, 36642838, 21750000, 39946780, 83080890, 28128670, 5794184, 141000000, 218626, 71069884, 645186, 16991902, 178051587, 354248063, 486937, 152368585, 21833, 18928871, 16491080, 589304, 227799884, 49042224, 8009329, 48902953, 2279000, 78000586, 2616503, 2270658, 29918745, 351692268, 10589102, 57041866, 1700000, 13000000, 4275, 2608000, 12520799, 16209459, 2402067, 142817992, 41098065, 431971116, 6263883, 50907422, 30857814, 36754634, 20000000, 74608570, 77112176, 102000000, 9392, 48418160, 403170142, 120000, 102000000, 6916869, 117629, 28921264, 89460381, 37600000, 1027757, 263635, 25182929, 6000000, 114908830, 18704595, 65663276, 19125401, 13395939, 29536299, 11949484, 35431113, 22730842, 4600000, 1163967, 125728258, 57330873, 44038000, 589244, 441809770, 87840042, 7600000, 2405420, 87754044, 411006740, 15379253, 8685526, 4122748, 10442808, 57881056, 15427192, 29700000, 1053788, 77477008, 2500000, 93000, 376597, 791830, 116643346, 14655628, 16605763, 858591, 105656, 100202, 7240837, 91038276, 1213880, 219417255, 14715067, 1596687, 180590, 89456761, 171963386, 82087155], \"x0\": \" \", \"xaxis\": \"x\", \"y\": [\"No Homepage\", \"No Homepage\", \"With Homepage\", \"With Homepage\", \"No Homepage\", \"No Homepage\", \"With Homepage\", \"No Homepage\", \"No Homepage\", \"No Homepage\", \"No Homepage\", \"No Homepage\", \"With Homepage\", \"No Homepage\", \"No Homepage\", \"With Homepage\", \"No Homepage\", \"No Homepage\", \"No Homepage\", \"No Homepage\", \"No Homepage\", \"No Homepage\", \"With Homepage\", \"With Homepage\", \"With Homepage\", \"No Homepage\", \"No Homepage\", \"No Homepage\", \"No Homepage\", \"No Homepage\", \"No Homepage\", \"With Homepage\", \"With Homepage\", \"No Homepage\", \"No Homepage\", \"With Homepage\", \"No Homepage\", \"No Homepage\", \"With Homepage\", \"No Homepage\", \"With Homepage\", \"No Homepage\", \"No Homepage\", \"No Homepage\", \"With Homepage\", \"No Homepage\", \"With Homepage\", \"With Homepage\", \"No Homepage\", \"No Homepage\", \"With Homepage\", \"No Homepage\", \"No Homepage\", \"With Homepage\", \"No Homepage\", \"No Homepage\", \"With Homepage\", \"No Homepage\", \"With Homepage\", \"No Homepage\", \"With Homepage\", \"No Homepage\", \"No Homepage\", \"No Homepage\", \"No Homepage\", \"No Homepage\", \"No Homepage\", \"No Homepage\", \"No Homepage\", \"With Homepage\", \"No Homepage\", \"With Homepage\", \"No Homepage\", \"With Homepage\", \"No Homepage\", \"With Homepage\", \"No Homepage\", \"No Homepage\", \"No Homepage\", \"With Homepage\", \"No Homepage\", \"No Homepage\", \"No Homepage\", \"No Homepage\", \"No Homepage\", \"No Homepage\", \"No Homepage\", \"No Homepage\", \"With Homepage\", \"No Homepage\", \"With Homepage\", \"No Homepage\", \"No Homepage\", \"No Homepage\", \"No Homepage\", \"No Homepage\", \"No Homepage\", \"No Homepage\", \"No Homepage\", \"No Homepage\", \"No Homepage\", \"With Homepage\", \"No Homepage\", \"No Homepage\", \"No Homepage\", \"No Homepage\", \"With Homepage\", \"No Homepage\", \"No Homepage\", \"No Homepage\", \"No Homepage\", \"No Homepage\", \"With Homepage\", \"No Homepage\", \"With Homepage\", \"No Homepage\", \"No Homepage\", \"With Homepage\", \"No Homepage\", \"No Homepage\", \"No Homepage\", \"With Homepage\", \"No Homepage\", \"No Homepage\", \"With Homepage\", \"With Homepage\", \"No Homepage\", \"No Homepage\", \"With Homepage\", \"No Homepage\", \"With Homepage\", \"No Homepage\", \"No Homepage\", \"With Homepage\", \"With Homepage\", \"No Homepage\", \"With Homepage\", \"No Homepage\", \"With Homepage\", \"No Homepage\", \"No Homepage\", \"No Homepage\", \"With Homepage\", \"With Homepage\", \"No Homepage\", \"With Homepage\", \"No Homepage\", \"With Homepage\", \"No Homepage\", \"No Homepage\", \"No Homepage\", \"No Homepage\", \"No Homepage\", \"With Homepage\", \"No Homepage\", \"No Homepage\", \"No Homepage\", \"No Homepage\", \"No Homepage\", \"No Homepage\", \"No Homepage\", \"No Homepage\", \"With Homepage\", \"No Homepage\", \"With Homepage\", \"No Homepage\", \"No Homepage\", \"No Homepage\", \"No Homepage\", \"No Homepage\", \"No Homepage\", \"No Homepage\", \"No Homepage\", \"No Homepage\", \"No Homepage\", \"No Homepage\", \"No Homepage\", \"No Homepage\", \"No Homepage\", \"With Homepage\", \"With Homepage\", \"No Homepage\", \"No Homepage\", \"With Homepage\", \"No Homepage\", \"No Homepage\", \"No Homepage\", \"No Homepage\", \"With Homepage\", \"No Homepage\", \"No Homepage\", \"With Homepage\", \"No Homepage\", \"No Homepage\", \"With Homepage\", \"No Homepage\", \"No Homepage\", \"No Homepage\", \"With Homepage\", \"No Homepage\", \"No Homepage\", \"No Homepage\", \"No Homepage\", \"With Homepage\", \"No Homepage\", \"No Homepage\", \"No Homepage\", \"With Homepage\", \"No Homepage\", \"No Homepage\", \"No Homepage\", \"With Homepage\", \"No Homepage\", \"No Homepage\", \"No Homepage\", \"With Homepage\", \"With Homepage\", \"No Homepage\", \"No Homepage\", \"With Homepage\", \"With Homepage\", \"No Homepage\", \"With Homepage\", \"With Homepage\", \"With Homepage\", \"No Homepage\", \"With Homepage\", \"With Homepage\", \"No Homepage\", \"No Homepage\", \"No Homepage\", \"No Homepage\", \"No Homepage\", \"No Homepage\", \"With Homepage\", \"With Homepage\", \"No Homepage\", \"No Homepage\", \"No Homepage\", \"No Homepage\", \"No Homepage\", \"With Homepage\", \"With Homepage\", \"No Homepage\", \"No Homepage\", \"With Homepage\", \"No Homepage\", \"With Homepage\", \"No Homepage\", \"No Homepage\", \"No Homepage\", \"No Homepage\", \"No Homepage\", \"No Homepage\", \"No Homepage\", \"No Homepage\", \"With Homepage\", \"No Homepage\", \"No Homepage\", \"No Homepage\", \"No Homepage\", \"No Homepage\", \"With Homepage\", \"With Homepage\", \"With Homepage\", \"No Homepage\", \"With Homepage\", \"With Homepage\", \"No Homepage\", \"With Homepage\", \"With Homepage\", \"With Homepage\", \"No Homepage\", \"With Homepage\", \"With Homepage\", \"No Homepage\", \"No Homepage\", \"No Homepage\", \"No Homepage\", \"No Homepage\", \"No Homepage\", \"With Homepage\", \"No Homepage\", \"No Homepage\", \"No Homepage\", \"No Homepage\", \"With Homepage\", \"No Homepage\", \"No Homepage\", \"No Homepage\", \"With Homepage\", \"With Homepage\", \"With Homepage\", \"No Homepage\", \"With Homepage\", \"No Homepage\", \"No Homepage\", \"No Homepage\", \"No Homepage\", \"No Homepage\", \"No Homepage\", \"No Homepage\", \"No Homepage\", \"No Homepage\", \"No Homepage\", \"With Homepage\", \"With Homepage\", \"With Homepage\", \"No Homepage\", \"No Homepage\", \"No Homepage\", \"With Homepage\", \"No Homepage\", \"No Homepage\", \"With Homepage\", \"With Homepage\", \"No Homepage\", \"No Homepage\", \"No Homepage\", \"No Homepage\", \"No Homepage\", \"No Homepage\", \"With Homepage\", \"No Homepage\", \"No Homepage\", \"No Homepage\", \"No Homepage\", \"With Homepage\", \"With Homepage\", \"With Homepage\", \"No Homepage\", \"With Homepage\", \"With Homepage\", \"No Homepage\", \"No Homepage\", \"With Homepage\", \"No Homepage\", \"No Homepage\", \"No Homepage\", \"No Homepage\", \"No Homepage\", \"No Homepage\", \"With Homepage\", \"No Homepage\", \"No Homepage\", \"No Homepage\", \"With Homepage\", \"No Homepage\", \"With Homepage\", \"With Homepage\", \"With Homepage\", \"With Homepage\", \"No Homepage\", \"No Homepage\", \"With Homepage\", \"With Homepage\", \"No Homepage\", \"With Homepage\", \"With Homepage\", \"With Homepage\", \"With Homepage\", \"No Homepage\", \"No Homepage\", \"No Homepage\", \"No Homepage\", \"With Homepage\", \"With Homepage\", \"No Homepage\", \"No Homepage\", \"With Homepage\", \"No Homepage\", \"With Homepage\", \"No Homepage\", \"No Homepage\", \"No Homepage\", \"No Homepage\", \"No Homepage\", \"No Homepage\", \"No Homepage\", \"No Homepage\", \"No Homepage\", \"No Homepage\", \"No Homepage\", \"No Homepage\", \"No Homepage\", \"No Homepage\", \"No Homepage\", \"No Homepage\", \"No Homepage\", \"No Homepage\", \"No Homepage\", \"No Homepage\", \"No Homepage\", \"No Homepage\", \"No Homepage\", \"With Homepage\", \"With Homepage\", \"No Homepage\", \"No Homepage\", \"No Homepage\", \"With Homepage\", \"No Homepage\", \"With Homepage\", \"No Homepage\", \"No Homepage\", \"No Homepage\", \"No Homepage\", \"No Homepage\", \"With Homepage\", \"No Homepage\", \"No Homepage\", \"With Homepage\", \"No Homepage\", \"No Homepage\", \"With Homepage\", \"No Homepage\", \"With Homepage\", \"No Homepage\", \"No Homepage\", \"With Homepage\", \"With Homepage\", \"No Homepage\", \"With Homepage\", \"No Homepage\", \"No Homepage\", \"No Homepage\", \"With Homepage\", \"With Homepage\", \"No Homepage\", \"With Homepage\", \"With Homepage\", \"No Homepage\", \"No Homepage\", \"No Homepage\", \"With Homepage\", \"No Homepage\", \"No Homepage\", \"No Homepage\", \"No Homepage\", \"No Homepage\", \"With Homepage\", \"With Homepage\", \"With Homepage\", \"No Homepage\", \"No Homepage\", \"No Homepage\", \"No Homepage\", \"No Homepage\", \"No Homepage\", \"With Homepage\", \"No Homepage\", \"With Homepage\", \"No Homepage\", \"No Homepage\", \"No Homepage\", \"No Homepage\", \"No Homepage\", \"No Homepage\", \"No Homepage\", \"No Homepage\", \"No Homepage\", \"With Homepage\", \"With Homepage\", \"No Homepage\", \"No Homepage\", \"No Homepage\", \"No Homepage\", \"No Homepage\", \"No Homepage\", \"No Homepage\", \"No Homepage\", \"With Homepage\", \"No Homepage\", \"No Homepage\", \"No Homepage\", \"With Homepage\", \"No Homepage\", \"No Homepage\", \"No Homepage\", \"No Homepage\", \"No Homepage\", \"With Homepage\", \"No Homepage\", \"With Homepage\", \"No Homepage\", \"With Homepage\", \"No Homepage\", \"With Homepage\", \"No Homepage\", \"No Homepage\", \"With Homepage\", \"No Homepage\", \"With Homepage\", \"No Homepage\", \"With Homepage\", \"No Homepage\", \"With Homepage\", \"No Homepage\", \"No Homepage\", \"No Homepage\", \"No Homepage\", \"No Homepage\", \"No Homepage\", \"No Homepage\", \"No Homepage\", \"With Homepage\", \"With Homepage\", \"No Homepage\", \"With Homepage\", \"No Homepage\", \"No Homepage\", \"With Homepage\", \"With Homepage\", \"No Homepage\", \"With Homepage\", \"No Homepage\", \"No Homepage\", \"With Homepage\", \"With Homepage\", \"No Homepage\", \"With Homepage\", \"No Homepage\", \"No Homepage\", \"No Homepage\", \"No Homepage\", \"No Homepage\", \"No Homepage\", \"With Homepage\", \"With Homepage\", \"No Homepage\", \"No Homepage\", \"With Homepage\", \"No Homepage\", \"No Homepage\", \"With Homepage\", \"No Homepage\", \"No Homepage\", \"No Homepage\", \"With Homepage\", \"With Homepage\", \"No Homepage\", \"No Homepage\", \"No Homepage\", \"With Homepage\", \"No Homepage\", \"With Homepage\", \"No Homepage\", \"No Homepage\", \"With Homepage\", \"With Homepage\", \"No Homepage\", \"With Homepage\", \"With Homepage\", \"No Homepage\", \"No Homepage\", \"No Homepage\", \"With Homepage\", \"No Homepage\", \"With Homepage\", \"No Homepage\", \"With Homepage\", \"With Homepage\", \"No Homepage\", \"With Homepage\", \"No Homepage\", \"No Homepage\", \"No Homepage\", \"With Homepage\", \"No Homepage\", \"No Homepage\", \"No Homepage\", \"With Homepage\", \"No Homepage\", \"No Homepage\", \"No Homepage\", \"No Homepage\", \"No Homepage\", \"No Homepage\", \"No Homepage\", \"No Homepage\", \"No Homepage\", \"No Homepage\", \"With Homepage\", \"With Homepage\", \"No Homepage\", \"No Homepage\", \"No Homepage\", \"No Homepage\", \"No Homepage\", \"No Homepage\", \"No Homepage\", \"No Homepage\", \"With Homepage\", \"No Homepage\", \"No Homepage\", \"No Homepage\", \"No Homepage\", \"With Homepage\", \"No Homepage\", \"No Homepage\", \"No Homepage\", \"With Homepage\", \"No Homepage\", \"No Homepage\", \"No Homepage\", \"No Homepage\", \"No Homepage\", \"With Homepage\", \"No Homepage\", \"No Homepage\", \"No Homepage\", \"No Homepage\", \"No Homepage\", \"No Homepage\", \"No Homepage\", \"No Homepage\", \"No Homepage\", \"No Homepage\", \"No Homepage\", \"With Homepage\", \"No Homepage\", \"No Homepage\", \"No Homepage\", \"No Homepage\", \"No Homepage\", \"No Homepage\", \"No Homepage\", \"With Homepage\", \"With Homepage\", \"No Homepage\", \"With Homepage\", \"No Homepage\", \"No Homepage\", \"No Homepage\", \"No Homepage\", \"No Homepage\", \"No Homepage\", \"No Homepage\", \"No Homepage\", \"No Homepage\", \"No Homepage\", \"With Homepage\", \"No Homepage\", \"No Homepage\", \"No Homepage\", \"With Homepage\", \"With Homepage\", \"No Homepage\", \"No Homepage\", \"With Homepage\", \"No Homepage\", \"No Homepage\", \"No Homepage\", \"No Homepage\", \"With Homepage\", \"No Homepage\", \"No Homepage\", \"No Homepage\", \"With Homepage\", \"With Homepage\", \"With Homepage\", \"With Homepage\", \"No Homepage\", \"With Homepage\", \"No Homepage\", \"With Homepage\", \"With Homepage\", \"No Homepage\", \"No Homepage\", \"No Homepage\", \"No Homepage\", \"With Homepage\", \"With Homepage\", \"No Homepage\", \"No Homepage\", \"No Homepage\", \"No Homepage\", \"No Homepage\", \"No Homepage\", \"No Homepage\", \"With Homepage\", \"With Homepage\", \"No Homepage\", \"With Homepage\", \"With Homepage\", \"No Homepage\", \"With Homepage\", \"No Homepage\", \"No Homepage\", \"With Homepage\", \"No Homepage\", \"No Homepage\", \"No Homepage\", \"No Homepage\", \"No Homepage\", \"No Homepage\", \"No Homepage\", \"No Homepage\", \"No Homepage\", \"With Homepage\", \"No Homepage\", \"With Homepage\", \"No Homepage\", \"No Homepage\", \"With Homepage\", \"No Homepage\", \"No Homepage\", \"No Homepage\", \"With Homepage\", \"No Homepage\", \"No Homepage\", \"No Homepage\", \"No Homepage\", \"No Homepage\", \"No Homepage\", \"With Homepage\", \"No Homepage\", \"No Homepage\", \"No Homepage\", \"With Homepage\", \"No Homepage\", \"No Homepage\", \"No Homepage\", \"No Homepage\", \"With Homepage\", \"No Homepage\", \"No Homepage\", \"With Homepage\", \"No Homepage\", \"With Homepage\", \"No Homepage\", \"No Homepage\", \"No Homepage\", \"No Homepage\", \"With Homepage\", \"No Homepage\", \"No Homepage\", \"No Homepage\", \"With Homepage\", \"With Homepage\", \"No Homepage\", \"No Homepage\", \"With Homepage\", \"With Homepage\", \"No Homepage\", \"No Homepage\", \"No Homepage\", \"No Homepage\", \"No Homepage\", \"No Homepage\", \"No Homepage\", \"With Homepage\", \"No Homepage\", \"No Homepage\", \"With Homepage\", \"No Homepage\", \"No Homepage\", \"No Homepage\", \"No Homepage\", \"With Homepage\", \"No Homepage\", \"No Homepage\", \"No Homepage\", \"With Homepage\", \"No Homepage\", \"With Homepage\", \"With Homepage\", \"With Homepage\", \"With Homepage\", \"No Homepage\", \"With Homepage\", \"With Homepage\", \"No Homepage\", \"No Homepage\", \"No Homepage\", \"With Homepage\", \"No Homepage\", \"With Homepage\", \"With Homepage\", \"With Homepage\", \"With Homepage\", \"With Homepage\", \"With Homepage\", \"No Homepage\", \"No Homepage\", \"No Homepage\", \"With Homepage\", \"No Homepage\", \"With Homepage\", \"With Homepage\", \"No Homepage\", \"No Homepage\", \"No Homepage\", \"No Homepage\", \"With Homepage\", \"No Homepage\", \"With Homepage\", \"With Homepage\", \"With Homepage\", \"With Homepage\", \"With Homepage\", \"With Homepage\", \"With Homepage\", \"No Homepage\", \"No Homepage\", \"No Homepage\", \"With Homepage\", \"No Homepage\", \"No Homepage\", \"With Homepage\", \"With Homepage\", \"No Homepage\", \"No Homepage\", \"No Homepage\", \"With Homepage\", \"No Homepage\", \"No Homepage\", \"No Homepage\", \"With Homepage\", \"No Homepage\", \"No Homepage\", \"No Homepage\", \"With Homepage\", \"No Homepage\", \"With Homepage\", \"With Homepage\", \"No Homepage\", \"No Homepage\", \"With Homepage\", \"With Homepage\", \"No Homepage\", \"No Homepage\", \"With Homepage\", \"No Homepage\", \"With Homepage\", \"No Homepage\", \"No Homepage\", \"With Homepage\", \"With Homepage\", \"No Homepage\", \"With Homepage\", \"No Homepage\", \"No Homepage\", \"With Homepage\", \"No Homepage\", \"With Homepage\", \"With Homepage\", \"No Homepage\", \"No Homepage\", \"No Homepage\", \"No Homepage\", \"No Homepage\", \"No Homepage\", \"No Homepage\", \"No Homepage\", \"With Homepage\", \"No Homepage\", \"With Homepage\", \"With Homepage\", \"No Homepage\", \"No Homepage\", \"With Homepage\", \"No Homepage\", \"With Homepage\", \"With Homepage\", \"No Homepage\", \"No Homepage\", \"No Homepage\", \"With Homepage\", \"No Homepage\", \"With Homepage\", \"No Homepage\", \"No Homepage\", \"No Homepage\", \"With Homepage\", \"No Homepage\", \"No Homepage\", \"No Homepage\", \"No Homepage\", \"No Homepage\", \"No Homepage\", \"With Homepage\", \"With Homepage\", \"With Homepage\", \"No Homepage\", \"No Homepage\", \"No Homepage\", \"With Homepage\", \"No Homepage\", \"No Homepage\", \"No Homepage\", \"No Homepage\", \"With Homepage\", \"No Homepage\", \"No Homepage\", \"No Homepage\", \"No Homepage\", \"No Homepage\", \"No Homepage\", \"No Homepage\", \"No Homepage\", \"No Homepage\", \"With Homepage\", \"No Homepage\", \"With Homepage\", \"No Homepage\", \"With Homepage\", \"No Homepage\", \"No Homepage\", \"No Homepage\", \"With Homepage\", \"No Homepage\", \"No Homepage\", \"No Homepage\", \"With Homepage\", \"With Homepage\", \"No Homepage\", \"No Homepage\", \"No Homepage\", \"No Homepage\", \"No Homepage\", \"No Homepage\", \"No Homepage\", \"No Homepage\", \"No Homepage\", \"No Homepage\", \"No Homepage\", \"With Homepage\", \"No Homepage\", \"No Homepage\", \"No Homepage\", \"With Homepage\", \"With Homepage\", \"With Homepage\", \"With Homepage\", \"No Homepage\", \"No Homepage\", \"No Homepage\", \"No Homepage\", \"No Homepage\", \"With Homepage\", \"With Homepage\", \"No Homepage\", \"With Homepage\", \"No Homepage\", \"No Homepage\", \"With Homepage\", \"No Homepage\", \"No Homepage\", \"No Homepage\", \"No Homepage\", \"No Homepage\", \"No Homepage\", \"No Homepage\", \"No Homepage\", \"No Homepage\", \"No Homepage\", \"No Homepage\", \"With Homepage\", \"No Homepage\", \"No Homepage\", \"With Homepage\", \"No Homepage\", \"No Homepage\", \"No Homepage\", \"No Homepage\", \"No Homepage\", \"No Homepage\", \"With Homepage\", \"With Homepage\", \"No Homepage\", \"With Homepage\", \"No Homepage\", \"No Homepage\", \"No Homepage\", \"With Homepage\", \"No Homepage\", \"No Homepage\", \"No Homepage\", \"No Homepage\", \"No Homepage\", \"No Homepage\", \"No Homepage\", \"No Homepage\", \"No Homepage\", \"With Homepage\", \"No Homepage\", \"With Homepage\", \"No Homepage\", \"No Homepage\", \"No Homepage\", \"No Homepage\", \"No Homepage\", \"With Homepage\", \"No Homepage\", \"With Homepage\", \"No Homepage\", \"No Homepage\", \"No Homepage\", \"No Homepage\", \"No Homepage\", \"No Homepage\", \"No Homepage\", \"No Homepage\", \"No Homepage\", \"No Homepage\", \"No Homepage\", \"No Homepage\", \"No Homepage\", \"No Homepage\", \"No Homepage\", \"No Homepage\", \"With Homepage\", \"No Homepage\", \"No Homepage\", \"No Homepage\", \"With Homepage\", \"With Homepage\", \"With Homepage\", \"No Homepage\", \"No Homepage\", \"No Homepage\", \"No Homepage\", \"No Homepage\", \"No Homepage\", \"No Homepage\", \"With Homepage\", \"No Homepage\", \"No Homepage\", \"No Homepage\", \"With Homepage\", \"With Homepage\", \"With Homepage\", \"No Homepage\", \"No Homepage\", \"No Homepage\", \"No Homepage\", \"No Homepage\", \"With Homepage\", \"No Homepage\", \"No Homepage\", \"With Homepage\", \"No Homepage\", \"No Homepage\", \"With Homepage\", \"No Homepage\", \"No Homepage\", \"No Homepage\", \"No Homepage\", \"With Homepage\", \"No Homepage\", \"No Homepage\", \"No Homepage\", \"No Homepage\", \"No Homepage\", \"No Homepage\", \"With Homepage\", \"With Homepage\", \"No Homepage\", \"With Homepage\", \"No Homepage\", \"No Homepage\", \"No Homepage\", \"No Homepage\", \"With Homepage\", \"With Homepage\", \"With Homepage\", \"No Homepage\", \"No Homepage\", \"No Homepage\", \"With Homepage\", \"No Homepage\", \"With Homepage\", \"With Homepage\", \"No Homepage\", \"With Homepage\", \"With Homepage\", \"No Homepage\", \"No Homepage\", \"No Homepage\", \"No Homepage\", \"No Homepage\", \"With Homepage\", \"No Homepage\", \"With Homepage\", \"No Homepage\", \"No Homepage\", \"No Homepage\", \"No Homepage\", \"With Homepage\", \"With Homepage\", \"No Homepage\", \"With Homepage\", \"With Homepage\", \"With Homepage\", \"With Homepage\", \"No Homepage\", \"No Homepage\", \"With Homepage\", \"No Homepage\", \"No Homepage\", \"No Homepage\", \"No Homepage\", \"No Homepage\", \"With Homepage\", \"No Homepage\", \"No Homepage\", \"With Homepage\", \"With Homepage\", \"No Homepage\", \"No Homepage\", \"No Homepage\", \"No Homepage\", \"With Homepage\", \"No Homepage\", \"With Homepage\", \"No Homepage\", \"No Homepage\", \"No Homepage\", \"With Homepage\", \"No Homepage\", \"With Homepage\", \"No Homepage\", \"No Homepage\", \"With Homepage\", \"No Homepage\", \"With Homepage\", \"No Homepage\", \"No Homepage\", \"No Homepage\", \"No Homepage\", \"No Homepage\", \"With Homepage\", \"With Homepage\", \"No Homepage\", \"No Homepage\", \"With Homepage\", \"No Homepage\", \"No Homepage\", \"No Homepage\", \"No Homepage\", \"No Homepage\", \"No Homepage\", \"No Homepage\", \"With Homepage\", \"No Homepage\", \"No Homepage\", \"With Homepage\", \"With Homepage\", \"With Homepage\", \"No Homepage\", \"With Homepage\", \"No Homepage\", \"With Homepage\", \"No Homepage\", \"With Homepage\", \"No Homepage\", \"No Homepage\", \"With Homepage\", \"With Homepage\", \"No Homepage\", \"No Homepage\", \"No Homepage\", \"No Homepage\", \"With Homepage\", \"No Homepage\", \"No Homepage\", \"No Homepage\", \"With Homepage\", \"No Homepage\", \"No Homepage\", \"With Homepage\", \"No Homepage\", \"No Homepage\", \"With Homepage\", \"No Homepage\", \"No Homepage\", \"No Homepage\", \"No Homepage\", \"No Homepage\", \"No Homepage\", \"With Homepage\", \"No Homepage\", \"With Homepage\", \"No Homepage\", \"No Homepage\", \"No Homepage\", \"No Homepage\", \"With Homepage\", \"No Homepage\", \"No Homepage\", \"No Homepage\", \"No Homepage\", \"No Homepage\", \"No Homepage\", \"With Homepage\", \"No Homepage\", \"With Homepage\", \"No Homepage\", \"With Homepage\", \"No Homepage\", \"No Homepage\", \"No Homepage\", \"With Homepage\", \"No Homepage\", \"With Homepage\", \"No Homepage\", \"No Homepage\", \"With Homepage\", \"No Homepage\", \"With Homepage\", \"No Homepage\", \"No Homepage\", \"No Homepage\", \"With Homepage\", \"No Homepage\", \"No Homepage\", \"No Homepage\", \"With Homepage\", \"With Homepage\", \"With Homepage\", \"No Homepage\", \"With Homepage\", \"With Homepage\", \"With Homepage\", \"With Homepage\", \"With Homepage\", \"No Homepage\", \"No Homepage\", \"With Homepage\", \"With Homepage\", \"With Homepage\", \"With Homepage\", \"No Homepage\", \"No Homepage\", \"With Homepage\", \"No Homepage\", \"No Homepage\", \"No Homepage\", \"No Homepage\", \"No Homepage\", \"No Homepage\", \"No Homepage\", \"With Homepage\", \"No Homepage\", \"No Homepage\", \"With Homepage\", \"With Homepage\", \"No Homepage\", \"No Homepage\", \"No Homepage\", \"No Homepage\", \"No Homepage\", \"No Homepage\", \"With Homepage\", \"No Homepage\", \"With Homepage\", \"No Homepage\", \"No Homepage\", \"No Homepage\", \"With Homepage\", \"No Homepage\", \"No Homepage\", \"With Homepage\", \"With Homepage\", \"With Homepage\", \"With Homepage\", \"No Homepage\", \"No Homepage\", \"No Homepage\", \"With Homepage\", \"No Homepage\", \"No Homepage\", \"No Homepage\", \"No Homepage\", \"No Homepage\", \"With Homepage\", \"No Homepage\", \"No Homepage\", \"No Homepage\", \"With Homepage\", \"With Homepage\", \"No Homepage\", \"No Homepage\", \"With Homepage\", \"No Homepage\", \"No Homepage\", \"No Homepage\", \"No Homepage\", \"No Homepage\", \"No Homepage\", \"No Homepage\", \"No Homepage\", \"With Homepage\", \"No Homepage\", \"No Homepage\", \"No Homepage\", \"No Homepage\", \"No Homepage\", \"No Homepage\", \"No Homepage\", \"No Homepage\", \"No Homepage\", \"No Homepage\", \"No Homepage\", \"With Homepage\", \"No Homepage\", \"No Homepage\", \"No Homepage\", \"With Homepage\", \"With Homepage\", \"No Homepage\", \"No Homepage\", \"With Homepage\", \"No Homepage\", \"No Homepage\", \"No Homepage\", \"No Homepage\", \"No Homepage\", \"No Homepage\", \"With Homepage\", \"With Homepage\", \"With Homepage\", \"No Homepage\", \"No Homepage\", \"No Homepage\", \"No Homepage\", \"With Homepage\", \"No Homepage\", \"No Homepage\", \"No Homepage\", \"No Homepage\", \"With Homepage\", \"No Homepage\", \"With Homepage\", \"No Homepage\", \"No Homepage\", \"No Homepage\", \"No Homepage\", \"No Homepage\", \"No Homepage\", \"No Homepage\", \"No Homepage\", \"No Homepage\", \"No Homepage\", \"With Homepage\", \"No Homepage\", \"With Homepage\", \"No Homepage\", \"With Homepage\", \"No Homepage\", \"With Homepage\", \"No Homepage\", \"With Homepage\", \"No Homepage\", \"With Homepage\", \"No Homepage\", \"No Homepage\", \"No Homepage\", \"No Homepage\", \"No Homepage\", \"No Homepage\", \"With Homepage\", \"No Homepage\", \"No Homepage\", \"With Homepage\", \"With Homepage\", \"No Homepage\", \"No Homepage\", \"With Homepage\", \"With Homepage\", \"No Homepage\", \"No Homepage\", \"No Homepage\", \"No Homepage\", \"With Homepage\", \"No Homepage\", \"No Homepage\", \"No Homepage\", \"With Homepage\", \"No Homepage\", \"No Homepage\", \"With Homepage\", \"No Homepage\", \"No Homepage\", \"With Homepage\", \"With Homepage\", \"With Homepage\", \"With Homepage\", \"No Homepage\", \"No Homepage\", \"With Homepage\", \"With Homepage\", \"With Homepage\", \"With Homepage\", \"With Homepage\", \"With Homepage\", \"No Homepage\", \"No Homepage\", \"With Homepage\", \"With Homepage\", \"No Homepage\", \"With Homepage\", \"No Homepage\", \"No Homepage\", \"No Homepage\", \"No Homepage\", \"No Homepage\", \"No Homepage\", \"With Homepage\", \"With Homepage\", \"With Homepage\", \"With Homepage\", \"No Homepage\", \"No Homepage\", \"With Homepage\", \"No Homepage\", \"No Homepage\", \"No Homepage\", \"No Homepage\", \"No Homepage\", \"No Homepage\", \"No Homepage\", \"With Homepage\", \"No Homepage\", \"With Homepage\", \"No Homepage\", \"No Homepage\", \"With Homepage\", \"No Homepage\", \"No Homepage\", \"With Homepage\", \"With Homepage\", \"No Homepage\", \"No Homepage\", \"With Homepage\", \"No Homepage\", \"With Homepage\", \"No Homepage\", \"No Homepage\", \"No Homepage\", \"With Homepage\", \"With Homepage\", \"No Homepage\", \"With Homepage\", \"No Homepage\", \"No Homepage\", \"No Homepage\", \"With Homepage\", \"No Homepage\", \"With Homepage\", \"No Homepage\", \"No Homepage\", \"No Homepage\", \"With Homepage\", \"No Homepage\", \"No Homepage\", \"With Homepage\", \"With Homepage\", \"With Homepage\", \"No Homepage\", \"No Homepage\", \"With Homepage\", \"With Homepage\", \"With Homepage\", \"No Homepage\", \"With Homepage\", \"No Homepage\", \"No Homepage\", \"No Homepage\", \"With Homepage\", \"No Homepage\", \"No Homepage\", \"With Homepage\", \"With Homepage\", \"No Homepage\", \"With Homepage\", \"No Homepage\", \"With Homepage\", \"With Homepage\", \"No Homepage\", \"With Homepage\", \"No Homepage\", \"No Homepage\", \"With Homepage\", \"No Homepage\", \"No Homepage\", \"No Homepage\", \"No Homepage\", \"No Homepage\", \"No Homepage\", \"No Homepage\", \"With Homepage\", \"With Homepage\", \"With Homepage\", \"No Homepage\", \"With Homepage\", \"With Homepage\", \"With Homepage\", \"With Homepage\", \"No Homepage\", \"No Homepage\", \"With Homepage\", \"No Homepage\", \"No Homepage\", \"With Homepage\", \"No Homepage\", \"No Homepage\", \"No Homepage\", \"No Homepage\", \"No Homepage\", \"With Homepage\", \"With Homepage\", \"No Homepage\", \"With Homepage\", \"No Homepage\", \"With Homepage\", \"No Homepage\", \"No Homepage\", \"No Homepage\", \"No Homepage\", \"No Homepage\", \"No Homepage\", \"No Homepage\", \"With Homepage\", \"With Homepage\", \"No Homepage\", \"No Homepage\", \"No Homepage\", \"With Homepage\", \"No Homepage\", \"With Homepage\", \"With Homepage\", \"No Homepage\", \"With Homepage\", \"No Homepage\", \"No Homepage\", \"With Homepage\", \"No Homepage\", \"No Homepage\", \"No Homepage\", \"No Homepage\", \"No Homepage\", \"No Homepage\", \"With Homepage\", \"With Homepage\", \"No Homepage\", \"No Homepage\", \"No Homepage\", \"With Homepage\", \"With Homepage\", \"With Homepage\", \"No Homepage\", \"No Homepage\", \"No Homepage\", \"No Homepage\", \"No Homepage\", \"With Homepage\", \"No Homepage\", \"With Homepage\", \"No Homepage\", \"No Homepage\", \"No Homepage\", \"With Homepage\", \"With Homepage\", \"With Homepage\", \"With Homepage\", \"No Homepage\", \"No Homepage\", \"No Homepage\", \"No Homepage\", \"No Homepage\", \"With Homepage\", \"No Homepage\", \"With Homepage\", \"No Homepage\", \"No Homepage\", \"No Homepage\", \"No Homepage\", \"With Homepage\", \"No Homepage\", \"No Homepage\", \"No Homepage\", \"No Homepage\", \"With Homepage\", \"No Homepage\", \"With Homepage\", \"No Homepage\", \"With Homepage\", \"No Homepage\", \"No Homepage\", \"No Homepage\", \"No Homepage\", \"With Homepage\", \"No Homepage\", \"No Homepage\", \"No Homepage\", \"No Homepage\", \"With Homepage\", \"No Homepage\", \"No Homepage\", \"No Homepage\", \"No Homepage\", \"With Homepage\", \"No Homepage\", \"No Homepage\", \"With Homepage\", \"No Homepage\", \"No Homepage\", \"No Homepage\", \"No Homepage\", \"No Homepage\", \"No Homepage\", \"No Homepage\", \"No Homepage\", \"With Homepage\", \"No Homepage\", \"No Homepage\", \"No Homepage\", \"No Homepage\", \"No Homepage\", \"No Homepage\", \"No Homepage\", \"No Homepage\", \"No Homepage\", \"With Homepage\", \"No Homepage\", \"No Homepage\", \"No Homepage\", \"No Homepage\", \"With Homepage\", \"With Homepage\", \"With Homepage\", \"With Homepage\", \"No Homepage\", \"With Homepage\", \"No Homepage\", \"No Homepage\", \"With Homepage\", \"No Homepage\", \"No Homepage\", \"No Homepage\", \"With Homepage\", \"With Homepage\", \"With Homepage\", \"No Homepage\", \"No Homepage\", \"With Homepage\", \"No Homepage\", \"With Homepage\", \"No Homepage\", \"No Homepage\", \"No Homepage\", \"No Homepage\", \"With Homepage\", \"No Homepage\", \"With Homepage\", \"No Homepage\", \"With Homepage\", \"No Homepage\", \"No Homepage\", \"No Homepage\", \"No Homepage\", \"With Homepage\", \"No Homepage\", \"No Homepage\", \"No Homepage\", \"No Homepage\", \"No Homepage\", \"No Homepage\", \"With Homepage\", \"No Homepage\", \"No Homepage\", \"With Homepage\", \"No Homepage\", \"No Homepage\", \"No Homepage\", \"No Homepage\", \"With Homepage\", \"With Homepage\", \"With Homepage\", \"No Homepage\", \"No Homepage\", \"No Homepage\", \"No Homepage\", \"No Homepage\", \"No Homepage\", \"No Homepage\", \"With Homepage\", \"No Homepage\", \"With Homepage\", \"With Homepage\", \"No Homepage\", \"With Homepage\", \"No Homepage\", \"No Homepage\", \"No Homepage\", \"No Homepage\", \"With Homepage\", \"With Homepage\", \"No Homepage\", \"No Homepage\", \"No Homepage\", \"With Homepage\", \"With Homepage\", \"No Homepage\", \"No Homepage\", \"No Homepage\", \"With Homepage\", \"No Homepage\", \"No Homepage\", \"No Homepage\", \"No Homepage\", \"No Homepage\", \"No Homepage\", \"With Homepage\", \"With Homepage\", \"With Homepage\", \"No Homepage\", \"With Homepage\", \"No Homepage\", \"No Homepage\", \"With Homepage\", \"With Homepage\", \"No Homepage\", \"No Homepage\", \"No Homepage\", \"With Homepage\", \"With Homepage\", \"No Homepage\", \"No Homepage\", \"No Homepage\", \"No Homepage\", \"With Homepage\", \"With Homepage\", \"With Homepage\", \"With Homepage\", \"No Homepage\", \"No Homepage\", \"No Homepage\", \"No Homepage\", \"No Homepage\", \"No Homepage\", \"No Homepage\", \"With Homepage\", \"With Homepage\", \"No Homepage\", \"With Homepage\", \"No Homepage\", \"No Homepage\", \"No Homepage\", \"No Homepage\", \"No Homepage\", \"No Homepage\", \"No Homepage\", \"No Homepage\", \"With Homepage\", \"With Homepage\", \"No Homepage\", \"With Homepage\", \"No Homepage\", \"With Homepage\", \"No Homepage\", \"No Homepage\", \"No Homepage\", \"With Homepage\", \"No Homepage\", \"No Homepage\", \"With Homepage\", \"No Homepage\", \"No Homepage\", \"With Homepage\", \"No Homepage\", \"No Homepage\", \"No Homepage\", \"No Homepage\", \"No Homepage\", \"No Homepage\", \"No Homepage\", \"No Homepage\", \"No Homepage\", \"With Homepage\", \"With Homepage\", \"With Homepage\", \"No Homepage\", \"With Homepage\", \"No Homepage\", \"No Homepage\", \"With Homepage\", \"No Homepage\", \"No Homepage\", \"No Homepage\", \"No Homepage\", \"No Homepage\", \"With Homepage\", \"With Homepage\", \"With Homepage\", \"With Homepage\", \"No Homepage\", \"With Homepage\", \"No Homepage\", \"No Homepage\", \"No Homepage\", \"No Homepage\", \"No Homepage\", \"No Homepage\", \"With Homepage\", \"With Homepage\", \"No Homepage\", \"No Homepage\", \"No Homepage\", \"No Homepage\", \"With Homepage\", \"No Homepage\", \"No Homepage\", \"No Homepage\", \"No Homepage\", \"No Homepage\", \"With Homepage\", \"No Homepage\", \"No Homepage\", \"No Homepage\", \"No Homepage\", \"With Homepage\", \"No Homepage\", \"No Homepage\", \"No Homepage\", \"With Homepage\", \"No Homepage\", \"No Homepage\", \"No Homepage\", \"No Homepage\", \"No Homepage\", \"No Homepage\", \"No Homepage\", \"With Homepage\", \"With Homepage\", \"No Homepage\", \"With Homepage\", \"No Homepage\", \"No Homepage\", \"With Homepage\", \"No Homepage\", \"No Homepage\", \"With Homepage\", \"No Homepage\", \"With Homepage\", \"No Homepage\", \"No Homepage\", \"No Homepage\", \"No Homepage\", \"No Homepage\", \"No Homepage\", \"No Homepage\", \"With Homepage\", \"With Homepage\", \"With Homepage\", \"No Homepage\", \"No Homepage\", \"With Homepage\", \"No Homepage\", \"With Homepage\", \"No Homepage\", \"No Homepage\", \"No Homepage\", \"With Homepage\", \"With Homepage\", \"No Homepage\", \"With Homepage\", \"No Homepage\", \"No Homepage\", \"No Homepage\", \"No Homepage\", \"No Homepage\", \"With Homepage\", \"No Homepage\", \"No Homepage\", \"No Homepage\", \"No Homepage\", \"With Homepage\", \"No Homepage\", \"No Homepage\", \"No Homepage\", \"No Homepage\", \"No Homepage\", \"No Homepage\", \"With Homepage\", \"With Homepage\", \"No Homepage\", \"With Homepage\", \"No Homepage\", \"No Homepage\", \"With Homepage\", \"No Homepage\", \"No Homepage\", \"No Homepage\", \"With Homepage\", \"With Homepage\", \"No Homepage\", \"No Homepage\", \"No Homepage\", \"No Homepage\", \"With Homepage\", \"With Homepage\", \"No Homepage\", \"No Homepage\", \"With Homepage\", \"No Homepage\", \"With Homepage\", \"No Homepage\", \"With Homepage\", \"No Homepage\", \"No Homepage\", \"No Homepage\", \"No Homepage\", \"No Homepage\", \"No Homepage\", \"No Homepage\", \"With Homepage\", \"No Homepage\", \"With Homepage\", \"No Homepage\", \"No Homepage\", \"No Homepage\", \"With Homepage\", \"No Homepage\", \"With Homepage\", \"No Homepage\", \"No Homepage\", \"No Homepage\", \"With Homepage\", \"No Homepage\", \"With Homepage\", \"With Homepage\", \"With Homepage\", \"No Homepage\", \"No Homepage\", \"No Homepage\", \"No Homepage\", \"No Homepage\", \"No Homepage\", \"With Homepage\", \"No Homepage\", \"No Homepage\", \"No Homepage\", \"No Homepage\", \"No Homepage\", \"With Homepage\", \"No Homepage\", \"With Homepage\", \"With Homepage\", \"No Homepage\", \"No Homepage\", \"No Homepage\", \"No Homepage\", \"With Homepage\", \"No Homepage\", \"No Homepage\", \"No Homepage\", \"With Homepage\", \"With Homepage\", \"With Homepage\", \"No Homepage\", \"No Homepage\", \"No Homepage\", \"No Homepage\", \"No Homepage\", \"No Homepage\", \"With Homepage\", \"With Homepage\", \"With Homepage\", \"No Homepage\", \"With Homepage\", \"No Homepage\", \"No Homepage\", \"With Homepage\", \"With Homepage\", \"With Homepage\", \"No Homepage\", \"With Homepage\", \"No Homepage\", \"No Homepage\", \"No Homepage\", \"No Homepage\", \"No Homepage\", \"No Homepage\", \"With Homepage\", \"No Homepage\", \"No Homepage\", \"No Homepage\", \"No Homepage\", \"No Homepage\", \"No Homepage\", \"No Homepage\", \"No Homepage\", \"With Homepage\", \"With Homepage\", \"No Homepage\", \"No Homepage\", \"No Homepage\", \"No Homepage\", \"No Homepage\", \"No Homepage\", \"No Homepage\", \"No Homepage\", \"No Homepage\", \"No Homepage\", \"No Homepage\", \"With Homepage\", \"No Homepage\", \"No Homepage\", \"No Homepage\", \"No Homepage\", \"No Homepage\", \"With Homepage\", \"With Homepage\", \"No Homepage\", \"No Homepage\", \"With Homepage\", \"With Homepage\", \"With Homepage\", \"With Homepage\", \"With Homepage\", \"With Homepage\", \"With Homepage\", \"No Homepage\", \"No Homepage\", \"No Homepage\", \"No Homepage\", \"No Homepage\", \"With Homepage\", \"No Homepage\", \"No Homepage\", \"No Homepage\", \"No Homepage\", \"No Homepage\", \"No Homepage\", \"No Homepage\", \"No Homepage\", \"No Homepage\", \"No Homepage\", \"No Homepage\", \"With Homepage\", \"With Homepage\", \"With Homepage\", \"No Homepage\", \"No Homepage\", \"With Homepage\", \"No Homepage\", \"No Homepage\", \"No Homepage\", \"No Homepage\", \"No Homepage\", \"No Homepage\", \"No Homepage\", \"With Homepage\", \"No Homepage\", \"No Homepage\", \"With Homepage\", \"No Homepage\", \"With Homepage\", \"No Homepage\", \"With Homepage\", \"With Homepage\", \"No Homepage\", \"No Homepage\", \"No Homepage\", \"With Homepage\", \"No Homepage\", \"With Homepage\", \"No Homepage\", \"No Homepage\", \"No Homepage\", \"No Homepage\", \"No Homepage\", \"With Homepage\", \"With Homepage\", \"No Homepage\", \"No Homepage\", \"No Homepage\", \"No Homepage\", \"No Homepage\", \"No Homepage\", \"No Homepage\", \"No Homepage\", \"No Homepage\", \"No Homepage\", \"No Homepage\", \"No Homepage\", \"With Homepage\", \"No Homepage\", \"With Homepage\", \"No Homepage\", \"No Homepage\", \"No Homepage\", \"With Homepage\", \"No Homepage\", \"With Homepage\", \"No Homepage\", \"No Homepage\", \"With Homepage\", \"With Homepage\", \"With Homepage\", \"No Homepage\", \"No Homepage\", \"With Homepage\", \"No Homepage\", \"No Homepage\", \"No Homepage\", \"No Homepage\", \"With Homepage\", \"With Homepage\", \"No Homepage\", \"No Homepage\", \"With Homepage\", \"With Homepage\", \"No Homepage\", \"With Homepage\", \"No Homepage\", \"No Homepage\", \"No Homepage\", \"No Homepage\", \"No Homepage\", \"With Homepage\", \"With Homepage\", \"No Homepage\", \"With Homepage\", \"With Homepage\", \"No Homepage\", \"No Homepage\", \"No Homepage\", \"With Homepage\", \"With Homepage\", \"With Homepage\", \"With Homepage\", \"With Homepage\", \"No Homepage\", \"No Homepage\", \"No Homepage\", \"With Homepage\", \"No Homepage\", \"No Homepage\", \"No Homepage\", \"No Homepage\", \"No Homepage\", \"No Homepage\", \"With Homepage\", \"No Homepage\", \"No Homepage\", \"No Homepage\", \"No Homepage\", \"No Homepage\", \"No Homepage\", \"No Homepage\", \"No Homepage\", \"No Homepage\", \"With Homepage\", \"No Homepage\", \"No Homepage\", \"With Homepage\", \"No Homepage\", \"No Homepage\", \"No Homepage\", \"No Homepage\", \"With Homepage\", \"No Homepage\", \"No Homepage\", \"No Homepage\", \"With Homepage\", \"No Homepage\", \"With Homepage\", \"No Homepage\", \"No Homepage\", \"No Homepage\", \"No Homepage\", \"No Homepage\", \"No Homepage\", \"No Homepage\", \"With Homepage\", \"No Homepage\", \"No Homepage\", \"No Homepage\", \"No Homepage\", \"No Homepage\", \"No Homepage\", \"No Homepage\", \"No Homepage\", \"No Homepage\", \"No Homepage\", \"No Homepage\", \"No Homepage\", \"No Homepage\", \"No Homepage\", \"No Homepage\", \"No Homepage\", \"No Homepage\", \"No Homepage\", \"No Homepage\", \"No Homepage\", \"No Homepage\", \"No Homepage\", \"No Homepage\", \"With Homepage\", \"No Homepage\", \"No Homepage\", \"With Homepage\", \"No Homepage\", \"No Homepage\", \"No Homepage\", \"With Homepage\", \"No Homepage\", \"No Homepage\", \"With Homepage\", \"No Homepage\", \"With Homepage\", \"No Homepage\", \"With Homepage\", \"No Homepage\", \"With Homepage\", \"No Homepage\", \"With Homepage\", \"With Homepage\", \"No Homepage\", \"No Homepage\", \"No Homepage\", \"No Homepage\", \"No Homepage\", \"With Homepage\", \"No Homepage\", \"No Homepage\", \"No Homepage\", \"With Homepage\", \"No Homepage\", \"With Homepage\", \"With Homepage\", \"No Homepage\", \"With Homepage\", \"No Homepage\", \"No Homepage\", \"No Homepage\", \"No Homepage\", \"No Homepage\", \"With Homepage\", \"No Homepage\", \"No Homepage\", \"No Homepage\", \"With Homepage\", \"With Homepage\", \"With Homepage\", \"No Homepage\", \"No Homepage\", \"No Homepage\", \"No Homepage\", \"With Homepage\", \"With Homepage\", \"No Homepage\", \"No Homepage\", \"With Homepage\", \"No Homepage\", \"With Homepage\", \"With Homepage\", \"No Homepage\", \"With Homepage\", \"No Homepage\", \"No Homepage\", \"No Homepage\", \"No Homepage\", \"With Homepage\", \"With Homepage\", \"No Homepage\", \"No Homepage\", \"No Homepage\", \"No Homepage\", \"No Homepage\", \"With Homepage\", \"No Homepage\", \"With Homepage\", \"With Homepage\", \"No Homepage\", \"No Homepage\", \"With Homepage\", \"No Homepage\", \"No Homepage\", \"With Homepage\", \"With Homepage\", \"With Homepage\", \"With Homepage\", \"No Homepage\", \"No Homepage\", \"No Homepage\", \"With Homepage\", \"No Homepage\", \"No Homepage\", \"With Homepage\", \"No Homepage\", \"No Homepage\", \"No Homepage\", \"No Homepage\", \"No Homepage\", \"No Homepage\", \"With Homepage\", \"No Homepage\", \"No Homepage\", \"No Homepage\", \"No Homepage\", \"No Homepage\", \"With Homepage\", \"No Homepage\", \"No Homepage\", \"No Homepage\", \"No Homepage\", \"With Homepage\", \"With Homepage\", \"With Homepage\", \"No Homepage\", \"No Homepage\", \"No Homepage\", \"No Homepage\", \"No Homepage\", \"With Homepage\", \"No Homepage\", \"No Homepage\", \"With Homepage\", \"No Homepage\", \"With Homepage\", \"No Homepage\", \"With Homepage\", \"No Homepage\", \"No Homepage\", \"No Homepage\", \"No Homepage\", \"With Homepage\", \"No Homepage\", \"With Homepage\", \"With Homepage\", \"No Homepage\", \"No Homepage\", \"No Homepage\", \"With Homepage\", \"No Homepage\", \"No Homepage\", \"No Homepage\", \"No Homepage\", \"No Homepage\", \"No Homepage\", \"No Homepage\", \"No Homepage\", \"With Homepage\", \"No Homepage\", \"With Homepage\", \"No Homepage\", \"With Homepage\", \"No Homepage\", \"With Homepage\", \"No Homepage\", \"With Homepage\", \"No Homepage\", \"With Homepage\", \"No Homepage\", \"No Homepage\", \"With Homepage\", \"With Homepage\", \"With Homepage\", \"No Homepage\", \"No Homepage\", \"No Homepage\", \"With Homepage\", \"No Homepage\", \"With Homepage\", \"With Homepage\", \"With Homepage\", \"No Homepage\", \"With Homepage\", \"No Homepage\", \"No Homepage\", \"With Homepage\", \"With Homepage\", \"With Homepage\", \"No Homepage\", \"With Homepage\", \"No Homepage\", \"With Homepage\", \"With Homepage\", \"No Homepage\", \"No Homepage\", \"No Homepage\", \"No Homepage\", \"With Homepage\", \"With Homepage\", \"No Homepage\", \"With Homepage\", \"With Homepage\", \"No Homepage\", \"No Homepage\", \"No Homepage\", \"No Homepage\", \"With Homepage\", \"No Homepage\", \"No Homepage\", \"With Homepage\", \"No Homepage\", \"No Homepage\", \"No Homepage\", \"No Homepage\", \"With Homepage\", \"No Homepage\", \"With Homepage\", \"No Homepage\", \"No Homepage\", \"No Homepage\", \"With Homepage\", \"No Homepage\", \"With Homepage\", \"No Homepage\", \"No Homepage\", \"No Homepage\", \"With Homepage\", \"No Homepage\", \"No Homepage\", \"With Homepage\", \"With Homepage\", \"With Homepage\", \"No Homepage\", \"No Homepage\", \"No Homepage\", \"No Homepage\", \"No Homepage\", \"No Homepage\", \"No Homepage\", \"No Homepage\", \"No Homepage\", \"With Homepage\", \"No Homepage\", \"No Homepage\", \"No Homepage\", \"No Homepage\", \"No Homepage\", \"No Homepage\", \"No Homepage\", \"No Homepage\", \"No Homepage\", \"No Homepage\", \"No Homepage\", \"With Homepage\", \"No Homepage\", \"No Homepage\", \"No Homepage\", \"With Homepage\", \"No Homepage\", \"No Homepage\", \"No Homepage\", \"No Homepage\", \"With Homepage\", \"With Homepage\", \"With Homepage\", \"With Homepage\", \"No Homepage\", \"No Homepage\", \"No Homepage\", \"No Homepage\", \"No Homepage\", \"No Homepage\", \"With Homepage\", \"No Homepage\", \"No Homepage\", \"With Homepage\", \"No Homepage\", \"No Homepage\", \"No Homepage\", \"With Homepage\", \"No Homepage\", \"With Homepage\", \"With Homepage\", \"No Homepage\", \"No Homepage\", \"No Homepage\", \"No Homepage\", \"No Homepage\", \"With Homepage\", \"No Homepage\", \"No Homepage\", \"With Homepage\", \"With Homepage\", \"No Homepage\", \"No Homepage\", \"With Homepage\", \"With Homepage\", \"No Homepage\", \"With Homepage\", \"No Homepage\", \"No Homepage\", \"With Homepage\", \"With Homepage\", \"No Homepage\", \"With Homepage\", \"With Homepage\", \"No Homepage\", \"No Homepage\", \"No Homepage\", \"No Homepage\", \"No Homepage\", \"No Homepage\", \"With Homepage\", \"No Homepage\", \"No Homepage\", \"No Homepage\", \"With Homepage\", \"With Homepage\", \"With Homepage\", \"With Homepage\", \"No Homepage\", \"With Homepage\", \"No Homepage\", \"No Homepage\", \"No Homepage\", \"No Homepage\", \"No Homepage\", \"With Homepage\", \"With Homepage\", \"No Homepage\", \"No Homepage\", \"No Homepage\", \"No Homepage\", \"No Homepage\", \"No Homepage\", \"No Homepage\", \"No Homepage\", \"No Homepage\", \"No Homepage\", \"No Homepage\", \"With Homepage\", \"With Homepage\", \"With Homepage\", \"With Homepage\", \"No Homepage\", \"With Homepage\", \"No Homepage\", \"No Homepage\", \"No Homepage\", \"No Homepage\", \"No Homepage\", \"With Homepage\", \"With Homepage\", \"No Homepage\", \"No Homepage\", \"With Homepage\", \"No Homepage\", \"With Homepage\", \"No Homepage\", \"No Homepage\", \"No Homepage\", \"No Homepage\", \"With Homepage\", \"No Homepage\", \"No Homepage\", \"No Homepage\", \"No Homepage\", \"No Homepage\", \"No Homepage\", \"With Homepage\", \"No Homepage\", \"No Homepage\", \"With Homepage\", \"No Homepage\", \"With Homepage\", \"No Homepage\", \"With Homepage\", \"No Homepage\", \"No Homepage\", \"No Homepage\", \"No Homepage\", \"No Homepage\", \"No Homepage\", \"No Homepage\", \"No Homepage\", \"With Homepage\", \"With Homepage\", \"No Homepage\", \"No Homepage\", \"With Homepage\", \"No Homepage\", \"With Homepage\", \"No Homepage\", \"With Homepage\", \"No Homepage\", \"With Homepage\", \"No Homepage\", \"No Homepage\", \"With Homepage\", \"No Homepage\", \"With Homepage\", \"No Homepage\", \"With Homepage\", \"No Homepage\", \"No Homepage\", \"No Homepage\", \"No Homepage\", \"No Homepage\", \"No Homepage\", \"No Homepage\", \"No Homepage\", \"No Homepage\", \"With Homepage\", \"No Homepage\", \"With Homepage\", \"No Homepage\", \"No Homepage\", \"No Homepage\", \"No Homepage\", \"With Homepage\", \"No Homepage\", \"No Homepage\", \"With Homepage\", \"No Homepage\", \"No Homepage\", \"No Homepage\", \"No Homepage\", \"With Homepage\", \"With Homepage\", \"No Homepage\", \"No Homepage\", \"No Homepage\", \"No Homepage\", \"No Homepage\", \"With Homepage\", \"With Homepage\", \"No Homepage\", \"No Homepage\", \"No Homepage\", \"No Homepage\", \"With Homepage\", \"With Homepage\", \"No Homepage\", \"No Homepage\", \"No Homepage\", \"No Homepage\", \"With Homepage\", \"No Homepage\", \"With Homepage\", \"With Homepage\", \"With Homepage\", \"No Homepage\", \"With Homepage\", \"No Homepage\", \"No Homepage\", \"No Homepage\", \"With Homepage\", \"With Homepage\", \"With Homepage\", \"No Homepage\", \"No Homepage\", \"No Homepage\", \"No Homepage\", \"No Homepage\", \"No Homepage\", \"No Homepage\", \"No Homepage\", \"No Homepage\", \"No Homepage\", \"No Homepage\", \"No Homepage\", \"No Homepage\", \"No Homepage\", \"No Homepage\", \"No Homepage\", \"No Homepage\", \"With Homepage\", \"No Homepage\", \"With Homepage\", \"No Homepage\", \"With Homepage\", \"No Homepage\", \"No Homepage\", \"No Homepage\", \"No Homepage\", \"No Homepage\", \"With Homepage\", \"No Homepage\", \"No Homepage\", \"With Homepage\", \"No Homepage\", \"No Homepage\", \"With Homepage\", \"No Homepage\", \"No Homepage\", \"No Homepage\", \"No Homepage\", \"No Homepage\", \"With Homepage\", \"No Homepage\", \"With Homepage\", \"No Homepage\", \"No Homepage\", \"With Homepage\", \"No Homepage\", \"No Homepage\", \"No Homepage\", \"No Homepage\", \"No Homepage\", \"No Homepage\", \"With Homepage\", \"No Homepage\", \"No Homepage\", \"No Homepage\", \"No Homepage\", \"No Homepage\", \"No Homepage\", \"No Homepage\", \"No Homepage\", \"With Homepage\", \"No Homepage\", \"No Homepage\", \"No Homepage\", \"No Homepage\", \"No Homepage\", \"With Homepage\", \"No Homepage\", \"No Homepage\", \"With Homepage\", \"With Homepage\", \"No Homepage\", \"No Homepage\", \"With Homepage\", \"No Homepage\", \"With Homepage\", \"No Homepage\", \"No Homepage\", \"With Homepage\", \"No Homepage\", \"With Homepage\", \"No Homepage\", \"No Homepage\", \"No Homepage\", \"No Homepage\", \"With Homepage\", \"No Homepage\", \"With Homepage\", \"With Homepage\", \"With Homepage\", \"With Homepage\", \"With Homepage\", \"With Homepage\", \"No Homepage\", \"No Homepage\", \"With Homepage\", \"No Homepage\", \"No Homepage\", \"No Homepage\", \"No Homepage\", \"With Homepage\", \"No Homepage\", \"With Homepage\", \"No Homepage\", \"No Homepage\", \"No Homepage\", \"No Homepage\", \"No Homepage\", \"With Homepage\", \"No Homepage\", \"No Homepage\", \"No Homepage\", \"No Homepage\", \"No Homepage\", \"No Homepage\", \"No Homepage\", \"No Homepage\", \"No Homepage\", \"With Homepage\", \"With Homepage\", \"With Homepage\", \"With Homepage\", \"No Homepage\", \"No Homepage\", \"No Homepage\", \"No Homepage\", \"With Homepage\", \"No Homepage\", \"No Homepage\", \"No Homepage\", \"With Homepage\", \"No Homepage\", \"No Homepage\", \"No Homepage\", \"No Homepage\", \"No Homepage\", \"No Homepage\", \"With Homepage\", \"No Homepage\", \"No Homepage\", \"No Homepage\", \"No Homepage\", \"No Homepage\", \"No Homepage\", \"No Homepage\", \"With Homepage\", \"No Homepage\", \"With Homepage\", \"No Homepage\", \"No Homepage\", \"With Homepage\", \"No Homepage\", \"No Homepage\", \"No Homepage\", \"No Homepage\", \"No Homepage\", \"No Homepage\", \"With Homepage\", \"No Homepage\", \"No Homepage\", \"With Homepage\", \"With Homepage\", \"No Homepage\", \"With Homepage\", \"With Homepage\", \"No Homepage\", \"With Homepage\", \"No Homepage\", \"No Homepage\", \"No Homepage\", \"No Homepage\", \"No Homepage\", \"No Homepage\", \"No Homepage\", \"With Homepage\", \"No Homepage\", \"No Homepage\", \"No Homepage\", \"No Homepage\", \"No Homepage\", \"No Homepage\", \"No Homepage\", \"No Homepage\", \"With Homepage\", \"No Homepage\", \"No Homepage\", \"With Homepage\", \"With Homepage\", \"No Homepage\", \"With Homepage\", \"No Homepage\", \"No Homepage\", \"No Homepage\", \"No Homepage\", \"With Homepage\", \"No Homepage\", \"With Homepage\", \"No Homepage\", \"No Homepage\", \"No Homepage\", \"No Homepage\", \"With Homepage\", \"No Homepage\", \"With Homepage\", \"No Homepage\", \"No Homepage\", \"No Homepage\", \"With Homepage\", \"No Homepage\", \"With Homepage\", \"No Homepage\", \"No Homepage\", \"No Homepage\", \"No Homepage\", \"No Homepage\", \"With Homepage\", \"No Homepage\", \"With Homepage\", \"With Homepage\", \"No Homepage\", \"With Homepage\", \"With Homepage\", \"No Homepage\", \"With Homepage\", \"No Homepage\", \"With Homepage\", \"No Homepage\", \"No Homepage\", \"No Homepage\", \"No Homepage\", \"No Homepage\", \"No Homepage\", \"No Homepage\", \"No Homepage\", \"No Homepage\", \"No Homepage\", \"No Homepage\", \"With Homepage\", \"No Homepage\", \"No Homepage\", \"No Homepage\", \"With Homepage\", \"With Homepage\", \"No Homepage\", \"With Homepage\", \"No Homepage\", \"No Homepage\", \"With Homepage\", \"No Homepage\", \"No Homepage\", \"No Homepage\", \"With Homepage\", \"No Homepage\", \"No Homepage\", \"With Homepage\", \"With Homepage\", \"No Homepage\", \"No Homepage\", \"No Homepage\", \"No Homepage\", \"With Homepage\", \"No Homepage\", \"No Homepage\", \"No Homepage\", \"No Homepage\", \"With Homepage\", \"No Homepage\", \"No Homepage\", \"No Homepage\", \"No Homepage\", \"With Homepage\", \"No Homepage\", \"No Homepage\", \"No Homepage\", \"No Homepage\", \"No Homepage\", \"No Homepage\", \"With Homepage\", \"With Homepage\", \"No Homepage\", \"With Homepage\", \"No Homepage\", \"No Homepage\", \"No Homepage\", \"No Homepage\", \"No Homepage\", \"No Homepage\", \"No Homepage\", \"With Homepage\", \"With Homepage\", \"With Homepage\", \"No Homepage\", \"No Homepage\", \"No Homepage\", \"With Homepage\", \"With Homepage\", \"No Homepage\", \"No Homepage\", \"No Homepage\", \"No Homepage\", \"No Homepage\", \"No Homepage\", \"No Homepage\", \"With Homepage\", \"No Homepage\", \"No Homepage\", \"No Homepage\", \"No Homepage\", \"No Homepage\", \"With Homepage\", \"No Homepage\", \"No Homepage\", \"No Homepage\", \"With Homepage\", \"With Homepage\", \"No Homepage\", \"With Homepage\", \"No Homepage\", \"No Homepage\", \"With Homepage\", \"No Homepage\", \"No Homepage\", \"No Homepage\", \"No Homepage\", \"No Homepage\", \"No Homepage\", \"With Homepage\", \"No Homepage\", \"With Homepage\", \"No Homepage\", \"With Homepage\", \"With Homepage\", \"No Homepage\", \"No Homepage\", \"No Homepage\", \"With Homepage\", \"With Homepage\", \"No Homepage\", \"No Homepage\", \"No Homepage\", \"No Homepage\", \"No Homepage\", \"No Homepage\", \"No Homepage\", \"With Homepage\", \"No Homepage\", \"No Homepage\", \"No Homepage\", \"No Homepage\", \"With Homepage\", \"With Homepage\"], \"y0\": \" \", \"yaxis\": \"y\"}],\n",
              "                        {\"boxmode\": \"group\", \"legend\": {\"tracegroupgap\": 0}, \"margin\": {\"t\": 60}, \"template\": {\"data\": {\"bar\": [{\"error_x\": {\"color\": \"#2a3f5f\"}, \"error_y\": {\"color\": \"#2a3f5f\"}, \"marker\": {\"line\": {\"color\": \"#E5ECF6\", \"width\": 0.5}}, \"type\": \"bar\"}], \"barpolar\": [{\"marker\": {\"line\": {\"color\": \"#E5ECF6\", \"width\": 0.5}}, \"type\": \"barpolar\"}], \"carpet\": [{\"aaxis\": {\"endlinecolor\": \"#2a3f5f\", \"gridcolor\": \"white\", \"linecolor\": \"white\", \"minorgridcolor\": \"white\", \"startlinecolor\": \"#2a3f5f\"}, \"baxis\": {\"endlinecolor\": \"#2a3f5f\", \"gridcolor\": \"white\", \"linecolor\": \"white\", \"minorgridcolor\": \"white\", \"startlinecolor\": \"#2a3f5f\"}, \"type\": \"carpet\"}], \"choropleth\": [{\"colorbar\": {\"outlinewidth\": 0, \"ticks\": \"\"}, \"type\": \"choropleth\"}], \"contour\": [{\"colorbar\": {\"outlinewidth\": 0, \"ticks\": \"\"}, \"colorscale\": [[0.0, \"#0d0887\"], [0.1111111111111111, \"#46039f\"], [0.2222222222222222, \"#7201a8\"], [0.3333333333333333, \"#9c179e\"], [0.4444444444444444, \"#bd3786\"], [0.5555555555555556, \"#d8576b\"], [0.6666666666666666, \"#ed7953\"], [0.7777777777777778, \"#fb9f3a\"], [0.8888888888888888, \"#fdca26\"], [1.0, \"#f0f921\"]], \"type\": \"contour\"}], \"contourcarpet\": [{\"colorbar\": {\"outlinewidth\": 0, \"ticks\": \"\"}, \"type\": \"contourcarpet\"}], \"heatmap\": [{\"colorbar\": {\"outlinewidth\": 0, \"ticks\": \"\"}, \"colorscale\": [[0.0, \"#0d0887\"], [0.1111111111111111, \"#46039f\"], [0.2222222222222222, \"#7201a8\"], [0.3333333333333333, \"#9c179e\"], [0.4444444444444444, \"#bd3786\"], [0.5555555555555556, \"#d8576b\"], [0.6666666666666666, \"#ed7953\"], [0.7777777777777778, \"#fb9f3a\"], [0.8888888888888888, \"#fdca26\"], [1.0, \"#f0f921\"]], \"type\": \"heatmap\"}], \"heatmapgl\": [{\"colorbar\": {\"outlinewidth\": 0, \"ticks\": \"\"}, \"colorscale\": [[0.0, \"#0d0887\"], [0.1111111111111111, \"#46039f\"], [0.2222222222222222, \"#7201a8\"], [0.3333333333333333, \"#9c179e\"], [0.4444444444444444, \"#bd3786\"], [0.5555555555555556, \"#d8576b\"], [0.6666666666666666, \"#ed7953\"], [0.7777777777777778, \"#fb9f3a\"], [0.8888888888888888, \"#fdca26\"], [1.0, \"#f0f921\"]], \"type\": \"heatmapgl\"}], \"histogram\": [{\"marker\": {\"colorbar\": {\"outlinewidth\": 0, \"ticks\": \"\"}}, \"type\": \"histogram\"}], \"histogram2d\": [{\"colorbar\": {\"outlinewidth\": 0, \"ticks\": \"\"}, \"colorscale\": [[0.0, \"#0d0887\"], [0.1111111111111111, \"#46039f\"], [0.2222222222222222, \"#7201a8\"], [0.3333333333333333, \"#9c179e\"], [0.4444444444444444, \"#bd3786\"], [0.5555555555555556, \"#d8576b\"], [0.6666666666666666, \"#ed7953\"], [0.7777777777777778, \"#fb9f3a\"], [0.8888888888888888, \"#fdca26\"], [1.0, \"#f0f921\"]], \"type\": \"histogram2d\"}], \"histogram2dcontour\": [{\"colorbar\": {\"outlinewidth\": 0, \"ticks\": \"\"}, \"colorscale\": [[0.0, \"#0d0887\"], [0.1111111111111111, \"#46039f\"], [0.2222222222222222, \"#7201a8\"], [0.3333333333333333, \"#9c179e\"], [0.4444444444444444, \"#bd3786\"], [0.5555555555555556, \"#d8576b\"], [0.6666666666666666, \"#ed7953\"], [0.7777777777777778, \"#fb9f3a\"], [0.8888888888888888, \"#fdca26\"], [1.0, \"#f0f921\"]], \"type\": \"histogram2dcontour\"}], \"mesh3d\": [{\"colorbar\": {\"outlinewidth\": 0, \"ticks\": \"\"}, \"type\": \"mesh3d\"}], \"parcoords\": [{\"line\": {\"colorbar\": {\"outlinewidth\": 0, \"ticks\": \"\"}}, \"type\": \"parcoords\"}], \"pie\": [{\"automargin\": true, \"type\": \"pie\"}], \"scatter\": [{\"marker\": {\"colorbar\": {\"outlinewidth\": 0, \"ticks\": \"\"}}, \"type\": \"scatter\"}], \"scatter3d\": [{\"line\": {\"colorbar\": {\"outlinewidth\": 0, \"ticks\": \"\"}}, \"marker\": {\"colorbar\": {\"outlinewidth\": 0, \"ticks\": \"\"}}, \"type\": \"scatter3d\"}], \"scattercarpet\": [{\"marker\": {\"colorbar\": {\"outlinewidth\": 0, \"ticks\": \"\"}}, \"type\": \"scattercarpet\"}], \"scattergeo\": [{\"marker\": {\"colorbar\": {\"outlinewidth\": 0, \"ticks\": \"\"}}, \"type\": \"scattergeo\"}], \"scattergl\": [{\"marker\": {\"colorbar\": {\"outlinewidth\": 0, \"ticks\": \"\"}}, \"type\": \"scattergl\"}], \"scattermapbox\": [{\"marker\": {\"colorbar\": {\"outlinewidth\": 0, \"ticks\": \"\"}}, \"type\": \"scattermapbox\"}], \"scatterpolar\": [{\"marker\": {\"colorbar\": {\"outlinewidth\": 0, \"ticks\": \"\"}}, \"type\": \"scatterpolar\"}], \"scatterpolargl\": [{\"marker\": {\"colorbar\": {\"outlinewidth\": 0, \"ticks\": \"\"}}, \"type\": \"scatterpolargl\"}], \"scatterternary\": [{\"marker\": {\"colorbar\": {\"outlinewidth\": 0, \"ticks\": \"\"}}, \"type\": \"scatterternary\"}], \"surface\": [{\"colorbar\": {\"outlinewidth\": 0, \"ticks\": \"\"}, \"colorscale\": [[0.0, \"#0d0887\"], [0.1111111111111111, \"#46039f\"], [0.2222222222222222, \"#7201a8\"], [0.3333333333333333, \"#9c179e\"], [0.4444444444444444, \"#bd3786\"], [0.5555555555555556, \"#d8576b\"], [0.6666666666666666, \"#ed7953\"], [0.7777777777777778, \"#fb9f3a\"], [0.8888888888888888, \"#fdca26\"], [1.0, \"#f0f921\"]], \"type\": \"surface\"}], \"table\": [{\"cells\": {\"fill\": {\"color\": \"#EBF0F8\"}, \"line\": {\"color\": \"white\"}}, \"header\": {\"fill\": {\"color\": \"#C8D4E3\"}, \"line\": {\"color\": \"white\"}}, \"type\": \"table\"}]}, \"layout\": {\"annotationdefaults\": {\"arrowcolor\": \"#2a3f5f\", \"arrowhead\": 0, \"arrowwidth\": 1}, \"coloraxis\": {\"colorbar\": {\"outlinewidth\": 0, \"ticks\": \"\"}}, \"colorscale\": {\"diverging\": [[0, \"#8e0152\"], [0.1, \"#c51b7d\"], [0.2, \"#de77ae\"], [0.3, \"#f1b6da\"], [0.4, \"#fde0ef\"], [0.5, \"#f7f7f7\"], [0.6, \"#e6f5d0\"], [0.7, \"#b8e186\"], [0.8, \"#7fbc41\"], [0.9, \"#4d9221\"], [1, \"#276419\"]], \"sequential\": [[0.0, \"#0d0887\"], [0.1111111111111111, \"#46039f\"], [0.2222222222222222, \"#7201a8\"], [0.3333333333333333, \"#9c179e\"], [0.4444444444444444, \"#bd3786\"], [0.5555555555555556, \"#d8576b\"], [0.6666666666666666, \"#ed7953\"], [0.7777777777777778, \"#fb9f3a\"], [0.8888888888888888, \"#fdca26\"], [1.0, \"#f0f921\"]], \"sequentialminus\": [[0.0, \"#0d0887\"], [0.1111111111111111, \"#46039f\"], [0.2222222222222222, \"#7201a8\"], [0.3333333333333333, \"#9c179e\"], [0.4444444444444444, \"#bd3786\"], [0.5555555555555556, \"#d8576b\"], [0.6666666666666666, \"#ed7953\"], [0.7777777777777778, \"#fb9f3a\"], [0.8888888888888888, \"#fdca26\"], [1.0, \"#f0f921\"]]}, \"colorway\": [\"#636efa\", \"#EF553B\", \"#00cc96\", \"#ab63fa\", \"#FFA15A\", \"#19d3f3\", \"#FF6692\", \"#B6E880\", \"#FF97FF\", \"#FECB52\"], \"font\": {\"color\": \"#2a3f5f\"}, \"geo\": {\"bgcolor\": \"white\", \"lakecolor\": \"white\", \"landcolor\": \"#E5ECF6\", \"showlakes\": true, \"showland\": true, \"subunitcolor\": \"white\"}, \"hoverlabel\": {\"align\": \"left\"}, \"hovermode\": \"closest\", \"mapbox\": {\"style\": \"light\"}, \"paper_bgcolor\": \"white\", \"plot_bgcolor\": \"#E5ECF6\", \"polar\": {\"angularaxis\": {\"gridcolor\": \"white\", \"linecolor\": \"white\", \"ticks\": \"\"}, \"bgcolor\": \"#E5ECF6\", \"radialaxis\": {\"gridcolor\": \"white\", \"linecolor\": \"white\", \"ticks\": \"\"}}, \"scene\": {\"xaxis\": {\"backgroundcolor\": \"#E5ECF6\", \"gridcolor\": \"white\", \"gridwidth\": 2, \"linecolor\": \"white\", \"showbackground\": true, \"ticks\": \"\", \"zerolinecolor\": \"white\"}, \"yaxis\": {\"backgroundcolor\": \"#E5ECF6\", \"gridcolor\": \"white\", \"gridwidth\": 2, \"linecolor\": \"white\", \"showbackground\": true, \"ticks\": \"\", \"zerolinecolor\": \"white\"}, \"zaxis\": {\"backgroundcolor\": \"#E5ECF6\", \"gridcolor\": \"white\", \"gridwidth\": 2, \"linecolor\": \"white\", \"showbackground\": true, \"ticks\": \"\", \"zerolinecolor\": \"white\"}}, \"shapedefaults\": {\"line\": {\"color\": \"#2a3f5f\"}}, \"ternary\": {\"aaxis\": {\"gridcolor\": \"white\", \"linecolor\": \"white\", \"ticks\": \"\"}, \"baxis\": {\"gridcolor\": \"white\", \"linecolor\": \"white\", \"ticks\": \"\"}, \"bgcolor\": \"#E5ECF6\", \"caxis\": {\"gridcolor\": \"white\", \"linecolor\": \"white\", \"ticks\": \"\"}}, \"title\": {\"x\": 0.05}, \"xaxis\": {\"automargin\": true, \"gridcolor\": \"white\", \"linecolor\": \"white\", \"ticks\": \"\", \"title\": {\"standoff\": 15}, \"zerolinecolor\": \"white\", \"zerolinewidth\": 2}, \"yaxis\": {\"automargin\": true, \"gridcolor\": \"white\", \"linecolor\": \"white\", \"ticks\": \"\", \"title\": {\"standoff\": 15}, \"zerolinecolor\": \"white\", \"zerolinewidth\": 2}}}, \"xaxis\": {\"anchor\": \"y\", \"domain\": [0.0, 1.0], \"title\": {\"text\": \"revenue\"}}, \"yaxis\": {\"anchor\": \"x\", \"domain\": [0.0, 1.0], \"title\": {\"text\": \"homepage\"}}},\n",
              "                        {\"responsive\": true}\n",
              "                    ).then(function(){\n",
              "                            \n",
              "var gd = document.getElementById('e7c5a61f-b48b-4b5c-8eaf-6ad122d3c831');\n",
              "var x = new MutationObserver(function (mutations, observer) {{\n",
              "        var display = window.getComputedStyle(gd).display;\n",
              "        if (!display || display === 'none') {{\n",
              "            console.log([gd, 'removed!']);\n",
              "            Plotly.purge(gd);\n",
              "            observer.disconnect();\n",
              "        }}\n",
              "}});\n",
              "\n",
              "// Listen for the removal of the full notebook cells\n",
              "var notebookContainer = gd.closest('#notebook-container');\n",
              "if (notebookContainer) {{\n",
              "    x.observe(notebookContainer, {childList: true});\n",
              "}}\n",
              "\n",
              "// Listen for the clearing of the current output cell\n",
              "var outputEl = gd.closest('.output');\n",
              "if (outputEl) {{\n",
              "    x.observe(outputEl, {childList: true});\n",
              "}}\n",
              "\n",
              "                        })\n",
              "                };\n",
              "                \n",
              "            </script>\n",
              "        </div>\n",
              "</body>\n",
              "</html>"
            ]
          },
          "metadata": {
            "tags": []
          }
        }
      ]
    },
    {
      "cell_type": "markdown",
      "metadata": {
        "id": "VtnjPPEMSd5W",
        "colab_type": "text"
      },
      "source": [
        "Well we can infer from above that movies with no homepage have relatively less revenue."
      ]
    },
    {
      "cell_type": "code",
      "metadata": {
        "id": "sOBm5YkxSpd4",
        "colab_type": "code",
        "colab": {
          "base_uri": "https://localhost:8080/",
          "height": 542
        },
        "outputId": "287e3818-2eb7-4262-806a-cb17179ec278"
      },
      "source": [
        "count_keywords = extract_values(df_train['Keywords'].replace(np.nan, \"\"))\n",
        "vals = pd.DataFrame({'Keywords':list(count_keywords.keys()), 'Counts':list(count_keywords.values())})\n",
        "### Looking at the top keywords in the film ### \n",
        "vals = vals.sort_values('Counts', ascending = False)\n",
        "data = go.Bar(x = vals['Keywords'][:20],\n",
        "              y = vals['Counts'][:20],\n",
        "              marker = dict(color = 'rgba(255, 0, 0, 0.5)',\n",
        "                             line=dict(color='rgb(0,0,0)',width=1.5))\n",
        "              )\n",
        "fig.update_layout(title = 'Keywords Vs Counts',\n",
        "                  xaxis_title = 'Keywords',\n",
        "                  yaxis_title = 'Counts')\n",
        "fig = go.Figure(data = data)\n",
        "fig.show()"
      ],
      "execution_count": 112,
      "outputs": [
        {
          "output_type": "display_data",
          "data": {
            "text/html": [
              "<html>\n",
              "<head><meta charset=\"utf-8\" /></head>\n",
              "<body>\n",
              "    <div>\n",
              "            <script src=\"https://cdnjs.cloudflare.com/ajax/libs/mathjax/2.7.5/MathJax.js?config=TeX-AMS-MML_SVG\"></script><script type=\"text/javascript\">if (window.MathJax) {MathJax.Hub.Config({SVG: {font: \"STIX-Web\"}});}</script>\n",
              "                <script type=\"text/javascript\">window.PlotlyConfig = {MathJaxConfig: 'local'};</script>\n",
              "        <script src=\"https://cdn.plot.ly/plotly-latest.min.js\"></script>    \n",
              "            <div id=\"8b51e7a1-464e-464d-a006-be7b594f16a4\" class=\"plotly-graph-div\" style=\"height:525px; width:100%;\"></div>\n",
              "            <script type=\"text/javascript\">\n",
              "                \n",
              "                    window.PLOTLYENV=window.PLOTLYENV || {};\n",
              "                    \n",
              "                if (document.getElementById(\"8b51e7a1-464e-464d-a006-be7b594f16a4\")) {\n",
              "                    Plotly.newPlot(\n",
              "                        '8b51e7a1-464e-464d-a006-be7b594f16a4',\n",
              "                        [{\"marker\": {\"color\": \"rgba(255, 0, 0, 0.5)\", \"line\": {\"color\": \"rgb(0,0,0)\", \"width\": 1.5}}, \"type\": \"bar\", \"x\": [\"woman director\", \"independent film\", \"duringcreditsstinger\", \"murder\", \"based on novel\", \"violence\", \"sport\", \"biography\", \"aftercreditsstinger\", \"revenge\", \"dystopia\", \"friendship\", \"sex\", \"suspense\", \"sequel\", \"police\", \"love\", \"teenager\", \"nudity\", \"female nudity\"], \"y\": [175, 155, 134, 123, 111, 87, 82, 77, 75, 73, 73, 72, 71, 67, 66, 64, 64, 61, 57, 53]}],\n",
              "                        {\"template\": {\"data\": {\"bar\": [{\"error_x\": {\"color\": \"#2a3f5f\"}, \"error_y\": {\"color\": \"#2a3f5f\"}, \"marker\": {\"line\": {\"color\": \"#E5ECF6\", \"width\": 0.5}}, \"type\": \"bar\"}], \"barpolar\": [{\"marker\": {\"line\": {\"color\": \"#E5ECF6\", \"width\": 0.5}}, \"type\": \"barpolar\"}], \"carpet\": [{\"aaxis\": {\"endlinecolor\": \"#2a3f5f\", \"gridcolor\": \"white\", \"linecolor\": \"white\", \"minorgridcolor\": \"white\", \"startlinecolor\": \"#2a3f5f\"}, \"baxis\": {\"endlinecolor\": \"#2a3f5f\", \"gridcolor\": \"white\", \"linecolor\": \"white\", \"minorgridcolor\": \"white\", \"startlinecolor\": \"#2a3f5f\"}, \"type\": \"carpet\"}], \"choropleth\": [{\"colorbar\": {\"outlinewidth\": 0, \"ticks\": \"\"}, \"type\": \"choropleth\"}], \"contour\": [{\"colorbar\": {\"outlinewidth\": 0, \"ticks\": \"\"}, \"colorscale\": [[0.0, \"#0d0887\"], [0.1111111111111111, \"#46039f\"], [0.2222222222222222, \"#7201a8\"], [0.3333333333333333, \"#9c179e\"], [0.4444444444444444, \"#bd3786\"], [0.5555555555555556, \"#d8576b\"], [0.6666666666666666, \"#ed7953\"], [0.7777777777777778, \"#fb9f3a\"], [0.8888888888888888, \"#fdca26\"], [1.0, \"#f0f921\"]], \"type\": \"contour\"}], \"contourcarpet\": [{\"colorbar\": {\"outlinewidth\": 0, \"ticks\": \"\"}, \"type\": \"contourcarpet\"}], \"heatmap\": [{\"colorbar\": {\"outlinewidth\": 0, \"ticks\": \"\"}, \"colorscale\": [[0.0, \"#0d0887\"], [0.1111111111111111, \"#46039f\"], [0.2222222222222222, \"#7201a8\"], [0.3333333333333333, \"#9c179e\"], [0.4444444444444444, \"#bd3786\"], [0.5555555555555556, \"#d8576b\"], [0.6666666666666666, \"#ed7953\"], [0.7777777777777778, \"#fb9f3a\"], [0.8888888888888888, \"#fdca26\"], [1.0, \"#f0f921\"]], \"type\": \"heatmap\"}], \"heatmapgl\": [{\"colorbar\": {\"outlinewidth\": 0, \"ticks\": \"\"}, \"colorscale\": [[0.0, \"#0d0887\"], [0.1111111111111111, \"#46039f\"], [0.2222222222222222, \"#7201a8\"], [0.3333333333333333, \"#9c179e\"], [0.4444444444444444, \"#bd3786\"], [0.5555555555555556, \"#d8576b\"], [0.6666666666666666, \"#ed7953\"], [0.7777777777777778, \"#fb9f3a\"], [0.8888888888888888, \"#fdca26\"], [1.0, \"#f0f921\"]], \"type\": \"heatmapgl\"}], \"histogram\": [{\"marker\": {\"colorbar\": {\"outlinewidth\": 0, \"ticks\": \"\"}}, \"type\": \"histogram\"}], \"histogram2d\": [{\"colorbar\": {\"outlinewidth\": 0, \"ticks\": \"\"}, \"colorscale\": [[0.0, \"#0d0887\"], [0.1111111111111111, \"#46039f\"], [0.2222222222222222, \"#7201a8\"], [0.3333333333333333, \"#9c179e\"], [0.4444444444444444, \"#bd3786\"], [0.5555555555555556, \"#d8576b\"], [0.6666666666666666, \"#ed7953\"], [0.7777777777777778, \"#fb9f3a\"], [0.8888888888888888, \"#fdca26\"], [1.0, \"#f0f921\"]], \"type\": \"histogram2d\"}], \"histogram2dcontour\": [{\"colorbar\": {\"outlinewidth\": 0, \"ticks\": \"\"}, \"colorscale\": [[0.0, \"#0d0887\"], [0.1111111111111111, \"#46039f\"], [0.2222222222222222, \"#7201a8\"], [0.3333333333333333, \"#9c179e\"], [0.4444444444444444, \"#bd3786\"], [0.5555555555555556, \"#d8576b\"], [0.6666666666666666, \"#ed7953\"], [0.7777777777777778, \"#fb9f3a\"], [0.8888888888888888, \"#fdca26\"], [1.0, \"#f0f921\"]], \"type\": \"histogram2dcontour\"}], \"mesh3d\": [{\"colorbar\": {\"outlinewidth\": 0, \"ticks\": \"\"}, \"type\": \"mesh3d\"}], \"parcoords\": [{\"line\": {\"colorbar\": {\"outlinewidth\": 0, \"ticks\": \"\"}}, \"type\": \"parcoords\"}], \"pie\": [{\"automargin\": true, \"type\": \"pie\"}], \"scatter\": [{\"marker\": {\"colorbar\": {\"outlinewidth\": 0, \"ticks\": \"\"}}, \"type\": \"scatter\"}], \"scatter3d\": [{\"line\": {\"colorbar\": {\"outlinewidth\": 0, \"ticks\": \"\"}}, \"marker\": {\"colorbar\": {\"outlinewidth\": 0, \"ticks\": \"\"}}, \"type\": \"scatter3d\"}], \"scattercarpet\": [{\"marker\": {\"colorbar\": {\"outlinewidth\": 0, \"ticks\": \"\"}}, \"type\": \"scattercarpet\"}], \"scattergeo\": [{\"marker\": {\"colorbar\": {\"outlinewidth\": 0, \"ticks\": \"\"}}, \"type\": \"scattergeo\"}], \"scattergl\": [{\"marker\": {\"colorbar\": {\"outlinewidth\": 0, \"ticks\": \"\"}}, \"type\": \"scattergl\"}], \"scattermapbox\": [{\"marker\": {\"colorbar\": {\"outlinewidth\": 0, \"ticks\": \"\"}}, \"type\": \"scattermapbox\"}], \"scatterpolar\": [{\"marker\": {\"colorbar\": {\"outlinewidth\": 0, \"ticks\": \"\"}}, \"type\": \"scatterpolar\"}], \"scatterpolargl\": [{\"marker\": {\"colorbar\": {\"outlinewidth\": 0, \"ticks\": \"\"}}, \"type\": \"scatterpolargl\"}], \"scatterternary\": [{\"marker\": {\"colorbar\": {\"outlinewidth\": 0, \"ticks\": \"\"}}, \"type\": \"scatterternary\"}], \"surface\": [{\"colorbar\": {\"outlinewidth\": 0, \"ticks\": \"\"}, \"colorscale\": [[0.0, \"#0d0887\"], [0.1111111111111111, \"#46039f\"], [0.2222222222222222, \"#7201a8\"], [0.3333333333333333, \"#9c179e\"], [0.4444444444444444, \"#bd3786\"], [0.5555555555555556, \"#d8576b\"], [0.6666666666666666, \"#ed7953\"], [0.7777777777777778, \"#fb9f3a\"], [0.8888888888888888, \"#fdca26\"], [1.0, \"#f0f921\"]], \"type\": \"surface\"}], \"table\": [{\"cells\": {\"fill\": {\"color\": \"#EBF0F8\"}, \"line\": {\"color\": \"white\"}}, \"header\": {\"fill\": {\"color\": \"#C8D4E3\"}, \"line\": {\"color\": \"white\"}}, \"type\": \"table\"}]}, \"layout\": {\"annotationdefaults\": {\"arrowcolor\": \"#2a3f5f\", \"arrowhead\": 0, \"arrowwidth\": 1}, \"coloraxis\": {\"colorbar\": {\"outlinewidth\": 0, \"ticks\": \"\"}}, \"colorscale\": {\"diverging\": [[0, \"#8e0152\"], [0.1, \"#c51b7d\"], [0.2, \"#de77ae\"], [0.3, \"#f1b6da\"], [0.4, \"#fde0ef\"], [0.5, \"#f7f7f7\"], [0.6, \"#e6f5d0\"], [0.7, \"#b8e186\"], [0.8, \"#7fbc41\"], [0.9, \"#4d9221\"], [1, \"#276419\"]], \"sequential\": [[0.0, \"#0d0887\"], [0.1111111111111111, \"#46039f\"], [0.2222222222222222, \"#7201a8\"], [0.3333333333333333, \"#9c179e\"], [0.4444444444444444, \"#bd3786\"], [0.5555555555555556, \"#d8576b\"], [0.6666666666666666, \"#ed7953\"], [0.7777777777777778, \"#fb9f3a\"], [0.8888888888888888, \"#fdca26\"], [1.0, \"#f0f921\"]], \"sequentialminus\": [[0.0, \"#0d0887\"], [0.1111111111111111, \"#46039f\"], [0.2222222222222222, \"#7201a8\"], [0.3333333333333333, \"#9c179e\"], [0.4444444444444444, \"#bd3786\"], [0.5555555555555556, \"#d8576b\"], [0.6666666666666666, \"#ed7953\"], [0.7777777777777778, \"#fb9f3a\"], [0.8888888888888888, \"#fdca26\"], [1.0, \"#f0f921\"]]}, \"colorway\": [\"#636efa\", \"#EF553B\", \"#00cc96\", \"#ab63fa\", \"#FFA15A\", \"#19d3f3\", \"#FF6692\", \"#B6E880\", \"#FF97FF\", \"#FECB52\"], \"font\": {\"color\": \"#2a3f5f\"}, \"geo\": {\"bgcolor\": \"white\", \"lakecolor\": \"white\", \"landcolor\": \"#E5ECF6\", \"showlakes\": true, \"showland\": true, \"subunitcolor\": \"white\"}, \"hoverlabel\": {\"align\": \"left\"}, \"hovermode\": \"closest\", \"mapbox\": {\"style\": \"light\"}, \"paper_bgcolor\": \"white\", \"plot_bgcolor\": \"#E5ECF6\", \"polar\": {\"angularaxis\": {\"gridcolor\": \"white\", \"linecolor\": \"white\", \"ticks\": \"\"}, \"bgcolor\": \"#E5ECF6\", \"radialaxis\": {\"gridcolor\": \"white\", \"linecolor\": \"white\", \"ticks\": \"\"}}, \"scene\": {\"xaxis\": {\"backgroundcolor\": \"#E5ECF6\", \"gridcolor\": \"white\", \"gridwidth\": 2, \"linecolor\": \"white\", \"showbackground\": true, \"ticks\": \"\", \"zerolinecolor\": \"white\"}, \"yaxis\": {\"backgroundcolor\": \"#E5ECF6\", \"gridcolor\": \"white\", \"gridwidth\": 2, \"linecolor\": \"white\", \"showbackground\": true, \"ticks\": \"\", \"zerolinecolor\": \"white\"}, \"zaxis\": {\"backgroundcolor\": \"#E5ECF6\", \"gridcolor\": \"white\", \"gridwidth\": 2, \"linecolor\": \"white\", \"showbackground\": true, \"ticks\": \"\", \"zerolinecolor\": \"white\"}}, \"shapedefaults\": {\"line\": {\"color\": \"#2a3f5f\"}}, \"ternary\": {\"aaxis\": {\"gridcolor\": \"white\", \"linecolor\": \"white\", \"ticks\": \"\"}, \"baxis\": {\"gridcolor\": \"white\", \"linecolor\": \"white\", \"ticks\": \"\"}, \"bgcolor\": \"#E5ECF6\", \"caxis\": {\"gridcolor\": \"white\", \"linecolor\": \"white\", \"ticks\": \"\"}}, \"title\": {\"x\": 0.05}, \"xaxis\": {\"automargin\": true, \"gridcolor\": \"white\", \"linecolor\": \"white\", \"ticks\": \"\", \"title\": {\"standoff\": 15}, \"zerolinecolor\": \"white\", \"zerolinewidth\": 2}, \"yaxis\": {\"automargin\": true, \"gridcolor\": \"white\", \"linecolor\": \"white\", \"ticks\": \"\", \"title\": {\"standoff\": 15}, \"zerolinecolor\": \"white\", \"zerolinewidth\": 2}}}},\n",
              "                        {\"responsive\": true}\n",
              "                    ).then(function(){\n",
              "                            \n",
              "var gd = document.getElementById('8b51e7a1-464e-464d-a006-be7b594f16a4');\n",
              "var x = new MutationObserver(function (mutations, observer) {{\n",
              "        var display = window.getComputedStyle(gd).display;\n",
              "        if (!display || display === 'none') {{\n",
              "            console.log([gd, 'removed!']);\n",
              "            Plotly.purge(gd);\n",
              "            observer.disconnect();\n",
              "        }}\n",
              "}});\n",
              "\n",
              "// Listen for the removal of the full notebook cells\n",
              "var notebookContainer = gd.closest('#notebook-container');\n",
              "if (notebookContainer) {{\n",
              "    x.observe(notebookContainer, {childList: true});\n",
              "}}\n",
              "\n",
              "// Listen for the clearing of the current output cell\n",
              "var outputEl = gd.closest('.output');\n",
              "if (outputEl) {{\n",
              "    x.observe(outputEl, {childList: true});\n",
              "}}\n",
              "\n",
              "                        })\n",
              "                };\n",
              "                \n",
              "            </script>\n",
              "        </div>\n",
              "</body>\n",
              "</html>"
            ]
          },
          "metadata": {
            "tags": []
          }
        }
      ]
    },
    {
      "cell_type": "code",
      "metadata": {
        "id": "-S7fVM-iVmVg",
        "colab_type": "code",
        "colab": {
          "base_uri": "https://localhost:8080/",
          "height": 542
        },
        "outputId": "67f4b0a1-2e17-46cd-ab93-0ad6dd7777f0"
      },
      "source": [
        "count_spoken_languages = extract_values(df_train['spoken_languages'].replace(np.nan, \"\"))\n",
        "vals = pd.DataFrame({'Languages':list(count_spoken_languages.keys()), 'Counts':list(count_spoken_languages.values())})\n",
        "### Looking at the top keywords in the film ### \n",
        "vals = vals.sort_values('Counts', ascending = False)\n",
        "data = go.Bar(x = vals['Languages'][1:20],\n",
        "              y = vals['Counts'][1:20],\n",
        "              marker = dict(color = 'rgba(255, 0, 0, 0.5)',\n",
        "                             line=dict(color='rgb(0,0,0)',width=1.5))\n",
        "              )\n",
        "fig.update_layout(title = 'Languages Vs Counts',\n",
        "                  xaxis_title = 'Languages',\n",
        "                  yaxis_title = 'Counts')\n",
        "fig = go.Figure(data = data)\n",
        "fig.show()"
      ],
      "execution_count": 118,
      "outputs": [
        {
          "output_type": "display_data",
          "data": {
            "text/html": [
              "<html>\n",
              "<head><meta charset=\"utf-8\" /></head>\n",
              "<body>\n",
              "    <div>\n",
              "            <script src=\"https://cdnjs.cloudflare.com/ajax/libs/mathjax/2.7.5/MathJax.js?config=TeX-AMS-MML_SVG\"></script><script type=\"text/javascript\">if (window.MathJax) {MathJax.Hub.Config({SVG: {font: \"STIX-Web\"}});}</script>\n",
              "                <script type=\"text/javascript\">window.PlotlyConfig = {MathJaxConfig: 'local'};</script>\n",
              "        <script src=\"https://cdn.plot.ly/plotly-latest.min.js\"></script>    \n",
              "            <div id=\"5d2c6fb8-0304-46f5-927c-f184238ec15f\" class=\"plotly-graph-div\" style=\"height:525px; width:100%;\"></div>\n",
              "            <script type=\"text/javascript\">\n",
              "                \n",
              "                    window.PLOTLYENV=window.PLOTLYENV || {};\n",
              "                    \n",
              "                if (document.getElementById(\"5d2c6fb8-0304-46f5-927c-f184238ec15f\")) {\n",
              "                    Plotly.newPlot(\n",
              "                        '5d2c6fb8-0304-46f5-927c-f184238ec15f',\n",
              "                        [{\"marker\": {\"color\": \"rgba(255, 0, 0, 0.5)\", \"line\": {\"color\": \"rgb(0,0,0)\", \"width\": 1.5}}, \"type\": \"bar\", \"x\": [\"Fran\\u00e7ais\", \"Espa\\u00f1ol\", \"Deutsch\", \"P\\u0443\\u0441\\u0441\\u043a\\u0438\\u0439\", \"Italiano\", \"\\u65e5\\u672c\\u8a9e\", \"\\u666e\\u901a\\u8bdd\", \"\\u0939\\u093f\\u0928\\u094d\\u0926\\u0940\", \"\", \"Portugu\\u00eas\", \"\\u0627\\u0644\\u0639\\u0631\\u0628\\u064a\\u0629\", \"\\ud55c\\uad6d\\uc5b4/\\uc870\\uc120\\ub9d0\", \"\\u5e7f\\u5dde\\u8bdd / \\u5ee3\\u5dde\\u8a71\", \"\\u0ba4\\u0bae\\u0bbf\\u0bb4\\u0bcd\", \"Polski\", \"Magyar\", \"Latin\", \"\\u0e20\\u0e32\\u0e29\\u0e32\\u0e44\\u0e17\\u0e22\", \"svenska\"], \"y\": [288, 239, 169, 152, 124, 89, 68, 56, 47, 43, 40, 37, 36, 27, 25, 24, 23, 22, 22]}],\n",
              "                        {\"template\": {\"data\": {\"bar\": [{\"error_x\": {\"color\": \"#2a3f5f\"}, \"error_y\": {\"color\": \"#2a3f5f\"}, \"marker\": {\"line\": {\"color\": \"#E5ECF6\", \"width\": 0.5}}, \"type\": \"bar\"}], \"barpolar\": [{\"marker\": {\"line\": {\"color\": \"#E5ECF6\", \"width\": 0.5}}, \"type\": \"barpolar\"}], \"carpet\": [{\"aaxis\": {\"endlinecolor\": \"#2a3f5f\", \"gridcolor\": \"white\", \"linecolor\": \"white\", \"minorgridcolor\": \"white\", \"startlinecolor\": \"#2a3f5f\"}, \"baxis\": {\"endlinecolor\": \"#2a3f5f\", \"gridcolor\": \"white\", \"linecolor\": \"white\", \"minorgridcolor\": \"white\", \"startlinecolor\": \"#2a3f5f\"}, \"type\": \"carpet\"}], \"choropleth\": [{\"colorbar\": {\"outlinewidth\": 0, \"ticks\": \"\"}, \"type\": \"choropleth\"}], \"contour\": [{\"colorbar\": {\"outlinewidth\": 0, \"ticks\": \"\"}, \"colorscale\": [[0.0, \"#0d0887\"], [0.1111111111111111, \"#46039f\"], [0.2222222222222222, \"#7201a8\"], [0.3333333333333333, \"#9c179e\"], [0.4444444444444444, \"#bd3786\"], [0.5555555555555556, \"#d8576b\"], [0.6666666666666666, \"#ed7953\"], [0.7777777777777778, \"#fb9f3a\"], [0.8888888888888888, \"#fdca26\"], [1.0, \"#f0f921\"]], \"type\": \"contour\"}], \"contourcarpet\": [{\"colorbar\": {\"outlinewidth\": 0, \"ticks\": \"\"}, \"type\": \"contourcarpet\"}], \"heatmap\": [{\"colorbar\": {\"outlinewidth\": 0, \"ticks\": \"\"}, \"colorscale\": [[0.0, \"#0d0887\"], [0.1111111111111111, \"#46039f\"], [0.2222222222222222, \"#7201a8\"], [0.3333333333333333, \"#9c179e\"], [0.4444444444444444, \"#bd3786\"], [0.5555555555555556, \"#d8576b\"], [0.6666666666666666, \"#ed7953\"], [0.7777777777777778, \"#fb9f3a\"], [0.8888888888888888, \"#fdca26\"], [1.0, \"#f0f921\"]], \"type\": \"heatmap\"}], \"heatmapgl\": [{\"colorbar\": {\"outlinewidth\": 0, \"ticks\": \"\"}, \"colorscale\": [[0.0, \"#0d0887\"], [0.1111111111111111, \"#46039f\"], [0.2222222222222222, \"#7201a8\"], [0.3333333333333333, \"#9c179e\"], [0.4444444444444444, \"#bd3786\"], [0.5555555555555556, \"#d8576b\"], [0.6666666666666666, \"#ed7953\"], [0.7777777777777778, \"#fb9f3a\"], [0.8888888888888888, \"#fdca26\"], [1.0, \"#f0f921\"]], \"type\": \"heatmapgl\"}], \"histogram\": [{\"marker\": {\"colorbar\": {\"outlinewidth\": 0, \"ticks\": \"\"}}, \"type\": \"histogram\"}], \"histogram2d\": [{\"colorbar\": {\"outlinewidth\": 0, \"ticks\": \"\"}, \"colorscale\": [[0.0, \"#0d0887\"], [0.1111111111111111, \"#46039f\"], [0.2222222222222222, \"#7201a8\"], [0.3333333333333333, \"#9c179e\"], [0.4444444444444444, \"#bd3786\"], [0.5555555555555556, \"#d8576b\"], [0.6666666666666666, \"#ed7953\"], [0.7777777777777778, \"#fb9f3a\"], [0.8888888888888888, \"#fdca26\"], [1.0, \"#f0f921\"]], \"type\": \"histogram2d\"}], \"histogram2dcontour\": [{\"colorbar\": {\"outlinewidth\": 0, \"ticks\": \"\"}, \"colorscale\": [[0.0, \"#0d0887\"], [0.1111111111111111, \"#46039f\"], [0.2222222222222222, \"#7201a8\"], [0.3333333333333333, \"#9c179e\"], [0.4444444444444444, \"#bd3786\"], [0.5555555555555556, \"#d8576b\"], [0.6666666666666666, \"#ed7953\"], [0.7777777777777778, \"#fb9f3a\"], [0.8888888888888888, \"#fdca26\"], [1.0, \"#f0f921\"]], \"type\": \"histogram2dcontour\"}], \"mesh3d\": [{\"colorbar\": {\"outlinewidth\": 0, \"ticks\": \"\"}, \"type\": \"mesh3d\"}], \"parcoords\": [{\"line\": {\"colorbar\": {\"outlinewidth\": 0, \"ticks\": \"\"}}, \"type\": \"parcoords\"}], \"pie\": [{\"automargin\": true, \"type\": \"pie\"}], \"scatter\": [{\"marker\": {\"colorbar\": {\"outlinewidth\": 0, \"ticks\": \"\"}}, \"type\": \"scatter\"}], \"scatter3d\": [{\"line\": {\"colorbar\": {\"outlinewidth\": 0, \"ticks\": \"\"}}, \"marker\": {\"colorbar\": {\"outlinewidth\": 0, \"ticks\": \"\"}}, \"type\": \"scatter3d\"}], \"scattercarpet\": [{\"marker\": {\"colorbar\": {\"outlinewidth\": 0, \"ticks\": \"\"}}, \"type\": \"scattercarpet\"}], \"scattergeo\": [{\"marker\": {\"colorbar\": {\"outlinewidth\": 0, \"ticks\": \"\"}}, \"type\": \"scattergeo\"}], \"scattergl\": [{\"marker\": {\"colorbar\": {\"outlinewidth\": 0, \"ticks\": \"\"}}, \"type\": \"scattergl\"}], \"scattermapbox\": [{\"marker\": {\"colorbar\": {\"outlinewidth\": 0, \"ticks\": \"\"}}, \"type\": \"scattermapbox\"}], \"scatterpolar\": [{\"marker\": {\"colorbar\": {\"outlinewidth\": 0, \"ticks\": \"\"}}, \"type\": \"scatterpolar\"}], \"scatterpolargl\": [{\"marker\": {\"colorbar\": {\"outlinewidth\": 0, \"ticks\": \"\"}}, \"type\": \"scatterpolargl\"}], \"scatterternary\": [{\"marker\": {\"colorbar\": {\"outlinewidth\": 0, \"ticks\": \"\"}}, \"type\": \"scatterternary\"}], \"surface\": [{\"colorbar\": {\"outlinewidth\": 0, \"ticks\": \"\"}, \"colorscale\": [[0.0, \"#0d0887\"], [0.1111111111111111, \"#46039f\"], [0.2222222222222222, \"#7201a8\"], [0.3333333333333333, \"#9c179e\"], [0.4444444444444444, \"#bd3786\"], [0.5555555555555556, \"#d8576b\"], [0.6666666666666666, \"#ed7953\"], [0.7777777777777778, \"#fb9f3a\"], [0.8888888888888888, \"#fdca26\"], [1.0, \"#f0f921\"]], \"type\": \"surface\"}], \"table\": [{\"cells\": {\"fill\": {\"color\": \"#EBF0F8\"}, \"line\": {\"color\": \"white\"}}, \"header\": {\"fill\": {\"color\": \"#C8D4E3\"}, \"line\": {\"color\": \"white\"}}, \"type\": \"table\"}]}, \"layout\": {\"annotationdefaults\": {\"arrowcolor\": \"#2a3f5f\", \"arrowhead\": 0, \"arrowwidth\": 1}, \"coloraxis\": {\"colorbar\": {\"outlinewidth\": 0, \"ticks\": \"\"}}, \"colorscale\": {\"diverging\": [[0, \"#8e0152\"], [0.1, \"#c51b7d\"], [0.2, \"#de77ae\"], [0.3, \"#f1b6da\"], [0.4, \"#fde0ef\"], [0.5, \"#f7f7f7\"], [0.6, \"#e6f5d0\"], [0.7, \"#b8e186\"], [0.8, \"#7fbc41\"], [0.9, \"#4d9221\"], [1, \"#276419\"]], \"sequential\": [[0.0, \"#0d0887\"], [0.1111111111111111, \"#46039f\"], [0.2222222222222222, \"#7201a8\"], [0.3333333333333333, \"#9c179e\"], [0.4444444444444444, \"#bd3786\"], [0.5555555555555556, \"#d8576b\"], [0.6666666666666666, \"#ed7953\"], [0.7777777777777778, \"#fb9f3a\"], [0.8888888888888888, \"#fdca26\"], [1.0, \"#f0f921\"]], \"sequentialminus\": [[0.0, \"#0d0887\"], [0.1111111111111111, \"#46039f\"], [0.2222222222222222, \"#7201a8\"], [0.3333333333333333, \"#9c179e\"], [0.4444444444444444, \"#bd3786\"], [0.5555555555555556, \"#d8576b\"], [0.6666666666666666, \"#ed7953\"], [0.7777777777777778, \"#fb9f3a\"], [0.8888888888888888, \"#fdca26\"], [1.0, \"#f0f921\"]]}, \"colorway\": [\"#636efa\", \"#EF553B\", \"#00cc96\", \"#ab63fa\", \"#FFA15A\", \"#19d3f3\", \"#FF6692\", \"#B6E880\", \"#FF97FF\", \"#FECB52\"], \"font\": {\"color\": \"#2a3f5f\"}, \"geo\": {\"bgcolor\": \"white\", \"lakecolor\": \"white\", \"landcolor\": \"#E5ECF6\", \"showlakes\": true, \"showland\": true, \"subunitcolor\": \"white\"}, \"hoverlabel\": {\"align\": \"left\"}, \"hovermode\": \"closest\", \"mapbox\": {\"style\": \"light\"}, \"paper_bgcolor\": \"white\", \"plot_bgcolor\": \"#E5ECF6\", \"polar\": {\"angularaxis\": {\"gridcolor\": \"white\", \"linecolor\": \"white\", \"ticks\": \"\"}, \"bgcolor\": \"#E5ECF6\", \"radialaxis\": {\"gridcolor\": \"white\", \"linecolor\": \"white\", \"ticks\": \"\"}}, \"scene\": {\"xaxis\": {\"backgroundcolor\": \"#E5ECF6\", \"gridcolor\": \"white\", \"gridwidth\": 2, \"linecolor\": \"white\", \"showbackground\": true, \"ticks\": \"\", \"zerolinecolor\": \"white\"}, \"yaxis\": {\"backgroundcolor\": \"#E5ECF6\", \"gridcolor\": \"white\", \"gridwidth\": 2, \"linecolor\": \"white\", \"showbackground\": true, \"ticks\": \"\", \"zerolinecolor\": \"white\"}, \"zaxis\": {\"backgroundcolor\": \"#E5ECF6\", \"gridcolor\": \"white\", \"gridwidth\": 2, \"linecolor\": \"white\", \"showbackground\": true, \"ticks\": \"\", \"zerolinecolor\": \"white\"}}, \"shapedefaults\": {\"line\": {\"color\": \"#2a3f5f\"}}, \"ternary\": {\"aaxis\": {\"gridcolor\": \"white\", \"linecolor\": \"white\", \"ticks\": \"\"}, \"baxis\": {\"gridcolor\": \"white\", \"linecolor\": \"white\", \"ticks\": \"\"}, \"bgcolor\": \"#E5ECF6\", \"caxis\": {\"gridcolor\": \"white\", \"linecolor\": \"white\", \"ticks\": \"\"}}, \"title\": {\"x\": 0.05}, \"xaxis\": {\"automargin\": true, \"gridcolor\": \"white\", \"linecolor\": \"white\", \"ticks\": \"\", \"title\": {\"standoff\": 15}, \"zerolinecolor\": \"white\", \"zerolinewidth\": 2}, \"yaxis\": {\"automargin\": true, \"gridcolor\": \"white\", \"linecolor\": \"white\", \"ticks\": \"\", \"title\": {\"standoff\": 15}, \"zerolinecolor\": \"white\", \"zerolinewidth\": 2}}}},\n",
              "                        {\"responsive\": true}\n",
              "                    ).then(function(){\n",
              "                            \n",
              "var gd = document.getElementById('5d2c6fb8-0304-46f5-927c-f184238ec15f');\n",
              "var x = new MutationObserver(function (mutations, observer) {{\n",
              "        var display = window.getComputedStyle(gd).display;\n",
              "        if (!display || display === 'none') {{\n",
              "            console.log([gd, 'removed!']);\n",
              "            Plotly.purge(gd);\n",
              "            observer.disconnect();\n",
              "        }}\n",
              "}});\n",
              "\n",
              "// Listen for the removal of the full notebook cells\n",
              "var notebookContainer = gd.closest('#notebook-container');\n",
              "if (notebookContainer) {{\n",
              "    x.observe(notebookContainer, {childList: true});\n",
              "}}\n",
              "\n",
              "// Listen for the clearing of the current output cell\n",
              "var outputEl = gd.closest('.output');\n",
              "if (outputEl) {{\n",
              "    x.observe(outputEl, {childList: true});\n",
              "}}\n",
              "\n",
              "                        })\n",
              "                };\n",
              "                \n",
              "            </script>\n",
              "        </div>\n",
              "</body>\n",
              "</html>"
            ]
          },
          "metadata": {
            "tags": []
          }
        }
      ]
    },
    {
      "cell_type": "code",
      "metadata": {
        "id": "FXsVCrN-rtw9",
        "colab_type": "code",
        "colab": {}
      },
      "source": [
        "!pip install googletrans"
      ],
      "execution_count": 0,
      "outputs": []
    },
    {
      "cell_type": "code",
      "metadata": {
        "id": "bUGh2ErdrwPm",
        "colab_type": "code",
        "colab": {
          "base_uri": "https://localhost:8080/",
          "height": 542
        },
        "outputId": "756e145c-2814-4896-d9cc-cd3efdfe8016"
      },
      "source": [
        "from googletrans import Translator\n",
        "translator = Translator()\n",
        "count_spoken_languages = extract_values(df_train['spoken_languages'].replace(np.nan, \"\"))\n",
        "\n",
        "vals = pd.DataFrame({'Languages':list(count_spoken_languages.keys()), 'Counts':list(count_spoken_languages.values())})\n",
        "### Looking at the top keywords in the film ### \n",
        "vals = vals.sort_values('Counts', ascending = False)\n",
        "for i in range(vals.shape[0]):\n",
        "  vals.loc[i, 'Languages'] = translator.translate(vals.loc[i, 'Languages'], dest = 'en').text\n",
        "data = go.Bar(x = vals['Languages'][1:20],\n",
        "              y = vals['Counts'][1:20],\n",
        "              marker = dict(color = 'rgba(255, 0, 0, 0.5)',\n",
        "                             line=dict(color='rgb(0,0,0)',width=1.5))\n",
        "              )\n",
        "fig.update_layout(title = 'Languages Vs Counts',\n",
        "                  xaxis_title = 'Languages',\n",
        "                  yaxis_title = 'Counts')\n",
        "fig = go.Figure(data = data)\n",
        "fig.show()"
      ],
      "execution_count": 125,
      "outputs": [
        {
          "output_type": "display_data",
          "data": {
            "text/html": [
              "<html>\n",
              "<head><meta charset=\"utf-8\" /></head>\n",
              "<body>\n",
              "    <div>\n",
              "            <script src=\"https://cdnjs.cloudflare.com/ajax/libs/mathjax/2.7.5/MathJax.js?config=TeX-AMS-MML_SVG\"></script><script type=\"text/javascript\">if (window.MathJax) {MathJax.Hub.Config({SVG: {font: \"STIX-Web\"}});}</script>\n",
              "                <script type=\"text/javascript\">window.PlotlyConfig = {MathJaxConfig: 'local'};</script>\n",
              "        <script src=\"https://cdn.plot.ly/plotly-latest.min.js\"></script>    \n",
              "            <div id=\"b4bd06e9-4efa-4703-af75-ad1381e197ed\" class=\"plotly-graph-div\" style=\"height:525px; width:100%;\"></div>\n",
              "            <script type=\"text/javascript\">\n",
              "                \n",
              "                    window.PLOTLYENV=window.PLOTLYENV || {};\n",
              "                    \n",
              "                if (document.getElementById(\"b4bd06e9-4efa-4703-af75-ad1381e197ed\")) {\n",
              "                    Plotly.newPlot(\n",
              "                        'b4bd06e9-4efa-4703-af75-ad1381e197ed',\n",
              "                        [{\"marker\": {\"color\": \"rgba(255, 0, 0, 0.5)\", \"line\": {\"color\": \"rgb(0,0,0)\", \"width\": 1.5}}, \"type\": \"bar\", \"x\": [\"French\", \"Espa\\u00f1ol\", \"Deutsch\", \"P\\u0443\\u0441\\u0441\\u043a\\u0438\\u0439\", \"Italiano\", \"Japanese\", \"Mandarin\", \"Hindi\", \"\", \"Portugu\\u00eas\", \"Arabic\", \"Korean, Korean language\", \"Cantonese / Cantonese\", \"Tamil\", \"Polish\", \"Hungarian\", \"Latin\", \"language Thailand\", \"svenska\"], \"y\": [288, 239, 169, 152, 124, 89, 68, 56, 47, 43, 40, 37, 36, 27, 25, 24, 23, 22, 22]}],\n",
              "                        {\"template\": {\"data\": {\"bar\": [{\"error_x\": {\"color\": \"#2a3f5f\"}, \"error_y\": {\"color\": \"#2a3f5f\"}, \"marker\": {\"line\": {\"color\": \"#E5ECF6\", \"width\": 0.5}}, \"type\": \"bar\"}], \"barpolar\": [{\"marker\": {\"line\": {\"color\": \"#E5ECF6\", \"width\": 0.5}}, \"type\": \"barpolar\"}], \"carpet\": [{\"aaxis\": {\"endlinecolor\": \"#2a3f5f\", \"gridcolor\": \"white\", \"linecolor\": \"white\", \"minorgridcolor\": \"white\", \"startlinecolor\": \"#2a3f5f\"}, \"baxis\": {\"endlinecolor\": \"#2a3f5f\", \"gridcolor\": \"white\", \"linecolor\": \"white\", \"minorgridcolor\": \"white\", \"startlinecolor\": \"#2a3f5f\"}, \"type\": \"carpet\"}], \"choropleth\": [{\"colorbar\": {\"outlinewidth\": 0, \"ticks\": \"\"}, \"type\": \"choropleth\"}], \"contour\": [{\"colorbar\": {\"outlinewidth\": 0, \"ticks\": \"\"}, \"colorscale\": [[0.0, \"#0d0887\"], [0.1111111111111111, \"#46039f\"], [0.2222222222222222, \"#7201a8\"], [0.3333333333333333, \"#9c179e\"], [0.4444444444444444, \"#bd3786\"], [0.5555555555555556, \"#d8576b\"], [0.6666666666666666, \"#ed7953\"], [0.7777777777777778, \"#fb9f3a\"], [0.8888888888888888, \"#fdca26\"], [1.0, \"#f0f921\"]], \"type\": \"contour\"}], \"contourcarpet\": [{\"colorbar\": {\"outlinewidth\": 0, \"ticks\": \"\"}, \"type\": \"contourcarpet\"}], \"heatmap\": [{\"colorbar\": {\"outlinewidth\": 0, \"ticks\": \"\"}, \"colorscale\": [[0.0, \"#0d0887\"], [0.1111111111111111, \"#46039f\"], [0.2222222222222222, \"#7201a8\"], [0.3333333333333333, \"#9c179e\"], [0.4444444444444444, \"#bd3786\"], [0.5555555555555556, \"#d8576b\"], [0.6666666666666666, \"#ed7953\"], [0.7777777777777778, \"#fb9f3a\"], [0.8888888888888888, \"#fdca26\"], [1.0, \"#f0f921\"]], \"type\": \"heatmap\"}], \"heatmapgl\": [{\"colorbar\": {\"outlinewidth\": 0, \"ticks\": \"\"}, \"colorscale\": [[0.0, \"#0d0887\"], [0.1111111111111111, \"#46039f\"], [0.2222222222222222, \"#7201a8\"], [0.3333333333333333, \"#9c179e\"], [0.4444444444444444, \"#bd3786\"], [0.5555555555555556, \"#d8576b\"], [0.6666666666666666, \"#ed7953\"], [0.7777777777777778, \"#fb9f3a\"], [0.8888888888888888, \"#fdca26\"], [1.0, \"#f0f921\"]], \"type\": \"heatmapgl\"}], \"histogram\": [{\"marker\": {\"colorbar\": {\"outlinewidth\": 0, \"ticks\": \"\"}}, \"type\": \"histogram\"}], \"histogram2d\": [{\"colorbar\": {\"outlinewidth\": 0, \"ticks\": \"\"}, \"colorscale\": [[0.0, \"#0d0887\"], [0.1111111111111111, \"#46039f\"], [0.2222222222222222, \"#7201a8\"], [0.3333333333333333, \"#9c179e\"], [0.4444444444444444, \"#bd3786\"], [0.5555555555555556, \"#d8576b\"], [0.6666666666666666, \"#ed7953\"], [0.7777777777777778, \"#fb9f3a\"], [0.8888888888888888, \"#fdca26\"], [1.0, \"#f0f921\"]], \"type\": \"histogram2d\"}], \"histogram2dcontour\": [{\"colorbar\": {\"outlinewidth\": 0, \"ticks\": \"\"}, \"colorscale\": [[0.0, \"#0d0887\"], [0.1111111111111111, \"#46039f\"], [0.2222222222222222, \"#7201a8\"], [0.3333333333333333, \"#9c179e\"], [0.4444444444444444, \"#bd3786\"], [0.5555555555555556, \"#d8576b\"], [0.6666666666666666, \"#ed7953\"], [0.7777777777777778, \"#fb9f3a\"], [0.8888888888888888, \"#fdca26\"], [1.0, \"#f0f921\"]], \"type\": \"histogram2dcontour\"}], \"mesh3d\": [{\"colorbar\": {\"outlinewidth\": 0, \"ticks\": \"\"}, \"type\": \"mesh3d\"}], \"parcoords\": [{\"line\": {\"colorbar\": {\"outlinewidth\": 0, \"ticks\": \"\"}}, \"type\": \"parcoords\"}], \"pie\": [{\"automargin\": true, \"type\": \"pie\"}], \"scatter\": [{\"marker\": {\"colorbar\": {\"outlinewidth\": 0, \"ticks\": \"\"}}, \"type\": \"scatter\"}], \"scatter3d\": [{\"line\": {\"colorbar\": {\"outlinewidth\": 0, \"ticks\": \"\"}}, \"marker\": {\"colorbar\": {\"outlinewidth\": 0, \"ticks\": \"\"}}, \"type\": \"scatter3d\"}], \"scattercarpet\": [{\"marker\": {\"colorbar\": {\"outlinewidth\": 0, \"ticks\": \"\"}}, \"type\": \"scattercarpet\"}], \"scattergeo\": [{\"marker\": {\"colorbar\": {\"outlinewidth\": 0, \"ticks\": \"\"}}, \"type\": \"scattergeo\"}], \"scattergl\": [{\"marker\": {\"colorbar\": {\"outlinewidth\": 0, \"ticks\": \"\"}}, \"type\": \"scattergl\"}], \"scattermapbox\": [{\"marker\": {\"colorbar\": {\"outlinewidth\": 0, \"ticks\": \"\"}}, \"type\": \"scattermapbox\"}], \"scatterpolar\": [{\"marker\": {\"colorbar\": {\"outlinewidth\": 0, \"ticks\": \"\"}}, \"type\": \"scatterpolar\"}], \"scatterpolargl\": [{\"marker\": {\"colorbar\": {\"outlinewidth\": 0, \"ticks\": \"\"}}, \"type\": \"scatterpolargl\"}], \"scatterternary\": [{\"marker\": {\"colorbar\": {\"outlinewidth\": 0, \"ticks\": \"\"}}, \"type\": \"scatterternary\"}], \"surface\": [{\"colorbar\": {\"outlinewidth\": 0, \"ticks\": \"\"}, \"colorscale\": [[0.0, \"#0d0887\"], [0.1111111111111111, \"#46039f\"], [0.2222222222222222, \"#7201a8\"], [0.3333333333333333, \"#9c179e\"], [0.4444444444444444, \"#bd3786\"], [0.5555555555555556, \"#d8576b\"], [0.6666666666666666, \"#ed7953\"], [0.7777777777777778, \"#fb9f3a\"], [0.8888888888888888, \"#fdca26\"], [1.0, \"#f0f921\"]], \"type\": \"surface\"}], \"table\": [{\"cells\": {\"fill\": {\"color\": \"#EBF0F8\"}, \"line\": {\"color\": \"white\"}}, \"header\": {\"fill\": {\"color\": \"#C8D4E3\"}, \"line\": {\"color\": \"white\"}}, \"type\": \"table\"}]}, \"layout\": {\"annotationdefaults\": {\"arrowcolor\": \"#2a3f5f\", \"arrowhead\": 0, \"arrowwidth\": 1}, \"coloraxis\": {\"colorbar\": {\"outlinewidth\": 0, \"ticks\": \"\"}}, \"colorscale\": {\"diverging\": [[0, \"#8e0152\"], [0.1, \"#c51b7d\"], [0.2, \"#de77ae\"], [0.3, \"#f1b6da\"], [0.4, \"#fde0ef\"], [0.5, \"#f7f7f7\"], [0.6, \"#e6f5d0\"], [0.7, \"#b8e186\"], [0.8, \"#7fbc41\"], [0.9, \"#4d9221\"], [1, \"#276419\"]], \"sequential\": [[0.0, \"#0d0887\"], [0.1111111111111111, \"#46039f\"], [0.2222222222222222, \"#7201a8\"], [0.3333333333333333, \"#9c179e\"], [0.4444444444444444, \"#bd3786\"], [0.5555555555555556, \"#d8576b\"], [0.6666666666666666, \"#ed7953\"], [0.7777777777777778, \"#fb9f3a\"], [0.8888888888888888, \"#fdca26\"], [1.0, \"#f0f921\"]], \"sequentialminus\": [[0.0, \"#0d0887\"], [0.1111111111111111, \"#46039f\"], [0.2222222222222222, \"#7201a8\"], [0.3333333333333333, \"#9c179e\"], [0.4444444444444444, \"#bd3786\"], [0.5555555555555556, \"#d8576b\"], [0.6666666666666666, \"#ed7953\"], [0.7777777777777778, \"#fb9f3a\"], [0.8888888888888888, \"#fdca26\"], [1.0, \"#f0f921\"]]}, \"colorway\": [\"#636efa\", \"#EF553B\", \"#00cc96\", \"#ab63fa\", \"#FFA15A\", \"#19d3f3\", \"#FF6692\", \"#B6E880\", \"#FF97FF\", \"#FECB52\"], \"font\": {\"color\": \"#2a3f5f\"}, \"geo\": {\"bgcolor\": \"white\", \"lakecolor\": \"white\", \"landcolor\": \"#E5ECF6\", \"showlakes\": true, \"showland\": true, \"subunitcolor\": \"white\"}, \"hoverlabel\": {\"align\": \"left\"}, \"hovermode\": \"closest\", \"mapbox\": {\"style\": \"light\"}, \"paper_bgcolor\": \"white\", \"plot_bgcolor\": \"#E5ECF6\", \"polar\": {\"angularaxis\": {\"gridcolor\": \"white\", \"linecolor\": \"white\", \"ticks\": \"\"}, \"bgcolor\": \"#E5ECF6\", \"radialaxis\": {\"gridcolor\": \"white\", \"linecolor\": \"white\", \"ticks\": \"\"}}, \"scene\": {\"xaxis\": {\"backgroundcolor\": \"#E5ECF6\", \"gridcolor\": \"white\", \"gridwidth\": 2, \"linecolor\": \"white\", \"showbackground\": true, \"ticks\": \"\", \"zerolinecolor\": \"white\"}, \"yaxis\": {\"backgroundcolor\": \"#E5ECF6\", \"gridcolor\": \"white\", \"gridwidth\": 2, \"linecolor\": \"white\", \"showbackground\": true, \"ticks\": \"\", \"zerolinecolor\": \"white\"}, \"zaxis\": {\"backgroundcolor\": \"#E5ECF6\", \"gridcolor\": \"white\", \"gridwidth\": 2, \"linecolor\": \"white\", \"showbackground\": true, \"ticks\": \"\", \"zerolinecolor\": \"white\"}}, \"shapedefaults\": {\"line\": {\"color\": \"#2a3f5f\"}}, \"ternary\": {\"aaxis\": {\"gridcolor\": \"white\", \"linecolor\": \"white\", \"ticks\": \"\"}, \"baxis\": {\"gridcolor\": \"white\", \"linecolor\": \"white\", \"ticks\": \"\"}, \"bgcolor\": \"#E5ECF6\", \"caxis\": {\"gridcolor\": \"white\", \"linecolor\": \"white\", \"ticks\": \"\"}}, \"title\": {\"x\": 0.05}, \"xaxis\": {\"automargin\": true, \"gridcolor\": \"white\", \"linecolor\": \"white\", \"ticks\": \"\", \"title\": {\"standoff\": 15}, \"zerolinecolor\": \"white\", \"zerolinewidth\": 2}, \"yaxis\": {\"automargin\": true, \"gridcolor\": \"white\", \"linecolor\": \"white\", \"ticks\": \"\", \"title\": {\"standoff\": 15}, \"zerolinecolor\": \"white\", \"zerolinewidth\": 2}}}},\n",
              "                        {\"responsive\": true}\n",
              "                    ).then(function(){\n",
              "                            \n",
              "var gd = document.getElementById('b4bd06e9-4efa-4703-af75-ad1381e197ed');\n",
              "var x = new MutationObserver(function (mutations, observer) {{\n",
              "        var display = window.getComputedStyle(gd).display;\n",
              "        if (!display || display === 'none') {{\n",
              "            console.log([gd, 'removed!']);\n",
              "            Plotly.purge(gd);\n",
              "            observer.disconnect();\n",
              "        }}\n",
              "}});\n",
              "\n",
              "// Listen for the removal of the full notebook cells\n",
              "var notebookContainer = gd.closest('#notebook-container');\n",
              "if (notebookContainer) {{\n",
              "    x.observe(notebookContainer, {childList: true});\n",
              "}}\n",
              "\n",
              "// Listen for the clearing of the current output cell\n",
              "var outputEl = gd.closest('.output');\n",
              "if (outputEl) {{\n",
              "    x.observe(outputEl, {childList: true});\n",
              "}}\n",
              "\n",
              "                        })\n",
              "                };\n",
              "                \n",
              "            </script>\n",
              "        </div>\n",
              "</body>\n",
              "</html>"
            ]
          },
          "metadata": {
            "tags": []
          }
        }
      ]
    },
    {
      "cell_type": "code",
      "metadata": {
        "id": "GBMXslrNtXDV",
        "colab_type": "code",
        "colab": {
          "base_uri": "https://localhost:8080/",
          "height": 295
        },
        "outputId": "8e62b663-746b-42ec-b19d-d00ce0db0361"
      },
      "source": [
        "df_train['revenue'].hist()"
      ],
      "execution_count": 126,
      "outputs": [
        {
          "output_type": "execute_result",
          "data": {
            "text/plain": [
              "<matplotlib.axes._subplots.AxesSubplot at 0x7f424a0b4588>"
            ]
          },
          "metadata": {
            "tags": []
          },
          "execution_count": 126
        },
        {
          "output_type": "display_data",
          "data": {
            "image/png": "[encoded data removed]",
            "text/plain": [
              "<Figure size 432x288 with 1 Axes>"
            ]
          },
          "metadata": {
            "tags": [],
            "needs_background": "light"
          }
        }
      ]
    },
    {
      "cell_type": "code",
      "metadata": {
        "id": "JSRWuaCiuOzR",
        "colab_type": "code",
        "colab": {}
      },
      "source": [
        "### NUMBER OF CAST VS REVENUE ###\n",
        "def get_cast_length(row):\n",
        "  l = ast.literal_eval(row)\n",
        "  return len(l)\n",
        "from sklearn.impute import SimpleImputer\n",
        "si = SimpleImputer(fill_value = \"[]\")\n",
        "df_train[\"cast\"] = df_train['cast'].replace(\"\",\"[]\")"
      ],
      "execution_count": 0,
      "outputs": []
    },
    {
      "cell_type": "code",
      "metadata": {
        "id": "bOy7BxM6ws4l",
        "colab_type": "code",
        "colab": {
          "base_uri": "https://localhost:8080/",
          "height": 419
        },
        "outputId": "12892a21-c028-4461-e828-89a57ae5b0ad"
      },
      "source": [
        "df_train[\"num_cast\"] = df_train['cast'].apply(lambda x: get_cast_length(x))\n",
        "df_train.loc[:,['num_cast','revenue']]"
      ],
      "execution_count": 149,
      "outputs": [
        {
          "output_type": "execute_result",
          "data": {
            "text/html": [
              "<div>\n",
              "<style scoped>\n",
              "    .dataframe tbody tr th:only-of-type {\n",
              "        vertical-align: middle;\n",
              "    }\n",
              "\n",
              "    .dataframe tbody tr th {\n",
              "        vertical-align: top;\n",
              "    }\n",
              "\n",
              "    .dataframe thead th {\n",
              "        text-align: right;\n",
              "    }\n",
              "</style>\n",
              "<table border=\"1\" class=\"dataframe\">\n",
              "  <thead>\n",
              "    <tr style=\"text-align: right;\">\n",
              "      <th></th>\n",
              "      <th>num_cast</th>\n",
              "      <th>revenue</th>\n",
              "    </tr>\n",
              "  </thead>\n",
              "  <tbody>\n",
              "    <tr>\n",
              "      <th>0</th>\n",
              "      <td>24</td>\n",
              "      <td>12314651</td>\n",
              "    </tr>\n",
              "    <tr>\n",
              "      <th>1</th>\n",
              "      <td>20</td>\n",
              "      <td>95149435</td>\n",
              "    </tr>\n",
              "    <tr>\n",
              "      <th>2</th>\n",
              "      <td>51</td>\n",
              "      <td>13092000</td>\n",
              "    </tr>\n",
              "    <tr>\n",
              "      <th>3</th>\n",
              "      <td>7</td>\n",
              "      <td>16000000</td>\n",
              "    </tr>\n",
              "    <tr>\n",
              "      <th>4</th>\n",
              "      <td>4</td>\n",
              "      <td>3923970</td>\n",
              "    </tr>\n",
              "    <tr>\n",
              "      <th>...</th>\n",
              "      <td>...</td>\n",
              "      <td>...</td>\n",
              "    </tr>\n",
              "    <tr>\n",
              "      <th>2995</th>\n",
              "      <td>15</td>\n",
              "      <td>1596687</td>\n",
              "    </tr>\n",
              "    <tr>\n",
              "      <th>2996</th>\n",
              "      <td>11</td>\n",
              "      <td>180590</td>\n",
              "    </tr>\n",
              "    <tr>\n",
              "      <th>2997</th>\n",
              "      <td>15</td>\n",
              "      <td>89456761</td>\n",
              "    </tr>\n",
              "    <tr>\n",
              "      <th>2998</th>\n",
              "      <td>26</td>\n",
              "      <td>171963386</td>\n",
              "    </tr>\n",
              "    <tr>\n",
              "      <th>2999</th>\n",
              "      <td>34</td>\n",
              "      <td>82087155</td>\n",
              "    </tr>\n",
              "  </tbody>\n",
              "</table>\n",
              "<p>3000 rows × 2 columns</p>\n",
              "</div>"
            ],
            "text/plain": [
              "      num_cast    revenue\n",
              "0           24   12314651\n",
              "1           20   95149435\n",
              "2           51   13092000\n",
              "3            7   16000000\n",
              "4            4    3923970\n",
              "...        ...        ...\n",
              "2995        15    1596687\n",
              "2996        11     180590\n",
              "2997        15   89456761\n",
              "2998        26  171963386\n",
              "2999        34   82087155\n",
              "\n",
              "[3000 rows x 2 columns]"
            ]
          },
          "metadata": {
            "tags": []
          },
          "execution_count": 149
        }
      ]
    },
    {
      "cell_type": "code",
      "metadata": {
        "id": "V-mEQwA01wek",
        "colab_type": "code",
        "colab": {
          "base_uri": "https://localhost:8080/",
          "height": 542
        },
        "outputId": "ee5637d1-ea62-40ff-ad23-e5989c6b6fca"
      },
      "source": [
        "from plotly.subplots import make_subplots\n",
        "data = go.Scatter(x = df_train['num_cast'], y = np.log(df_train['revenue']), mode = 'markers',\n",
        "                  marker = dict(color = 'rgba(255, 0, 0, 0.5)'))\n",
        "fig = go.Figure(data = data)\n",
        "params = {'title':'No. Of Cast Vs Revenue', 'xaxis_title':'Log of num_cast', 'yaxis_title':'Revenue'}\n",
        "fig.update_layout(**params)\n",
        "fig.show()"
      ],
      "execution_count": 157,
      "outputs": [
        {
          "output_type": "display_data",
          "data": {
            "text/html": [
              "<html>\n",
              "<head><meta charset=\"utf-8\" /></head>\n",
              "<body>\n",
              "    <div>\n",
              "            <script src=\"https://cdnjs.cloudflare.com/ajax/libs/mathjax/2.7.5/MathJax.js?config=TeX-AMS-MML_SVG\"></script><script type=\"text/javascript\">if (window.MathJax) {MathJax.Hub.Config({SVG: {font: \"STIX-Web\"}});}</script>\n",
              "                <script type=\"text/javascript\">window.PlotlyConfig = {MathJaxConfig: 'local'};</script>\n",
              "        <script src=\"https://cdn.plot.ly/plotly-latest.min.js\"></script>    \n",
              "            <div id=\"420825ff-b91e-4e59-aacf-67a5147a828f\" class=\"plotly-graph-div\" style=\"height:525px; width:100%;\"></div>\n",
              "            <script type=\"text/javascript\">\n",
              "                \n",
              "                    window.PLOTLYENV=window.PLOTLYENV || {};\n",
              "                    \n",
              "                if (document.getElementById(\"420825ff-b91e-4e59-aacf-67a5147a828f\")) {\n",
              "                    Plotly.newPlot(\n",
              "                        '420825ff-b91e-4e59-aacf-67a5147a828f',\n",
              "                        [{\"marker\": {\"color\": \"rgba(255, 0, 0, 0.5)\"}, \"mode\": \"markers\", \"type\": \"scatter\", \"x\": [24, 20, 51, 7, 4, 4, 14, 4, 12, 20, 37, 14, 40, 59, 23, 13, 24, 19, 23, 10, 20, 16, 30, 19, 13, 15, 6, 24, 33, 11, 32, 14, 22, 31, 18, 15, 15, 14, 5, 14, 6, 32, 11, 32, 10, 15, 42, 18, 44, 17, 9, 17, 13, 9, 30, 9, 9, 14, 5, 7, 79, 15, 10, 16, 14, 9, 16, 7, 56, 56, 22, 13, 15, 6, 16, 16, 11, 55, 15, 31, 17, 11, 20, 18, 6, 21, 19, 9, 41, 13, 36, 18, 29, 12, 71, 9, 9, 6, 8, 11, 14, 38, 7, 20, 16, 14, 25, 55, 6, 18, 10, 20, 26, 13, 26, 11, 17, 17, 20, 15, 16, 11, 51, 15, 23, 4, 17, 16, 11, 18, 23, 22, 4, 18, 30, 9, 17, 36, 9, 31, 13, 13, 15, 23, 13, 20, 13, 45, 15, 9, 13, 1, 5, 19, 15, 12, 8, 18, 15, 16, 15, 7, 6, 13, 15, 5, 2, 20, 23, 18, 13, 6, 15, 15, 15, 30, 12, 11, 23, 24, 18, 9, 15, 26, 24, 15, 12, 11, 32, 15, 18, 30, 61, 15, 12, 9, 8, 15, 47, 22, 45, 21, 17, 21, 6, 23, 15, 12, 11, 16, 21, 29, 7, 20, 40, 38, 24, 16, 16, 14, 5, 5, 5, 35, 1, 30, 51, 29, 44, 14, 26, 9, 13, 0, 34, 16, 13, 31, 14, 15, 7, 12, 6, 10, 32, 11, 16, 62, 53, 18, 53, 31, 10, 1, 9, 11, 36, 14, 22, 4, 22, 23, 12, 17, 30, 18, 25, 15, 20, 6, 19, 24, 23, 18, 16, 27, 6, 62, 18, 20, 12, 48, 8, 22, 28, 10, 46, 29, 8, 16, 29, 36, 79, 24, 51, 29, 23, 9, 7, 15, 15, 18, 11, 9, 17, 30, 18, 29, 11, 34, 19, 23, 6, 10, 41, 74, 13, 24, 11, 18, 9, 33, 19, 14, 6, 16, 24, 18, 7, 20, 10, 18, 13, 18, 10, 14, 18, 4, 17, 10, 23, 18, 9, 6, 29, 13, 41, 24, 14, 5, 18, 24, 9, 9, 17, 9, 16, 28, 19, 18, 4, 19, 34, 14, 56, 19, 10, 20, 21, 9, 12, 9, 19, 17, 19, 17, 13, 44, 15, 15, 22, 15, 15, 54, 73, 8, 15, 6, 20, 26, 9, 5, 9, 20, 33, 30, 7, 17, 15, 67, 20, 10, 6, 27, 10, 11, 15, 22, 22, 13, 26, 12, 21, 22, 15, 16, 6, 17, 16, 5, 43, 9, 29, 11, 8, 19, 6, 22, 9, 41, 70, 28, 22, 14, 60, 8, 4, 17, 16, 28, 42, 17, 4, 38, 27, 19, 8, 18, 38, 20, 11, 36, 7, 15, 5, 6, 25, 2, 38, 16, 8, 15, 108, 23, 4, 9, 15, 22, 23, 11, 2, 87, 15, 9, 10, 9, 7, 29, 10, 6, 12, 9, 17, 17, 10, 18, 21, 3, 41, 5, 12, 8, 34, 17, 10, 15, 10, 15, 3, 22, 11, 13, 13, 78, 23, 15, 16, 31, 13, 11, 22, 60, 10, 15, 13, 12, 13, 45, 0, 28, 20, 15, 38, 40, 16, 11, 16, 19, 34, 22, 24, 7, 8, 12, 8, 25, 1, 26, 51, 7, 19, 17, 11, 34, 11, 32, 14, 21, 15, 4, 10, 45, 11, 11, 38, 41, 10, 16, 27, 9, 8, 56, 55, 27, 35, 9, 24, 17, 18, 8, 22, 27, 20, 9, 18, 18, 21, 20, 35, 15, 16, 25, 18, 33, 9, 9, 7, 12, 12, 5, 5, 8, 74, 17, 10, 8, 21, 27, 13, 22, 15, 36, 16, 44, 11, 49, 9, 41, 11, 4, 21, 8, 13, 11, 24, 20, 5, 7, 34, 18, 8, 22, 36, 22, 14, 57, 8, 12, 28, 9, 18, 20, 13, 19, 9, 17, 4, 13, 5, 51, 79, 27, 14, 12, 39, 32, 31, 31, 16, 20, 17, 23, 22, 15, 8, 13, 17, 23, 8, 19, 77, 25, 20, 12, 5, 18, 32, 12, 22, 12, 49, 7, 53, 18, 23, 8, 22, 12, 12, 13, 0, 46, 12, 122, 156, 16, 112, 21, 7, 60, 7, 10, 16, 17, 18, 6, 58, 27, 19, 72, 17, 22, 43, 15, 18, 20, 19, 17, 31, 14, 17, 11, 7, 56, 12, 18, 14, 6, 20, 13, 16, 6, 10, 14, 37, 18, 12, 37, 12, 21, 21, 18, 6, 8, 41, 8, 76, 15, 39, 52, 50, 9, 20, 16, 55, 23, 10, 29, 7, 23, 30, 19, 4, 13, 20, 11, 16, 25, 15, 42, 45, 20, 34, 22, 29, 14, 38, 54, 6, 8, 39, 4, 17, 0, 11, 3, 45, 18, 63, 15, 22, 40, 55, 27, 7, 6, 67, 15, 4, 8, 19, 12, 15, 10, 72, 29, 8, 11, 27, 60, 19, 22, 16, 15, 9, 18, 16, 24, 6, 17, 27, 4, 22, 8, 17, 15, 17, 5, 27, 8, 23, 9, 18, 9, 21, 10, 14, 9, 18, 5, 10, 47, 113, 33, 17, 5, 10, 60, 8, 13, 9, 21, 10, 22, 26, 38, 96, 8, 16, 36, 16, 7, 26, 21, 6, 5, 13, 18, 32, 18, 11, 14, 12, 6, 18, 14, 12, 19, 68, 35, 31, 15, 8, 11, 7, 15, 15, 20, 16, 13, 14, 35, 11, 16, 5, 16, 4, 13, 16, 23, 6, 10, 3, 14, 16, 17, 114, 15, 35, 24, 22, 1, 38, 12, 15, 16, 0, 17, 42, 41, 5, 2, 13, 11, 26, 11, 17, 13, 9, 7, 11, 19, 15, 13, 21, 10, 16, 46, 10, 37, 21, 16, 22, 23, 0, 10, 16, 45, 11, 16, 29, 82, 12, 4, 13, 12, 46, 2, 19, 18, 8, 7, 6, 49, 8, 8, 11, 36, 28, 14, 27, 49, 32, 14, 8, 15, 23, 14, 22, 22, 6, 23, 52, 43, 12, 12, 13, 13, 32, 4, 21, 15, 12, 19, 31, 7, 12, 15, 43, 5, 6, 5, 8, 13, 13, 8, 49, 17, 52, 22, 7, 47, 14, 20, 9, 21, 9, 1, 12, 42, 34, 30, 125, 24, 11, 12, 20, 38, 34, 7, 6, 17, 10, 18, 19, 24, 15, 19, 10, 18, 15, 4, 20, 8, 23, 65, 14, 25, 25, 4, 10, 76, 38, 15, 18, 14, 12, 24, 21, 47, 26, 8, 15, 17, 17, 4, 3, 17, 23, 49, 28, 24, 6, 24, 32, 25, 25, 31, 4, 19, 16, 13, 27, 9, 5, 10, 15, 19, 16, 12, 23, 19, 26, 19, 6, 18, 7, 31, 38, 12, 11, 10, 6, 58, 22, 20, 24, 8, 21, 7, 24, 3, 16, 26, 10, 20, 11, 21, 35, 6, 7, 33, 48, 13, 35, 29, 13, 19, 18, 10, 27, 47, 17, 36, 23, 11, 115, 13, 10, 13, 14, 17, 16, 24, 11, 8, 0, 41, 11, 6, 23, 8, 27, 105, 11, 17, 6, 28, 38, 36, 11, 38, 34, 7, 25, 31, 5, 7, 22, 24, 20, 25, 13, 6, 11, 16, 27, 29, 9, 9, 11, 28, 10, 8, 20, 22, 16, 29, 10, 9, 11, 21, 114, 16, 49, 16, 31, 17, 3, 25, 7, 55, 16, 6, 7, 88, 19, 14, 7, 21, 6, 30, 20, 11, 14, 14, 16, 30, 27, 58, 19, 23, 21, 58, 18, 20, 13, 19, 13, 23, 29, 11, 47, 21, 27, 4, 12, 7, 14, 14, 5, 67, 7, 47, 45, 15, 16, 13, 13, 19, 6, 49, 12, 7, 14, 23, 43, 20, 20, 21, 13, 8, 9, 10, 4, 13, 15, 5, 7, 11, 18, 16, 18, 16, 12, 13, 3, 12, 22, 6, 28, 8, 20, 15, 28, 13, 13, 5, 17, 7, 14, 14, 17, 11, 15, 27, 17, 26, 17, 13, 15, 7, 15, 29, 10, 47, 13, 13, 25, 4, 36, 5, 23, 0, 5, 17, 16, 20, 6, 72, 12, 25, 22, 21, 11, 53, 19, 6, 15, 53, 45, 20, 15, 8, 15, 16, 11, 18, 9, 7, 9, 15, 37, 3, 13, 1, 15, 22, 15, 16, 11, 14, 9, 19, 11, 47, 63, 22, 11, 78, 13, 15, 45, 21, 16, 21, 6, 16, 16, 19, 7, 23, 15, 9, 25, 18, 21, 14, 13, 11, 11, 8, 9, 13, 18, 16, 10, 85, 16, 7, 11, 44, 3, 16, 59, 7, 12, 11, 3, 21, 20, 9, 66, 37, 52, 18, 15, 15, 10, 23, 32, 17, 14, 25, 5, 24, 16, 22, 15, 23, 25, 11, 10, 12, 15, 46, 34, 40, 9, 7, 15, 4, 13, 14, 8, 18, 12, 18, 11, 16, 27, 10, 74, 22, 6, 24, 7, 16, 13, 31, 12, 10, 66, 19, 35, 33, 8, 16, 28, 17, 22, 23, 63, 9, 13, 65, 15, 15, 15, 7, 65, 18, 28, 5, 10, 18, 23, 38, 18, 10, 11, 21, 15, 23, 18, 22, 15, 91, 14, 12, 59, 19, 19, 23, 35, 18, 11, 11, 10, 9, 13, 4, 31, 17, 15, 15, 62, 10, 26, 14, 15, 17, 19, 8, 10, 22, 14, 10, 30, 15, 28, 13, 21, 16, 22, 26, 15, 18, 4, 31, 35, 19, 10, 15, 72, 14, 36, 10, 16, 15, 24, 14, 31, 7, 3, 11, 22, 9, 30, 12, 34, 10, 35, 13, 17, 16, 11, 25, 19, 11, 17, 11, 29, 18, 19, 26, 12, 17, 19, 11, 14, 19, 12, 15, 33, 103, 4, 20, 9, 10, 12, 22, 12, 7, 19, 13, 22, 14, 26, 30, 8, 68, 9, 16, 15, 23, 61, 15, 17, 20, 21, 32, 59, 21, 16, 8, 17, 96, 63, 8, 15, 23, 4, 61, 27, 22, 15, 24, 25, 15, 20, 23, 15, 125, 15, 43, 15, 0, 1, 14, 16, 15, 7, 22, 21, 13, 9, 8, 20, 7, 110, 24, 5, 8, 14, 11, 10, 25, 5, 31, 15, 9, 34, 37, 16, 12, 17, 25, 37, 14, 21, 17, 6, 14, 5, 14, 11, 12, 8, 27, 90, 16, 11, 17, 11, 15, 68, 20, 3, 15, 24, 15, 13, 134, 19, 10, 4, 26, 13, 10, 3, 10, 12, 12, 6, 50, 15, 4, 46, 14, 5, 17, 15, 16, 13, 56, 52, 12, 15, 15, 7, 7, 8, 13, 22, 8, 43, 16, 16, 20, 41, 4, 14, 44, 5, 20, 7, 16, 80, 4, 41, 17, 17, 28, 20, 31, 17, 25, 13, 21, 10, 23, 10, 38, 54, 27, 10, 11, 6, 24, 9, 13, 16, 10, 16, 33, 4, 19, 15, 9, 8, 8, 8, 6, 13, 5, 9, 8, 21, 31, 10, 52, 25, 35, 15, 21, 7, 9, 13, 10, 19, 15, 26, 40, 26, 36, 5, 0, 57, 30, 17, 2, 25, 0, 25, 9, 8, 28, 10, 16, 11, 10, 14, 5, 22, 34, 17, 27, 21, 17, 0, 11, 14, 11, 25, 20, 22, 15, 4, 19, 23, 14, 6, 10, 0, 29, 25, 3, 42, 7, 10, 4, 18, 7, 26, 16, 8, 8, 26, 23, 18, 11, 12, 19, 8, 14, 33, 24, 32, 8, 36, 31, 21, 20, 15, 15, 15, 19, 10, 13, 22, 19, 8, 15, 23, 23, 23, 6, 10, 11, 10, 70, 16, 26, 12, 22, 54, 10, 51, 44, 6, 22, 20, 57, 6, 58, 12, 33, 11, 31, 32, 12, 12, 10, 6, 16, 69, 29, 16, 12, 4, 14, 18, 11, 8, 9, 13, 21, 7, 8, 42, 10, 58, 10, 15, 7, 35, 38, 42, 10, 29, 0, 52, 9, 21, 29, 32, 8, 1, 8, 16, 10, 23, 3, 25, 1, 40, 13, 18, 18, 18, 16, 23, 18, 14, 31, 29, 14, 14, 16, 11, 10, 6, 10, 10, 9, 48, 13, 13, 5, 17, 9, 10, 14, 43, 16, 18, 16, 11, 8, 19, 1, 20, 20, 15, 24, 16, 32, 17, 14, 17, 15, 22, 20, 14, 12, 22, 13, 7, 13, 10, 11, 50, 23, 20, 12, 18, 19, 25, 9, 24, 12, 8, 20, 25, 51, 33, 6, 42, 19, 13, 8, 16, 66, 17, 11, 13, 31, 8, 14, 7, 14, 16, 8, 0, 18, 42, 15, 80, 13, 16, 27, 56, 24, 96, 13, 11, 9, 47, 10, 12, 28, 9, 54, 16, 34, 27, 17, 95, 20, 10, 26, 15, 18, 16, 54, 14, 22, 17, 12, 15, 30, 17, 7, 8, 44, 21, 31, 32, 26, 18, 23, 46, 14, 10, 38, 25, 30, 24, 15, 20, 13, 23, 19, 12, 14, 0, 11, 17, 8, 11, 19, 17, 9, 14, 20, 16, 10, 29, 27, 12, 44, 12, 16, 18, 0, 11, 70, 9, 23, 17, 18, 12, 19, 17, 15, 64, 16, 17, 54, 12, 20, 28, 19, 20, 18, 10, 10, 16, 15, 117, 22, 16, 19, 58, 16, 63, 8, 15, 7, 19, 33, 11, 13, 15, 36, 11, 15, 29, 40, 13, 41, 30, 7, 35, 8, 2, 23, 18, 9, 4, 22, 28, 18, 16, 9, 16, 16, 16, 13, 25, 18, 14, 34, 67, 16, 75, 32, 16, 12, 22, 16, 15, 15, 7, 24, 20, 32, 27, 11, 25, 16, 20, 9, 29, 18, 17, 14, 15, 27, 118, 25, 16, 12, 53, 13, 25, 24, 15, 15, 11, 9, 15, 4, 24, 52, 10, 21, 7, 34, 8, 12, 13, 27, 15, 20, 3, 16, 16, 29, 16, 12, 50, 23, 19, 13, 13, 48, 14, 14, 20, 11, 6, 23, 5, 7, 18, 19, 12, 12, 9, 45, 31, 12, 30, 23, 19, 29, 22, 49, 12, 15, 18, 13, 15, 6, 8, 17, 17, 15, 6, 28, 22, 7, 52, 9, 110, 14, 16, 89, 15, 12, 10, 70, 29, 14, 35, 15, 14, 19, 15, 27, 18, 8, 10, 14, 55, 10, 8, 6, 14, 30, 5, 78, 36, 3, 13, 26, 20, 25, 18, 6, 7, 26, 35, 114, 5, 15, 15, 19, 31, 19, 5, 31, 10, 27, 13, 25, 13, 20, 14, 10, 40, 33, 15, 23, 46, 28, 12, 6, 10, 16, 29, 16, 16, 27, 12, 17, 77, 8, 16, 26, 4, 11, 16, 16, 73, 60, 16, 17, 33, 69, 19, 9, 11, 53, 8, 33, 29, 9, 19, 32, 10, 10, 98, 43, 17, 13, 19, 23, 18, 7, 15, 28, 25, 15, 12, 18, 10, 19, 9, 19, 14, 19, 0, 48, 16, 27, 16, 12, 10, 19, 15, 52, 16, 11, 19, 38, 19, 7, 10, 66, 84, 22, 48, 7, 21, 9, 9, 12, 24, 15, 98, 17, 17, 27, 9, 36, 53, 12, 26, 13, 75, 11, 18, 23, 20, 4, 25, 8, 17, 30, 21, 17, 10, 10, 8, 29, 24, 18, 17, 17, 45, 42, 6, 12, 10, 30, 0, 18, 32, 12, 19, 17, 117, 50, 5, 8, 12, 25, 20, 7, 36, 9, 57, 28, 17, 17, 23, 21, 22, 21, 19, 17, 7, 16, 15, 9, 35, 19, 7, 42, 20, 5, 16, 18, 26, 58, 16, 15, 7, 12, 14, 15, 15, 10, 12, 13, 13, 25, 14, 12, 18, 20, 12, 7, 54, 16, 6, 14, 9, 13, 19, 17, 38, 12, 50, 26, 0, 9, 36, 7, 9, 8, 9, 13, 16, 81, 15, 21, 19, 47, 30, 8, 9, 49, 15, 10, 11, 13, 9, 26, 16, 20, 17, 17, 18, 13, 19, 7, 63, 19, 28, 12, 28, 9, 1, 14, 10, 24, 12, 25, 31, 11, 39, 29, 15, 10, 15, 6, 10, 15, 14, 9, 15, 1, 1, 4, 9, 17, 38, 38, 10, 8, 30, 18, 28, 16, 27, 7, 1, 14, 24, 15, 7, 12, 8, 34, 38, 44, 45, 16, 8, 25, 14, 9, 21, 16, 17, 10, 6, 29, 18, 27, 19, 33, 22, 24, 29, 18, 37, 16, 11, 0, 35, 15, 15, 11, 21, 19, 20, 30, 9, 30, 7, 9, 15, 15, 25, 110, 24, 13, 34, 23, 20, 4, 6, 16, 42, 15, 10, 21, 59, 47, 56, 20, 17, 15, 10, 13, 18, 40, 11, 51, 16, 12, 18, 10, 15, 16, 5, 13, 15, 8, 10, 13, 3, 24, 5, 28, 15, 17, 32, 14, 26, 7, 0, 8, 16, 18, 18, 9, 19, 15, 33, 12, 20, 15, 16, 16, 21, 15, 8, 19, 9, 12, 17, 27, 13, 18, 9, 10, 31, 15, 29, 12, 17, 12, 40, 19, 15, 9, 7, 5, 11, 25, 21, 19, 25, 24, 15, 14, 13, 8, 17, 7, 71, 83, 15, 44, 46, 20, 17, 12, 24, 20, 17, 24, 16, 3, 13, 29, 12, 58, 8, 12, 19, 14, 12, 15, 10, 15, 16, 15, 5, 21, 22, 10, 3, 22, 72, 7, 24, 14, 12, 12, 25, 15, 32, 19, 6, 15, 16, 15, 16, 9, 7, 45, 5, 12, 73, 20, 10, 105, 16, 18, 31, 10, 7, 20, 14, 5, 61, 14, 7, 14, 20, 16, 13, 13, 21, 13, 9, 16, 12, 25, 31, 16, 10, 14, 16, 12, 13, 4, 9, 11, 16, 5, 9, 6, 3, 5, 29, 34, 11, 27, 18, 31, 12, 24, 11, 15, 20, 22, 7, 16, 20, 19, 71, 15, 19, 15, 14, 40, 10, 15, 24, 7, 48, 10, 92, 17, 10, 24, 11, 22, 52, 1, 13, 28, 22, 10, 11, 14, 8, 13, 55, 60, 16, 15, 21, 66, 17, 0, 11, 20, 0, 28, 41, 15, 20, 17, 22, 41, 20, 24, 8, 16, 26, 10, 4, 18, 18, 15, 23, 7, 23, 15, 19, 20, 54, 26, 6, 13, 61, 30, 58, 17, 11, 3, 38, 16, 31, 23, 14, 14, 18, 21, 21, 6, 27, 8, 30, 24, 19, 22, 2, 55, 26, 32, 15, 15, 13, 15, 36, 18, 23, 9, 27, 16, 43, 33, 35, 15, 17, 21, 12, 15, 4, 9, 12, 44, 29, 4, 0, 0, 10, 15, 11, 30, 26, 8, 11, 12, 29, 18, 17, 27, 15, 15, 31, 40, 15, 39, 16, 21, 10, 11, 4, 19, 30, 21, 21, 23, 7, 15, 11, 15, 26, 34], \"y\": [16.32630024971174, 18.37095921369616, 16.38751191460321, 16.588099280204055, 15.182614454378227, 14.997740081142883, 18.263396033176583, 14.765820421268007, 17.35145416487623, 16.746717430294627, 18.57969227922794, 16.935318604087552, 19.691274090816837, 18.371764789871715, 19.69708469491702, 5.288267030694535, 17.874086360845705, 14.025977296950373, 14.374816012036838, 18.2601320957045, 18.729336985118785, 17.418016622440454, 11.516369527372783, 9.741615472609583, 15.414436816032637, 15.944150870798527, 16.442721567617276, 15.875641851109611, 15.581891875507052, 18.368711052438794, 19.87107807277645, 17.399029496420383, 18.80551386894387, 8.877800393882575, 19.368556313591693, 17.513007425288247, 11.928730267063791, 19.061795198918137, 11.430630222243398, 9.607302767592598, 12.0015054797889, 16.601618297594996, 17.008566787435473, 13.836215719030765, 17.66937545472996, 15.27412558066379, 20.309174802274413, 18.86382767018356, 13.390787704085026, 18.60300230074632, 14.22097566607244, 17.0476315964246, 16.213405830762646, 16.678542693306042, 17.645663159833187, 17.411402632483526, 13.870886606556798, 19.288651113682832, 11.69159870808709, 17.053519413449806, 20.21084888101609, 16.48273876454623, 17.04363504182894, 16.454567887579532, 16.686524602908527, 16.284128514352506, 12.230472532353708, 11.945486798740093, 16.390398517345, 18.881065080795658, 16.866025717691944, 16.63428916180525, 15.927702768474786, 9.763823105408154, 14.648419680899378, 17.031271015109905, 13.122363377404328, 17.500541214951607, 17.38813986344996, 13.566818402803689, 16.038778596601386, 16.26549832842943, 18.337025380154568, 17.514356605175387, 16.388250413614692, 18.83953646955659, 18.481399478987072, 17.29342348766863, 16.392880536087333, 18.75773846628622, 19.01372578157025, 12.279968809539849, 16.523560759066484, 14.817785939924336, 16.817092637987923, 9.57171425857138, 8.119100837637486, 11.198214720130528, 16.951004773893423, 17.65745582507877, 16.037904707298374, 19.563444967928767, 16.52096198517691, 15.485206719226069, 18.82295071972398, 16.61920179322338, 16.532473786429794, 19.162618088681743, 16.73518169934258, 17.35827179381484, 18.029590367555365, 16.908135031994988, 18.356896690132736, 17.760674253686478, 20.5855753661917, 17.543718243489657, 5.739792912179234, 19.35136903969681, 14.401289096819145, 16.75015010015565, 19.665773808073048, 19.920303790379258, 15.535622563963836, 18.326773938956805, 17.921828716388454, 15.816990558174398, 16.556350581889475, 16.301137115223362, 17.648521351242607, 15.561418565803013, 16.0978929436408, 8.55756708555451, 14.712645381374537, 19.17106244878912, 17.312018119430753, 12.611537753638338, 11.700897693272998, 15.2858643182715, 14.935838675270894, 19.826070494589647, 16.454567887579532, 17.264443230151926, 13.330703496596836, 12.85363128126347, 16.213405830762646, 9.125653563808989, 16.786456728307783, 18.278643703503146, 18.80739820128088, 12.976814925428114, 2.8903717578961645, 9.735364715141987, 5.484796933490655, 17.77491044363214, 15.44315924313081, 18.514741798469892, 15.927278064901813, 13.012066252271739, 16.781453142124334, 16.73611295278044, 11.64204840462957, 16.323245970632282, 14.978661367769956, 16.6543581761167, 17.955004681268175, 10.126631103850338, 14.360083481509735, 18.786825978791047, 17.549204354561176, 17.01829082146888, 17.83369375922081, 14.765483230734763, 16.300417207752275, 14.847931048474093, 17.183061941501055, 19.149600029777947, 16.51203330587609, 13.18562733663285, 18.645526078411876, 18.8664366014951, 17.254271125994702, 16.85798332511883, 16.898839566319246, 16.680857399452158, 19.28644125443523, 18.896925469476972, 15.159290607986984, 13.733215315237445, 20.071859000294808, 16.60899695722418, 16.62942114976596, 18.193780143760442, 17.450882979706165, 16.393302252322158, 13.520892486991375, 11.657934486880203, 11.82190169888669, 18.17119765774044, 16.330979551584914, 16.762815636467572, 18.785323857540273, 15.180658654511575, 18.51599092375669, 20.082841745030876, 16.11809565095832, 14.845668401596463, 14.249311714582749, 18.0051652999907, 15.28616766654936, 18.498599196993784, 17.095310743252217, 19.96963377480591, 15.04460739400109, 17.24949776244942, 14.493134372116822, 18.974364745003083, 18.23508773779857, 18.261685012461907, 15.427018725939767, 14.967979519423094, 16.18130497660683, 13.53438693180974, 10.362461831496553, 19.68177242933684, 6.214608098422191, 15.700383249998424, 17.180438103017917, 17.077325251991766, 13.367097760145837, 14.72134683193457, 18.094658248111887, 13.816946526467829, 14.615311517556348, 12.239159198517964, 15.964284463497007, 17.122303885832572, 15.538277155705378, 14.29927161828731, 20.040068987239636, 17.86883319248637, 15.571720221340014, 16.742001375565327, 11.29933612646083, 16.67880621084076, 17.597083134008354, 16.747020846944377, 19.677957529828916, 18.339263617197496, 18.806490022389053, 16.49379436994694, 17.569709478198853, 16.11982635243015, 15.42527941562996, 10.318638930233714, 10.453312711151128, 15.86963429165982, 19.130820646936517, 16.012735135300492, 14.643063623668674, 11.849547690342566, 12.140728466604171, 18.287471276647185, 16.685467624624668, 9.546812608597396, 11.87476604401313, 16.38512922796831, 17.845408008204192, 14.963271676632267, 16.990972281704742, 2.995732273553991, 18.097957077119652, 18.90905323417181, 17.645116706321897, 18.24348813956598, 19.34025206879214, 13.308082489299183, 16.454567887579532, 18.915376985788473, 10.044118682275874, 19.1989238018533, 2.302585092994046, 18.01250316040663, 16.372954125016722, 16.974636378426702, 17.689341108600264, 14.294390922163304, 19.439246428828238, 15.738527795424, 16.97296198377947, 16.24679673389773, 19.355600206532493, 15.495785240858268, 18.911974478209395, 12.646660337328704, 20.297743308415054, 15.58602442931467, 17.772935135620784, 17.849566364877138, 16.073453138377676, 10.167964967343314, 17.698557791155846, 14.862829552244833, 14.895701544866666, 16.94604562806618, 15.639075656177994, 19.082195369130297, 18.421548297518918, 16.93693032227205, 16.897434380874373, 18.518082661819204, 15.950795663336226, 9.413281215972873, 2.4849066497880004, 8.747828608488742, 19.67392947159051, 18.54307760840126, 18.589058545192962, 19.4719942058544, 17.140301944423804, 18.0453615424053, 13.527828485512494, 19.025097918798746, 20.093939112902333, 18.900796330840443, 15.550669869263254, 19.5006421987555, 18.57254309326161, 17.92582449491579, 16.83735852860437, 19.767026708021255, 15.536275153034705, 15.579842987795576, 12.755903574635465, 14.98644350821201, 1.0986122886681098, 17.46115957270666, 18.583640175414903, 16.10131087137548, 17.1337202023851, 14.603967918328545, 14.070151225949056, 17.918614527650263, 11.936950598599303, 11.385092093460344, 17.73845583759717, 16.50207777676427, 18.28618913046331, 0.0, 15.009871112281273, 15.072567437272621, 18.617811870707424, 18.569269243495345, 16.06680235657077, 16.140769739894978, 16.126993249665578, 12.884030043249131, 18.596896078995805, 20.485315423096832, 16.494329869055846, 18.353745603883212, 14.96676368267771, 16.08763644347361, 15.473591004623424, 17.064412143992897, 17.914675350852647, 12.959279582517782, 18.433922306221987, 14.312679350282652, 15.024988680179684, 17.97612227138173, 13.99141322435594, 15.226497531674536, 18.334612943472553, 16.177243512312348, 16.64872390202049, 16.670519639790946, 18.425585525820015, 15.440902328124785, 16.784801623525645, 13.629336389382829, 18.956459917968854, 17.94541609980515, 14.508657738524219, 18.048589723435157, 18.422986403874507, 19.252442878913403, 9.392661928770137, 14.112575721211076, 14.570780531639027, 19.092327554165628, 16.186056496756578, 16.104903212148326, 11.747705054247557, 18.681754861153046, 18.094667724521287, 13.71091530497382, 17.288436394878747, 14.467654998503814, 18.139720774125312, 15.872283088191162, 17.882917419687786, 15.60727002719233, 9.018089684104343, 7.292337176173877, 15.912696851161728, 18.64850240781488, 16.46243606640213, 15.714942568058875, 17.516443056421636, 15.227707043822166, 19.026724479648202, 18.81499352877047, 18.396328008597184, 13.781140620751142, 19.00501441523899, 18.82418294014217, 18.063039433231626, 12.830753601614568, 15.341793574888326, 15.424948470398375, 18.833579613065826, 17.52900127989677, 12.599994721776683, 17.2052340657708, 13.467370516475379, 13.370940729975349, 16.716789174793295, 14.515100439682197, 14.045033716242523, 18.513043958444083, 15.03936775094972, 18.380492486078616, 11.600295111107135, 18.811675208838786, 16.22523459427579, 12.614396995441199, 11.169279559000872, 18.894321612914606, 17.745137697340777, 12.563502304599782, 19.637313228300346, 14.501942743323832, 13.632470743284872, 15.27412558066379, 10.77369246021493, 12.747774649752127, 13.682420210921991, 19.35337582570925, 19.568579610064383, 15.6055418681186, 2.4849066497880004, 14.39656684683452, 13.825084580398547, 16.3440321782813, 15.148006647754721, 15.406923390328629, 15.60727002719233, 12.737133156095918, 18.3032842073456, 17.050474079093522, 12.224801166769156, 18.811915363922097, 18.95787754536397, 18.65415340585879, 16.547900333736546, 16.748430819106396, 19.41393251696265, 16.42705536527841, 12.672889953842668, 18.561346443033766, 14.329967580214296, 19.945150178166525, 18.980290846157338, 10.043249494911286, 15.687312734865866, 14.29304823486409, 15.66804820584576, 15.266472650623712, 16.91405245641896, 16.624282934235495, 14.077874822431765, 16.056220247240233, 17.39187362077109, 12.14246169406681, 15.020278246286203, 16.55498190374123, 19.045996323133004, 15.05921058176289, 18.504864223707063, 13.320433603666373, 14.360958453624724, 17.962065966827414, 11.10271411123683, 17.44792208920626, 8.896451207355227, 16.286843669336097, 15.096444403426338, 17.601191193423457, 3.2188758248682006, 19.975085658014695, 13.51678910853047, 17.767424993872233, 12.664990049038344, 16.385946222697086, 16.279363798554442, 9.283497892593909, 15.713643329808258, 18.44407890935125, 14.985249617513475, 16.44490961050308, 16.077273656438063, 19.086699879036363, 14.73180128983843, 18.437012462450824, 10.886445787656298, 16.86635047451999, 15.60727002719233, 18.633585561869392, 20.52552251000142, 17.156889284598154, 16.716690914160296, 12.809081747879002, 17.17878143662178, 18.62525290968114, 15.955576721460545, 17.048092029888586, 16.67341651461086, 17.548862870078707, 17.909855120186375, 17.45729591502344, 17.399029496420383, 12.329554964926661, 16.087403323519762, 18.653765224095345, 10.746648295413559, 16.048084368209473, 16.76958793815071, 19.62982800067862, 19.977080273902235, 13.340616590483108, 18.670569979350415, 15.894081595865613, 17.50444281068434, 20.646695111627153, 16.811242831518264, 15.761420707019587, 18.477387640318085, 16.608182076582544, 18.218634887834515, 12.3803326283129, 18.39881479707561, 18.463735903901526, 18.768455466160297, 16.22079536983397, 18.377661984142456, 13.304684934198283, 15.400295467023547, 16.92709106331489, 17.647459760235424, 17.447810216100773, 9.688808079634049, 14.28551418721001, 19.096085870975084, 17.415743016375092, 13.743315063550911, 11.302327882824537, 15.88237331743725, 17.423551931929833, 16.692910319927627, 15.176487111099874, 18.23097057849132, 16.63864653074509, 18.131682325497213, 16.119437150744982, 19.171872373484952, 16.846149010054017, 17.704848225876823, 15.86963429165982, 16.336007782225536, 4.477336814478207, 15.899118035072572, 13.041504670227068, 15.20208512982147, 17.067303268550376, 13.895505879899739, 19.552082855443466, 15.29711509888849, 19.559291090998553, 15.424948470398375, 15.553304569262508, 16.014553148379452, 12.366267877332406, 17.615573429192004, 16.229321143963272, 17.301314769675457, 12.273731294003989, 16.8614013447852, 18.425898915582653, 13.956428353822481, 17.575092201847937, 19.692771720127038, 17.914397670497877, 18.581842273098985, 17.794784016416273, 17.08942964130764, 16.213405830762646, 12.341407411099791, 12.970996153500266, 10.360152617342683, 12.51958327051404, 15.142582906900781, 14.500224276643399, 15.92003914663013, 16.647552510326697, 17.17935215308266, 13.917653703432924, 12.043553716032399, 18.579996049823492, 17.114781520702884, 15.419199979438726, 18.9964035882656, 13.637579349471613, 15.220010438348679, 18.73766786557932, 18.255484610410402, 18.805262641144104, 15.543990446589795, 17.191444694256138, 15.635937007931048, 16.334307231583733, 18.51145613896313, 14.22097566607244, 17.220125991426123, 19.616358395431945, 17.61161155994084, 16.819151872435246, 17.41460971425393, 18.83157575011218, 14.151982794585487, 2.0794415416798357, 18.11898413842143, 18.394717661156392, 19.481079788599697, 15.89831780430041, 10.919442607523228, 13.815510557964274, 18.358805340234277, 14.73180128983843, 16.60667566577699, 19.07536165309628, 18.720785336402702, 16.31961736601873, 10.809748150372926, 11.502875129116727, 13.22347126343721, 16.915602846842507, 16.81522738264038, 16.38045991542581, 13.533477831200077, 15.911690109322544, 18.70217648294158, 16.119787618773152, 16.626901336021046, 16.712136550630788, 4.248495242049359, 2.302585092994046, 20.68077578532546, 12.739376725132542, 12.947898079235841, 18.153832283489223, 14.946912669455374, 15.590462908875947, 15.064015043406602, 17.46295577288276, 18.158444730260392, 16.25014479559586, 17.921454256029726, 13.563739882761425, 14.075515888487386, 15.984564258333798, 20.114960418462882, 16.213405830762646, 17.65292501058449, 19.026597238021566, 20.95666568180738, 15.147348733288107, 18.272581154295576, 14.139376525563256, 9.332026890232783, 20.560746907448635, 15.60727002719233, 16.26313114196135, 19.01191935513758, 14.71194382903892, 15.603812724268785, 0.6931471805599453, 16.811242831518264, 12.489189312359024, 16.02133141452585, 18.64244186815439, 17.472599893550985, 18.40505999281051, 19.277149298964996, 13.122363377404328, 17.90833004117768, 17.420038177187358, 16.480193862361272, 9.530174967444372, 19.14422396840224, 16.1573163641116, 16.067237945898487, 15.293771332910625, 18.606795049174295, 16.13460875605705, 17.18881067093986, 17.001405317723844, 16.70331112428972, 16.502263643578942, 17.303218730232487, 12.154779351142624, 15.312778153923068, 11.048538035310022, 15.816958530634494, 13.859359008143999, 20.380532487200007, 18.08606979006924, 15.233606350383337, 19.20493162401604, 16.6282885746118, 20.030495455388806, 14.50863523827109, 17.85269671222878, 16.233268171070975, 14.485868525818425, 20.746771594283132, 17.887310420844543, 17.216707939626428, 14.453746855916222, 17.433952499385175, 18.882739269282908, 14.805808714080236, 12.905547265556732, 15.267124385204808, 17.487756870152484, 18.183292567989714, 16.80006291853873, 12.428836124626088, 16.224443778766677, 17.346363945129387, 18.253033747187917, 17.73651921126677, 18.545057901630265, 9.96880701865677, 17.890555168527623, 16.15821759249866, 15.60727002719233, 12.179317908221353, 18.913751867217837, 10.091376913633546, 17.20131642903396, 17.026092443005954, 10.988828836344187, 18.064005800013632, 20.09190025570506, 15.990262279448435, 18.71124897992439, 17.023091434386114, 18.61512210826541, 14.631858516121712, 15.248793461306969, 17.035823349900593, 16.713078582731033, 15.59488160661238, 10.79450150122549, 15.01477087594803, 15.860920151536149, 17.71857358238092, 19.62051631672626, 17.191491938425465, 17.830955625462494, 15.011126137769, 14.314337281991973, 19.62064552688076, 16.937773759216324, 16.3345517711675, 13.546431700991352, 18.064975458314464, 12.443225605217448, 14.663191773432956, 18.372660340441165, 18.095868548074293, 19.219538378934423, 18.108442597255095, 16.209714936876978, 18.354722645024196, 16.83887040119806, 17.329435640807215, 8.440528106480752, 11.104295353518907, 18.99300851122352, 17.892686122840352, 16.455750616451343, 13.023821782196473, 17.283009499447555, 18.725809730007867, 16.421983743603196, 16.732868339931525, 11.84028487707477, 10.399585250897506, 19.209234731466264, 19.712361297244673, 14.151982794585487, 19.314263035863068, 16.860032995687696, 17.559762394413013, 17.922126632899133, 17.534072568797775, 16.90655301132259, 19.26978648200063, 14.692003354124255, 9.129238770539141, 14.77102200299171, 18.952064356715866, 14.038654109278484, 18.45943462700358, 16.587637611151298, 17.97559192309749, 18.82614585206053, 15.798745255456405, 9.330431852234003, 18.89691492294874, 14.962335701333625, 19.74035087168164, 17.99751807374277, 17.403474464009697, 14.082393061338518, 16.8845267034804, 19.752672920089058, 16.63711281228216, 16.09759677733891, 14.9070962175947, 16.253468671744212, 12.821190714770049, 17.11826326910146, 13.827625870285557, 18.73378244757928, 15.793339828311348, 14.787418761480987, 16.70588231586044, 15.955576721460545, 17.68729410749692, 14.529699793490925, 11.936629887534313, 17.415875961184906, 14.695798497619505, 13.695632955233025, 16.11809565095832, 19.764216695242787, 13.232114241363448, 15.899754051795206, 16.508966512576144, 18.395803372295088, 10.184447079227082, 14.78738697870566, 13.359920945851105, 16.061322315907194, 15.89495209964411, 11.819623090350523, 18.502628506624994, 17.14771506813948, 15.623970789853148, 17.701600181365915, 14.94911508107509, 16.15562329706672, 18.80252077128858, 17.730711388752574, 17.55700259956578, 17.46622957663181, 15.088760233445438, 17.688078800451624, 13.88559803015723, 20.748437466497155, 18.82091455934458, 18.162924150844432, 16.723230954195053, 17.7190833406143, 5.723585101952381, 17.815298696236717, 19.725613313623455, 16.38829796366695, 15.910529145064263, 17.45211660595909, 12.865531182782325, 16.38045991542581, 18.420881643770645, 15.509092356730177, 18.553416731576185, 16.729598842477756, 16.626549744869042, 16.759949537130716, 16.6406670027879, 10.862147880776792, 20.4832762254559, 16.464155847267936, 19.123907514337912, 18.346210894021088, 20.80478969240957, 18.671433275509983, 14.748286262938278, 10.330975044678786, 7.757906208351747, 14.215978534515415, 14.535757695038031, 17.728898830990335, 15.341566861459324, 17.937794488875618, 17.16371572921376, 15.11364533770555, 15.444751097694555, 15.158956915259054, 14.802639550879526, 16.27015162413294, 17.380769260693206, 12.160682943231363, 13.653296287935444, 11.227148243803411, 18.386282851878786, 19.10219858005435, 6.46302945692067, 17.561846821671494, 17.889581219858503, 13.377214876202816, 18.884765440827227, 18.97928073042184, 18.960326374787847, 15.254363924621302, 16.454567887579532, 10.542284138345991, 7.569411792450712, 14.616165946239505, 16.75723137258213, 20.446905807585598, 15.34921147980662, 17.148556249961114, 16.240459202239478, 17.59173182405152, 19.445759040836705, 11.733609995369179, 19.520626915935775, 15.952686194969893, 15.925853568067032, 16.815235848803244, 13.815510557964274, 18.10931891946041, 14.499871754556056, 14.42121408629893, 14.079178587545167, 14.206905138855657, 18.77731406602492, 17.991263003276067, 18.234687542914674, 20.654943308943338, 18.767152984874755, 13.60174167679289, 13.733810143720781, 17.410089222667953, 17.224344605921743, 16.53150505276926, 18.911734989813908, 19.430353958816657, 16.11809565095832, 19.577562384140577, 18.07254070246347, 18.183372888332386, 17.312018119430753, 17.48673507683949, 17.490783537419354, 16.375509219389816, 18.019849637255362, 14.598976847265822, 18.32844379194215, 14.372183734949344, 16.310257053954384, 17.934373164695096, 17.648850486002587, 10.982577174715374, 16.798057029669216, 16.975508227555135, 18.714060948669346, 14.33174512697559, 16.44637743722783, 10.813096007646362, 14.979286172538798, 17.173951992892228, 17.999017425326173, 14.240919459874746, 18.159315979817958, 18.459051759676548, 18.91801902302015, 9.787403073515327, 16.445839477020453, 17.554845455566703, 16.87349032400274, 14.425960677837237, 15.258929540686495, 18.836054300848538, 3.4011973816621555, 4.0943445622221, 16.78449102148536, 17.849840838116403, 18.76282112198046, 17.53904667192128, 18.56348523568515, 16.940091659277893, 13.771809422693176, 16.860032995687696, 18.55896429839825, 17.182806387950748, 17.666551377657626, 15.651670092774722, 18.28829155590662, 18.497641785088494, 17.60101153624002, 16.806732776492407, 16.81349604113383, 8.339739766019143, 17.13460467991738, 15.683148692647727, 14.391219580890574, 18.87421953739807, 16.865150640083012, 16.224781697711506, 17.511042385892043, 17.190889254087164, 17.476536119152478, 17.22096430178485, 12.807480014927336, 17.37309158167972, 19.319311850500466, 10.719957949128073, 15.510391952215842, 18.542959259778954, 19.6661367788538, 12.7098736543592, 17.456666076784693, 19.584286740769716, 14.234086673289104, 18.150001251601957, 17.107204632222658, 19.201566763920315, 17.20874333957088, 16.676998670649084, 16.170832587792482, 13.741208259238059, 16.516832642633407, 6.263398262591624, 11.585794813203101, 19.048551819426564, 13.918484026891598, 19.068756795400887, 17.599341718547738, 15.977962629741924, 7.247080584585756, 20.43399177394988, 12.203248661839071, 19.556308187111288, 16.07561926785831, 17.748885264763384, 16.068731231936127, 15.537689125706764, 15.735309470801234, 17.571505522425007, 15.815652907161304, 11.726584177073223, 16.11809565095832, 14.500959180526555, 9.615805480084347, 16.9277626251759, 16.479051419080527, 15.741342335995315, 18.209172143326146, 18.604726871152888, 13.800404026727959, 17.785236537821223, 12.445837297860619, 13.31577982431498, 14.015480462475251, 18.10293405282214, 15.289700634098299, 17.17037690930729, 17.422892876403523, 13.98913776150155, 14.94138159477307, 19.31703979708356, 19.08423792678419, 19.67969281464384, 17.086237837419635, 18.197537192638155, 18.537071815720807, 17.51903228881508, 15.030593614234144, 11.694571793849116, 16.514142815803222, 17.312436365287095, 15.022288524142182, 16.5582891532581, 14.648419680899378, 15.93811754613459, 18.55327456094018, 17.604160321609154, 14.921306647898533, 18.681471108951172, 17.923851890114953, 16.731641026632808, 16.32963598455418, 19.038234781576705, 17.457625919039803, 18.76476578663508, 18.49652538436727, 17.379047513040863, 17.28817760355133, 17.268189747910785, 17.90338235026947, 17.963825510452892, 19.82819593702495, 18.47117004472365, 21.141685280815704, 16.455331167635755, 17.19650523230891, 14.862921828688986, 18.657628008139447, 14.144938038458783, 19.257429130950637, 16.261382417314294, 10.596634733096073, 17.421008403139158, 17.740905321610683, 16.549878067383858, 3.4011973816621555, 13.003800537779847, 19.250977762659545, 2.3978952727983707, 15.925474393888807, 16.163307993779867, 9.612265889785814, 18.252263536113343, 11.991702990767326, 14.375886057245939, 18.67565524044879, 14.827211464643087, 16.04013410948861, 20.380366683870882, 17.74242217588617, 11.012726510945454, 16.62004963787152, 15.489410613619226, 14.375246910060119, 15.8087673808784, 18.977886492932676, 18.80820383236001, 14.78501479943215, 4.795790545596741, 17.25152918159065, 14.56692381645551, 17.802619607078203, 17.3647531618787, 15.955576721460545, 17.23841682076114, 10.39781787377292, 18.286059054312865, 16.225069993696422, 17.819552897936752, 14.801829092266225, 10.24994548006426, 15.36454411182221, 15.631928655465403, 17.034596640726736, 18.380961932368656, 16.213405830762646, 17.021896832087407, 11.51949384584826, 19.219228776356623, 19.391157266909225, 15.93215888717141, 19.542901591169866, 13.605351097333346, 13.430177434672853, 10.704726515446913, 10.453456963419745, 14.518112897294975, 1.9459101490553132, 17.646091094843904, 17.978393646251853, 13.302424046984495, 14.331612636725664, 18.368153941738324, 18.224065217389626, 13.649106443842665, 4.442651256490317, 12.939636938656736, 17.76141862493214, 18.078321891153585, 16.64872390202049, 18.664931287195493, 17.37412265810754, 17.732415626704014, 15.45488312432892, 17.764463443050726, 19.181272877257623, 18.241050027597865, 18.138986535076533, 13.677717526012247, 16.401013618060343, 14.825019464743827, 12.281068794566579, 16.111080602944373, 16.412114429016686, 19.615947898837742, 14.98447754596627, 14.074935121125458, 16.839165684674043, 15.787578169538182, 20.143183728379103, 18.20436217437474, 18.77370972945491, 12.314940503266564, 16.13066216058987, 14.603967918328545, 16.647220360503518, 19.18746744624598, 19.080042572981682, 18.510971410689113, 13.068947832635677, 16.861568340252315, 19.043614038247263, 15.849554156631163, 18.199462088836203, 15.31780547818379, 17.234986333974124, 16.02798908882139, 4.836281906951478, 17.772391855492838, 17.473757671050056, 20.389739045240248, 17.598083704251927, 14.822007557724579, 17.51117034855662, 17.231530868518067, 18.38908685171922, 19.854934955579065, 15.515896422233299, 19.505870012288334, 16.670942409188797, 10.955217855304108, 6.0014148779611505, 17.494300483537494, 17.60764414587055, 12.730244806703562, 15.629182192553515, 12.945533115813229, 14.946691354644479, 16.29028656564401, 7.996317231796746, 15.347500310639232, 17.272462935803006, 10.24736090463765, 18.04104820818958, 10.746949493754942, 17.0582987887017, 15.290502373845452, 19.464974464950526, 9.609384912281424, 18.44315359713776, 16.644545951231837, 15.968836886179488, 17.034386382832476, 10.602591953570201, 10.626969932892147, 16.62218054698001, 14.616666494496185, 16.770660027139765, 3.828641396489095, 15.60727002719233, 12.765705576175803, 16.8912302145845, 17.540775146274704, 18.0297498949218, 14.768711643858527, 15.995317095946575, 14.077874822431765, 16.325802344719918, 17.118273494383548, 16.231694478345094, 18.833859300117478, 16.862366128957152, 18.292700259349154, 17.312028331499825, 14.029072350494285, 15.542603853463069, 10.526346379977895, 18.577519197050165, 12.229105344640747, 15.063786618182299, 16.077273656438063, 13.734272302574954, 17.063518492111776, 17.98121170479, 11.88195477843718, 15.109413824601639, 19.72720209415228, 9.798127036878302, 17.160137588138035, 18.318199811645286, 17.709369592764748, 15.662681870369042, 17.07402485486621, 16.903385180859935, 13.120697991418595, 16.276408030316883, 13.112924975493177, 19.9692870311463, 18.674589096212845, 13.094007111825654, 15.020788010866028, 12.369177403396996, 15.197796144674294, 13.926980373786277, 17.11585723944643, 14.133038770013044, 14.479446720798629, 15.907374619642667, 14.11394486737933, 20.544494643746237, 9.648853334130548, 19.244054321651028, 10.341742483467284, 15.897698325312135, 14.77102200299171, 15.771417712879641, 15.338993117437223, 18.040150423985754, 19.09420958723368, 13.922818476202215, 16.8240097366539, 9.218506934642576, 18.821438797909234, 1.6094379124341003, 18.95044249618342, 16.504571872593417, 16.54955899051022, 15.464169183551656, 17.213626028747427, 16.25490436728583, 18.448490522397503, 6.045005314036012, 18.90460553510379, 10.126631103850338, 13.20757914324874, 18.43359696921891, 15.107314278365925, 13.815510557964274, 10.71663752549077, 18.862447430477683, 16.11809565095832, 16.775640679468708, 10.947731648720744, 13.294100785858575, 15.761420707019587, 16.012735135300492, 17.7073308560749, 17.727684472005144, 14.467417427355088, 9.757131416174783, 14.560565419137895, 16.365213898686157, 17.54426990696193, 6.827629234502852, 18.923485202008912, 15.72577842933645, 16.694965443056052, 14.28551418721001, 17.034386382832476, 13.673617446260156, 18.998011603603988, 18.703416116634074, 13.785892233951344, 16.06162021560017, 19.141947915462115, 10.370173183307918, 18.92517809638062, 18.03657947029263, 15.515713427218033, 19.970841765098108, 18.8338877196503, 19.15858292023376, 16.985335120579904, 18.819755564260785, 13.873832294881463, 16.740091507247207, 17.955278002372225, 19.664444662183676, 19.172096832636285, 16.25545941565494, 17.60767776354379, 15.733023584053031, 17.423565592697678, 15.27753557397585, 19.20281446125568, 16.992664066477452, 11.590654729465733, 15.068446368664425, 18.04340035854838, 18.50029032091526, 13.170520960584208, 18.00143453113723, 16.82978000159836, 16.67947976020591, 18.9916442904101, 17.084280699106316, 13.980750382467695, 14.187036182642874, 10.679849328089071, 17.86353604785309, 17.234924178554756, 15.874860738168229, 19.784425748566825, 18.49017413815692, 18.601102430468508, 18.17617476974306, 18.440483371248543, 16.982136884058768, 16.093813614070207, 19.13997755805877, 16.506305472541122, 10.079916783625245, 16.557641554677012, 13.9108207377686, 11.050651881786404, 14.715629224070774, 18.320046873420182, 16.488389850373817, 15.143910940665263, 13.002867876315637, 16.190922881884443, 17.36255645163333, 17.046804438623536, 15.975851325016997, 14.914122846632385, 15.45043257455469, 17.23404881380314, 18.290392019620256, 12.932301541792109, 18.003416848096734, 11.296645803177345, 17.27089999520984, 15.137913122108767, 15.73125600697332, 8.882530508433623, 14.92466739034506, 15.24094822539546, 18.440483371248543, 13.001246039134065, 15.685964133604143, 15.764588398867701, 17.834323722622695, 17.281246460764002, 19.230737134049388, 17.860670443206995, 15.424948470398375, 14.091365717383448, 14.363631966473962, 18.443507118642607, 18.85050426247011, 19.35784730350769, 17.951459960203117, 17.431014075767013, 16.239752329917245, 19.23824318051564, 15.34894436325483, 4.8283137373023015, 15.424948470398375, 17.58811339160704, 17.942999944505008, 18.19503255865951, 18.153928976454733, 14.847765784061343, 16.189150488464772, 15.65944999503543, 16.137737186848604, 12.902766030866776, 15.424948470398375, 16.91376404015613, 18.81123821671918, 16.441495746801653, 16.296070608293988, 14.583087801658214, 19.12608626313261, 17.469022101340624, 19.296812823746013, 10.411659658836555, 19.827385187536063, 17.104970281297824, 18.21332153684937, 13.804449610604848, 12.56444964015848, 16.611225300475564, 12.676363733455704, 16.58918637660059, 16.39043682627607, 14.983062916725366, 18.586731513155172, 19.7385732187406, 17.93533940306295, 14.305218157678981, 17.783573914655506, 18.255639978474022, 18.913362763482066, 16.454567887579532, 12.505521467454457, 11.32301115604912, 16.866411372429162, 19.312035654363267, 12.400816722322686, 14.42056286567398, 19.31119034411411, 14.706278332607344, 17.97097859794565, 14.631150554620989, 16.861284117470245, 13.89221786320847, 17.674343734878303, 19.061019967813266, 17.899626872884674, 15.603765727633887, 11.856422966528195, 13.616985226229442, 16.588250518766927, 15.761420707019587, 12.253414141839224, 14.380399276676238, 15.367254736829796, 1.0986122886681098, 17.198408182454997, 17.412545739073856, 13.869323325811392, 17.755468990420734, 13.160689459725528, 19.02111084272138, 13.122363377404328, 12.34613454291433, 20.22753085452605, 14.256230834528752, 18.72175522886787, 10.013283218359012, 16.1835269609413, 16.769377011151317, 13.235815269406789, 18.77415101340272, 15.519704132850002, 16.064665126953315, 13.542234879951565, 16.79078657165085, 16.81019032783053, 10.324530690607611, 17.384637763794718, 18.708461606524242, 9.305650551780507, 16.914675840728503, 16.237119338909498, 19.294507342066694, 18.35454094144782, 18.253464694355404, 18.146243898250606, 13.788678783998808, 8.809862805379057, 16.265039653527463, 18.60069844891656, 16.588099280204055, 18.381824555551862, 18.611790446623086, 16.190416312537945, 10.158129770909708, 16.300417207752275, 17.169180318114492, 16.833751402288094, 16.331783598621676, 19.263644058037887, 16.55997883053731, 16.954621443244477, 15.03478972002858, 13.846275428729202, 17.789722701890604, 16.213405830762646, 18.341363408133045, 17.525550026531, 11.5387588900012, 17.092230068486717, 18.012236181675522, 19.737257499600492, 13.454082909223919, 15.733689733281276, 19.18860696180859, 14.980756982933842, 16.665079186902968, 15.786195824917105, 15.574975803761891, 11.99404829612856, 12.39246092199889, 18.88926802690306, 14.472599379852987, 16.108258928651455, 18.45885676737654, 18.85806045973639, 17.47793304267535, 17.525321462797745, 19.166513401613635, 16.25785759333348, 15.079061130464176, 12.341477282536376, 18.198159049245252, 18.66441433796006, 14.289645640989459, 10.685538069201806, 13.039472952162638, 19.347761458034203, 18.116361247259924, 13.19960586041346, 17.161899703131436, 17.532947269251572, 12.048435896418084, 20.220643380017183, 17.357448620272294, 16.760506487268348, 18.712971704145342, 19.114738309985672, 16.401287281449605, 14.344545776117156, 15.239156097283981, 17.224385061634344, 18.17538931664488, 17.034386382832476, 14.047415614947056, 19.62368628462961, 19.55612925770445, 17.35711376162313, 15.121905284508518, 17.391774212607707, 18.17292202236155, 9.239899174217728, 14.807995370268706, 11.058212337893119, 16.90157907085542, 15.365357476704292, 16.243936446606806, 14.048166324370976, 16.300417207752275, 17.942644943009366, 17.707385630084982, 11.331379607243946, 15.917027754400035, 16.401393125092277, 17.395022953156513, 17.399029496420383, 16.556486830671705, 18.319569055895936, 19.27874945844316, 15.588334713670797, 13.298581345137798, 15.873551098128173, 10.976952958782281, 16.999613265246648, 17.02512224289646, 18.01752849911271, 20.727813922706936, 18.165998846391577, 15.794827021800005, 14.54344846143663, 17.030487712885567, 13.555062256866181, 19.328939304129257, 13.710150042306449, 18.215526362889133, 16.40154023291546, 14.446016616186528, 15.397486827579955, 18.886489838424087, 16.014067580534274, 14.356862282977536, 18.33334552544082, 13.032795280243919, 8.564076777315087, 17.920003038778525, 14.647329086417349, 17.553180176247643, 13.829340482166472, 19.22943668258384, 15.424948470398375, 16.889175622574687, 18.603684076617657, 18.5841603508518, 15.80151850794638, 8.912473274466036, 11.070178962014833, 15.167989570589434, 18.305967314729898, 15.79213556753656, 15.573368475516649, 16.673827506182427, 17.700550924191532, 17.84211919055978, 17.570271779094462, 9.139703292376742, 15.936829377157352, 18.432529113973178, 14.55317067313705, 19.72876478401082, 15.445095352157676, 19.3072912020076, 14.037652007342016, 14.846869176143914, 18.26183885760252, 17.81819181245302, 17.74872360033959, 18.939341171331822, 17.134583366373825, 18.643142799100808, 17.49618547169567, 16.19956346576106, 15.114357719865096, 16.38045991542581, 14.180153671552183, 15.404745763080856, 17.665658159674333, 17.344807942253745, 19.31483867442212, 20.63999291775259, 16.972832927283513, 11.700400387004978, 17.653554782893096, 18.622946984945404, 17.07665291430666, 12.00254175248878, 17.05342361925256, 16.85599939545853, 18.242981145434133, 18.176967070893447, 15.201804919084164, 16.74206626458891, 13.409112514807509, 10.17137499765973, 15.751869380839182, 16.45844329704164, 16.62921153259542, 9.9362451167743, 0.0, 9.128696382935672, 18.300304216852552, 13.367659733359671, 13.484907066519881, 19.437985134375218, 13.297995946047488, 21.132888530306882, 18.59882692933584, 14.73180128983843, 17.118727531266227, 16.498678890234945, 14.21226584546817, 15.95956557890975, 18.152984942064027, 15.88237331743725, 15.765056375673876, 16.630919277386983, 19.38689337648341, 13.940406900624364, 18.127089446369663, 16.025351216811725, 13.253391639810733, 9.496120637138368, 16.678198063330008, 18.076879336454766, 18.51599092375669, 15.53871116865099, 14.08186301286344, 20.240058311467205, 16.12136679492836, 12.500349176664981, 11.457761531419719, 12.85387459631449, 18.4688211828103, 16.249433426863988, 16.806499549923345, 16.5432558642425, 15.937703831023928, 10.144903148637786, 16.181482102468454, 14.508657738524219, 18.369387449564815, 12.248116293527852, 17.36297044660468, 18.020132324098938, 4.90527477843843, 16.03990500216445, 17.574072755548755, 9.643744848773588, 15.275752164036248, 17.325899178685432, 10.747100058912297, 16.19374110486672, 12.288578471082884, 18.914123206232826, 14.64571951699658, 19.89085658905296, 16.482315202634325, 17.672051952344336, 15.349177608717607, 19.15071767789616, 12.571798506069321, 10.425253116340453, 20.291556842945383, 12.657769091246102, 12.302068953531068, 11.03735436608764, 14.85455789233662, 12.061428303616365, 15.373655176010823, 15.567413191756163, 16.996817258654957, 17.313639803789584, 17.85353424374933, 16.79998767925578, 19.550331351487813, 16.09955808713181, 17.403021517689922, 13.998354478302634, 11.54034606054622, 15.801032964388547, 18.108358459537275, 17.379236852407704, 20.188985159789333, 11.841603116875529, 18.58476730756945, 15.672627743947528, 17.144137246791594, 15.502892916721965, 13.860642610824318, 16.503154289494248, 13.180722847465184, 12.254553237977701, 18.093158569765794, 16.70588231586044, 15.693168938399074, 17.46809841686739, 14.94396057437189, 17.737576068215258, 16.749561451529548, 17.00915681710857, 19.80713200026356, 14.40656078055291, 15.775041802971552, 17.303709638791453, 13.247648865815, 20.387466574627187, 18.0051956631661, 15.020950685245156, 19.016583456678493, 18.260998915486482, 19.82623349851574, 16.6509500693291, 20.261487312593133, 18.4255603293876, 16.1573163641116, 19.187982893418813, 16.118776019455176, 18.096165696363997, 0.0, 18.04256098048617, 13.518314032983898, 17.536283949845032, 10.879668518983348, 19.341647752979437, 19.945343805597442, 16.823177726474214, 16.842883058325025, 16.65676804917546, 3.1354942159291497, 14.244404390862115, 18.70910895797128, 13.259225467094044, 16.213405830762646, 16.396052410488497, 12.67730988856144, 11.739263907180957, 17.507025087216213, 15.60727002719233, 13.652891623466166, 14.914122846632385, 18.061476876408804, 17.815544440715133, 15.685487069352293, 12.782579262563846, 19.399006866745975, 12.433439267117254, 19.256565665239098, 15.384143142405899, 17.72750582300766, 16.55177088526292, 12.208100587864411, 18.538130461842332, 18.842202648956185, 13.98017887587091, 19.735035567855512, 11.124627160483929, 17.04028041882585, 14.253091067976372, 16.374591653887027, 8.149601735736155, 17.496185496901628, 0.0, 16.539464029034985, 14.53027440572914, 17.288974057082893, 18.274062629653326, 18.078190435005588, 15.60727002719233, 19.84439801564649, 12.648335662374995, 19.0901129441338, 17.942644943009366, 18.583812328738556, 14.374669670210654, 18.90366974711035, 17.745219442152386, 17.763959509435136, 18.968802152462054, 17.900953535040465, 18.631708069355195, 16.458231454230773, 17.04220569219616, 16.821757062755662, 16.942815287929513, 16.995562390974893, 13.9108207377686, 9.212138753917563, 17.079580794788367, 16.834538468792836, 13.476246026513868, 15.21911080466214, 16.846583478865533, 5.318119993844216, 15.717618084361195, 18.26305458998879, 14.781825359100434, 9.604811938609481, 17.27808521930133, 17.72797264698111, 19.30955990000345, 13.997832114758229, 18.60255518413792, 12.872626846445563, 13.122363377404328, 18.299022494344204, 10.476047770106955, 17.5684780176864, 18.45192390356629, 8.910045761473558, 15.886921440042476, 9.363061458993847, 17.070861831192268, 19.15341494076073, 12.746479401385484, 15.830413578506539, 16.153936041869905, 19.844850377468216, 14.567133700682728, 16.811242831518264, 12.883639074123096, 17.768658040160307, 9.112617283447568, 17.22332284614436, 16.901476419937637, 15.301102592802614, 16.952837875344567, 19.064945962629597, 15.245087563720272, 19.23600563608574, 11.56263901221407, 19.695631154874842, 16.39574564496569, 16.882947349832236, 15.590462908875947, 16.692952248331423, 15.684569745538758, 15.60727002719233, 15.335248026561668, 17.67132295671191, 19.27792703561526, 18.055561244910923, 17.607217660233665, 18.60250897074575, 17.1187391488458, 16.644487706707604, 14.03922354711798, 17.896732544581063, 16.768625476302066, 16.52831703005546, 16.738202781240627, 16.24458062578987, 14.774860779298876, 11.704611372383606, 12.737618122870504, 15.913979549116599, 18.06685886899604, 18.765834317060637, 11.518350721615294, 19.786774168161333, 18.728165443700327, 17.159836625745815, 15.912151832543964, 20.466214650748363, 18.05405970115151, 15.563249868436865, 12.469797522406187, 17.648948887274095, 15.882075171730413, 17.35822419736261, 17.05472815887949, 16.16685667184595, 14.78661139299835, 16.951004773893423, 17.392441314150474, 18.541944993147393, 15.201804919084164, 3.2188758248682006, 16.543971175477644, 18.839630405432807, 20.125428836190792, 19.68829835673614, 11.77528972943772, 17.596241239324804, 16.129404761222784, 16.03845811119318, 12.479608885808588, 19.52005302375404, 17.183179318403543, 19.734243299797143, 18.55748862302797, 15.495034077965062, 16.131011876224868, 15.680447685786174, 18.755754488854016, 16.92858305803804, 14.217234677291609, 19.769493403162034, 12.462511698242023, 15.201804919084164, 17.860247947356243, 19.468619689882832, 12.387952438094011, 19.666085789200338, 15.962027400433652, 17.29624005543166, 18.902083381933338, 19.480206396078522, 15.741378628200037, 11.768458759086089, 16.328569843811866, 16.85566475451347, 17.654339515021565, 15.226497531674536, 11.870599909242044, 16.202262795283644, 16.569465112493013, 14.41558255924446, 17.709597713382774, 12.911111340932859, 11.224149461060218, 8.421122722665503, 14.222164958583658, 16.659584243848204, 12.479909311159902, 18.40236993973458, 17.72346827127864, 14.734376371467983, 15.163072926487535, 15.581074569228678, 16.213405830762646, 16.30342509618353, 17.600387364816033, 14.859666660836325, 18.197019546182343, 2.8903717578961645, 16.90856357968385, 12.03279011338689, 17.04643502554022, 14.846007804026609, 9.217117356255207, 11.75391679292806, 20.300162929330572, 12.11645970559018, 17.905756749995323, 16.77332666307639, 14.102365538469792, 18.87239848195104, 18.490369069555033, 10.729919220241946, 12.962720308652019, 13.914230372896052, 13.719932042161066, 18.899715581292277, 13.127864219989648, 16.300417207752275, 19.706691679154712, 17.024753656737577, 17.034386382832476, 17.45126517301519, 19.30566886948199, 19.037273786779764, 1.3862943611198906, 16.11920004089519, 14.668286244770497, 17.909855120186375, 18.897074164927446, 12.024400877577715, 17.638529679041383, 18.16020189896399, 18.91847016040225, 20.576407335606298, 18.352135818551155, 15.940592666176983, 9.54559758504085, 18.17706332611132, 18.675322962325946, 18.420338215296123, 16.22133512880496, 19.520150914534536, 20.767965553295905, 16.26368553436784, 13.852165482294824, 16.08763644347361, 18.471382441881236, 15.272255227993046, 18.246634642923706, 15.4057656509816, 16.535443347319898, 13.219999939989682, 16.92605590564629, 12.106843295802587, 17.32392950246117, 16.938186623469555, 18.744639744138983, 15.181533586963038, 16.430764536621663, 16.828206186795683, 13.160052148502587, 16.08902722846097, 16.801192495664765, 18.142492607792555, 17.772266249978667, 17.365369381113837, 18.153828757708137, 16.687441151353056, 18.846491482230757, 17.460718205489886, 12.132953415179365, 18.431957511530932, 16.125745317509818, 17.913337948093954, 19.707154968685053, 14.731973674979256, 16.985196138641705, 16.566377115524222, 11.183087174985056, 18.705859686186027, 16.06680235657077, 10.534706136473906, 16.668317164840904, 15.175922592815049, 17.928693720866676, 17.916960467314407, 17.1348724898395, 18.870622089694166, 17.590089681238485, 17.29017659317384, 13.730212984301694, 16.70588231586044, 15.788396286569535, 12.079108214563899, 14.976503416066116, 14.49877809517263, 14.978661367769956, 14.635290389457586, 17.690676697349815, 18.870767039698418, 14.195308395323748, 18.351144196128786, 12.755052067344037, 13.55832923880083, 15.732433170146335, 12.095141084822892, 17.338605727695505, 19.450300161133523, 8.72371943690701, 19.02159902169455, 14.455385645500124, 17.153756460693124, 18.404653602730683, 16.719862743775067, 19.381248312142127, 15.717373427569491, 20.683484966934568, 17.194014650389807, 18.731102303373635, 17.287602157962873, 18.033138497487435, 16.20462612900125, 18.475264795853207, 15.548808293812092, 19.097602973991506, 15.85151183669864, 14.673261593054514, 15.92210692240807, 15.211900783901207, 17.72753356339242, 18.451859485810118, 13.192568314043449, 15.86963429165982, 15.89495209964411, 19.710365810533684, 17.84617798794684, 15.44461697105292, 16.027295286631823, 15.07772217562172, 16.970381052856563, 17.833402421822164, 13.556090654608232, 14.151982794585487, 15.921159418146592, 14.805757450469365, 15.576813397023887, 18.326370064481125, 13.25830760679564, 17.547083486287384, 18.704510776816715, 18.52395470126058, 18.261759734171928, 17.230320960573977, 15.301122286649317, 17.260019600354163, 18.450092564518847, 17.224217803211225, 12.337697221334468, 2.0794415416798357, 18.498078088042664, 12.634850552935413, 17.789416423882706, 4.605170185988092, 11.835008964139341, 17.70906058372291, 18.547255957112867, 14.419781168597769, 11.623849475649008, 15.332222029863171, 16.796188278257105, 8.98281222234415, 19.193629316917814, 13.122363377404328, 19.740064992600452, 18.32095251492548, 18.10974433309784, 19.47691981821942, 14.914122846632385, 15.141050960779127, 13.82344102849015, 16.893103931068584, 19.14219401089663, 16.896811994016357, 10.531375952634018, 12.58546410452254, 15.776164762971245, 17.268960135787356, 15.122824480336494, 15.893191676007305, 17.52763430807157, 15.177378764740642, 18.03501826314038, 13.998163726435665, 18.845494932075244, 14.22097566607244, 15.624111411588288, 11.17560486859362, 18.282054669734652, 14.338123833576011, 10.83281296268074, 16.8358302678461, 11.901868159992343, 8.566935283311052, 19.052661429033858, 19.50970728243303, 12.100395413056205, 19.391907291969552, 15.91678012541571, 13.920380353238546, 11.087283159423247, 17.790827560431037, 19.782922926610162, 17.76058530674994, 17.533027054678378, 14.035562134045966, 14.060338102949464, 17.096008154388645, 15.88237331743725, 17.97178788992567, 14.95269751781215, 18.56006608498736, 13.029842304422916, 15.517217485089766, 17.587241770671355, 17.550688765736478, 17.318304349919917, 15.087018171320537, 16.868122236994555, 15.4057656509816, 20.839934470554095, 8.979668554241181, 18.70038974578296, 18.968880236118647, 20.478787533456888, 18.110434893333398, 17.228413560739067, 15.388284486026784, 11.306897109511642, 17.372505719382403, 11.626218435353747, 18.53029528141515, 16.94650457621978, 12.481444254204865, 18.007172768525223, 15.939324065553015, 18.429182035355772, 15.775605342011543, 17.195117058356782, 18.099477668096878, 15.488861796142027, 14.690979295318174, 16.694709015262312, 16.382208846692002, 17.729531566055094, 19.25662348255808, 15.476030672507518, 19.90524939891056, 17.466298894691338, 19.623653047944718, 18.19336164967954, 16.38045991542581, 17.255271898702418, 16.988347763688648, 16.661470552489625, 20.31205251647548, 12.823062062240387, 15.612228380881056, 13.752678313641463, 16.300417207752275, 10.463731714431846, 17.886603091539836, 18.894441020653858, 13.585407847778256, 17.90484257836283, 17.138183753415362, 8.970177815492379, 18.858533529517782, 19.52262082271315, 17.164034816519948, 18.679504123803643, 18.282572596803703, 10.870547441461856, 18.376453029462702, 16.222455666282563, 18.348022251564338, 16.096861799949927, 15.621585076215217, 16.046020426756478, 13.111314563439443, 16.712762040634665, 1.0986122886681098, 6.508769136971682, 17.06951450196664, 16.892822818510687, 20.603002396753528, 18.376884277991437, 16.811242831518264, 16.11809565095832, 18.76565713184239, 15.808711380167136, 13.450858164333305, 18.812278003077065, 12.42276342240367, 19.136538163742262, 19.550445001990248, 16.824939206485624, 2.70805020110221, 13.442285121373619, 17.4264284706085, 18.952888629088385, 16.56861009378015, 18.85263286026378, 8.00736706798333, 17.990615831572004, 14.44933970025562, 15.299232854859492, 17.70354633645908, 16.738623857948042, 19.22565820205261, 17.617870092174446, 13.400808419543612, 17.939445815123225, 16.959780674520967, 15.662654906285908, 15.201804919084164, 18.546203554571143, 18.764604995212277, 15.226497531674536, 16.264481778804917, 15.663504162166285, 13.122363377404328, 18.11481064084145, 17.14990349321813, 14.103822182206734, 14.114123668337614, 17.358942648280465, 16.768234803533655, 16.11809565095832, 19.58436268768145, 13.271691590666357, 3.4657359027997265, 11.557009333789498, 15.19097473377256, 15.032313206728311, 19.60166114828201, 17.506488833011844, 17.081251533446892, 17.84636282489696, 16.48405192974506, 18.481813359071293, 20.36443334861033, 13.450943121512777, 17.28607997922007, 16.1573163641116, 19.25970843197216, 17.847269890133088, 17.42044563611985, 14.077874822431765, 13.168313321488398, 18.373635225503147, 14.464792576596855, 17.599700191882537, 20.124279657956528, 15.740778982065127, 13.283827250525812, 15.008106085834244, 19.408088190627407, 18.22790476967492, 12.388781627265393, 15.642038858228075, 11.57588148461256, 19.865736457963138, 15.751091544418733, 17.08317730890638, 17.53837688428066, 16.45801707514424, 18.177110391335905, 16.524538547542157, 16.45534130270265, 19.62042305334018, 11.920235536752422, 4.3694478524670215, 19.738568028045652, 19.173913732959598, 16.766820613965518, 18.04568700215499, 17.85333593141031, 16.749367427800177, 17.75024667660259, 17.85295960119831, 10.797757599041015, 17.229942508424916, 19.70891419622933, 18.358228216283475, 14.896768459947916, 18.444313106871768, 17.50738911028387, 1.791759469228055, 9.256651274839433, 14.866688762570554, 15.97651065783551, 11.505931061057268, 14.978661367769956, 13.313912231448414, 17.55210810178112, 14.645963187928695, 18.89466944100721, 16.802704332061957, 16.000167942337306, 17.155396844741265, 17.71474455149391, 15.19183715557905, 16.0027767144146, 18.146152591450686, 15.60176121484325, 16.498231053575523, 15.054766429234066, 13.184904279629153, 17.07231992177851, 17.740881087541464, 16.300417207752275, 19.074727041779077, 14.431515861038184, 16.314769551684996, 18.705107523683473, 19.12177778050173, 14.22097566607244, 18.322124195390558, 18.12139548076012, 15.594361063899415, 15.11345364483299, 12.889177065965498, 17.216799868734153, 17.332938570926466, 17.607600718551335, 15.830413578506539, 14.931307671386485, 18.277486334396077, 16.24037106962355, 20.744149808790546, 14.518117354937342, 17.809100536475277, 19.181975332028635, 16.46875252257149, 15.386524639649954, 16.523560759066484, 12.144867230085767, 15.102904050465657, 18.29351517214189, 17.362418818604, 16.357622500123036, 17.57187483703438, 17.738436944898996, 18.28141867661886, 20.187718825592718, 17.498573126756646, 14.237482672693142, 17.278480075345893, 16.977587814828482, 19.337771155997086, 15.129747804023104, 11.937938265920762, 14.921026958309122, 11.907841796525647, 15.763036115829626, 17.69559001770923, 17.475545917122556, 16.305893187172025, 16.64872390202049, 20.751436189329638, 16.64872390202049, 16.723348392016405, 16.886714477018124, 14.880212674229888, 17.529082624668582, 16.458597472173157, 15.795412802215129, 19.538689466320093, 11.745226954069203, 19.444210226496118, 15.977732863111667, 14.994717402009963, 13.815510557964274, 12.142685461349771, 4.574710978503383, 14.603967918328545, 18.023077534965914, 10.72394997039761, 17.29847589666259, 2.0794415416798357, 16.02480884275635, 17.665658159674333, 14.156418655875056, 16.33064196942338, 17.540742457026436, 15.17586358341355, 18.048397304466242, 10.707616917521953, 17.510943987781904, 11.968880878489905, 14.706701304282957, 11.105844051343766, 18.143366631306257, 13.641157170819497, 16.634336366613702, 15.795294734506959, 19.339567447374748, 10.068917241659864, 18.481493310459033, 13.195613839143922, 18.903106893196657, 16.46641549808121, 12.307251932019778, 18.991014081790198, 10.16199824768763, 15.770079681092335, 15.181411887533688, 16.220963472433798, 18.25145259317372, 18.689075993108208, 16.000228699281084, 18.101851942503746, 16.28349279442151, 17.87450375942453, 20.232078480565022, 19.607925606149436, 16.810502357434984, 18.420680743952367, 17.173566938844026, 10.535849160827809, 18.3155901029862, 19.34666137673115, 10.873527560404474, 17.840635812350364, 17.956771943446345, 13.985913873839602, 17.303173759493497, 16.70514765717593, 18.686752496415604, 17.325979865735107, 17.444237989506657, 15.08371371094752, 16.92565106782891, 18.033821341232706, 7.741967899820685, 19.05429877681993, 18.02188331736801, 17.05160886087506, 15.634693703778039, 18.402108981431244, 18.42144387269554, 18.613071246676654, 18.146243898250606, 15.866832549931576, 20.359009915589915, 18.871594292855033, 14.77868487573728, 16.00156183470237, 15.732433170146335, 16.213405830762646, 17.80847585401217, 17.92188520105085, 12.844412469876426, 19.00998915596536, 17.1296965626368, 17.040251350238076, 17.06411154016828, 17.232299753092274, 18.425921308176825, 13.122363377404328, 18.493905573393192, 17.835623748111505, 18.086953043643476, 17.816902968048304, 18.48244966140099, 18.818576174202953, 19.6621798642511, 10.010995760251413, 16.468956656664286, 17.234417299134122, 12.613712054798107, 14.646427698218584, 14.437593974218172, 15.483217378522351, 16.786745199917863, 13.894281996378897, 16.953484956565642, 13.781827603084228, 14.34754605368716, 15.201804919084164, 17.866764356036878, 15.27412558066379, 16.654147579022265, 11.721418215511239, 12.875590335685041, 14.781432623934744, 18.084998796970016, 18.050423910884906, 16.422338926491808, 17.52672846556534, 17.325751175737178, 18.15485148331321, 16.11809565095832, 17.126053571358298, 16.213405830762646, 14.685601108765296, 12.169491645267174, 17.12641441865384, 15.745886095913656, 17.363461787360123, 16.17366355616529, 16.593935404353054, 15.503898088559497, 18.398827174711855, 16.66577655783713, 15.73749753048022, 18.923473268601306, 14.946912669455374, 17.7473361906886, 16.73673951968965, 17.859596430761364, 12.283801910025678, 18.045212740075645, 10.811766273800105, 18.525012641764196, 14.203360763959438, 18.359457372296017, 17.375162487370044, 11.724069306888879, 13.311235101602815, 15.087133692972422, 17.30354703788804, 11.537335110699985, 17.45463067215965, 12.053853432552662, 13.379659435569003, 20.02774565905408, 18.575117097256783, 19.443202787831133, 13.093494657001532, 17.688651581663173, 18.395896639676756, 16.27145044272211, 9.727644961839882, 20.596198772884325, 19.041546034056076, 20.26351679642114, 18.90533056714829, 14.8180736604968, 18.429783636623288, 17.83181362957487, 17.382923431743492, 13.365731427798616, 17.72006129540369, 14.510566914886663, 19.0573401674965, 14.404967493853528, 16.522226869831663, 17.194980362803133, 14.985378755517479, 16.947603256155396, 16.83016247105625, 17.007316230132204, 17.54355856040939, 12.673839399835526, 13.634386683662223, 2.5649493574615367, 16.409313540036514, 10.78514543091584, 16.93081799368953, 17.113338588432395, 14.05326287966442, 16.299616970981557, 18.84267740318954, 18.72927096473963, 11.619984537263637, 17.561084450242536, 21.063590425152103, 16.736767799698693, 15.016778708008083, 18.574884953775438, 15.717618084361195, 13.19913180739953, 15.838874748304292, 16.666268445430962, 19.06422040840177, 17.848381887359782, 17.979850149345538, 9.523251498473739, 18.16895210418344, 18.442880202434768, 17.36992781496099, 16.11809565095832, 11.525209703803448, 18.872442465470275, 14.106143771512311, 10.943304794693733, 18.798407489545973, 15.348077145237648, 18.167442158524995, 19.19551199825342, 17.58892953237908, 15.21892994519584, 15.728767784349152, 15.919644712234481, 13.48696204556011, 18.718917081189133, 18.330254980938925, 10.367693155666892, 20.59166227856901, 17.31451645054645, 14.528911244551463, 14.637735415564785, 18.274148809306737, 16.91451703233401, 18.065952033443516, 16.09499671279399, 8.991437814919227, 12.137269041845228, 12.550931048328069, 16.724595024792592, 14.252084722359667, 18.271894047210935, 14.87721263554561, 15.698828024842204, 16.047353500374424, 14.944303461980573, 13.122363377404328, 16.893871853334655, 17.544506069483482, 13.655736094266725, 17.649882978975956, 18.420680743952367, 15.818640007894771, 16.140259801387984, 17.840862248699423, 14.52510425016316, 13.408218782514702, 16.773816212016076, 18.630813038796706, 17.91530689886462, 19.40174273737794, 16.879323260189185, 15.171086141831664, 17.7479117309159, 17.051948816493056, 19.338124902374293, 13.932800138558399, 18.84933472647307, 16.66605774041902, 18.32158303149328, 15.70474150606989, 10.247077256926206, 19.37886934834243, 14.301539468721632, 18.025369109428823, 16.637507289182356, 16.826131444012017, 16.325387098970545, 15.68484245546732, 16.033715608968226, 15.569553622000253, 10.78894787401768, 17.001294103607492, 15.687312734865866, 19.951038974354844, 17.035745458870107, 18.1688533284017, 18.448546813358845, 14.053576612823543, 15.947799024023325, 4.605170185988092, 16.004658159732166, 19.940988311605814, 13.815510557964274, 11.873748792455272, 17.819879973749607, 18.98639317240679, 16.96686040635734, 16.5049427138758, 11.660137844650615, 3.2188758248682006, 10.373491181781864, 16.670837927487554, 17.76623546891137, 16.759934694915305, 16.874217630679652, 19.140307899793502, 18.92435091642813, 15.711536494597558, 18.040436411370994, 12.712335877396221, 11.900328430259984, 12.216022976383341, 17.416728551102494, 16.89512431549897, 17.503058626177204, 18.23532526948101, 17.15229989886481, 15.57236521379718, 18.764270448342444, 12.295117786352753, 18.079174232608135, 13.377293926299693, 16.64824743558721, 18.99758388087496, 19.68550796863021, 13.095890030246862, 18.84181304479744, 9.991177865663117, 16.756198880625096, 16.61833018663006, 13.286697458517205, 19.243978099758614, 17.70819219929801, 15.896117545248474, 17.70534834116984, 14.639247308227821, 18.17222689744616, 14.777349251363587, 14.635580215295429, 17.21399576500366, 19.67826711255654, 16.175335917003842, 17.85929604742022, 14.346138809026444, 16.38045991542581, 8.360539381370861, 14.77409420202868, 16.342901739491325, 16.60110551869471, 14.6918401746552, 18.77708159433089, 17.53147159806618, 19.88386928286197, 15.650310838317418, 17.745519286214893, 17.2449005663566, 17.41977487091188, 16.811242831518264, 18.12776593793243, 18.160771750837775, 18.440483371248543, 9.147613542067878, 17.695385507926034, 19.81486921940004, 11.695247021764184, 18.440483371248543, 15.749473768557058, 11.675290882685672, 17.180087661077042, 18.30930641484656, 17.442514608360124, 13.842889315731822, 12.482320849731162, 17.0416769022937, 15.60727002719233, 18.55964958930051, 16.74427977356526, 18.00005036218328, 16.766527904777323, 16.410462159287775, 17.201130539472913, 16.296198655493196, 17.38310089040413, 16.939233238697405, 15.341566861459324, 13.967344556356172, 18.649633453387086, 17.86434983239814, 17.600563455526867, 13.286595638311237, 19.906389962784548, 18.291028013867457, 15.84365880525656, 14.693235082449513, 18.29004850471843, 19.83412017135281, 16.54852995129136, 15.97716852001454, 15.232030489277808, 16.161424069771268, 17.873900704205216, 16.551642224628694, 17.20665760377293, 13.867901849332455, 18.165491779340297, 14.73180128983843, 11.440354772135393, 12.838930929161776, 13.582102001292068, 18.574631512370097, 16.50033498347785, 16.62526036175237, 13.663047952537365, 11.567943812723641, 11.514943427513542, 15.795247365414646, 18.326790591431884, 14.009332398928436, 19.20648574902106, 16.504382492816376, 14.283441415502201, 12.10398454744639, 18.309265949187875, 18.962792140024224, 18.22329210664019]}],\n",
              "                        {\"template\": {\"data\": {\"bar\": [{\"error_x\": {\"color\": \"#2a3f5f\"}, \"error_y\": {\"color\": \"#2a3f5f\"}, \"marker\": {\"line\": {\"color\": \"#E5ECF6\", \"width\": 0.5}}, \"type\": \"bar\"}], \"barpolar\": [{\"marker\": {\"line\": {\"color\": \"#E5ECF6\", \"width\": 0.5}}, \"type\": \"barpolar\"}], \"carpet\": [{\"aaxis\": {\"endlinecolor\": \"#2a3f5f\", \"gridcolor\": \"white\", \"linecolor\": \"white\", \"minorgridcolor\": \"white\", \"startlinecolor\": \"#2a3f5f\"}, \"baxis\": {\"endlinecolor\": \"#2a3f5f\", \"gridcolor\": \"white\", \"linecolor\": \"white\", \"minorgridcolor\": \"white\", \"startlinecolor\": \"#2a3f5f\"}, \"type\": \"carpet\"}], \"choropleth\": [{\"colorbar\": {\"outlinewidth\": 0, \"ticks\": \"\"}, \"type\": \"choropleth\"}], \"contour\": [{\"colorbar\": {\"outlinewidth\": 0, \"ticks\": \"\"}, \"colorscale\": [[0.0, \"#0d0887\"], [0.1111111111111111, \"#46039f\"], [0.2222222222222222, \"#7201a8\"], [0.3333333333333333, \"#9c179e\"], [0.4444444444444444, \"#bd3786\"], [0.5555555555555556, \"#d8576b\"], [0.6666666666666666, \"#ed7953\"], [0.7777777777777778, \"#fb9f3a\"], [0.8888888888888888, \"#fdca26\"], [1.0, \"#f0f921\"]], \"type\": \"contour\"}], \"contourcarpet\": [{\"colorbar\": {\"outlinewidth\": 0, \"ticks\": \"\"}, \"type\": \"contourcarpet\"}], \"heatmap\": [{\"colorbar\": {\"outlinewidth\": 0, \"ticks\": \"\"}, \"colorscale\": [[0.0, \"#0d0887\"], [0.1111111111111111, \"#46039f\"], [0.2222222222222222, \"#7201a8\"], [0.3333333333333333, \"#9c179e\"], [0.4444444444444444, \"#bd3786\"], [0.5555555555555556, \"#d8576b\"], [0.6666666666666666, \"#ed7953\"], [0.7777777777777778, \"#fb9f3a\"], [0.8888888888888888, \"#fdca26\"], [1.0, \"#f0f921\"]], \"type\": \"heatmap\"}], \"heatmapgl\": [{\"colorbar\": {\"outlinewidth\": 0, \"ticks\": \"\"}, \"colorscale\": [[0.0, \"#0d0887\"], [0.1111111111111111, \"#46039f\"], [0.2222222222222222, \"#7201a8\"], [0.3333333333333333, \"#9c179e\"], [0.4444444444444444, \"#bd3786\"], [0.5555555555555556, \"#d8576b\"], [0.6666666666666666, \"#ed7953\"], [0.7777777777777778, \"#fb9f3a\"], [0.8888888888888888, \"#fdca26\"], [1.0, \"#f0f921\"]], \"type\": \"heatmapgl\"}], \"histogram\": [{\"marker\": {\"colorbar\": {\"outlinewidth\": 0, \"ticks\": \"\"}}, \"type\": \"histogram\"}], \"histogram2d\": [{\"colorbar\": {\"outlinewidth\": 0, \"ticks\": \"\"}, \"colorscale\": [[0.0, \"#0d0887\"], [0.1111111111111111, \"#46039f\"], [0.2222222222222222, \"#7201a8\"], [0.3333333333333333, \"#9c179e\"], [0.4444444444444444, \"#bd3786\"], [0.5555555555555556, \"#d8576b\"], [0.6666666666666666, \"#ed7953\"], [0.7777777777777778, \"#fb9f3a\"], [0.8888888888888888, \"#fdca26\"], [1.0, \"#f0f921\"]], \"type\": \"histogram2d\"}], \"histogram2dcontour\": [{\"colorbar\": {\"outlinewidth\": 0, \"ticks\": \"\"}, \"colorscale\": [[0.0, \"#0d0887\"], [0.1111111111111111, \"#46039f\"], [0.2222222222222222, \"#7201a8\"], [0.3333333333333333, \"#9c179e\"], [0.4444444444444444, \"#bd3786\"], [0.5555555555555556, \"#d8576b\"], [0.6666666666666666, \"#ed7953\"], [0.7777777777777778, \"#fb9f3a\"], [0.8888888888888888, \"#fdca26\"], [1.0, \"#f0f921\"]], \"type\": \"histogram2dcontour\"}], \"mesh3d\": [{\"colorbar\": {\"outlinewidth\": 0, \"ticks\": \"\"}, \"type\": \"mesh3d\"}], \"parcoords\": [{\"line\": {\"colorbar\": {\"outlinewidth\": 0, \"ticks\": \"\"}}, \"type\": \"parcoords\"}], \"pie\": [{\"automargin\": true, \"type\": \"pie\"}], \"scatter\": [{\"marker\": {\"colorbar\": {\"outlinewidth\": 0, \"ticks\": \"\"}}, \"type\": \"scatter\"}], \"scatter3d\": [{\"line\": {\"colorbar\": {\"outlinewidth\": 0, \"ticks\": \"\"}}, \"marker\": {\"colorbar\": {\"outlinewidth\": 0, \"ticks\": \"\"}}, \"type\": \"scatter3d\"}], \"scattercarpet\": [{\"marker\": {\"colorbar\": {\"outlinewidth\": 0, \"ticks\": \"\"}}, \"type\": \"scattercarpet\"}], \"scattergeo\": [{\"marker\": {\"colorbar\": {\"outlinewidth\": 0, \"ticks\": \"\"}}, \"type\": \"scattergeo\"}], \"scattergl\": [{\"marker\": {\"colorbar\": {\"outlinewidth\": 0, \"ticks\": \"\"}}, \"type\": \"scattergl\"}], \"scattermapbox\": [{\"marker\": {\"colorbar\": {\"outlinewidth\": 0, \"ticks\": \"\"}}, \"type\": \"scattermapbox\"}], \"scatterpolar\": [{\"marker\": {\"colorbar\": {\"outlinewidth\": 0, \"ticks\": \"\"}}, \"type\": \"scatterpolar\"}], \"scatterpolargl\": [{\"marker\": {\"colorbar\": {\"outlinewidth\": 0, \"ticks\": \"\"}}, \"type\": \"scatterpolargl\"}], \"scatterternary\": [{\"marker\": {\"colorbar\": {\"outlinewidth\": 0, \"ticks\": \"\"}}, \"type\": \"scatterternary\"}], \"surface\": [{\"colorbar\": {\"outlinewidth\": 0, \"ticks\": \"\"}, \"colorscale\": [[0.0, \"#0d0887\"], [0.1111111111111111, \"#46039f\"], [0.2222222222222222, \"#7201a8\"], [0.3333333333333333, \"#9c179e\"], [0.4444444444444444, \"#bd3786\"], [0.5555555555555556, \"#d8576b\"], [0.6666666666666666, \"#ed7953\"], [0.7777777777777778, \"#fb9f3a\"], [0.8888888888888888, \"#fdca26\"], [1.0, \"#f0f921\"]], \"type\": \"surface\"}], \"table\": [{\"cells\": {\"fill\": {\"color\": \"#EBF0F8\"}, \"line\": {\"color\": \"white\"}}, \"header\": {\"fill\": {\"color\": \"#C8D4E3\"}, \"line\": {\"color\": \"white\"}}, \"type\": \"table\"}]}, \"layout\": {\"annotationdefaults\": {\"arrowcolor\": \"#2a3f5f\", \"arrowhead\": 0, \"arrowwidth\": 1}, \"coloraxis\": {\"colorbar\": {\"outlinewidth\": 0, \"ticks\": \"\"}}, \"colorscale\": {\"diverging\": [[0, \"#8e0152\"], [0.1, \"#c51b7d\"], [0.2, \"#de77ae\"], [0.3, \"#f1b6da\"], [0.4, \"#fde0ef\"], [0.5, \"#f7f7f7\"], [0.6, \"#e6f5d0\"], [0.7, \"#b8e186\"], [0.8, \"#7fbc41\"], [0.9, \"#4d9221\"], [1, \"#276419\"]], \"sequential\": [[0.0, \"#0d0887\"], [0.1111111111111111, \"#46039f\"], [0.2222222222222222, \"#7201a8\"], [0.3333333333333333, \"#9c179e\"], [0.4444444444444444, \"#bd3786\"], [0.5555555555555556, \"#d8576b\"], [0.6666666666666666, \"#ed7953\"], [0.7777777777777778, \"#fb9f3a\"], [0.8888888888888888, \"#fdca26\"], [1.0, \"#f0f921\"]], \"sequentialminus\": [[0.0, \"#0d0887\"], [0.1111111111111111, \"#46039f\"], [0.2222222222222222, \"#7201a8\"], [0.3333333333333333, \"#9c179e\"], [0.4444444444444444, \"#bd3786\"], [0.5555555555555556, \"#d8576b\"], [0.6666666666666666, \"#ed7953\"], [0.7777777777777778, \"#fb9f3a\"], [0.8888888888888888, \"#fdca26\"], [1.0, \"#f0f921\"]]}, \"colorway\": [\"#636efa\", \"#EF553B\", \"#00cc96\", \"#ab63fa\", \"#FFA15A\", \"#19d3f3\", \"#FF6692\", \"#B6E880\", \"#FF97FF\", \"#FECB52\"], \"font\": {\"color\": \"#2a3f5f\"}, \"geo\": {\"bgcolor\": \"white\", \"lakecolor\": \"white\", \"landcolor\": \"#E5ECF6\", \"showlakes\": true, \"showland\": true, \"subunitcolor\": \"white\"}, \"hoverlabel\": {\"align\": \"left\"}, \"hovermode\": \"closest\", \"mapbox\": {\"style\": \"light\"}, \"paper_bgcolor\": \"white\", \"plot_bgcolor\": \"#E5ECF6\", \"polar\": {\"angularaxis\": {\"gridcolor\": \"white\", \"linecolor\": \"white\", \"ticks\": \"\"}, \"bgcolor\": \"#E5ECF6\", \"radialaxis\": {\"gridcolor\": \"white\", \"linecolor\": \"white\", \"ticks\": \"\"}}, \"scene\": {\"xaxis\": {\"backgroundcolor\": \"#E5ECF6\", \"gridcolor\": \"white\", \"gridwidth\": 2, \"linecolor\": \"white\", \"showbackground\": true, \"ticks\": \"\", \"zerolinecolor\": \"white\"}, \"yaxis\": {\"backgroundcolor\": \"#E5ECF6\", \"gridcolor\": \"white\", \"gridwidth\": 2, \"linecolor\": \"white\", \"showbackground\": true, \"ticks\": \"\", \"zerolinecolor\": \"white\"}, \"zaxis\": {\"backgroundcolor\": \"#E5ECF6\", \"gridcolor\": \"white\", \"gridwidth\": 2, \"linecolor\": \"white\", \"showbackground\": true, \"ticks\": \"\", \"zerolinecolor\": \"white\"}}, \"shapedefaults\": {\"line\": {\"color\": \"#2a3f5f\"}}, \"ternary\": {\"aaxis\": {\"gridcolor\": \"white\", \"linecolor\": \"white\", \"ticks\": \"\"}, \"baxis\": {\"gridcolor\": \"white\", \"linecolor\": \"white\", \"ticks\": \"\"}, \"bgcolor\": \"#E5ECF6\", \"caxis\": {\"gridcolor\": \"white\", \"linecolor\": \"white\", \"ticks\": \"\"}}, \"title\": {\"x\": 0.05}, \"xaxis\": {\"automargin\": true, \"gridcolor\": \"white\", \"linecolor\": \"white\", \"ticks\": \"\", \"title\": {\"standoff\": 15}, \"zerolinecolor\": \"white\", \"zerolinewidth\": 2}, \"yaxis\": {\"automargin\": true, \"gridcolor\": \"white\", \"linecolor\": \"white\", \"ticks\": \"\", \"title\": {\"standoff\": 15}, \"zerolinecolor\": \"white\", \"zerolinewidth\": 2}}}, \"title\": {\"text\": \"No. Of Cast Vs Revenue\"}, \"xaxis\": {\"title\": {\"text\": \"Log of num_cast\"}}, \"yaxis\": {\"title\": {\"text\": \"Revenue\"}}},\n",
              "                        {\"responsive\": true}\n",
              "                    ).then(function(){\n",
              "                            \n",
              "var gd = document.getElementById('420825ff-b91e-4e59-aacf-67a5147a828f');\n",
              "var x = new MutationObserver(function (mutations, observer) {{\n",
              "        var display = window.getComputedStyle(gd).display;\n",
              "        if (!display || display === 'none') {{\n",
              "            console.log([gd, 'removed!']);\n",
              "            Plotly.purge(gd);\n",
              "            observer.disconnect();\n",
              "        }}\n",
              "}});\n",
              "\n",
              "// Listen for the removal of the full notebook cells\n",
              "var notebookContainer = gd.closest('#notebook-container');\n",
              "if (notebookContainer) {{\n",
              "    x.observe(notebookContainer, {childList: true});\n",
              "}}\n",
              "\n",
              "// Listen for the clearing of the current output cell\n",
              "var outputEl = gd.closest('.output');\n",
              "if (outputEl) {{\n",
              "    x.observe(outputEl, {childList: true});\n",
              "}}\n",
              "\n",
              "                        })\n",
              "                };\n",
              "                \n",
              "            </script>\n",
              "        </div>\n",
              "</body>\n",
              "</html>"
            ]
          },
          "metadata": {
            "tags": []
          }
        }
      ]
    },
    {
      "cell_type": "code",
      "metadata": {
        "id": "ovZa6T8Y3haL",
        "colab_type": "code",
        "colab": {}
      },
      "source": [
        "agg_data = df_train.groupby('original_language').aggregate({'revenue':np.mean})"
      ],
      "execution_count": 0,
      "outputs": []
    },
    {
      "cell_type": "code",
      "metadata": {
        "id": "CG06bmhN4BLy",
        "colab_type": "code",
        "colab": {
          "base_uri": "https://localhost:8080/",
          "height": 542
        },
        "outputId": "ed4a2ba2-da8e-424f-86e2-b94adf7af7f2"
      },
      "source": [
        "langs = df_train['original_language'].unique()\n",
        "fig = go.Figure()\n",
        "for lang in langs:\n",
        "  x = np.log(df_train.loc[df_train['original_language'] == lang, 'revenue'])\n",
        "  name = lang\n",
        "  fig.add_trace(go.Box(x = x,\n",
        "                name = name,\n",
        "                ))\n",
        "fig.update_traces(orientation = 'h')\n",
        "params = {'xaxis_title':'Revenue', 'yaxis_title':'Original Language'}\n",
        "fig.update_layout(**params)\n",
        "fig.show()"
      ],
      "execution_count": 166,
      "outputs": [
        {
          "output_type": "display_data",
          "data": {
            "text/html": [
              "<html>\n",
              "<head><meta charset=\"utf-8\" /></head>\n",
              "<body>\n",
              "    <div>\n",
              "            <script src=\"https://cdnjs.cloudflare.com/ajax/libs/mathjax/2.7.5/MathJax.js?config=TeX-AMS-MML_SVG\"></script><script type=\"text/javascript\">if (window.MathJax) {MathJax.Hub.Config({SVG: {font: \"STIX-Web\"}});}</script>\n",
              "                <script type=\"text/javascript\">window.PlotlyConfig = {MathJaxConfig: 'local'};</script>\n",
              "        <script src=\"https://cdn.plot.ly/plotly-latest.min.js\"></script>    \n",
              "            <div id=\"2d6d3791-3a75-4649-9d09-d51a8999a811\" class=\"plotly-graph-div\" style=\"height:525px; width:100%;\"></div>\n",
              "            <script type=\"text/javascript\">\n",
              "                \n",
              "                    window.PLOTLYENV=window.PLOTLYENV || {};\n",
              "                    \n",
              "                if (document.getElementById(\"2d6d3791-3a75-4649-9d09-d51a8999a811\")) {\n",
              "                    Plotly.newPlot(\n",
              "                        '2d6d3791-3a75-4649-9d09-d51a8999a811',\n",
              "                        [{\"name\": \"en\", \"orientation\": \"h\", \"type\": \"box\", \"x\": [16.32630024971174, 18.37095921369616, 16.38751191460321, 14.997740081142883, 18.263396033176583, 14.765820421268007, 17.35145416487623, 16.746717430294627, 18.57969227922794, 16.935318604087552, 19.691274090816837, 18.371764789871715, 19.69708469491702, 17.874086360845705, 14.025977296950373, 14.374816012036838, 18.2601320957045, 18.729336985118785, 17.418016622440454, 11.516369527372783, 9.741615472609583, 15.414436816032637, 15.944150870798527, 16.442721567617276, 15.875641851109611, 15.581891875507052, 18.368711052438794, 18.80551386894387, 8.877800393882575, 19.368556313591693, 17.513007425288247, 11.928730267063791, 19.061795198918137, 11.430630222243398, 9.607302767592598, 12.0015054797889, 16.601618297594996, 17.008566787435473, 13.836215719030765, 17.66937545472996, 20.309174802274413, 18.86382767018356, 13.390787704085026, 18.60300230074632, 17.0476315964246, 16.213405830762646, 16.678542693306042, 17.645663159833187, 17.411402632483526, 19.288651113682832, 11.69159870808709, 17.053519413449806, 20.21084888101609, 16.48273876454623, 17.04363504182894, 16.454567887579532, 16.686524602908527, 16.284128514352506, 12.230472532353708, 16.390398517345, 18.881065080795658, 16.866025717691944, 15.927702768474786, 14.648419680899378, 17.031271015109905, 17.500541214951607, 17.38813986344996, 13.566818402803689, 16.038778596601386, 16.26549832842943, 18.337025380154568, 17.514356605175387, 16.388250413614692, 18.83953646955659, 18.481399478987072, 16.392880536087333, 18.75773846628622, 19.01372578157025, 16.523560759066484, 14.817785939924336, 16.817092637987923, 17.65745582507877, 16.037904707298374, 19.563444967928767, 15.485206719226069, 16.61920179322338, 16.532473786429794, 19.162618088681743, 16.73518169934258, 17.35827179381484, 18.029590367555365, 16.908135031994988, 18.356896690132736, 17.760674253686478, 20.5855753661917, 17.543718243489657, 19.35136903969681, 14.401289096819145, 19.665773808073048, 19.920303790379258, 15.535622563963836, 18.326773938956805, 17.921828716388454, 16.556350581889475, 16.301137115223362, 17.648521351242607, 15.561418565803013, 16.0978929436408, 8.55756708555451, 14.712645381374537, 19.17106244878912, 17.312018119430753, 12.611537753638338, 11.700897693272998, 15.2858643182715, 14.935838675270894, 19.826070494589647, 16.454567887579532, 17.264443230151926, 13.330703496596836, 12.85363128126347, 16.213405830762646, 9.125653563808989, 16.786456728307783, 18.80739820128088, 12.976814925428114, 2.8903717578961645, 9.735364715141987, 5.484796933490655, 17.77491044363214, 15.44315924313081, 18.514741798469892, 13.012066252271739, 16.781453142124334, 16.73611295278044, 11.64204840462957, 16.323245970632282, 14.978661367769956, 16.6543581761167, 17.955004681268175, 10.126631103850338, 14.360083481509735, 18.786825978791047, 17.549204354561176, 17.01829082146888, 17.83369375922081, 14.765483230734763, 16.300417207752275, 14.847931048474093, 17.183061941501055, 19.149600029777947, 16.51203330587609, 13.18562733663285, 18.645526078411876, 18.8664366014951, 17.254271125994702, 16.85798332511883, 16.898839566319246, 19.28644125443523, 18.896925469476972, 15.159290607986984, 13.733215315237445, 20.071859000294808, 16.60899695722418, 16.62942114976596, 18.193780143760442, 17.450882979706165, 16.393302252322158, 13.520892486991375, 11.82190169888669, 18.17119765774044, 16.330979551584914, 16.762815636467572, 18.785323857540273, 15.180658654511575, 18.51599092375669, 20.082841745030876, 16.11809565095832, 14.845668401596463, 14.249311714582749, 18.0051652999907, 15.28616766654936, 18.498599196993784, 17.095310743252217, 19.96963377480591, 15.04460739400109, 14.493134372116822, 18.974364745003083, 18.261685012461907, 14.967979519423094, 13.53438693180974, 10.362461831496553, 19.68177242933684, 6.214608098422191, 15.700383249998424, 17.180438103017917, 17.077325251991766, 13.367097760145837, 14.72134683193457, 18.094658248111887, 13.816946526467829, 14.615311517556348, 12.239159198517964, 15.964284463497007, 17.122303885832572, 15.538277155705378, 20.040068987239636, 17.86883319248637, 15.571720221340014, 16.742001375565327, 16.67880621084076, 17.597083134008354, 16.747020846944377, 19.677957529828916, 18.806490022389053, 16.49379436994694, 16.11982635243015, 15.42527941562996, 10.453312711151128, 15.86963429165982, 19.130820646936517, 16.012735135300492, 11.849547690342566, 12.140728466604171, 18.287471276647185, 9.546812608597396, 11.87476604401313, 16.38512922796831, 17.845408008204192, 14.963271676632267, 16.990972281704742, 2.995732273553991, 18.097957077119652, 18.90905323417181, 17.645116706321897, 18.24348813956598, 19.34025206879214, 13.308082489299183, 18.915376985788473, 10.044118682275874, 19.1989238018533, 2.302585092994046, 18.01250316040663, 16.372954125016722, 17.689341108600264, 14.294390922163304, 19.439246428828238, 15.738527795424, 16.97296198377947, 16.24679673389773, 19.355600206532493, 15.495785240858268, 18.911974478209395, 20.297743308415054, 17.772935135620784, 17.849566364877138, 16.073453138377676, 10.167964967343314, 17.698557791155846, 14.862829552244833, 14.895701544866666, 16.94604562806618, 15.639075656177994, 19.082195369130297, 18.421548297518918, 16.93693032227205, 16.897434380874373, 18.518082661819204, 15.950795663336226, 2.4849066497880004, 8.747828608488742, 19.67392947159051, 18.54307760840126, 18.589058545192962, 19.4719942058544, 18.0453615424053, 13.527828485512494, 19.025097918798746, 20.093939112902333, 18.900796330840443, 15.550669869263254, 19.5006421987555, 18.57254309326161, 17.92582449491579, 16.83735852860437, 19.767026708021255, 15.536275153034705, 12.755903574635465, 14.98644350821201, 17.46115957270666, 18.583640175414903, 17.1337202023851, 14.603967918328545, 14.070151225949056, 17.918614527650263, 11.936950598599303, 11.385092093460344, 17.73845583759717, 16.50207777676427, 18.28618913046331, 0.0, 15.072567437272621, 18.617811870707424, 18.569269243495345, 16.06680235657077, 16.140769739894978, 16.126993249665578, 12.884030043249131, 18.596896078995805, 20.485315423096832, 16.494329869055846, 18.353745603883212, 14.96676368267771, 17.914675350852647, 12.959279582517782, 18.433922306221987, 15.024988680179684, 17.97612227138173, 13.99141322435594, 18.334612943472553, 16.177243512312348, 16.64872390202049, 16.670519639790946, 18.425585525820015, 15.440902328124785, 16.784801623525645, 13.629336389382829, 18.956459917968854, 17.94541609980515, 14.508657738524219, 18.048589723435157, 18.422986403874507, 19.252442878913403, 9.392661928770137, 14.112575721211076, 14.570780531639027, 19.092327554165628, 18.681754861153046, 18.094667724521287, 13.71091530497382, 17.288436394878747, 14.467654998503814, 18.139720774125312, 15.872283088191162, 17.882917419687786, 9.018089684104343, 7.292337176173877, 15.912696851161728, 18.64850240781488, 16.46243606640213, 15.714942568058875, 17.516443056421636, 15.227707043822166, 19.026724479648202, 18.81499352877047, 18.396328008597184, 19.00501441523899, 18.82418294014217, 12.830753601614568, 15.341793574888326, 18.833579613065826, 17.52900127989677, 12.599994721776683, 17.2052340657708, 13.467370516475379, 13.370940729975349, 16.716789174793295, 14.045033716242523, 18.513043958444083, 15.03936775094972, 18.380492486078616, 11.600295111107135, 18.811675208838786, 16.22523459427579, 12.614396995441199, 11.169279559000872, 18.894321612914606, 17.745137697340777, 19.637313228300346, 14.501942743323832, 13.632470743284872, 15.27412558066379, 12.747774649752127, 13.682420210921991, 19.35337582570925, 19.568579610064383, 15.6055418681186, 2.4849066497880004, 14.39656684683452, 13.825084580398547, 16.3440321782813, 15.148006647754721, 15.406923390328629, 15.60727002719233, 12.737133156095918, 18.3032842073456, 17.050474079093522, 18.811915363922097, 18.95787754536397, 18.65415340585879, 16.547900333736546, 16.748430819106396, 19.41393251696265, 16.42705536527841, 12.672889953842668, 18.561346443033766, 14.329967580214296, 19.945150178166525, 18.980290846157338, 10.043249494911286, 15.66804820584576, 15.266472650623712, 16.91405245641896, 16.624282934235495, 14.077874822431765, 17.39187362077109, 12.14246169406681, 15.020278246286203, 16.55498190374123, 19.045996323133004, 18.504864223707063, 13.320433603666373, 14.360958453624724, 17.962065966827414, 11.10271411123683, 17.44792208920626, 8.896451207355227, 16.286843669336097, 15.096444403426338, 17.601191193423457, 3.2188758248682006, 19.975085658014695, 17.767424993872233, 12.664990049038344, 16.385946222697086, 16.279363798554442, 15.713643329808258, 18.44407890935125, 14.985249617513475, 16.44490961050308, 16.077273656438063, 19.086699879036363, 14.73180128983843, 18.437012462450824, 10.886445787656298, 16.86635047451999, 18.633585561869392, 20.52552251000142, 17.156889284598154, 16.716690914160296, 12.809081747879002, 17.17878143662178, 18.62525290968114, 17.048092029888586, 16.67341651461086, 17.548862870078707, 17.909855120186375, 17.45729591502344, 17.399029496420383, 12.329554964926661, 16.087403323519762, 18.653765224095345, 10.746648295413559, 16.048084368209473, 16.76958793815071, 19.62982800067862, 19.977080273902235, 13.340616590483108, 18.670569979350415, 15.894081595865613, 17.50444281068434, 20.646695111627153, 16.811242831518264, 15.761420707019587, 18.477387640318085, 16.608182076582544, 18.218634887834515, 12.3803326283129, 18.39881479707561, 18.463735903901526, 18.768455466160297, 16.22079536983397, 13.304684934198283, 15.400295467023547, 16.92709106331489, 17.647459760235424, 17.447810216100773, 9.688808079634049, 14.28551418721001, 19.096085870975084, 17.415743016375092, 11.302327882824537, 15.88237331743725, 17.423551931929833, 16.692910319927627, 15.176487111099874, 18.23097057849132, 16.63864653074509, 18.131682325497213, 16.119437150744982, 19.171872373484952, 16.846149010054017, 17.704848225876823, 16.336007782225536, 4.477336814478207, 15.899118035072572, 13.041504670227068, 15.20208512982147, 17.067303268550376, 13.895505879899739, 19.559291090998553, 15.424948470398375, 15.553304569262508, 16.014553148379452, 17.615573429192004, 16.229321143963272, 17.301314769675457, 16.8614013447852, 18.425898915582653, 13.956428353822481, 17.575092201847937, 19.692771720127038, 17.914397670497877, 18.581842273098985, 17.794784016416273, 17.08942964130764, 16.213405830762646, 12.970996153500266, 10.360152617342683, 12.51958327051404, 15.142582906900781, 15.92003914663013, 16.647552510326697, 17.17935215308266, 13.917653703432924, 18.579996049823492, 17.114781520702884, 18.9964035882656, 15.220010438348679, 18.73766786557932, 18.255484610410402, 18.805262641144104, 15.543990446589795, 15.635937007931048, 16.334307231583733, 18.51145613896313, 14.22097566607244, 17.220125991426123, 19.616358395431945, 17.61161155994084, 16.819151872435246, 17.41460971425393, 18.83157575011218, 14.151982794585487, 2.0794415416798357, 18.11898413842143, 18.394717661156392, 19.481079788599697, 15.89831780430041, 13.815510557964274, 18.358805340234277, 14.73180128983843, 16.60667566577699, 19.07536165309628, 18.720785336402702, 16.31961736601873, 10.809748150372926, 16.915602846842507, 16.81522738264038, 16.38045991542581, 13.533477831200077, 15.911690109322544, 18.70217648294158, 16.626901336021046, 16.712136550630788, 4.248495242049359, 2.302585092994046, 20.68077578532546, 12.739376725132542, 12.947898079235841, 18.153832283489223, 14.946912669455374, 15.064015043406602, 17.46295577288276, 18.158444730260392, 16.25014479559586, 17.921454256029726, 13.563739882761425, 14.075515888487386, 15.984564258333798, 20.114960418462882, 16.213405830762646, 17.65292501058449, 19.026597238021566, 20.95666568180738, 15.147348733288107, 18.272581154295576, 14.139376525563256, 9.332026890232783, 20.560746907448635, 15.60727002719233, 16.26313114196135, 19.01191935513758, 14.71194382903892, 15.603812724268785, 16.811242831518264, 12.489189312359024, 16.02133141452585, 18.64244186815439, 17.472599893550985, 18.40505999281051, 19.277149298964996, 13.122363377404328, 17.90833004117768, 17.420038177187358, 16.480193862361272, 9.530174967444372, 19.14422396840224, 16.1573163641116, 16.067237945898487, 15.293771332910625, 18.606795049174295, 16.13460875605705, 17.18881067093986, 17.001405317723844, 16.70331112428972, 16.502263643578942, 17.303218730232487, 11.048538035310022, 15.816958530634494, 13.859359008143999, 20.380532487200007, 18.08606979006924, 19.20493162401604, 16.6282885746118, 20.030495455388806, 17.85269671222878, 16.233268171070975, 20.746771594283132, 17.887310420844543, 17.216707939626428, 14.453746855916222, 17.433952499385175, 18.882739269282908, 14.805808714080236, 12.905547265556732, 15.267124385204808, 17.487756870152484, 18.183292567989714, 12.428836124626088, 16.224443778766677, 17.346363945129387, 18.253033747187917, 17.73651921126677, 18.545057901630265, 9.96880701865677, 17.890555168527623, 16.15821759249866, 15.60727002719233, 18.913751867217837, 17.20131642903396, 17.026092443005954, 10.988828836344187, 20.09190025570506, 15.990262279448435, 18.71124897992439, 17.023091434386114, 18.61512210826541, 14.631858516121712, 15.248793461306969, 17.035823349900593, 15.59488160661238, 10.79450150122549, 15.01477087594803, 15.860920151536149, 17.71857358238092, 19.62051631672626, 17.191491938425465, 17.830955625462494, 15.011126137769, 14.314337281991973, 19.62064552688076, 16.937773759216324, 16.3345517711675, 13.546431700991352, 18.064975458314464, 14.663191773432956, 18.095868548074293, 19.219538378934423, 18.108442597255095, 16.209714936876978, 18.354722645024196, 16.83887040119806, 8.440528106480752, 11.104295353518907, 18.99300851122352, 17.892686122840352, 16.455750616451343, 13.023821782196473, 17.283009499447555, 18.725809730007867, 16.421983743603196, 16.732868339931525, 10.399585250897506, 19.209234731466264, 19.712361297244673, 14.151982794585487, 19.314263035863068, 16.860032995687696, 17.559762394413013, 17.922126632899133, 17.534072568797775, 16.90655301132259, 19.26978648200063, 14.692003354124255, 9.129238770539141, 14.77102200299171, 18.952064356715866, 14.038654109278484, 18.45943462700358, 16.587637611151298, 15.798745255456405, 9.330431852234003, 18.89691492294874, 14.962335701333625, 19.74035087168164, 17.403474464009697, 14.082393061338518, 16.8845267034804, 19.752672920089058, 16.63711281228216, 16.09759677733891, 16.253468671744212, 12.821190714770049, 17.11826326910146, 13.827625870285557, 18.73378244757928, 15.793339828311348, 14.787418761480987, 15.955576721460545, 17.68729410749692, 14.529699793490925, 11.936629887534313, 17.415875961184906, 13.695632955233025, 16.11809565095832, 19.764216695242787, 13.232114241363448, 15.899754051795206, 16.508966512576144, 18.395803372295088, 10.184447079227082, 14.78738697870566, 13.359920945851105, 16.061322315907194, 11.819623090350523, 18.502628506624994, 17.14771506813948, 15.623970789853148, 14.94911508107509, 16.15562329706672, 18.80252077128858, 17.730711388752574, 17.55700259956578, 17.46622957663181, 15.088760233445438, 17.688078800451624, 13.88559803015723, 20.748437466497155, 18.82091455934458, 18.162924150844432, 17.7190833406143, 5.723585101952381, 17.815298696236717, 19.725613313623455, 16.38829796366695, 15.910529145064263, 17.45211660595909, 12.865531182782325, 16.38045991542581, 18.420881643770645, 15.509092356730177, 18.553416731576185, 16.729598842477756, 16.626549744869042, 16.6406670027879, 20.4832762254559, 16.464155847267936, 19.123907514337912, 18.346210894021088, 20.80478969240957, 18.671433275509983, 14.748286262938278, 10.330975044678786, 14.535757695038031, 17.728898830990335, 15.341566861459324, 17.16371572921376, 15.11364533770555, 15.158956915259054, 14.802639550879526, 16.27015162413294, 17.380769260693206, 12.160682943231363, 11.227148243803411, 18.386282851878786, 19.10219858005435, 6.46302945692067, 17.561846821671494, 17.889581219858503, 18.884765440827227, 18.97928073042184, 18.960326374787847, 15.254363924621302, 10.542284138345991, 7.569411792450712, 14.616165946239505, 16.75723137258213, 20.446905807585598, 15.34921147980662, 17.59173182405152, 19.445759040836705, 11.733609995369179, 19.520626915935775, 15.952686194969893, 16.815235848803244, 13.815510557964274, 18.10931891946041, 14.499871754556056, 14.42121408629893, 14.079178587545167, 18.77731406602492, 17.991263003276067, 20.654943308943338, 18.767152984874755, 17.410089222667953, 17.224344605921743, 16.53150505276926, 18.911734989813908, 19.430353958816657, 19.577562384140577, 18.07254070246347, 18.183372888332386, 17.312018119430753, 17.48673507683949, 17.490783537419354, 14.598976847265822, 18.32844379194215, 14.372183734949344, 17.934373164695096, 17.648850486002587, 10.982577174715374, 16.798057029669216, 16.975508227555135, 18.714060948669346, 14.33174512697559, 16.44637743722783, 10.813096007646362, 14.979286172538798, 17.173951992892228, 17.999017425326173, 18.459051759676548, 18.91801902302015, 16.445839477020453, 16.87349032400274, 14.425960677837237, 18.836054300848538, 3.4011973816621555, 4.0943445622221, 16.78449102148536, 17.849840838116403, 18.76282112198046, 17.53904667192128, 18.56348523568515, 16.940091659277893, 13.771809422693176, 16.860032995687696, 18.55896429839825, 17.182806387950748, 17.666551377657626, 15.651670092774722, 18.28829155590662, 18.497641785088494, 16.806732776492407, 16.81349604113383, 8.339739766019143, 17.13460467991738, 15.683148692647727, 14.391219580890574, 18.87421953739807, 16.865150640083012, 17.190889254087164, 17.476536119152478, 17.22096430178485, 12.807480014927336, 17.37309158167972, 19.319311850500466, 10.719957949128073, 15.510391952215842, 18.542959259778954, 19.6661367788538, 12.7098736543592, 19.584286740769716, 14.234086673289104, 18.150001251601957, 17.107204632222658, 19.201566763920315, 17.20874333957088, 16.676998670649084, 16.170832587792482, 16.516832642633407, 6.263398262591624, 11.585794813203101, 19.048551819426564, 13.918484026891598, 19.068756795400887, 17.599341718547738, 15.977962629741924, 7.247080584585756, 20.43399177394988, 12.203248661839071, 19.556308187111288, 17.748885264763384, 16.068731231936127, 15.735309470801234, 15.815652907161304, 11.726584177073223, 16.11809565095832, 9.615805480084347, 16.9277626251759, 16.479051419080527, 18.209172143326146, 18.604726871152888, 13.800404026727959, 17.785236537821223, 12.445837297860619, 14.015480462475251, 18.10293405282214, 17.17037690930729, 17.422892876403523, 13.98913776150155, 19.31703979708356, 19.08423792678419, 19.67969281464384, 17.086237837419635, 18.537071815720807, 17.51903228881508, 11.694571793849116, 16.514142815803222, 17.312436365287095, 14.648419680899378, 15.93811754613459, 18.55327456094018, 17.604160321609154, 14.921306647898533, 18.681471108951172, 17.923851890114953, 16.32963598455418, 19.038234781576705, 17.457625919039803, 18.76476578663508, 18.49652538436727, 17.379047513040863, 17.28817760355133, 17.268189747910785, 17.90338235026947, 17.963825510452892, 19.82819593702495, 18.47117004472365, 21.141685280815704, 16.455331167635755, 17.19650523230891, 14.862921828688986, 18.657628008139447, 19.257429130950637, 16.261382417314294, 17.421008403139158, 16.549878067383858, 3.4011973816621555, 13.003800537779847, 15.925474393888807, 16.163307993779867, 9.612265889785814, 18.252263536113343, 11.991702990767326, 14.375886057245939, 18.67565524044879, 14.827211464643087, 16.04013410948861, 20.380366683870882, 17.74242217588617, 11.012726510945454, 16.62004963787152, 15.489410613619226, 14.375246910060119, 18.977886492932676, 18.80820383236001, 14.78501479943215, 4.795790545596741, 17.25152918159065, 14.56692381645551, 17.802619607078203, 17.3647531618787, 15.955576721460545, 17.23841682076114, 10.39781787377292, 18.286059054312865, 16.225069993696422, 17.819552897936752, 14.801829092266225, 10.24994548006426, 15.36454411182221, 15.631928655465403, 17.034596640726736, 18.380961932368656, 16.213405830762646, 17.021896832087407, 11.51949384584826, 19.219228776356623, 19.391157266909225, 15.93215888717141, 19.542901591169866, 10.453456963419745, 14.518112897294975, 1.9459101490553132, 17.646091094843904, 17.978393646251853, 13.302424046984495, 14.331612636725664, 18.368153941738324, 18.224065217389626, 13.649106443842665, 4.442651256490317, 12.939636938656736, 18.078321891153585, 18.664931287195493, 17.37412265810754, 17.732415626704014, 17.764463443050726, 19.181272877257623, 18.241050027597865, 18.138986535076533, 13.677717526012247, 16.401013618060343, 14.825019464743827, 12.281068794566579, 16.111080602944373, 16.412114429016686, 19.615947898837742, 14.074935121125458, 16.839165684674043, 15.787578169538182, 20.143183728379103, 18.20436217437474, 18.77370972945491, 12.314940503266564, 16.13066216058987, 14.603967918328545, 16.647220360503518, 19.18746744624598, 19.080042572981682, 18.510971410689113, 13.068947832635677, 16.861568340252315, 19.043614038247263, 15.849554156631163, 18.199462088836203, 15.31780547818379, 17.234986333974124, 16.02798908882139, 4.836281906951478, 17.772391855492838, 17.473757671050056, 20.389739045240248, 17.598083704251927, 14.822007557724579, 17.51117034855662, 18.38908685171922, 19.854934955579065, 15.515896422233299, 19.505870012288334, 16.670942409188797, 10.955217855304108, 17.60764414587055, 12.730244806703562, 15.629182192553515, 12.945533115813229, 14.946691354644479, 7.996317231796746, 15.347500310639232, 17.272462935803006, 10.24736090463765, 10.746949493754942, 17.0582987887017, 15.290502373845452, 19.464974464950526, 9.609384912281424, 18.44315359713776, 16.644545951231837, 15.968836886179488, 17.034386382832476, 10.626969932892147, 16.62218054698001, 3.828641396489095, 15.60727002719233, 12.765705576175803, 17.540775146274704, 18.0297498949218, 14.768711643858527, 15.995317095946575, 14.077874822431765, 16.325802344719918, 17.118273494383548, 16.231694478345094, 18.833859300117478, 16.862366128957152, 18.292700259349154, 17.312028331499825, 14.029072350494285, 15.542603853463069, 10.526346379977895, 18.577519197050165, 12.229105344640747, 15.063786618182299, 16.077273656438063, 17.063518492111776, 17.98121170479, 11.88195477843718, 15.109413824601639, 19.72720209415228, 9.798127036878302, 17.160137588138035, 18.318199811645286, 15.662681870369042, 17.07402485486621, 16.903385180859935, 13.120697991418595, 16.276408030316883, 13.112924975493177, 19.9692870311463, 18.674589096212845, 13.094007111825654, 15.020788010866028, 15.197796144674294, 13.926980373786277, 17.11585723944643, 14.133038770013044, 15.907374619642667, 20.544494643746237, 9.648853334130548, 19.244054321651028, 15.897698325312135, 14.77102200299171, 15.771417712879641, 18.040150423985754, 19.09420958723368, 16.8240097366539, 9.218506934642576, 18.821438797909234, 1.6094379124341003, 18.95044249618342, 16.504571872593417, 16.54955899051022, 15.464169183551656, 17.213626028747427, 16.25490436728583, 18.448490522397503, 6.045005314036012, 18.90460553510379, 10.126631103850338, 13.20757914324874, 18.43359696921891, 15.107314278365925, 13.815510557964274, 18.862447430477683, 16.11809565095832, 10.947731648720744, 13.294100785858575, 15.761420707019587, 16.012735135300492, 17.727684472005144, 14.467417427355088, 14.560565419137895, 16.365213898686157, 17.54426990696193, 6.827629234502852, 18.923485202008912, 15.72577842933645, 17.034386382832476, 13.673617446260156, 18.998011603603988, 18.703416116634074, 13.785892233951344, 16.06162021560017, 19.141947915462115, 10.370173183307918, 18.92517809638062, 18.03657947029263, 19.970841765098108, 18.8338877196503, 19.15858292023376, 18.819755564260785, 13.873832294881463, 16.740091507247207, 17.955278002372225, 19.664444662183676, 19.172096832636285, 16.25545941565494, 17.60767776354379, 15.733023584053031, 17.423565592697678, 19.20281446125568, 16.992664066477452, 15.068446368664425, 18.04340035854838, 18.50029032091526, 13.170520960584208, 18.00143453113723, 16.67947976020591, 18.9916442904101, 17.084280699106316, 13.980750382467695, 14.187036182642874, 17.86353604785309, 17.234924178554756, 15.874860738168229, 19.784425748566825, 18.49017413815692, 18.601102430468508, 18.17617476974306, 18.440483371248543, 16.093813614070207, 19.13997755805877, 16.506305472541122, 10.079916783625245, 16.557641554677012, 13.9108207377686, 14.715629224070774, 18.320046873420182, 16.488389850373817, 15.143910940665263, 13.002867876315637, 16.190922881884443, 17.36255645163333, 17.046804438623536, 15.975851325016997, 14.914122846632385, 15.45043257455469, 17.23404881380314, 18.290392019620256, 12.932301541792109, 18.003416848096734, 17.27089999520984, 15.137913122108767, 15.73125600697332, 8.882530508433623, 14.92466739034506, 18.440483371248543, 13.001246039134065, 15.685964133604143, 15.764588398867701, 19.230737134049388, 17.860670443206995, 15.424948470398375, 14.091365717383448, 18.443507118642607, 18.85050426247011, 19.35784730350769, 17.951459960203117, 17.431014075767013, 16.239752329917245, 19.23824318051564, 15.34894436325483, 4.8283137373023015, 15.424948470398375, 17.58811339160704, 17.942999944505008, 18.19503255865951, 18.153928976454733, 14.847765784061343, 16.189150488464772, 15.65944999503543, 12.902766030866776, 18.81123821671918, 16.441495746801653, 16.296070608293988, 14.583087801658214, 19.12608626313261, 17.469022101340624, 19.296812823746013, 10.411659658836555, 19.827385187536063, 17.104970281297824, 18.21332153684937, 13.804449610604848, 12.56444964015848, 16.611225300475564, 12.676363733455704, 16.58918637660059, 16.39043682627607, 14.983062916725366, 18.586731513155172, 19.7385732187406, 17.93533940306295, 14.305218157678981, 17.783573914655506, 18.255639978474022, 18.913362763482066, 16.454567887579532, 12.505521467454457, 11.32301115604912, 16.866411372429162, 19.312035654363267, 19.31119034411411, 14.706278332607344, 17.97097859794565, 14.631150554620989, 13.89221786320847, 17.674343734878303, 19.061019967813266, 17.899626872884674, 15.603765727633887, 11.856422966528195, 13.616985226229442, 16.588250518766927, 15.761420707019587, 12.253414141839224, 14.380399276676238, 15.367254736829796, 17.412545739073856, 13.869323325811392, 17.755468990420734, 13.160689459725528, 19.02111084272138, 13.122363377404328, 12.34613454291433, 20.22753085452605, 14.256230834528752, 18.72175522886787, 10.013283218359012, 16.1835269609413, 16.769377011151317, 13.235815269406789, 18.77415101340272, 15.519704132850002, 16.064665126953315, 13.542234879951565, 16.79078657165085, 10.324530690607611, 17.384637763794718, 18.708461606524242, 9.305650551780507, 16.914675840728503, 16.237119338909498, 19.294507342066694, 18.35454094144782, 18.253464694355404, 13.788678783998808, 8.809862805379057, 16.265039653527463, 18.60069844891656, 16.588099280204055, 18.381824555551862, 16.190416312537945, 10.158129770909708, 16.300417207752275, 17.169180318114492, 16.833751402288094, 16.331783598621676, 19.263644058037887, 16.55997883053731, 16.954621443244477, 15.03478972002858, 13.846275428729202, 17.789722701890604, 16.213405830762646, 18.341363408133045, 17.525550026531, 11.5387588900012, 17.092230068486717, 18.012236181675522, 19.737257499600492, 15.733689733281276, 19.18860696180859, 14.980756982933842, 16.665079186902968, 15.786195824917105, 11.99404829612856, 12.39246092199889, 18.88926802690306, 14.472599379852987, 16.108258928651455, 18.45885676737654, 18.85806045973639, 17.47793304267535, 17.525321462797745, 19.166513401613635, 16.25785759333348, 15.079061130464176, 12.341477282536376, 18.198159049245252, 18.66441433796006, 14.289645640989459, 10.685538069201806, 19.347761458034203, 18.116361247259924, 13.19960586041346, 17.161899703131436, 17.532947269251572, 12.048435896418084, 20.220643380017183, 17.357448620272294, 19.114738309985672, 16.401287281449605, 14.344545776117156, 15.239156097283981, 18.17538931664488, 14.047415614947056, 19.62368628462961, 19.55612925770445, 17.35711376162313, 15.121905284508518, 17.391774212607707, 18.17292202236155, 9.239899174217728, 14.807995370268706, 11.058212337893119, 15.365357476704292, 16.243936446606806, 16.300417207752275, 17.707385630084982, 11.331379607243946, 15.917027754400035, 16.401393125092277, 17.399029496420383, 16.556486830671705, 18.319569055895936, 19.27874945844316, 15.588334713670797, 13.298581345137798, 15.873551098128173, 16.999613265246648, 17.02512224289646, 18.01752849911271, 20.727813922706936, 18.165998846391577, 15.794827021800005, 17.030487712885567, 13.555062256866181, 19.328939304129257, 18.215526362889133, 16.40154023291546, 14.446016616186528, 18.886489838424087, 16.014067580534274, 14.356862282977536, 18.33334552544082, 8.564076777315087, 17.920003038778525, 14.647329086417349, 17.553180176247643, 19.22943668258384, 16.889175622574687, 18.603684076617657, 18.5841603508518, 15.80151850794638, 11.070178962014833, 15.167989570589434, 18.305967314729898, 15.79213556753656, 15.573368475516649, 16.673827506182427, 17.700550924191532, 17.84211919055978, 17.570271779094462, 9.139703292376742, 15.936829377157352, 18.432529113973178, 14.55317067313705, 19.72876478401082, 19.3072912020076, 18.26183885760252, 17.81819181245302, 17.74872360033959, 18.939341171331822, 17.134583366373825, 18.643142799100808, 17.49618547169567, 16.19956346576106, 15.114357719865096, 19.31483867442212, 20.63999291775259, 16.972832927283513, 11.700400387004978, 17.653554782893096, 18.622946984945404, 17.07665291430666, 12.00254175248878, 17.05342361925256, 16.85599939545853, 18.242981145434133, 18.176967070893447, 15.201804919084164, 16.74206626458891, 13.409112514807509, 16.62921153259542, 0.0, 9.128696382935672, 13.484907066519881, 19.437985134375218, 13.297995946047488, 21.132888530306882, 18.59882692933584, 14.73180128983843, 17.118727531266227, 16.498678890234945, 15.95956557890975, 18.152984942064027, 15.88237331743725, 15.765056375673876, 16.630919277386983, 19.38689337648341, 13.940406900624364, 18.127089446369663, 16.025351216811725, 13.253391639810733, 9.496120637138368, 16.678198063330008, 18.076879336454766, 18.51599092375669, 20.240058311467205, 16.12136679492836, 12.500349176664981, 11.457761531419719, 12.85387459631449, 18.4688211828103, 16.249433426863988, 16.806499549923345, 15.937703831023928, 16.181482102468454, 18.369387449564815, 12.248116293527852, 17.36297044660468, 4.90527477843843, 16.03990500216445, 17.574072755548755, 9.643744848773588, 15.275752164036248, 17.325899178685432, 10.747100058912297, 12.288578471082884, 18.914123206232826, 19.89085658905296, 16.482315202634325, 19.15071767789616, 12.571798506069321, 20.291556842945383, 12.302068953531068, 14.85455789233662, 12.061428303616365, 15.373655176010823, 15.567413191756163, 16.996817258654957, 17.85353424374933, 16.79998767925578, 19.550331351487813, 11.54034606054622, 15.801032964388547, 18.108358459537275, 17.379236852407704, 20.188985159789333, 11.841603116875529, 18.58476730756945, 15.672627743947528, 17.144137246791594, 13.860642610824318, 16.503154289494248, 12.254553237977701, 18.093158569765794, 15.693168938399074, 17.46809841686739, 14.94396057437189, 17.737576068215258, 16.749561451529548, 17.00915681710857, 19.80713200026356, 17.303709638791453, 13.247648865815, 20.387466574627187, 18.0051956631661, 15.020950685245156, 19.016583456678493, 18.260998915486482, 19.82623349851574, 16.6509500693291, 20.261487312593133, 18.4255603293876, 16.1573163641116, 19.187982893418813, 16.118776019455176, 0.0, 18.04256098048617, 13.518314032983898, 17.536283949845032, 10.879668518983348, 19.341647752979437, 19.945343805597442, 16.823177726474214, 16.842883058325025, 3.1354942159291497, 18.70910895797128, 13.259225467094044, 16.213405830762646, 16.396052410488497, 11.739263907180957, 17.507025087216213, 15.60727002719233, 13.652891623466166, 14.914122846632385, 18.061476876408804, 17.815544440715133, 15.685487069352293, 12.782579262563846, 19.399006866745975, 12.433439267117254, 19.256565665239098, 17.72750582300766, 16.55177088526292, 12.208100587864411, 18.538130461842332, 18.842202648956185, 13.98017887587091, 19.735035567855512, 11.124627160483929, 14.253091067976372, 16.374591653887027, 17.496185496901628, 0.0, 16.539464029034985, 14.53027440572914, 17.288974057082893, 18.274062629653326, 18.078190435005588, 15.60727002719233, 19.84439801564649, 12.648335662374995, 19.0901129441338, 18.583812328738556, 14.374669670210654, 18.90366974711035, 17.745219442152386, 17.763959509435136, 18.968802152462054, 17.900953535040465, 18.631708069355195, 16.458231454230773, 17.04220569219616, 16.821757062755662, 16.942815287929513, 16.995562390974893, 13.9108207377686, 9.212138753917563, 17.079580794788367, 16.834538468792836, 13.476246026513868, 15.21911080466214, 16.846583478865533, 15.717618084361195, 18.26305458998879, 9.604811938609481, 17.27808521930133, 17.72797264698111, 19.30955990000345, 13.997832114758229, 18.60255518413792, 12.872626846445563, 13.122363377404328, 18.299022494344204, 10.476047770106955, 17.5684780176864, 18.45192390356629, 15.886921440042476, 9.363061458993847, 17.070861831192268, 19.15341494076073, 12.746479401385484, 15.830413578506539, 16.153936041869905, 19.844850377468216, 14.567133700682728, 16.811242831518264, 17.768658040160307, 9.112617283447568, 17.22332284614436, 15.301102592802614, 16.952837875344567, 19.064945962629597, 15.245087563720272, 19.23600563608574, 19.695631154874842, 16.882947349832236, 16.692952248331423, 15.684569745538758, 15.335248026561668, 17.67132295671191, 19.27792703561526, 18.055561244910923, 17.607217660233665, 18.60250897074575, 17.1187391488458, 16.644487706707604, 14.03922354711798, 17.896732544581063, 16.768625476302066, 16.52831703005546, 16.738202781240627, 16.24458062578987, 14.774860779298876, 15.913979549116599, 18.06685886899604, 18.765834317060637, 11.518350721615294, 19.786774168161333, 18.728165443700327, 17.159836625745815, 15.912151832543964, 20.466214650748363, 18.05405970115151, 15.563249868436865, 12.469797522406187, 17.648948887274095, 15.882075171730413, 17.35822419736261, 16.16685667184595, 16.951004773893423, 17.392441314150474, 18.541944993147393, 15.201804919084164, 3.2188758248682006, 16.543971175477644, 18.839630405432807, 20.125428836190792, 19.68829835673614, 17.596241239324804, 16.129404761222784, 16.03845811119318, 12.479608885808588, 19.52005302375404, 17.183179318403543, 19.734243299797143, 18.55748862302797, 15.495034077965062, 16.131011876224868, 15.680447685786174, 18.755754488854016, 16.92858305803804, 14.217234677291609, 12.462511698242023, 15.201804919084164, 17.860247947356243, 19.468619689882832, 12.387952438094011, 19.666085789200338, 15.962027400433652, 17.29624005543166, 18.902083381933338, 19.480206396078522, 15.741378628200037, 16.328569843811866, 17.654339515021565, 11.870599909242044, 16.202262795283644, 16.569465112493013, 14.41558255924446, 17.709597713382774, 11.224149461060218, 8.421122722665503, 14.222164958583658, 16.659584243848204, 18.40236993973458, 17.72346827127864, 14.734376371467983, 15.581074569228678, 16.213405830762646, 16.30342509618353, 17.600387364816033, 14.859666660836325, 18.197019546182343, 2.8903717578961645, 16.90856357968385, 17.04643502554022, 9.217117356255207, 11.75391679292806, 20.300162929330572, 17.905756749995323, 16.77332666307639, 14.102365538469792, 18.87239848195104, 18.490369069555033, 10.729919220241946, 12.962720308652019, 13.914230372896052, 13.719932042161066, 18.899715581292277, 13.127864219989648, 19.706691679154712, 17.024753656737577, 17.034386382832476, 17.45126517301519, 19.30566886948199, 19.037273786779764, 1.3862943611198906, 16.11920004089519, 14.668286244770497, 17.909855120186375, 18.897074164927446, 12.024400877577715, 17.638529679041383, 18.16020189896399, 18.91847016040225, 20.576407335606298, 18.352135818551155, 15.940592666176983, 18.17706332611132, 18.675322962325946, 18.420338215296123, 16.22133512880496, 19.520150914534536, 20.767965553295905, 16.26368553436784, 13.852165482294824, 16.08763644347361, 18.471382441881236, 15.272255227993046, 18.246634642923706, 15.4057656509816, 16.535443347319898, 13.219999939989682, 16.92605590564629, 12.106843295802587, 17.32392950246117, 16.938186623469555, 18.744639744138983, 16.430764536621663, 16.828206186795683, 16.801192495664765, 18.142492607792555, 17.772266249978667, 17.365369381113837, 18.153828757708137, 16.687441151353056, 18.846491482230757, 17.460718205489886, 12.132953415179365, 18.431957511530932, 16.125745317509818, 17.913337948093954, 19.707154968685053, 14.731973674979256, 16.985196138641705, 16.566377115524222, 11.183087174985056, 18.705859686186027, 16.668317164840904, 17.928693720866676, 17.916960467314407, 17.1348724898395, 18.870622089694166, 17.590089681238485, 17.29017659317384, 13.730212984301694, 16.70588231586044, 15.788396286569535, 12.079108214563899, 14.976503416066116, 14.49877809517263, 14.978661367769956, 14.635290389457586, 17.690676697349815, 18.351144196128786, 12.755052067344037, 13.55832923880083, 15.732433170146335, 17.338605727695505, 19.450300161133523, 8.72371943690701, 19.02159902169455, 14.455385645500124, 17.153756460693124, 18.404653602730683, 16.719862743775067, 19.381248312142127, 15.717373427569491, 20.683484966934568, 17.194014650389807, 18.731102303373635, 17.287602157962873, 16.20462612900125, 18.475264795853207, 15.548808293812092, 19.097602973991506, 15.85151183669864, 14.673261593054514, 15.211900783901207, 17.72753356339242, 18.451859485810118, 15.86963429165982, 15.89495209964411, 19.710365810533684, 17.84617798794684, 15.44461697105292, 16.027295286631823, 15.07772217562172, 16.970381052856563, 17.833402421822164, 13.556090654608232, 14.151982794585487, 15.921159418146592, 14.805757450469365, 15.576813397023887, 13.25830760679564, 17.547083486287384, 18.704510776816715, 18.52395470126058, 18.261759734171928, 17.230320960573977, 15.301122286649317, 17.260019600354163, 18.450092564518847, 17.224217803211225, 12.337697221334468, 18.498078088042664, 4.605170185988092, 17.70906058372291, 18.547255957112867, 14.419781168597769, 11.623849475649008, 15.332222029863171, 16.796188278257105, 8.98281222234415, 19.193629316917814, 13.122363377404328, 19.740064992600452, 18.32095251492548, 18.10974433309784, 19.47691981821942, 14.914122846632385, 13.82344102849015, 16.893103931068584, 19.14219401089663, 16.896811994016357, 15.776164762971245, 17.268960135787356, 15.122824480336494, 15.893191676007305, 17.52763430807157, 15.177378764740642, 13.998163726435665, 18.845494932075244, 11.17560486859362, 18.282054669734652, 14.338123833576011, 16.8358302678461, 11.901868159992343, 8.566935283311052, 19.052661429033858, 19.50970728243303, 19.391907291969552, 15.91678012541571, 17.790827560431037, 19.782922926610162, 17.76058530674994, 14.035562134045966, 14.060338102949464, 17.096008154388645, 17.97178788992567, 14.95269751781215, 18.56006608498736, 13.029842304422916, 15.517217485089766, 17.587241770671355, 17.550688765736478, 17.318304349919917, 15.087018171320537, 16.868122236994555, 15.4057656509816, 20.839934470554095, 18.70038974578296, 18.968880236118647, 20.478787533456888, 18.110434893333398, 17.228413560739067, 11.306897109511642, 17.372505719382403, 11.626218435353747, 18.53029528141515, 16.94650457621978, 18.007172768525223, 15.939324065553015, 18.429182035355772, 15.775605342011543, 17.195117058356782, 18.099477668096878, 14.690979295318174, 16.694709015262312, 16.382208846692002, 17.729531566055094, 19.25662348255808, 15.476030672507518, 19.90524939891056, 17.466298894691338, 19.623653047944718, 18.19336164967954, 17.255271898702418, 16.988347763688648, 16.661470552489625, 20.31205251647548, 12.823062062240387, 15.612228380881056, 16.300417207752275, 10.463731714431846, 17.886603091539836, 18.894441020653858, 17.90484257836283, 17.138183753415362, 18.858533529517782, 19.52262082271315, 17.164034816519948, 18.679504123803643, 18.282572596803703, 10.870547441461856, 18.376453029462702, 16.222455666282563, 18.348022251564338, 16.096861799949927, 15.621585076215217, 16.046020426756478, 13.111314563439443, 16.712762040634665, 6.508769136971682, 17.06951450196664, 16.892822818510687, 20.603002396753528, 18.376884277991437, 18.76565713184239, 13.450858164333305, 18.812278003077065, 19.136538163742262, 19.550445001990248, 16.824939206485624, 13.442285121373619, 17.4264284706085, 18.952888629088385, 16.56861009378015, 18.85263286026378, 8.00736706798333, 17.990615831572004, 14.44933970025562, 15.299232854859492, 17.70354633645908, 16.738623857948042, 19.22565820205261, 17.617870092174446, 13.400808419543612, 17.939445815123225, 16.959780674520967, 15.662654906285908, 15.201804919084164, 18.546203554571143, 18.764604995212277, 15.226497531674536, 15.663504162166285, 13.122363377404328, 18.11481064084145, 17.14990349321813, 14.114123668337614, 17.358942648280465, 16.768234803533655, 16.11809565095832, 19.58436268768145, 13.271691590666357, 3.4657359027997265, 11.557009333789498, 19.60166114828201, 17.506488833011844, 17.081251533446892, 17.84636282489696, 16.48405192974506, 18.481813359071293, 20.36443334861033, 13.450943121512777, 17.28607997922007, 16.1573163641116, 19.25970843197216, 17.847269890133088, 17.42044563611985, 14.077874822431765, 13.168313321488398, 18.373635225503147, 14.464792576596855, 17.599700191882537, 20.124279657956528, 15.740778982065127, 13.283827250525812, 15.008106085834244, 19.408088190627407, 18.22790476967492, 15.642038858228075, 19.865736457963138, 15.751091544418733, 17.08317730890638, 17.53837688428066, 16.45801707514424, 18.177110391335905, 16.524538547542157, 16.45534130270265, 19.62042305334018, 11.920235536752422, 19.738568028045652, 19.173913732959598, 16.766820613965518, 18.04568700215499, 17.75024667660259, 17.85295960119831, 10.797757599041015, 19.70891419622933, 18.358228216283475, 14.896768459947916, 18.444313106871768, 17.50738911028387, 1.791759469228055, 9.256651274839433, 14.866688762570554, 15.97651065783551, 11.505931061057268, 13.313912231448414, 17.55210810178112, 18.89466944100721, 16.802704332061957, 16.000167942337306, 17.155396844741265, 17.71474455149391, 15.19183715557905, 16.0027767144146, 18.146152591450686, 15.60176121484325, 15.054766429234066, 17.07231992177851, 17.740881087541464, 16.300417207752275, 19.074727041779077, 14.431515861038184, 16.314769551684996, 19.12177778050173, 14.22097566607244, 18.322124195390558, 18.12139548076012, 15.594361063899415, 15.11345364483299, 17.216799868734153, 17.332938570926466, 17.607600718551335, 15.830413578506539, 14.931307671386485, 18.277486334396077, 16.24037106962355, 20.744149808790546, 17.809100536475277, 19.181975332028635, 16.46875252257149, 15.386524639649954, 12.144867230085767, 18.29351517214189, 17.362418818604, 16.357622500123036, 17.57187483703438, 17.738436944898996, 18.28141867661886, 20.187718825592718, 17.498573126756646, 14.237482672693142, 17.278480075345893, 16.977587814828482, 19.337771155997086, 15.129747804023104, 14.921026958309122, 11.907841796525647, 15.763036115829626, 17.69559001770923, 16.305893187172025, 16.64872390202049, 20.751436189329638, 16.723348392016405, 16.886714477018124, 14.880212674229888, 16.458597472173157, 15.795412802215129, 19.538689466320093, 11.745226954069203, 14.994717402009963, 13.815510557964274, 12.142685461349771, 4.574710978503383, 14.603967918328545, 18.023077534965914, 10.72394997039761, 17.29847589666259, 16.02480884275635, 17.665658159674333, 14.156418655875056, 16.33064196942338, 17.540742457026436, 15.17586358341355, 18.048397304466242, 10.707616917521953, 17.510943987781904, 11.968880878489905, 14.706701304282957, 18.143366631306257, 13.641157170819497, 16.634336366613702, 15.795294734506959, 19.339567447374748, 18.481493310459033, 13.195613839143922, 18.903106893196657, 16.46641549808121, 12.307251932019778, 18.991014081790198, 10.16199824768763, 15.770079681092335, 15.181411887533688, 18.25145259317372, 18.689075993108208, 16.000228699281084, 18.101851942503746, 16.28349279442151, 17.87450375942453, 20.232078480565022, 19.607925606149436, 16.810502357434984, 18.420680743952367, 17.173566938844026, 18.3155901029862, 19.34666137673115, 17.840635812350364, 17.956771943446345, 17.303173759493497, 16.70514765717593, 18.686752496415604, 17.325979865735107, 17.444237989506657, 15.08371371094752, 16.92565106782891, 18.033821341232706, 7.741967899820685, 19.05429877681993, 18.02188331736801, 17.05160886087506, 15.634693703778039, 18.402108981431244, 18.42144387269554, 18.613071246676654, 18.146243898250606, 15.866832549931576, 20.359009915589915, 18.871594292855033, 14.77868487573728, 16.00156183470237, 15.732433170146335, 16.213405830762646, 17.80847585401217, 12.844412469876426, 19.00998915596536, 17.1296965626368, 17.040251350238076, 17.06411154016828, 17.232299753092274, 18.425921308176825, 13.122363377404328, 18.493905573393192, 17.835623748111505, 18.086953043643476, 17.816902968048304, 18.48244966140099, 18.818576174202953, 19.6621798642511, 10.010995760251413, 16.468956656664286, 17.234417299134122, 14.646427698218584, 14.437593974218172, 15.483217378522351, 13.894281996378897, 16.953484956565642, 13.781827603084228, 14.34754605368716, 15.201804919084164, 17.866764356036878, 15.27412558066379, 16.654147579022265, 18.084998796970016, 18.050423910884906, 16.422338926491808, 17.52672846556534, 17.325751175737178, 18.15485148331321, 16.11809565095832, 17.126053571358298, 16.213405830762646, 12.169491645267174, 17.12641441865384, 15.745886095913656, 17.363461787360123, 16.17366355616529, 16.593935404353054, 15.503898088559497, 18.398827174711855, 16.66577655783713, 15.73749753048022, 18.923473268601306, 14.946912669455374, 16.73673951968965, 17.859596430761364, 12.283801910025678, 18.045212740075645, 10.811766273800105, 18.525012641764196, 14.203360763959438, 18.359457372296017, 17.375162487370044, 11.724069306888879, 13.311235101602815, 15.087133692972422, 17.30354703788804, 11.537335110699985, 17.45463067215965, 12.053853432552662, 20.02774565905408, 18.575117097256783, 19.443202787831133, 13.093494657001532, 17.688651581663173, 18.395896639676756, 16.27145044272211, 9.727644961839882, 20.596198772884325, 19.041546034056076, 20.26351679642114, 18.90533056714829, 17.83181362957487, 17.382923431743492, 13.365731427798616, 17.72006129540369, 19.0573401674965, 14.404967493853528, 17.194980362803133, 14.985378755517479, 16.947603256155396, 17.007316230132204, 17.54355856040939, 12.673839399835526, 13.634386683662223, 2.5649493574615367, 16.93081799368953, 17.113338588432395, 14.05326287966442, 18.84267740318954, 18.72927096473963, 11.619984537263637, 17.561084450242536, 21.063590425152103, 16.736767799698693, 15.016778708008083, 18.574884953775438, 15.717618084361195, 13.19913180739953, 15.838874748304292, 16.666268445430962, 19.06422040840177, 17.848381887359782, 17.979850149345538, 9.523251498473739, 18.16895210418344, 18.442880202434768, 17.36992781496099, 11.525209703803448, 18.872442465470275, 14.106143771512311, 10.943304794693733, 18.798407489545973, 15.348077145237648, 18.167442158524995, 19.19551199825342, 17.58892953237908, 15.21892994519584, 15.919644712234481, 13.48696204556011, 18.718917081189133, 18.330254980938925, 10.367693155666892, 20.59166227856901, 17.31451645054645, 14.637735415564785, 18.274148809306737, 18.065952033443516, 16.09499671279399, 8.991437814919227, 12.137269041845228, 16.724595024792592, 14.252084722359667, 18.271894047210935, 14.87721263554561, 15.698828024842204, 16.047353500374424, 14.944303461980573, 13.122363377404328, 16.893871853334655, 17.544506069483482, 13.655736094266725, 17.649882978975956, 18.420680743952367, 15.818640007894771, 16.140259801387984, 14.52510425016316, 13.408218782514702, 16.773816212016076, 18.630813038796706, 17.91530689886462, 19.40174273737794, 16.879323260189185, 15.171086141831664, 17.7479117309159, 17.051948816493056, 19.338124902374293, 13.932800138558399, 18.84933472647307, 16.66605774041902, 18.32158303149328, 15.70474150606989, 10.247077256926206, 19.37886934834243, 14.301539468721632, 18.025369109428823, 16.826131444012017, 16.325387098970545, 15.68484245546732, 16.033715608968226, 15.569553622000253, 10.78894787401768, 19.951038974354844, 18.1688533284017, 18.448546813358845, 14.053576612823543, 15.947799024023325, 19.940988311605814, 13.815510557964274, 11.873748792455272, 17.819879973749607, 18.98639317240679, 16.96686040635734, 3.2188758248682006, 10.373491181781864, 16.670837927487554, 17.76623546891137, 16.759934694915305, 16.874217630679652, 19.140307899793502, 18.92435091642813, 15.711536494597558, 18.040436411370994, 12.712335877396221, 12.216022976383341, 17.416728551102494, 16.89512431549897, 17.503058626177204, 18.23532526948101, 17.15229989886481, 15.57236521379718, 18.764270448342444, 12.295117786352753, 18.079174232608135, 13.377293926299693, 16.64824743558721, 18.99758388087496, 19.68550796863021, 13.095890030246862, 18.84181304479744, 9.991177865663117, 16.756198880625096, 16.61833018663006, 13.286697458517205, 19.243978099758614, 17.70819219929801, 15.896117545248474, 17.70534834116984, 14.639247308227821, 18.17222689744616, 14.635580215295429, 17.21399576500366, 19.67826711255654, 16.175335917003842, 17.85929604742022, 14.346138809026444, 16.38045991542581, 8.360539381370861, 14.77409420202868, 16.342901739491325, 16.60110551869471, 18.77708159433089, 17.53147159806618, 19.88386928286197, 15.650310838317418, 17.745519286214893, 17.2449005663566, 17.41977487091188, 16.811242831518264, 18.12776593793243, 18.160771750837775, 18.440483371248543, 17.695385507926034, 19.81486921940004, 11.695247021764184, 18.440483371248543, 15.749473768557058, 17.180087661077042, 18.30930641484656, 17.442514608360124, 13.842889315731822, 12.482320849731162, 17.0416769022937, 18.55964958930051, 16.74427977356526, 18.00005036218328, 16.766527904777323, 16.410462159287775, 17.201130539472913, 16.296198655493196, 17.38310089040413, 16.939233238697405, 13.967344556356172, 18.649633453387086, 17.86434983239814, 13.286595638311237, 19.906389962784548, 18.291028013867457, 15.84365880525656, 14.693235082449513, 18.29004850471843, 19.83412017135281, 16.54852995129136, 15.232030489277808, 16.161424069771268, 17.873900704205216, 16.551642224628694, 17.20665760377293, 13.867901849332455, 18.165491779340297, 11.440354772135393, 12.838930929161776, 13.582102001292068, 18.574631512370097, 16.50033498347785, 16.62526036175237, 13.663047952537365, 11.514943427513542, 15.795247365414646, 18.326790591431884, 14.009332398928436, 19.20648574902106, 16.504382492816376, 14.283441415502201, 18.309265949187875, 18.962792140024224, 18.22329210664019]}, {\"name\": \"hi\", \"orientation\": \"h\", \"type\": \"box\", \"x\": [16.588099280204055, 17.24949776244942, 15.226497531674536, 15.60727002719233, 15.424948470398375, 16.056220247240233, 19.552082855443466, 17.191444694256138, 15.590462908875947, 0.6931471805599453, 16.713078582731033, 14.9070962175947, 16.70588231586044, 16.11809565095832, 15.258929540686495, 16.91376404015613, 18.146243898250606, 17.034386382832476, 17.942644943009366, 13.829340482166472, 14.846869176143914, 16.38045991542581, 17.665658159674333, 14.21226584546817, 5.318119993844216, 16.39574564496569, 15.590462908875947, 18.326370064481125, 2.0794415416798357, 14.22097566607244, 16.38045991542581, 16.11809565095832, 15.032313206728311, 16.749367427800177, 16.523560759066484, 16.64872390202049, 17.529082624668582, 16.91451703233401, 17.840862248699423, 15.687312734865866, 17.035745458870107, 15.341566861459324]}, {\"name\": \"ko\", \"orientation\": \"h\", \"type\": \"box\", \"x\": [15.182614454378227, 16.52096198517691, 18.278643703503146, 14.500224276643399, 14.485868525818425, 17.329435640807215, 7.757906208351747, 16.240459202239478, 2.3978952727983707, 15.8087673808784, 17.7073308560749, 16.985335120579904, 11.590654729465733, 14.048166324370976, 13.998354478302634, 15.163072926487535, 15.388284486026784, 15.102904050465657, 16.220963472433798, 16.522226869831663]}, {\"name\": \"sr\", \"orientation\": \"h\", \"type\": \"box\", \"x\": [5.288267030694535]}, {\"name\": \"fr\", \"orientation\": \"h\", \"type\": \"box\", \"x\": [19.87107807277645, 17.399029496420383, 13.870886606556798, 8.119100837637486, 17.569709478198853, 16.974636378426702, 9.413281215972873, 17.064412143992897, 14.312679350282652, 11.747705054247557, 10.77369246021493, 13.51678910853047, 9.283497892593909, 15.86963429165982, 12.273731294003989, 14.50863523827109, 16.80006291853873, 10.091376913633546, 17.99751807374277, 10.862147880776792, 14.215978534515415, 15.925853568067032, 13.60174167679289, 18.019849637255362, 9.787403073515327, 16.07561926785831, 15.741342335995315, 10.596634733096073, 10.704726515446913, 6.0014148779611505, 16.29028656564401, 13.734272302574954, 17.709369592764748, 14.479446720798629, 16.82978000159836, 10.679849328089071, 16.982136884058768, 11.050651881786404, 14.42056286567398, 16.861284117470245, 17.198408182454997, 13.039472952162638, 17.395022953156513, 13.032795280243919, 15.424948470398375, 8.912473274466036, 17.344807942253745, 10.17137499765973, 16.45844329704164, 15.53871116865099, 14.08186301286344, 14.64571951699658, 17.403021517689922, 8.149601735736155, 8.910045761473558, 12.03279011338689, 12.11645970559018, 15.175922592815049, 17.789416423882706, 11.835008964139341, 12.58546410452254, 15.88237331743725, 8.979668554241181, 12.481444254204865, 1.0986122886681098, 12.42276342240367, 16.264481778804917, 11.57588148461256, 18.705107523683473, 14.518117354937342, 11.937938265920762, 10.068917241659864, 17.92188520105085, 12.875590335685041, 14.510566914886663, 16.11809565095832, 15.728767784349152, 11.660137844650615]}, {\"name\": \"it\", \"orientation\": \"h\", \"type\": \"box\", \"x\": [15.27412558066379, 12.279968809539849, 16.186056496756578, 14.206905138855657, 13.733810143720781, 16.375509219389816, 16.5582891532581, 19.250977762659545, 15.45488312432892, 17.494300483537494, 9.757131416174783, 15.574975803761891, 14.037652007342016, 14.508657738524219, 15.349177608717607, 10.425253116340453, 14.40656078055291, 9.54559758504085, 16.06680235657077, 15.92210692240807, 16.786745199917863, 16.299616970981557, 16.004658159732166, 9.147613542067878]}, {\"name\": \"nl\", \"orientation\": \"h\", \"type\": \"box\", \"x\": [14.22097566607244, 13.781140620751142, 12.224801166769156, 14.94138159477307, 15.515713427218033, 13.180722847465184]}, {\"name\": \"zh\", \"orientation\": \"h\", \"type\": \"box\", \"x\": [11.945486798740093, 5.739792912179234, 15.816990558174398, 16.18130497660683, 12.341407411099791, 18.372660340441165, 17.97559192309749, 18.82614585206053, 18.197537192638155, 17.76141862493214, 18.611790446623086, 15.751869380839182, 18.096165696363997, 19.769493403162034, 12.388781627265393, 4.3694478524670215, 19.444210226496118, 16.409313540036514, 11.675290882685672]}, {\"name\": \"es\", \"orientation\": \"h\", \"type\": \"box\", \"x\": [16.63428916180525, 16.951004773893423, 14.29927161828731, 14.515100439682197, 14.29304823486409, 13.743315063550911, 12.043553716032399, 13.637579349471613, 13.22347126343721, 12.154779351142624, 12.443225605217448, 13.653296287935444, 16.310257053954384, 17.511042385892043, 13.741208259238059, 13.31577982431498, 15.289700634098299, 15.030593614234144, 16.731641026632808, 13.430177434672853, 14.98447754596627, 17.231530868518067, 16.8912302145845, 16.775640679468708, 15.424948470398375, 10.976952958782281, 15.445095352157676, 14.180153671552183, 11.03735436608764, 14.244404390862115, 17.04028041882585, 14.781825359100434, 16.85566475451347, 13.160052148502587, 18.033138497487435, 13.752678313641463, 14.103822182206734, 10.873527560404474, 14.685601108765296, 13.379659435569003, 16.83016247105625, 14.528911244551463, 15.60727002719233]}, {\"name\": \"cs\", \"orientation\": \"h\", \"type\": \"box\", \"x\": [9.763823105408154]}, {\"name\": \"ta\", \"orientation\": \"h\", \"type\": \"box\", \"x\": [13.122363377404328, 1.0986122886681098, 16.08763644347361, 15.60727002719233, 15.955576721460545, 16.759949537130716, 15.444751097694555, 16.454567887579532, 16.64872390202049, 14.28551418721001, 15.404745763080856, 16.70588231586044, 17.942644943009366, 15.60727002719233, 16.300417207752275, 17.7473361906886]}, {\"name\": \"cn\", \"orientation\": \"h\", \"type\": \"box\", \"x\": [17.29342348766863, 16.75015010015565, 15.579842987795576, 15.312778153923068, 12.179317908221353, 17.571505522425007, 16.90157907085542, 18.300304216852552, 17.672051952344336, 15.775041802971552, 16.901476419937637, 11.768458759086089, 14.846007804026609, 18.870767039698418, 8.970177815492379, 15.19097473377256, 17.229942508424916, 12.889177065965498, 18.429783636623288, 15.97716852001454]}, {\"name\": \"ru\", \"orientation\": \"h\", \"type\": \"box\", \"x\": [9.57171425857138, 11.198214720130528, 15.927278064901813, 10.318638930233714, 15.58602442931467, 15.473591004623424, 16.104903212148326, 15.687312734865866, 15.05921058176289, 12.366267877332406, 16.723230954195053, 17.456666076784693, 14.616666494496185, 12.369177403396996, 10.341742483467284, 15.338993117437223, 10.71663752549077, 15.27753557397585, 11.296645803177345, 17.834323722622695, 17.281246460764002, 14.363631966473962, 16.137737186848604, 12.400816722322686, 1.0986122886681098, 13.454082909223919, 16.760506487268348, 15.397486827579955, 12.657769091246102, 16.09955808713181, 12.67730988856144, 12.883639074123096, 11.704611372383606, 12.737618122870504, 12.911111340932859, 12.479909311159902, 15.181533586963038, 16.08902722846097, 12.095141084822892, 15.624111411588288, 10.83281296268074, 13.920380353238546, 14.645963187928695, 17.475545917122556, 11.721418215511239, 16.637507289182356, 14.777349251363587]}, {\"name\": \"tr\", \"orientation\": \"h\", \"type\": \"box\", \"x\": [18.82295071972398, 11.84028487707477, 15.488861796142027]}, {\"name\": \"ja\", \"orientation\": \"h\", \"type\": \"box\", \"x\": [16.680857399452158, 18.23508773779857, 11.29933612646083, 14.643063623668674, 16.685467624624668, 17.140301944423804, 16.10131087137548, 15.009871112281273, 18.063039433231626, 18.377661984142456, 10.919442607523228, 11.502875129116727, 17.937794488875618, 17.148556249961114, 14.240919459874746, 18.159315979817958, 17.60101153624002, 17.740905321610683, 18.04104820818958, 16.770660027139765, 16.81019032783053, 18.712971704145342, 17.224385061634344, 17.313639803789584, 16.65676804917546, 15.226497531674536, 14.195308395323748, 18.03501826314038, 17.533027054678378, 16.811242831518264, 15.808711380167136, 2.70805020110221, 15.977732863111667, 10.535849160827809, 14.8180736604968, 17.001294103607492, 17.600563455526867]}, {\"name\": \"fa\", \"orientation\": \"h\", \"type\": \"box\", \"x\": [11.657934486880203, 13.710150042306449, 10.534706136473906, 14.6918401746552, 11.567943812723641]}, {\"name\": \"sv\", \"orientation\": \"h\", \"type\": \"box\", \"x\": [15.427018725939767, 15.419199979438726, 18.020132324098938, 16.19374110486672, 15.384143142405899, 2.0794415416798357, 12.613712054798107, 12.10398454744639]}, {\"name\": \"de\", \"orientation\": \"h\", \"type\": \"box\", \"x\": [18.339263617197496, 15.233606350383337, 18.064005800013632, 17.701600181365915, 18.234687542914674, 15.022288524142182, 14.144938038458783, 13.605351097333346, 10.602591953570201, 16.694965443056052, 17.05472815887949, 15.141050960779127, 11.087283159423247, 13.585407847778256, 14.978661367769956, 16.498231053575523, 4.605170185988092, 11.900328430259984]}, {\"name\": \"te\", \"orientation\": \"h\", \"type\": \"box\", \"x\": [16.454567887579532, 14.78661139299835]}, {\"name\": \"pt\", \"orientation\": \"h\", \"type\": \"box\", \"x\": [12.646660337328704, 12.563502304599782, 15.537689125706764, 14.54344846143663, 12.634850552935413, 17.85333593141031]}, {\"name\": \"mr\", \"orientation\": \"h\", \"type\": \"box\", \"x\": [15.29711509888849]}, {\"name\": \"da\", \"orientation\": \"h\", \"type\": \"box\", \"x\": [16.119787618773152, 17.554845455566703, 13.922818476202215, 15.502892916721965, 12.100395413056205]}, {\"name\": \"fi\", \"orientation\": \"h\", \"type\": \"box\", \"x\": [14.695798497619505, 13.184904279629153]}, {\"name\": \"el\", \"orientation\": \"h\", \"type\": \"box\", \"x\": [15.89495209964411]}, {\"name\": \"ur\", \"orientation\": \"h\", \"type\": \"box\", \"x\": [13.377214876202816]}, {\"name\": \"he\", \"orientation\": \"h\", \"type\": \"box\", \"x\": [16.224781697711506]}, {\"name\": \"no\", \"orientation\": \"h\", \"type\": \"box\", \"x\": [14.500959180526555, 10.531375952634018]}, {\"name\": \"ar\", \"orientation\": \"h\", \"type\": \"box\", \"x\": [14.11394486737933]}, {\"name\": \"nb\", \"orientation\": \"h\", \"type\": \"box\", \"x\": [15.24094822539546]}, {\"name\": \"ro\", \"orientation\": \"h\", \"type\": \"box\", \"x\": [9.9362451167743, 11.56263901221407, 13.985913873839602, 10.78514543091584]}, {\"name\": \"vi\", \"orientation\": \"h\", \"type\": \"box\", \"x\": [13.367659733359671]}, {\"name\": \"pl\", \"orientation\": \"h\", \"type\": \"box\", \"x\": [16.5432558642425, 16.5049427138758]}, {\"name\": \"hu\", \"orientation\": \"h\", \"type\": \"box\", \"x\": [10.144903148637786, 11.105844051343766, 12.550931048328069]}, {\"name\": \"ml\", \"orientation\": \"h\", \"type\": \"box\", \"x\": [11.77528972943772, 14.73180128983843]}, {\"name\": \"bn\", \"orientation\": \"h\", \"type\": \"box\", \"x\": [13.192568314043449]}, {\"name\": \"id\", \"orientation\": \"h\", \"type\": \"box\", \"x\": [14.781432623934744]}],\n",
              "                        {\"template\": {\"data\": {\"bar\": [{\"error_x\": {\"color\": \"#2a3f5f\"}, \"error_y\": {\"color\": \"#2a3f5f\"}, \"marker\": {\"line\": {\"color\": \"#E5ECF6\", \"width\": 0.5}}, \"type\": \"bar\"}], \"barpolar\": [{\"marker\": {\"line\": {\"color\": \"#E5ECF6\", \"width\": 0.5}}, \"type\": \"barpolar\"}], \"carpet\": [{\"aaxis\": {\"endlinecolor\": \"#2a3f5f\", \"gridcolor\": \"white\", \"linecolor\": \"white\", \"minorgridcolor\": \"white\", \"startlinecolor\": \"#2a3f5f\"}, \"baxis\": {\"endlinecolor\": \"#2a3f5f\", \"gridcolor\": \"white\", \"linecolor\": \"white\", \"minorgridcolor\": \"white\", \"startlinecolor\": \"#2a3f5f\"}, \"type\": \"carpet\"}], \"choropleth\": [{\"colorbar\": {\"outlinewidth\": 0, \"ticks\": \"\"}, \"type\": \"choropleth\"}], \"contour\": [{\"colorbar\": {\"outlinewidth\": 0, \"ticks\": \"\"}, \"colorscale\": [[0.0, \"#0d0887\"], [0.1111111111111111, \"#46039f\"], [0.2222222222222222, \"#7201a8\"], [0.3333333333333333, \"#9c179e\"], [0.4444444444444444, \"#bd3786\"], [0.5555555555555556, \"#d8576b\"], [0.6666666666666666, \"#ed7953\"], [0.7777777777777778, \"#fb9f3a\"], [0.8888888888888888, \"#fdca26\"], [1.0, \"#f0f921\"]], \"type\": \"contour\"}], \"contourcarpet\": [{\"colorbar\": {\"outlinewidth\": 0, \"ticks\": \"\"}, \"type\": \"contourcarpet\"}], \"heatmap\": [{\"colorbar\": {\"outlinewidth\": 0, \"ticks\": \"\"}, \"colorscale\": [[0.0, \"#0d0887\"], [0.1111111111111111, \"#46039f\"], [0.2222222222222222, \"#7201a8\"], [0.3333333333333333, \"#9c179e\"], [0.4444444444444444, \"#bd3786\"], [0.5555555555555556, \"#d8576b\"], [0.6666666666666666, \"#ed7953\"], [0.7777777777777778, \"#fb9f3a\"], [0.8888888888888888, \"#fdca26\"], [1.0, \"#f0f921\"]], \"type\": \"heatmap\"}], \"heatmapgl\": [{\"colorbar\": {\"outlinewidth\": 0, \"ticks\": \"\"}, \"colorscale\": [[0.0, \"#0d0887\"], [0.1111111111111111, \"#46039f\"], [0.2222222222222222, \"#7201a8\"], [0.3333333333333333, \"#9c179e\"], [0.4444444444444444, \"#bd3786\"], [0.5555555555555556, \"#d8576b\"], [0.6666666666666666, \"#ed7953\"], [0.7777777777777778, \"#fb9f3a\"], [0.8888888888888888, \"#fdca26\"], [1.0, \"#f0f921\"]], \"type\": \"heatmapgl\"}], \"histogram\": [{\"marker\": {\"colorbar\": {\"outlinewidth\": 0, \"ticks\": \"\"}}, \"type\": \"histogram\"}], \"histogram2d\": [{\"colorbar\": {\"outlinewidth\": 0, \"ticks\": \"\"}, \"colorscale\": [[0.0, \"#0d0887\"], [0.1111111111111111, \"#46039f\"], [0.2222222222222222, \"#7201a8\"], [0.3333333333333333, \"#9c179e\"], [0.4444444444444444, \"#bd3786\"], [0.5555555555555556, \"#d8576b\"], [0.6666666666666666, \"#ed7953\"], [0.7777777777777778, \"#fb9f3a\"], [0.8888888888888888, \"#fdca26\"], [1.0, \"#f0f921\"]], \"type\": \"histogram2d\"}], \"histogram2dcontour\": [{\"colorbar\": {\"outlinewidth\": 0, \"ticks\": \"\"}, \"colorscale\": [[0.0, \"#0d0887\"], [0.1111111111111111, \"#46039f\"], [0.2222222222222222, \"#7201a8\"], [0.3333333333333333, \"#9c179e\"], [0.4444444444444444, \"#bd3786\"], [0.5555555555555556, \"#d8576b\"], [0.6666666666666666, \"#ed7953\"], [0.7777777777777778, \"#fb9f3a\"], [0.8888888888888888, \"#fdca26\"], [1.0, \"#f0f921\"]], \"type\": \"histogram2dcontour\"}], \"mesh3d\": [{\"colorbar\": {\"outlinewidth\": 0, \"ticks\": \"\"}, \"type\": \"mesh3d\"}], \"parcoords\": [{\"line\": {\"colorbar\": {\"outlinewidth\": 0, \"ticks\": \"\"}}, \"type\": \"parcoords\"}], \"pie\": [{\"automargin\": true, \"type\": \"pie\"}], \"scatter\": [{\"marker\": {\"colorbar\": {\"outlinewidth\": 0, \"ticks\": \"\"}}, \"type\": \"scatter\"}], \"scatter3d\": [{\"line\": {\"colorbar\": {\"outlinewidth\": 0, \"ticks\": \"\"}}, \"marker\": {\"colorbar\": {\"outlinewidth\": 0, \"ticks\": \"\"}}, \"type\": \"scatter3d\"}], \"scattercarpet\": [{\"marker\": {\"colorbar\": {\"outlinewidth\": 0, \"ticks\": \"\"}}, \"type\": \"scattercarpet\"}], \"scattergeo\": [{\"marker\": {\"colorbar\": {\"outlinewidth\": 0, \"ticks\": \"\"}}, \"type\": \"scattergeo\"}], \"scattergl\": [{\"marker\": {\"colorbar\": {\"outlinewidth\": 0, \"ticks\": \"\"}}, \"type\": \"scattergl\"}], \"scattermapbox\": [{\"marker\": {\"colorbar\": {\"outlinewidth\": 0, \"ticks\": \"\"}}, \"type\": \"scattermapbox\"}], \"scatterpolar\": [{\"marker\": {\"colorbar\": {\"outlinewidth\": 0, \"ticks\": \"\"}}, \"type\": \"scatterpolar\"}], \"scatterpolargl\": [{\"marker\": {\"colorbar\": {\"outlinewidth\": 0, \"ticks\": \"\"}}, \"type\": \"scatterpolargl\"}], \"scatterternary\": [{\"marker\": {\"colorbar\": {\"outlinewidth\": 0, \"ticks\": \"\"}}, \"type\": \"scatterternary\"}], \"surface\": [{\"colorbar\": {\"outlinewidth\": 0, \"ticks\": \"\"}, \"colorscale\": [[0.0, \"#0d0887\"], [0.1111111111111111, \"#46039f\"], [0.2222222222222222, \"#7201a8\"], [0.3333333333333333, \"#9c179e\"], [0.4444444444444444, \"#bd3786\"], [0.5555555555555556, \"#d8576b\"], [0.6666666666666666, \"#ed7953\"], [0.7777777777777778, \"#fb9f3a\"], [0.8888888888888888, \"#fdca26\"], [1.0, \"#f0f921\"]], \"type\": \"surface\"}], \"table\": [{\"cells\": {\"fill\": {\"color\": \"#EBF0F8\"}, \"line\": {\"color\": \"white\"}}, \"header\": {\"fill\": {\"color\": \"#C8D4E3\"}, \"line\": {\"color\": \"white\"}}, \"type\": \"table\"}]}, \"layout\": {\"annotationdefaults\": {\"arrowcolor\": \"#2a3f5f\", \"arrowhead\": 0, \"arrowwidth\": 1}, \"coloraxis\": {\"colorbar\": {\"outlinewidth\": 0, \"ticks\": \"\"}}, \"colorscale\": {\"diverging\": [[0, \"#8e0152\"], [0.1, \"#c51b7d\"], [0.2, \"#de77ae\"], [0.3, \"#f1b6da\"], [0.4, \"#fde0ef\"], [0.5, \"#f7f7f7\"], [0.6, \"#e6f5d0\"], [0.7, \"#b8e186\"], [0.8, \"#7fbc41\"], [0.9, \"#4d9221\"], [1, \"#276419\"]], \"sequential\": [[0.0, \"#0d0887\"], [0.1111111111111111, \"#46039f\"], [0.2222222222222222, \"#7201a8\"], [0.3333333333333333, \"#9c179e\"], [0.4444444444444444, \"#bd3786\"], [0.5555555555555556, \"#d8576b\"], [0.6666666666666666, \"#ed7953\"], [0.7777777777777778, \"#fb9f3a\"], [0.8888888888888888, \"#fdca26\"], [1.0, \"#f0f921\"]], \"sequentialminus\": [[0.0, \"#0d0887\"], [0.1111111111111111, \"#46039f\"], [0.2222222222222222, \"#7201a8\"], [0.3333333333333333, \"#9c179e\"], [0.4444444444444444, \"#bd3786\"], [0.5555555555555556, \"#d8576b\"], [0.6666666666666666, \"#ed7953\"], [0.7777777777777778, \"#fb9f3a\"], [0.8888888888888888, \"#fdca26\"], [1.0, \"#f0f921\"]]}, \"colorway\": [\"#636efa\", \"#EF553B\", \"#00cc96\", \"#ab63fa\", \"#FFA15A\", \"#19d3f3\", \"#FF6692\", \"#B6E880\", \"#FF97FF\", \"#FECB52\"], \"font\": {\"color\": \"#2a3f5f\"}, \"geo\": {\"bgcolor\": \"white\", \"lakecolor\": \"white\", \"landcolor\": \"#E5ECF6\", \"showlakes\": true, \"showland\": true, \"subunitcolor\": \"white\"}, \"hoverlabel\": {\"align\": \"left\"}, \"hovermode\": \"closest\", \"mapbox\": {\"style\": \"light\"}, \"paper_bgcolor\": \"white\", \"plot_bgcolor\": \"#E5ECF6\", \"polar\": {\"angularaxis\": {\"gridcolor\": \"white\", \"linecolor\": \"white\", \"ticks\": \"\"}, \"bgcolor\": \"#E5ECF6\", \"radialaxis\": {\"gridcolor\": \"white\", \"linecolor\": \"white\", \"ticks\": \"\"}}, \"scene\": {\"xaxis\": {\"backgroundcolor\": \"#E5ECF6\", \"gridcolor\": \"white\", \"gridwidth\": 2, \"linecolor\": \"white\", \"showbackground\": true, \"ticks\": \"\", \"zerolinecolor\": \"white\"}, \"yaxis\": {\"backgroundcolor\": \"#E5ECF6\", \"gridcolor\": \"white\", \"gridwidth\": 2, \"linecolor\": \"white\", \"showbackground\": true, \"ticks\": \"\", \"zerolinecolor\": \"white\"}, \"zaxis\": {\"backgroundcolor\": \"#E5ECF6\", \"gridcolor\": \"white\", \"gridwidth\": 2, \"linecolor\": \"white\", \"showbackground\": true, \"ticks\": \"\", \"zerolinecolor\": \"white\"}}, \"shapedefaults\": {\"line\": {\"color\": \"#2a3f5f\"}}, \"ternary\": {\"aaxis\": {\"gridcolor\": \"white\", \"linecolor\": \"white\", \"ticks\": \"\"}, \"baxis\": {\"gridcolor\": \"white\", \"linecolor\": \"white\", \"ticks\": \"\"}, \"bgcolor\": \"#E5ECF6\", \"caxis\": {\"gridcolor\": \"white\", \"linecolor\": \"white\", \"ticks\": \"\"}}, \"title\": {\"x\": 0.05}, \"xaxis\": {\"automargin\": true, \"gridcolor\": \"white\", \"linecolor\": \"white\", \"ticks\": \"\", \"title\": {\"standoff\": 15}, \"zerolinecolor\": \"white\", \"zerolinewidth\": 2}, \"yaxis\": {\"automargin\": true, \"gridcolor\": \"white\", \"linecolor\": \"white\", \"ticks\": \"\", \"title\": {\"standoff\": 15}, \"zerolinecolor\": \"white\", \"zerolinewidth\": 2}}}, \"xaxis\": {\"title\": {\"text\": \"Revenue\"}}, \"yaxis\": {\"title\": {\"text\": \"Original Language\"}}},\n",
              "                        {\"responsive\": true}\n",
              "                    ).then(function(){\n",
              "                            \n",
              "var gd = document.getElementById('2d6d3791-3a75-4649-9d09-d51a8999a811');\n",
              "var x = new MutationObserver(function (mutations, observer) {{\n",
              "        var display = window.getComputedStyle(gd).display;\n",
              "        if (!display || display === 'none') {{\n",
              "            console.log([gd, 'removed!']);\n",
              "            Plotly.purge(gd);\n",
              "            observer.disconnect();\n",
              "        }}\n",
              "}});\n",
              "\n",
              "// Listen for the removal of the full notebook cells\n",
              "var notebookContainer = gd.closest('#notebook-container');\n",
              "if (notebookContainer) {{\n",
              "    x.observe(notebookContainer, {childList: true});\n",
              "}}\n",
              "\n",
              "// Listen for the clearing of the current output cell\n",
              "var outputEl = gd.closest('.output');\n",
              "if (outputEl) {{\n",
              "    x.observe(outputEl, {childList: true});\n",
              "}}\n",
              "\n",
              "                        })\n",
              "                };\n",
              "                \n",
              "            </script>\n",
              "        </div>\n",
              "</body>\n",
              "</html>"
            ]
          },
          "metadata": {
            "tags": []
          }
        }
      ]
    }
  ]
}